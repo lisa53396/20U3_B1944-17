{
 "cells": [
  {
   "cell_type": "markdown",
   "metadata": {},
   "source": [
    "## Import Packages and Functions"
   ]
  },
  {
   "cell_type": "code",
   "execution_count": 34,
   "metadata": {},
   "outputs": [],
   "source": [
    "import numpy as np\n",
    "import matplotlib.pyplot as plt\n",
    "from scipy.optimize import curve_fit\n",
    "import collections as col\n",
    "import statistics\n",
    "from scipy.interpolate import UnivariateSpline\n",
    "import glob \n",
    "import math"
   ]
  },
  {
   "cell_type": "markdown",
   "metadata": {},
   "source": [
    "## Load Data"
   ]
  },
  {
   "cell_type": "code",
   "execution_count": 35,
   "metadata": {},
   "outputs": [],
   "source": [
    "fulldatatype=([('pulse','i8'),('frequency','i8'),('phase','i8'),('intensity','f8')])"
   ]
  },
  {
   "cell_type": "code",
   "execution_count": 36,
   "metadata": {},
   "outputs": [],
   "source": [
    "modedatatype=([('file','i8'),('start','i8'),('end','i8'),('length','i8'),('mode','U1')])"
   ]
  },
  {
   "cell_type": "code",
   "execution_count": 37,
   "metadata": {},
   "outputs": [],
   "source": [
    "mode_class = np.loadtxt(fname='mode_doc2.csv', delimiter=',', dtype=modedatatype)"
   ]
  },
  {
   "cell_type": "code",
   "execution_count": 38,
   "metadata": {},
   "outputs": [],
   "source": [
    "file_names = glob.glob(\"../Parkes_archive_files/4500nsub/2019*.Fp.pdv\")\n",
    "file_names=sorted(file_names)"
   ]
  },
  {
   "cell_type": "code",
   "execution_count": 39,
   "metadata": {},
   "outputs": [],
   "source": [
    "maxf=4032\n",
    "minf=704"
   ]
  },
  {
   "cell_type": "markdown",
   "metadata": {},
   "source": [
    "# FREQUENCY SCRUNCHED"
   ]
  },
  {
   "cell_type": "markdown",
   "metadata": {},
   "source": [
    "## Create an Array of Pulses For Each Mode"
   ]
  },
  {
   "cell_type": "code",
   "execution_count": 40,
   "metadata": {},
   "outputs": [],
   "source": [
    "mode_class = np.loadtxt(fname='mode_doc_3.csv', delimiter=',', dtype=modedatatype)"
   ]
  },
  {
   "cell_type": "code",
   "execution_count": 41,
   "metadata": {},
   "outputs": [
    {
     "name": "stdout",
     "output_type": "stream",
     "text": [
      "File: 0\n",
      "File: 1\n",
      "File: 2\n",
      "File: 3\n",
      "File: 4\n",
      "File: 5\n",
      "File: 6\n",
      "File: 7\n",
      "File: 8\n",
      "File: 9\n",
      "File: 10\n",
      "File: 11\n",
      "File: 12\n",
      "File: 13\n",
      "File: 14\n",
      "File: 15\n"
     ]
    }
   ],
   "source": [
    "#Creating arrays for each mode, which contain the pulses for that mode\n",
    "A=np.array([], dtype=fulldatatype)\n",
    "B=np.array([], dtype=fulldatatype)\n",
    "C=np.array([], dtype=fulldatatype)\n",
    "D=np.array([], dtype=fulldatatype)\n",
    "AVE=np.array([], dtype=fulldatatype)\n",
    "\n",
    "A_len=np.array([])\n",
    "B_len=np.array([])\n",
    "C_len=np.array([])\n",
    "D_len=np.array([])\n",
    "U_len=np.array([])\n",
    "N_len=np.array([])\n",
    "\n",
    "\n",
    "for a in range(16):\n",
    "    #Load in a file at a time\n",
    "    print('File:', a)\n",
    "    current_file = np.loadtxt(fname=file_names[a], dtype=fulldatatype)\n",
    "\n",
    "    f = mode_class['file'] == a\n",
    "    \n",
    "    #Mode Arrays\n",
    "    \n",
    "    #Mode A\n",
    "    #Isolate the pulses which are mode A and part of current file\n",
    "    m = mode_class['mode'] == 'A'\n",
    "    p = np.logical_and(f,m)\n",
    "    mA = mode_class[p]\n",
    "    \n",
    "    #Find the number of mode A bursts\n",
    "    num_A=np.sum(m)\n",
    "    \n",
    "    #For every burst\n",
    "    for segment in mA:\n",
    "        #Record the length of burst\n",
    "        A_len = np.append(A_len,segment[3])\n",
    "        #Then for every pulse in segment\n",
    "        for b in range(segment[1],segment[2]+1):\n",
    "            #Add all file lines for this pulse to an array\n",
    "            s = current_file['pulse'] == b\n",
    "            A = np.append(A,current_file[s])\n",
    "\n",
    "    #Mode B\n",
    "    m = mode_class['mode'] == 'B'\n",
    "    p = np.logical_and(f,m)\n",
    "    mB = mode_class[p]\n",
    "    \n",
    "    num_B=np.sum(m)\n",
    "    \n",
    "    for segment in mB:\n",
    "        B_len = np.append(B_len,segment[3])\n",
    "        for b in range(segment[1],segment[2]+1):\n",
    "            s = current_file['pulse'] == b\n",
    "            B = np.append(B,current_file[s])\n",
    "            \n",
    "    #Mode C\n",
    "    m = mode_class['mode'] == 'C'\n",
    "    p = np.logical_and(f,m)\n",
    "    mC = mode_class[p]\n",
    "    \n",
    "    num_C=np.sum(m)\n",
    "    \n",
    "    for segment in mC:\n",
    "        C_len = np.append(C_len,segment[3])\n",
    "        for b in range(segment[1],segment[2]+1):\n",
    "            s = current_file['pulse'] == b\n",
    "            C = np.append(C,current_file[s])\n",
    "            \n",
    "    #Short Mode D\n",
    "    m = mode_class['mode'] == 'D'\n",
    "    p = np.logical_and(f,m)\n",
    "    mD = mode_class[p]\n",
    "    \n",
    "    \n",
    "    num_D=np.sum(m)\n",
    "    \n",
    "    for segment in mD:\n",
    "        D_len = np.append(D_len,segment[3])\n",
    "        for b in range(segment[1],segment[2]+1):\n",
    "            s = current_file['pulse'] == b\n",
    "            D = np.append(D,current_file[s])\n",
    "            \n",
    "    #Unknown\n",
    "    m = mode_class['mode'] == 'U'\n",
    "    p = np.logical_and(f,m)\n",
    "    mU = mode_class[p]\n",
    "    \n",
    "    num_U=np.sum(m)\n",
    "    \n",
    "    for segment in mU:\n",
    "        U_len = np.append(D_len,segment[3])\n",
    "        \n",
    "    #Null\n",
    "    m = mode_class['mode'] == 'N'\n",
    "    p = np.logical_and(f,m)\n",
    "    mN = mode_class[p]\n",
    "    \n",
    "    num_N=np.sum(m)\n",
    "    \n",
    "    for segment in mN:\n",
    "        N_len = np.append(N_len,segment[3])\n",
    "            \n",
    "    #Average\n",
    "    m1 = mode_class['mode'] != 'N'\n",
    "    m2 = mode_class['mode'] != 'O'\n",
    "    m = np.logical_and(m1,m2)\n",
    "    p = np.logical_and(f,m)\n",
    "    mAVE = mode_class[p]\n",
    "    \n",
    "    num_AVE=np.sum(m)\n",
    "    \n",
    "    for segment in mAVE:\n",
    "        for b in range(segment[1],segment[2]+1):\n",
    "            s = current_file['pulse'] == b\n",
    "            AVE = np.append(AVE,current_file[s])"
   ]
  },
  {
   "cell_type": "code",
   "execution_count": 42,
   "metadata": {
    "scrolled": false
   },
   "outputs": [
    {
     "data": {
      "image/png": "[encoded data removed]",
      "text/plain": [
       "<Figure size 432x288 with 1 Axes>"
      ]
     },
     "metadata": {
      "needs_background": "light"
     },
     "output_type": "display_data"
    }
   ],
   "source": [
    "#Averaging the modes together\n",
    "xA=np.array([])\n",
    "yA=np.array([])\n",
    "\n",
    "for c in range(1024):\n",
    "    xA=np.append(xA,c)\n",
    "    \n",
    "    ph = A['phase'] == c\n",
    "    it = A['intensity'][ph]\n",
    "    \n",
    "    yA=np.append(yA,sum(it)/len(it))\n",
    "    \n",
    "plt.plot(xA,yA/max(yA),color='lightseagreen')\n",
    "plt.title('Mode A')\n",
    "plt.xlabel('Phase Bin')\n",
    "plt.ylabel('Intensity')\n",
    "plt.axis([550,850,-0.05,1.05])\n",
    "plt.savefig('png/A-Pos-C3')"
   ]
  },
  {
   "cell_type": "code",
   "execution_count": 43,
   "metadata": {},
   "outputs": [
    {
     "name": "stdout",
     "output_type": "stream",
     "text": [
      "Mode A Profile Stats:\n",
      "Peak 1 Location:\t 232.93496570074126 0.05006528553959594 degrees\n",
      "Peak 2 Location:\t 246.34780609824483 0.07649547675077012 degrees\n",
      "W10:\t\t\t 118.30965952167946 bins \t\n",
      "\t\t\t 41.59323967559044 degrees\n",
      "W50:\t\t\t 89.74862860440066 bins \t\n",
      "\t\t\t 31.552252243734607 degrees\n"
     ]
    }
   ],
   "source": [
    "expectedA=(0.5,660,6,2,695,20,1,740,8)\n",
    "boundsA=([0,635,0,0,675,0,0,715,0],[np.inf,685,np.inf,np.inf,725,np.inf,np.inf,770,np.inf])\n",
    "\n",
    "\n",
    "noise = sigmaClip(yA)\n",
    "error = np.nanstd(noise[1])\n",
    "\n",
    "#Fits gaussians to the data\n",
    "params, cov, sigma = fitting_parameters(xA,yA,expectedA,boundsA)\n",
    "fit = multi_gauss(xA,*params)\n",
    "\n",
    "print('Mode A Profile Stats:')\n",
    "print('Peak 1 Location:\\t', params[4]*360/1080,sigma[4]*360/1080,'degrees')\n",
    "print('Peak 2 Location:\\t', params[7]*360/1080,sigma[7]*360/1080,'degrees')\n",
    "\n",
    "W10,W50,W10e,W50e=find_widths(fit,params, cov)\n",
    "print('W10:\\t\\t\\t',W10,'bins \\t')\n",
    "print('\\t\\t\\t', W10*(360/1024),'degrees')\n",
    "print('W50:\\t\\t\\t',W50,'bins \\t')\n",
    "print('\\t\\t\\t', W50*(360/1024),'degrees')"
   ]
  },
  {
   "cell_type": "code",
   "execution_count": 44,
   "metadata": {},
   "outputs": [
    {
     "data": {
      "text/plain": [
       "Text(0, 0.5, 'Intensity')"
      ]
     },
     "execution_count": 44,
     "metadata": {},
     "output_type": "execute_result"
    },
    {
     "data": {
      "image/png": "[encoded data removed]",
      "text/plain": [
       "<Figure size 432x288 with 1 Axes>"
      ]
     },
     "metadata": {
      "needs_background": "light"
     },
     "output_type": "display_data"
    }
   ],
   "source": [
    "\n",
    "    \n",
    "plt.plot(xA,yA/max(yA),color='lightseagreen')\n",
    "plt.title('Mode A')\n",
    "plt.xlabel('Phase Bin')\n",
    "plt.ylabel('Intensity')\n",
    "#plt.axis([0,1024,-0.03,0.04])\n",
    "#plt.savefig('png/A-Pos-C3')"
   ]
  },
  {
   "cell_type": "code",
   "execution_count": 45,
   "metadata": {},
   "outputs": [
    {
     "data": {
      "image/png": "[encoded data removed]",
      "text/plain": [
       "<Figure size 432x288 with 1 Axes>"
      ]
     },
     "metadata": {
      "needs_background": "light"
     },
     "output_type": "display_data"
    }
   ],
   "source": [
    "#Averaging the modes together\n",
    "xB=np.array([])\n",
    "yB=np.array([])\n",
    "\n",
    "for c in range(1024):\n",
    "    xB=np.append(xB,c)\n",
    "    \n",
    "    ph = B['phase'] == c\n",
    "    it = B['intensity'][ph]\n",
    "    \n",
    "    yB=np.append(yB,sum(it)/len(it))\n",
    "    \n",
    "plt.plot(xB,yB/max(yB),color='forestgreen')\n",
    "plt.title('Mode B')\n",
    "plt.xlabel('Phase Bin')\n",
    "plt.ylabel('Intensity')\n",
    "plt.axis([550,850,-0.05,1.05])\n",
    "plt.savefig('png/B-Pos-C3')"
   ]
  },
  {
   "cell_type": "code",
   "execution_count": 46,
   "metadata": {},
   "outputs": [
    {
     "name": "stdout",
     "output_type": "stream",
     "text": [
      "Mode B Profile Stats:\n",
      "Peak 1 Location:\t 230.80151927829957 0.11831569660305162 degrees\n",
      "Peak 2 Location:\t 245.76730199124435 0.20852531766823054 degrees\n",
      "W10:\t\t\t 118.53454202916134 bins \t\n",
      "\t\t\t 41.67229993212703 degrees\n",
      "W50:\t\t\t 79.20195636245603 bins \t\n",
      "\t\t\t 27.84443778367595 degrees\n"
     ]
    }
   ],
   "source": [
    "expectedB=(0.2,660,6,2,685,20,1,740,8)\n",
    "boundsB=([0,635,0,0,675,0,0,715,0],[np.inf,685,np.inf,np.inf,725,np.inf,np.inf,770,np.inf])\n",
    "\n",
    "noise = sigmaClip(yB)\n",
    "error = np.nanstd(noise[1])\n",
    "\n",
    "#Fits gaussians to the data\n",
    "params, cov, sigma = fitting_parameters(xB,yB,expectedB,boundsB)\n",
    "fit = multi_gauss(xB,*params)\n",
    "#Then finds the maxima of the fit. It only takes the largest two (given they are the outer maxima).\n",
    "#Error for the maxima position is calculated by finding the positions of the fit at an intensity-noise level\n",
    "profile_comp = gauss_peaks(fit, 1, 0, cov, params,minf,maxf,error,frequencies_rfi)\n",
    "\n",
    "print('Mode B Profile Stats:')\n",
    "print('Peak 1 Location:\\t', params[4]*360/1080,sigma[4]*360/1080,'degrees')\n",
    "print('Peak 2 Location:\\t', params[7]*360/1080,sigma[7]*360/1080,'degrees')\n",
    "\n",
    "W10,W50,W10e,W50e=find_widths(fit,params, cov)\n",
    "print('W10:\\t\\t\\t',W10,'bins \\t')\n",
    "print('\\t\\t\\t', W10*(360/1024),'degrees')\n",
    "print('W50:\\t\\t\\t',W50,'bins \\t')\n",
    "print('\\t\\t\\t', W50*(360/1024),'degrees')"
   ]
  },
  {
   "cell_type": "code",
   "execution_count": 47,
   "metadata": {},
   "outputs": [
    {
     "data": {
      "text/plain": [
       "[0, 300, -0.05, 0.05]"
      ]
     },
     "execution_count": 47,
     "metadata": {},
     "output_type": "execute_result"
    },
    {
     "data": {
      "image/png": "[encoded data removed]",
      "text/plain": [
       "<Figure size 432x288 with 1 Axes>"
      ]
     },
     "metadata": {
      "needs_background": "light"
     },
     "output_type": "display_data"
    }
   ],
   "source": [
    "#Averaging the modes together\n",
    "xB=np.array([])\n",
    "yB=np.array([])\n",
    "\n",
    "for c in range(1024):\n",
    "    xB=np.append(xB,c)\n",
    "    \n",
    "    ph = B['phase'] == c\n",
    "    it = B['intensity'][ph]\n",
    "    \n",
    "    yB=np.append(yB,sum(it)/len(it))\n",
    "    \n",
    "plt.plot(xB,yB/max(yB),color='forestgreen')\n",
    "plt.title('Mode B')\n",
    "plt.xlabel('Phase Bin')\n",
    "plt.ylabel('Intensity')\n",
    "plt.axis([0,300,-0.05,0.05])\n",
    "#plt.savefig('png/B-Pos-C3')"
   ]
  },
  {
   "cell_type": "code",
   "execution_count": 48,
   "metadata": {},
   "outputs": [
    {
     "data": {
      "image/png": "[encoded data removed]",
      "text/plain": [
       "<Figure size 432x288 with 1 Axes>"
      ]
     },
     "metadata": {
      "needs_background": "light"
     },
     "output_type": "display_data"
    }
   ],
   "source": [
    "#Averaging the modes together\n",
    "xC=np.array([])\n",
    "yC=np.array([])\n",
    "\n",
    "for c in range(1024):\n",
    "    xC=np.append(xC,c)\n",
    "    \n",
    "    ph = C['phase'] == c\n",
    "    it = C['intensity'][ph]\n",
    "    \n",
    "    yC=np.append(yC,sum(it)/len(it))\n",
    "    \n",
    "plt.plot(xC,yC/max(yC),color='magenta')\n",
    "plt.title('Mode C')\n",
    "plt.xlabel('Phase Bin')\n",
    "plt.ylabel('Intensity')\n",
    "plt.axis([550,850,-0.05,1.05])\n",
    "plt.savefig('png/C-Pos-C3')"
   ]
  },
  {
   "cell_type": "code",
   "execution_count": 49,
   "metadata": {},
   "outputs": [
    {
     "name": "stdout",
     "output_type": "stream",
     "text": [
      "Mode C Profile Stats:\n",
      "Peak 1 Location:\t 230.11520698853727 0.07080224261157764 degrees\n",
      "Peak 2 Location:\t 246.31548353443154 0.16534847053227436 degrees\n",
      "W10:\t\t\t 125.04971849210449 bins \t\n",
      "\t\t\t 43.962791657380485 degrees\n",
      "W50:\t\t\t 78.45727305714729 bins \t\n",
      "\t\t\t 27.582635059153343 degrees\n"
     ]
    }
   ],
   "source": [
    "expectedC=(0.5,660,6,2,695,20,1,740,8)\n",
    "boundsC=([0,635,0,0,675,0,0,715,0],[np.inf,685,np.inf,np.inf,725,np.inf,np.inf,770,np.inf])\n",
    "\n",
    "noise = sigmaClip(yC)\n",
    "error = np.nanstd(noise[1])\n",
    "\n",
    "#Fits gaussians to the data\n",
    "params, cov, sigma = fitting_parameters(xC,yC,expectedC,boundsC)\n",
    "fit = multi_gauss(xC,*params)\n",
    "#Then finds the maxima of the fit. It only takes the largest two (given they are the outer maxima).\n",
    "#Error for the maxima position is calculated by finding the positions of the fit at an intensity-noise level\n",
    "profile_comp = gauss_peaks(fit, 1, 0, cov, params,minf,maxf,error,frequencies_rfi)\n",
    "\n",
    "print('Mode C Profile Stats:')\n",
    "print('Peak 1 Location:\\t', params[4]*360/1080,sigma[4]*360/1080,'degrees')\n",
    "print('Peak 2 Location:\\t', params[7]*360/1080,sigma[7]*360/1080,'degrees')\n",
    "\n",
    "W10,W50,W10e,W50e=find_widths(fit,params, cov)\n",
    "print('W10:\\t\\t\\t',W10,'bins \\t')\n",
    "print('\\t\\t\\t', W10*(360/1024),'degrees')\n",
    "print('W50:\\t\\t\\t',W50,'bins \\t')\n",
    "print('\\t\\t\\t', W50*(360/1024),'degrees')"
   ]
  },
  {
   "cell_type": "code",
   "execution_count": 50,
   "metadata": {},
   "outputs": [
    {
     "data": {
      "image/png": "[encoded data removed]",
      "text/plain": [
       "<Figure size 432x288 with 1 Axes>"
      ]
     },
     "metadata": {
      "needs_background": "light"
     },
     "output_type": "display_data"
    }
   ],
   "source": [
    "#Averaging the modes together\n",
    "xD=np.array([])\n",
    "yD=np.array([])\n",
    "\n",
    "for c in range(1024):\n",
    "    xD=np.append(xD,c)\n",
    "    \n",
    "    ph = D['phase'] == c\n",
    "    it = D['intensity'][ph]\n",
    "    \n",
    "    yD=np.append(yD,sum(it)/len(it))\n",
    "    \n",
    "plt.plot(xD,yD/max(yD),color='orangered')\n",
    "plt.title('Mode D')\n",
    "plt.xlabel('Phase Bin')\n",
    "plt.ylabel('Intensity')\n",
    "plt.axis([550,850,-0.05,1.05])\n",
    "plt.savefig('png/D-Pos-C3')"
   ]
  },
  {
   "cell_type": "code",
   "execution_count": 51,
   "metadata": {},
   "outputs": [
    {
     "name": "stdout",
     "output_type": "stream",
     "text": [
      "Mode D Profile Stats:\n",
      "Peak 1 Location:\t 232.0842483374434 0.046238562452742736 degrees\n",
      "Peak 2 Location:\t 246.92071423274518 0.11830872201146793 degrees\n",
      "W10:\t\t\t 119.08059514248987 bins \t\n",
      "\t\t\t 41.86427172978159 degrees\n",
      "W50:\t\t\t 71.17441801640746 bins \t\n",
      "\t\t\t 25.022256333893246 degrees\n"
     ]
    }
   ],
   "source": [
    "expectedD=(0.2,660,6,2,685,20,1,740,8)\n",
    "boundsD=([0,635,0,0,675,0,0,715,0],[np.inf,685,np.inf,np.inf,725,np.inf,np.inf,770,np.inf])\n",
    "\n",
    "noise = sigmaClip(yD)\n",
    "error = np.nanstd(noise[1])\n",
    "\n",
    "#Fits gaussians to the data\n",
    "params, cov, sigma = fitting_parameters(xD,yD,expectedD,boundsD)\n",
    "fit = multi_gauss(xD,*params)\n",
    "#Then finds the maxima of the fit. It only takes the largest two (given they are the outer maxima).\n",
    "#Error for the maxima position is calculated by finding the positions of the fit at an intensity-noise level\n",
    "profile_comp = gauss_peaks(fit, 1, 0, cov, params,minf,maxf,error,frequencies_rfi)\n",
    "\n",
    "print('Mode D Profile Stats:')\n",
    "print('Peak 1 Location:\\t', params[4]*360/1080,sigma[4]*360/1080,'degrees')\n",
    "print('Peak 2 Location:\\t', params[7]*360/1080,sigma[7]*360/1080,'degrees')\n",
    "\n",
    "W10,W50,W10e,W50e=find_widths(fit,params, cov)\n",
    "print('W10:\\t\\t\\t',W10,'bins \\t')\n",
    "print('\\t\\t\\t', W10*(360/1024),'degrees')\n",
    "print('W50:\\t\\t\\t',W50,'bins \\t')\n",
    "print('\\t\\t\\t', W50*(360/1024),'degrees')"
   ]
  },
  {
   "cell_type": "code",
   "execution_count": 52,
   "metadata": {},
   "outputs": [
    {
     "data": {
      "image/png": "[encoded data removed]",
      "text/plain": [
       "<Figure size 432x288 with 1 Axes>"
      ]
     },
     "metadata": {
      "needs_background": "light"
     },
     "output_type": "display_data"
    }
   ],
   "source": [
    "#Averaging the modes together\n",
    "xAVE=np.array([])\n",
    "yAVE=np.array([])\n",
    "\n",
    "for c in range(1024):\n",
    "    xAVE=np.append(xAVE,c)\n",
    "    \n",
    "    ph = AVE['phase'] == c\n",
    "    it = AVE['intensity'][ph]\n",
    "    \n",
    "    yAVE=np.append(yAVE,sum(it)/len(it))\n",
    "    \n",
    "plt.plot(xAVE,yAVE/max(yAVE),color='black')\n",
    "plt.title('Average Profile')\n",
    "plt.xlabel('Phase Bin')\n",
    "plt.ylabel('Intensity')\n",
    "plt.axis([550,850,-0.05,1.05])\n",
    "plt.savefig('png/Ave-Pos-C3')"
   ]
  },
  {
   "cell_type": "code",
   "execution_count": 53,
   "metadata": {},
   "outputs": [
    {
     "name": "stdout",
     "output_type": "stream",
     "text": [
      "Average Profile Stats:\n",
      "Peak 1 Location:\t 243.741351182411 degrees\n",
      "Peak 2 Location:\t 258.94762889447543 degrees\n",
      "W10:\t\t\t 121.96929156347483 bins \t\n",
      "\t\t\t 42.87982906528412 degrees\n",
      "W50:\t\t\t 79.36591853120183 bins \t\n",
      "\t\t\t 27.902080733625642 degrees\n"
     ]
    }
   ],
   "source": [
    "expectedAVE=(0.15,660,6,0.55,695,20,0.1,715,10,0.25,740,8)\n",
    "boundsAVE=([0,625,0,0,675,0,0,712,0,0,720,0],[np.inf,675,np.inf,np.inf,725,np.inf,np.inf,740,np.inf,np.inf,760,np.inf])\n",
    "\n",
    "noise = sigmaClip(yAVE)\n",
    "error = np.nanstd(noise[1])\n",
    "\n",
    "#Fits gaussians to the data\n",
    "params, cov, sigma = fitting_parameters(xAVE,yAVE,expectedAVE,boundsAVE)\n",
    "fit = multi_gauss(xAVE,*params)\n",
    "#Then finds the maxima of the fit. It only takes the largest two (given they are the outer maxima).\n",
    "#Error for the maxima position is calculated by finding the positions of the fit at an intensity-noise level\n",
    "profile_comp = gauss_peaks(fit, 1, 0, cov, params,minf,maxf,error,frequencies_rfi)\n",
    "\n",
    "print('Average Profile Stats:')\n",
    "print('Peak 1 Location:\\t', profile_comp[1][0],'degrees')\n",
    "print('Peak 2 Location:\\t', profile_comp[2][0],'degrees')\n",
    "\n",
    "W10,W50,W10e,W50e=find_widths(fit,params, cov)\n",
    "print('W10:\\t\\t\\t',W10,'bins \\t')\n",
    "print('\\t\\t\\t', W10*(360/1024),'degrees')\n",
    "print('W50:\\t\\t\\t',W50,'bins \\t')\n",
    "print('\\t\\t\\t', W50*(360/1024),'degrees')"
   ]
  },
  {
   "cell_type": "code",
   "execution_count": 54,
   "metadata": {},
   "outputs": [
    {
     "data": {
      "image/png": "[encoded data removed]",
      "text/plain": [
       "<Figure size 432x288 with 1 Axes>"
      ]
     },
     "metadata": {
      "needs_background": "light"
     },
     "output_type": "display_data"
    }
   ],
   "source": [
    "plt.plot(xA,yA/max(yA),label='mode A', color='lightseagreen',lw=0.6)\n",
    "plt.plot(xA,yB/max(yB),label='mode B', color='forestgreen',lw=0.6)\n",
    "plt.plot(xA,yC/max(yC),label='mode C', color='magenta',lw=0.6)\n",
    "plt.plot(xA,yD/max(yD),label='mode D', color='orangered',lw=0.6)\n",
    "plt.plot(xAVE,yAVE/max(yAVE),label='average', color='black',lw=2)\n",
    "plt.title('Average Profile')\n",
    "plt.xlabel('Phase Bin')\n",
    "plt.ylabel('Normalised Intensity')\n",
    "plt.legend()\n",
    "plt.axis([600,800,-0.05,1.05])\n",
    "plt.savefig('png/All-Pos-C3')"
   ]
  },
  {
   "cell_type": "code",
   "execution_count": 55,
   "metadata": {},
   "outputs": [],
   "source": [
    "A_len=[31,56,86,69,53]"
   ]
  },
  {
   "cell_type": "code",
   "execution_count": 56,
   "metadata": {},
   "outputs": [
    {
     "name": "stdout",
     "output_type": "stream",
     "text": [
      "Mode A Stats:\n",
      "Number of Bursts: 5\n",
      "Length Min, Ave and Max: 31 59.0 86\n",
      "Percentage 7.682291666666667\n"
     ]
    },
    {
     "data": {
      "image/png": "[encoded data removed]",
      "text/plain": [
       "<Figure size 432x288 with 1 Axes>"
      ]
     },
     "metadata": {
      "needs_background": "light"
     },
     "output_type": "display_data"
    }
   ],
   "source": [
    "plt.hist(A_len, range(int(min(A_len))-5,5+int(max(A_len))));\n",
    "plt.title('Mode A Burst Length')\n",
    "plt.xlabel('Burst Length')\n",
    "plt.ylabel('Frequency')\n",
    "print('Mode A Stats:')\n",
    "print('Number of Bursts:', len(A_len))\n",
    "print('Length Min, Ave and Max:', min(A_len),np.average(A_len), max(A_len))\n",
    "print('Percentage',(sum(A_len)/3840)*100)"
   ]
  },
  {
   "cell_type": "code",
   "execution_count": 57,
   "metadata": {},
   "outputs": [
    {
     "name": "stdout",
     "output_type": "stream",
     "text": [
      "Mode B Stats:\n",
      "Number of Bursts: 7\n",
      "Length Min, Ave and Max: 13.0 22.0 28.0\n",
      "Percentage 4.010416666666667\n"
     ]
    },
    {
     "data": {
      "image/png": "[encoded data removed]",
      "text/plain": [
       "<Figure size 432x288 with 1 Axes>"
      ]
     },
     "metadata": {
      "needs_background": "light"
     },
     "output_type": "display_data"
    }
   ],
   "source": [
    "plt.hist(B_len, int(max(B_len)));\n",
    "plt.title('Mode B Burst Length')\n",
    "plt.xlabel('Burst Length')\n",
    "plt.ylabel('Frequency')\n",
    "print('Mode B Stats:')\n",
    "print('Number of Bursts:', num_B)\n",
    "print('Length Min, Ave and Max:', min(B_len),np.average(B_len), max(B_len))\n",
    "print('Percentage',(sum(B_len)/3840)*100)"
   ]
  },
  {
   "cell_type": "code",
   "execution_count": 58,
   "metadata": {},
   "outputs": [
    {
     "data": {
      "text/plain": [
       "array([ 6.,  9.,  1.,  7., 10.,  5.,  5.,  3.,  2.,  4.,  7.,  5.,  8.,\n",
       "        3.,  3.,  4.,  7.,  4.,  8.,  6.,  7., 10.,  6.,  3.,  3.,  8.,\n",
       "       20.,  9.,  6.,  5.,  1.,  5.,  9.,  4.,  4.,  5.,  8.,  5., 12.,\n",
       "        8.,  1.,  5.,  6.,  8.,  6.,  7., 12.,  5.,  5.])"
      ]
     },
     "execution_count": 58,
     "metadata": {},
     "output_type": "execute_result"
    }
   ],
   "source": [
    "C_len"
   ]
  },
  {
   "cell_type": "code",
   "execution_count": 59,
   "metadata": {},
   "outputs": [],
   "source": [
    "C_len[31]=6\n",
    "C_len=np.delete(C_len,30)"
   ]
  },
  {
   "cell_type": "code",
   "execution_count": 60,
   "metadata": {},
   "outputs": [
    {
     "data": {
      "text/plain": [
       "48"
      ]
     },
     "execution_count": 60,
     "metadata": {},
     "output_type": "execute_result"
    }
   ],
   "source": [
    "len(C_len)"
   ]
  },
  {
   "cell_type": "code",
   "execution_count": 61,
   "metadata": {},
   "outputs": [
    {
     "name": "stdout",
     "output_type": "stream",
     "text": [
      "Mode C Stats:\n",
      "Number of Bursts: 48\n",
      "Length Min, Ave and Max: 1.0 6.25 20.0\n",
      "Percentage 7.8125\n"
     ]
    },
    {
     "data": {
      "image/png": "[encoded data removed]",
      "text/plain": [
       "<Figure size 432x288 with 1 Axes>"
      ]
     },
     "metadata": {
      "needs_background": "light"
     },
     "output_type": "display_data"
    }
   ],
   "source": [
    "plt.hist(C_len, int(max(C_len)));\n",
    "plt.title('Mode C Burst Length')\n",
    "plt.xlabel('Burst Length')\n",
    "plt.ylabel('Frequency')\n",
    "print('Mode C Stats:')\n",
    "print('Number of Bursts:', len(C_len))\n",
    "print('Length Min, Ave and Max:', min(C_len),np.average(C_len), max(C_len))\n",
    "print('Percentage',(sum(C_len)/3840)*100)"
   ]
  },
  {
   "cell_type": "code",
   "execution_count": 62,
   "metadata": {},
   "outputs": [
    {
     "data": {
      "text/plain": [
       "array([  3.,  18., 107.,  55.,  34.,  91.,  18.,  13.,  28.,  36.,  26.,\n",
       "        17.,  19.,   6.,  44.])"
      ]
     },
     "execution_count": 62,
     "metadata": {},
     "output_type": "execute_result"
    }
   ],
   "source": [
    "D_len"
   ]
  },
  {
   "cell_type": "code",
   "execution_count": 63,
   "metadata": {},
   "outputs": [],
   "source": [
    "D_len[7]=31\n",
    "D_len=np.delete(D_len,6)"
   ]
  },
  {
   "cell_type": "code",
   "execution_count": 64,
   "metadata": {},
   "outputs": [
    {
     "data": {
      "text/plain": [
       "array([  3.,  18., 107.,  55.,  34.,  91.,  31.,  28.,  36.,  26.,  17.,\n",
       "        19.,   6.,  44.])"
      ]
     },
     "execution_count": 64,
     "metadata": {},
     "output_type": "execute_result"
    }
   ],
   "source": [
    "D_len"
   ]
  },
  {
   "cell_type": "code",
   "execution_count": 65,
   "metadata": {},
   "outputs": [],
   "source": [
    "D_len[8]=64\n",
    "D_len=np.delete(D_len,7)"
   ]
  },
  {
   "cell_type": "code",
   "execution_count": 66,
   "metadata": {},
   "outputs": [
    {
     "data": {
      "text/plain": [
       "array([  3.,  18., 107.,  55.,  34.,  91.,  31.,  64.,  26.,  17.,  19.,\n",
       "         6.,  44.])"
      ]
     },
     "execution_count": 66,
     "metadata": {},
     "output_type": "execute_result"
    }
   ],
   "source": [
    "D_len"
   ]
  },
  {
   "cell_type": "code",
   "execution_count": 67,
   "metadata": {},
   "outputs": [],
   "source": [
    "D_len[12]=50\n",
    "D_len=np.delete(D_len,11)"
   ]
  },
  {
   "cell_type": "code",
   "execution_count": 68,
   "metadata": {},
   "outputs": [
    {
     "name": "stdout",
     "output_type": "stream",
     "text": [
      "Mode D Stats:\n",
      "Number of Bursts: 12\n",
      "Length Min, Ave and Max: 3.0 42.916666666666664 107.0\n",
      "Percentage 13.411458333333334\n"
     ]
    },
    {
     "data": {
      "image/png": "[encoded data removed]",
      "text/plain": [
       "<Figure size 432x288 with 1 Axes>"
      ]
     },
     "metadata": {
      "needs_background": "light"
     },
     "output_type": "display_data"
    }
   ],
   "source": [
    "plt.hist(D_len, int(max(D_len)));\n",
    "plt.title('Mode D Burst Length')\n",
    "plt.xlabel('Burst Length')\n",
    "plt.ylabel('Frequency')\n",
    "print('Mode D Stats:')\n",
    "print('Number of Bursts:', len(D_len))\n",
    "print('Length Min, Ave and Max:', min(D_len),np.average(D_len), max(D_len))\n",
    "print('Percentage',(sum(D_len)/3840)*100)"
   ]
  },
  {
   "cell_type": "code",
   "execution_count": 69,
   "metadata": {},
   "outputs": [
    {
     "name": "stdout",
     "output_type": "stream",
     "text": [
      "Mode U Stats:\n",
      "Number of Bursts: 14\n",
      "Length Min, Ave and Max: 3.0 35.57142857142857 107.0\n",
      "Percentage 12.968750000000002\n"
     ]
    }
   ],
   "source": [
    "print('Mode U Stats:')\n",
    "print('Number of Bursts:', len(U_len))\n",
    "print('Length Min, Ave and Max:', min(U_len),np.average(U_len), max(U_len))\n",
    "print('Percentage',(sum(U_len)/3840)*100)"
   ]
  },
  {
   "cell_type": "code",
   "execution_count": 70,
   "metadata": {},
   "outputs": [
    {
     "name": "stdout",
     "output_type": "stream",
     "text": [
      "Mode N Stats:\n",
      "Number of Bursts: 97\n",
      "Length Min, Ave and Max: 1.0 24.391752577319586 250.0\n",
      "Percentage 61.61458333333333\n"
     ]
    }
   ],
   "source": [
    "print('Mode N Stats:')\n",
    "print('Number of Bursts:', len(N_len))\n",
    "print('Length Min, Ave and Max:', min(N_len),np.average(N_len), max(N_len))\n",
    "print('Percentage',(sum(N_len)/3840)*100)"
   ]
  },
  {
   "cell_type": "markdown",
   "metadata": {},
   "source": [
    "# RFI Frequencies"
   ]
  },
  {
   "cell_type": "code",
   "execution_count": 71,
   "metadata": {},
   "outputs": [],
   "source": [
    "maxf=4032\n",
    "minf=704\n",
    "frange=maxf-minf\n",
    "#scrunch=max(average['frequency'])+1\n",
    "scrunch=26\n",
    "wband=int((frange/scrunch)//1)\n",
    "frequency_list=list(range(0,26))"
   ]
  },
  {
   "cell_type": "code",
   "execution_count": 72,
   "metadata": {},
   "outputs": [],
   "source": [
    "rfi_channels=[0,1,2,3,4,5,6,7,8,9,10,11,12,50,51,52,53,54,55,56,57,58,59,60,61,62,63,64,65,66,67,68,69,70,71,72,73,74,75,76,77,78,79,80,81,82,83,126,127,128,129,130,131,132,133,134,135,136,137,138,139,140,166,167,168,169,170,171,172,173,174,175,176,177,178,179,180,181,182,183,184,185,211,212,213,214,215,216,217,218,219,220,221,222,223,239,240,241,242,243,244,250,251,252,253,254,255,256,257,258,259,260,376,377,378,379,380,381,382,383,384,385,386,387,388,389,390,391,392,393,394,395,396,397,398,399,400,454,455,456,457,458,459,460,461,462,463,464,465,466,467,468,469,470,471,472,473,558,559,560,561,562,563,564,565,566,567,568,569,570,571,572,573,574,575,576,577,578,579,580,581,582,583,584,585,914,915,916,917,918,919,920,921,922,1024,1025,1026,1027,1028,1029,1030,1031,1101,1102,1103,1104,1105,1106,1107,1108,1109,1110,1111,1112,1113,1114,1115,1116,1117,1118,1119,1120,1140,1141,1142,1143,1144,1145,1146,1147,1148,1149,1150,1151,1152,1153,1154,1155,1156,1157,1158,1159,1160,1272,1273,1274,1275,1276,1277,1278,1279,1280,1406,1407,1408,1409,1410,1411,1412,1413,1414,1415,1436,1437,1438,1439,1440,1441,1442,1443,1444,1445,1618,1619,1620,1621,1622,1623,1624,1625,1626,1627,1628,1629,1630,1631,1632,1633,1634,1635,1636,1637,1638,1639,1640,1641,1642,1643,1644,1645,1646,1647,1648,1649,1650,1651,1652,1653,1654,1655,1656,1657,1658,1659,1660,1661,1662,1663,1664,1665,1666,1667,1668,1669,1670,1671,1672,1673,1674,1675,1676,1966,1967,1968,1969,1970,1971,1972,1973,1974,1975,1976,1977,1978,1979,1980,1981,1982,1983]"
   ]
  },
  {
   "cell_type": "code",
   "execution_count": 73,
   "metadata": {},
   "outputs": [
    {
     "name": "stdout",
     "output_type": "stream",
     "text": [
      "70         49         63\n",
      "192         58         191\n",
      "318         13         319\n",
      "454         37         447\n",
      "576         28         575\n",
      "703         0         703\n",
      "831         0         831\n",
      "962         9         959\n",
      "1079         40         1087\n",
      "1216         17         1215\n",
      "1343         3         1343\n",
      "1478         18         1471\n",
      "1576         46         1599\n",
      "1734         13         1727\n",
      "1855         0         1855\n",
      "1984         18         1983\n",
      "2111         0         2111\n",
      "2239         0         2239\n",
      "2367         0         2367\n",
      "2495         0         2495\n",
      "2623         0         2623\n",
      "2751         0         2751\n",
      "2879         0         2879\n",
      "3007         0         3007\n",
      "3135         0         3135\n",
      "3263         0         3263\n"
     ]
    }
   ],
   "source": [
    "frequencies_rfi=frequency_calc(minf,maxf,frequency_list,rfi_channels)"
   ]
  },
  {
   "cell_type": "markdown",
   "metadata": {},
   "source": [
    "# ACROSS FREQUENCY"
   ]
  },
  {
   "cell_type": "markdown",
   "metadata": {},
   "source": [
    "### Create Pulse Arrays for each mode"
   ]
  },
  {
   "cell_type": "code",
   "execution_count": 74,
   "metadata": {},
   "outputs": [],
   "source": [
    "file_names = glob.glob(\"../Parkes_archive_files/4500nsub/2019*.f128p.pdv\")\n",
    "file_names=sorted(file_names)"
   ]
  },
  {
   "cell_type": "code",
   "execution_count": 75,
   "metadata": {},
   "outputs": [],
   "source": [
    "mode_class = np.loadtxt(fname='mode_doc_3.csv', delimiter=',', dtype=modedatatype)"
   ]
  },
  {
   "cell_type": "code",
   "execution_count": null,
   "metadata": {},
   "outputs": [
    {
     "name": "stdout",
     "output_type": "stream",
     "text": [
      "File: 0\n",
      "File: 1\n",
      "File: 2\n",
      "File: 3\n",
      "File: 4\n"
     ]
    }
   ],
   "source": [
    "#Creating arrays for each mode, which contain the pulses for that mode\n",
    "A=np.array([], dtype=fulldatatype)\n",
    "B=np.array([], dtype=fulldatatype)\n",
    "C=np.array([], dtype=fulldatatype)\n",
    "D=np.array([], dtype=fulldatatype)\n",
    "AVE=np.array([], dtype=fulldatatype)\n",
    "\n",
    "A_len=np.array([])\n",
    "B_len=np.array([])\n",
    "C_len=np.array([])\n",
    "D_len=np.array([])\n",
    "\n",
    "for a in range(16):\n",
    "    #Load in a file at a time\n",
    "    print('File:', a)\n",
    "    current_file = np.loadtxt(fname=file_names[a], dtype=fulldatatype)\n",
    "\n",
    "    f = mode_class['file'] == a\n",
    "    \n",
    "    #Mode Arrays\n",
    "    \n",
    "    #Mode A\n",
    "    #Isolate the pulses which are mode A and part of current file\n",
    "    m = mode_class['mode'] == 'A'\n",
    "    p = np.logical_and(f,m)\n",
    "    mA = mode_class[p]\n",
    "    \n",
    "    #Find the number of mode A bursts\n",
    "    num_A=np.sum(m)\n",
    "    \n",
    "    #For every burst\n",
    "    for segment in mA:\n",
    "        #Record the length of burst\n",
    "        A_len = np.append(A_len,segment[3])\n",
    "        #Then for every pulse in segment\n",
    "        for b in range(segment[1],segment[2]+1):\n",
    "            #Add all file lines for this pulse to an array\n",
    "            s = current_file['pulse'] == b\n",
    "            A = np.append(A,current_file[s])\n",
    "\n",
    "    #Mode B\n",
    "    m = mode_class['mode'] == 'B'\n",
    "    p = np.logical_and(f,m)\n",
    "    mB = mode_class[p]\n",
    "    \n",
    "    num_B=np.sum(m)\n",
    "    \n",
    "    for segment in mB:\n",
    "        B_len = np.append(B_len,segment[3])\n",
    "        for b in range(segment[1],segment[2]+1):\n",
    "            s = current_file['pulse'] == b\n",
    "            B = np.append(B,current_file[s])\n",
    "            \n",
    "    #Mode C\n",
    "    m = mode_class['mode'] == 'C'\n",
    "    p = np.logical_and(f,m)\n",
    "    mC = mode_class[p]\n",
    "    \n",
    "    num_C=np.sum(m)\n",
    "    \n",
    "    for segment in mC:\n",
    "        C_len = np.append(C_len,segment[3])\n",
    "        for b in range(segment[1],segment[2]+1):\n",
    "            s = current_file['pulse'] == b\n",
    "            C = np.append(C,current_file[s])\n",
    "            \n",
    "    #Short Mode D\n",
    "    m = mode_class['mode'] == 'D'\n",
    "    p = np.logical_and(f,m)\n",
    "    mD = mode_class[p]\n",
    "    \n",
    "    \n",
    "    num_D=np.sum(m)\n",
    "    \n",
    "    for segment in mD:\n",
    "        D_len = np.append(D_len,segment[3])\n",
    "        for b in range(segment[1],segment[2]+1):\n",
    "            s = current_file['pulse'] == b\n",
    "            D = np.append(D,current_file[s])\n",
    "            \n",
    "    #Average\n",
    "    m1 = mode_class['mode'] != 'N'\n",
    "    m2 = mode_class['mode'] != 'O'\n",
    "    m = np.logical_and(m1,m2)\n",
    "    p = np.logical_and(f,m)\n",
    "    mAVE = mode_class[p]\n",
    "    \n",
    "    num_AVE=np.sum(m)\n",
    "    \n",
    "    for segment in mAVE:\n",
    "        for b in range(segment[1],segment[2]+1):\n",
    "            s = current_file['pulse'] == b\n",
    "            AVE = np.append(AVE,current_file[s])"
   ]
  },
  {
   "cell_type": "markdown",
   "metadata": {},
   "source": [
    "### Making an average profile for each mode"
   ]
  },
  {
   "cell_type": "code",
   "execution_count": null,
   "metadata": {},
   "outputs": [],
   "source": [
    "A_ave=np.array([], dtype=fulldatatype)\n",
    "B_ave=np.array([], dtype=fulldatatype)\n",
    "C_ave=np.array([], dtype=fulldatatype)\n",
    "D_ave=np.array([], dtype=fulldatatype)\n",
    "E_ave=np.array([], dtype=fulldatatype)\n",
    "AVE_ave=np.array([], dtype=fulldatatype)"
   ]
  },
  {
   "cell_type": "code",
   "execution_count": null,
   "metadata": {},
   "outputs": [],
   "source": [
    "#Averaging the modes together\n",
    "\n",
    "for d in range(103):\n",
    "    print('Frequency band:', d)\n",
    "    if d in A['frequency']:\n",
    "        e = A['frequency'] == d\n",
    "        A_freq= A[e]\n",
    "        for c in range(1024):\n",
    "            ph = A_freq['phase'] == c\n",
    "            it = A_freq['intensity'][ph]\n",
    "    \n",
    "            A_ave=np.append(A_ave,np.array((0, d, c, sum(it)/len(it)),dtype=fulldatatype))\n",
    "        \n",
    "    if d in B['frequency']:\n",
    "        e = B['frequency'] == d\n",
    "        B_freq= B[e]\n",
    "        for c in range(1024):\n",
    "            ph = B_freq['phase'] == c\n",
    "            it = B_freq['intensity'][ph]\n",
    "    \n",
    "            B_ave=np.append(B_ave,np.array((0, d, c, sum(it)/len(it)),dtype=fulldatatype))\n",
    "        \n",
    "    if d in C['frequency']:\n",
    "        e = C['frequency'] == d\n",
    "        C_freq= C[e]\n",
    "        for c in range(1024):\n",
    "            ph = C_freq['phase'] == c\n",
    "            it = C_freq['intensity'][ph]\n",
    "    \n",
    "            C_ave=np.append(C_ave,np.array((0, d, c, sum(it)/len(it)),dtype=fulldatatype))\n",
    "        \n",
    "    if d in D['frequency']:\n",
    "        e = D['frequency'] == d\n",
    "        D_freq= D[e]\n",
    "        for c in range(1024):\n",
    "            ph = D_freq['phase'] == c\n",
    "            it = D_freq['intensity'][ph]\n",
    "    \n",
    "            D_ave=np.append(D_ave,np.array((0, d, c, sum(it)/len(it)),dtype=fulldatatype))\n",
    "    \n",
    "    if d in AVE['frequency']:\n",
    "        e = AVE['frequency'] == d\n",
    "        AVE_freq= AVE[e]\n",
    "        for c in range(1024):\n",
    "            ph = AVE_freq['phase'] == c\n",
    "            it = AVE_freq['intensity'][ph]\n",
    "    \n",
    "            AVE_ave=np.append(AVE_ave,np.array((0, d, c, sum(it)/len(it)),dtype=fulldatatype))"
   ]
  },
  {
   "cell_type": "markdown",
   "metadata": {},
   "source": [
    "## Gaussian Fittings of Profiles"
   ]
  },
  {
   "cell_type": "markdown",
   "metadata": {},
   "source": [
    "#### Single Frequency Test"
   ]
  },
  {
   "cell_type": "code",
   "execution_count": null,
   "metadata": {},
   "outputs": [],
   "source": [
    "no_freq_bands=max(A_ave['frequency'])\n",
    "averageprofiles=A_ave\n",
    "\n",
    "#Takes a single frequency band out of all the profiles for analysis.\n",
    "freqband =10\n",
    "\n",
    "f = averageprofiles['frequency'] == freqband\n",
    "x=averageprofiles['phase'][f]\n",
    "y=averageprofiles['intensity'][f]\n",
    "\n",
    "#Expected is taken from Peaks and Gaussian fittings of frequency band 73\n",
    "expectedA=(0.5,660,6,2,695,20,1,740,8)\n",
    "boundsA=([0,635,0,0,675,0,0,715,0],[np.inf,685,np.inf,np.inf,725,np.inf,np.inf,770,np.inf])\n",
    "#expectedB=(0.2,660,6,2,685,20,1,740,8)\n",
    "#boundsB=([0,635,0,0,675,0,0,715,0],[np.inf,685,np.inf,np.inf,725,np.inf,np.inf,770,np.inf])\n",
    "#expectedC=(0.5,660,6,2,695,20,1,740,8)\n",
    "#boundsC=([0,635,0,0,675,0,0,715,0],[np.inf,685,np.inf,np.inf,725,np.inf,np.inf,770,np.inf])\n",
    "#expectedD=(0.2,660,6,2,685,20,1,740,8)\n",
    "#boundsD=([0,635,0,0,675,0,0,715,0],[np.inf,685,np.inf,np.inf,725,np.inf,np.inf,770,np.inf])\n",
    "#expectedAVE=(0.15,660,6,0.55,695,20,0.1,715,10,0.25,740,8)\n",
    "#boundsAVE=([0,625,0,0,675,0,0,712,0,0,720,0],[np.inf,675,np.inf,np.inf,725,np.inf,np.inf,740,np.inf,np.inf,760,np.inf])\n",
    "\n",
    "\n",
    "noise = sigmaClip(y)\n",
    "error = np.nanstd(noise[1])\n",
    "\n",
    "#Fits three gaussians to the data\n",
    "params, cov, sigma = fitting_parameters(x,y,expectedA,boundsA)\n",
    "fit = multi_gauss(x,*params)\n",
    "#Then finds the maxima of the fit. It only takes the largest two (given they are the outer maxima).\n",
    "#Error for the maxima position is calculated by finding the positions of the fit at an intensity-noise level\n",
    "profile_comp = gauss_peaks(fit, no_freq_bands, freqband, cov, params,minf,maxf,error,frequencies_rfi)\n",
    "\n",
    "#py.axis([200,400,-0.05,0.07])"
   ]
  },
  {
   "cell_type": "code",
   "execution_count": null,
   "metadata": {},
   "outputs": [],
   "source": [
    "#Plot fill parameters\n",
    "params1 = params[0:3]\n",
    "params2 = params[3:6]\n",
    "params3 = params[6:9]\n",
    "#params4 = params[9:12]\n",
    "gfit1 = gauss(x, *params1)\n",
    "gfit2 = gauss(x, *params2)\n",
    "gfit3 = gauss(x, *params3)\n",
    "#gfit4 = gauss(x, *params4)\n",
    "\n",
    "#Boundary parameters\n",
    "yt=[0,1]\n",
    "x1=[635,635]\n",
    "x2=[685,685]\n",
    "x3=[675,675]\n",
    "x4=[725,725]\n",
    "#x5=[710,710]\n",
    "#x6=[740,740]\n",
    "x7=[715,715]\n",
    "x8=[765,765]\n",
    "    \n",
    "plot = plt.figure(figsize=(7, 5))\n",
    "grid = plt.GridSpec(5, 1, hspace=0, wspace=0)\n",
    "boundary = plot.add_subplot(grid[4, 0])\n",
    "main_ax = plot.add_subplot(grid[0:4, 0], sharex=boundary)\n",
    "\n",
    "\n",
    "main_ax.plot(x, y, lw=2, label='data')\n",
    "main_ax.plot(x,fit,color='red',lw=3,label='gaussian fit')\n",
    "main_ax.plot(x, gfit1, \"g\")\n",
    "main_ax.fill_between(x, gfit1.min(), gfit1, facecolor=\"green\", alpha=0.5)\n",
    "main_ax.plot(x, gfit2, \"y\")\n",
    "main_ax.fill_between(x, gfit2.min(), gfit2, facecolor=\"yellow\", alpha=0.5)\n",
    "main_ax.plot(x, gfit3, \"b\")\n",
    "main_ax.fill_between(x, gfit3.min(), gfit3, facecolor=\"blue\", alpha=0.5)\n",
    "#main_ax.plot(x, gfit4, \"b\")\n",
    "#main_ax.fill_between(x, gfit4.min(), gfit4, facecolor=\"blue\", alpha=0.5)\n",
    "boundary.plot(x1,yt, \"g\", '--')\n",
    "boundary.plot(x2,yt, \"g\", '--')\n",
    "boundary.plot(x3,yt, \"y\", '--')\n",
    "boundary.plot(x4,yt, \"y\", '--')\n",
    "#boundary.plot(x5,yt, \"r\", '--')\n",
    "#boundary.plot(x6,yt, \"r\", '--')\n",
    "boundary.plot(x7,yt, \"b\", '--')\n",
    "boundary.plot(x8,yt, \"b\", '--')\n",
    "\n",
    "plt.title(\"Mode A Profile - Frequency Band 10\")\n",
    "\n",
    "plt.ylabel('Intensity')\n",
    "plt.xlabel('Frequency (Bins)')\n",
    "main_ax.legend(loc='lower right')\n",
    "boundary.label_outer()\n",
    "main_ax.label_outer()\n",
    "plt.axis([600,825,-0.1,2.6])\n",
    "plt.tight_layout()\n",
    "plt.savefig('png/A-f10')"
   ]
  },
  {
   "cell_type": "code",
   "execution_count": null,
   "metadata": {},
   "outputs": [],
   "source": [
    "plot_peaks(x*(360/1024),y,profile_comp)\n",
    "plt.axis([220,280,-0.1,0.5])"
   ]
  },
  {
   "cell_type": "code",
   "execution_count": null,
   "metadata": {},
   "outputs": [],
   "source": [
    "params"
   ]
  },
  {
   "cell_type": "markdown",
   "metadata": {},
   "source": [
    "#### All Frequencies"
   ]
  },
  {
   "cell_type": "markdown",
   "metadata": {},
   "source": [
    "##### Mode A"
   ]
  },
  {
   "cell_type": "code",
   "execution_count": null,
   "metadata": {},
   "outputs": [],
   "source": [
    "expectedA=(0.5,660,6,2,695,20,1,740,8)\n",
    "boundsA=([0,635,0,0,675,0,0,715,0],[np.inf,685,np.inf,np.inf,725,np.inf,np.inf,770,np.inf])\n",
    "\n",
    "maxf=4032\n",
    "minf=704\n",
    "\n",
    "fit_components=component_positions(A_ave,expectedA,boundsA,minf,maxf,frequencies_rfi)"
   ]
  },
  {
   "cell_type": "code",
   "execution_count": null,
   "metadata": {},
   "outputs": [],
   "source": [
    "Alin1,y_comp=plot_comp_movement(fit_components,'Mode A - Component 1','lightseagreen',1,2)\n",
    "plt.savefig('png/MAC1')"
   ]
  },
  {
   "cell_type": "code",
   "execution_count": null,
   "metadata": {},
   "outputs": [],
   "source": [
    "Alin2,y_comp=plot_comp_movement(fit_components,'Mode A - Component 2','lightseagreen',2,2)\n",
    "plt.savefig('png/MAC2')"
   ]
  },
  {
   "cell_type": "code",
   "execution_count": null,
   "metadata": {},
   "outputs": [],
   "source": [
    "plot_comp_both_movement(fit_components,'Mode A - Component Position','lightseagreen',2)\n",
    "plt.tight_layout()\n",
    "plt.savefig('png/MACC')"
   ]
  },
  {
   "cell_type": "code",
   "execution_count": null,
   "metadata": {},
   "outputs": [],
   "source": [
    "y_sep,Asep,Aparams,Ap,Apoints,Aseper=plot_sep_movement(fit_components,'Mode A - Component Separation','lightseagreen',2)\n",
    "plt.savefig('png/MAsep')"
   ]
  },
  {
   "cell_type": "code",
   "execution_count": null,
   "metadata": {},
   "outputs": [],
   "source": [
    "y_sep,Aint,Aiparams=plot_intensities(fit_components, 'Intensity Ratio of C1/C2 for Mode A', 'lightseagreen')\n",
    "plt.savefig('png/MAI')"
   ]
  },
  {
   "cell_type": "code",
   "execution_count": null,
   "metadata": {},
   "outputs": [],
   "source": [
    "#Turning it into half-opening angle\n",
    "\n",
    "#Values from Kloumann and Rankin Paper\n",
    "alpha_deg=2.8\n",
    "beta_deg=4\n",
    "\n",
    "#Covert to Radians\n",
    "deg_to_rad=np.pi/180\n",
    "alpha=alpha_deg*deg_to_rad\n",
    "beta=beta_deg*deg_to_rad\n",
    "\n",
    "#UWL Data\n",
    "Arho=[]\n",
    "Arho_err=[]\n",
    "for k,W in enumerate(Apoints):\n",
    "    W=(360-W)*deg_to_rad\n",
    "    Arho.append(math.acos((math.cos(alpha)*math.cos(alpha+beta))+(math.sin(alpha)*math.sin(alpha+beta)*math.cos(W/2))))\n",
    "    d=(math.sin(alpha)*math.sin(alpha+beta)*math.sin(W/2))/(np.sqrt(2)*np.sqrt(2-2*(math.cos(alpha))**2*(math.cos(alpha+beta))**2-math.sin(2*alpha)*math.sin(2*(alpha+beta))*math.cos(W/2)-2*(math.sin(alpha))**2*(math.sin(alpha+beta))**2*(math.cos(W/2))**2))\n",
    "    e=np.sqrt(((d)*(Aseper[k]))**2)\n",
    "    Arho_err.append(e)\n",
    "    \n",
    "#Convert back to deg\n",
    "Arho=np.array(Arho)/deg_to_rad\n",
    "Arho_err=np.array(Arho_err)/deg_to_rad\n",
    "\n",
    "\n",
    "#Create a thorsett fit\n",
    "expect=(703,0.4,16)\n",
    "Asep_params_rr,Asep_cov_rr=curve_fit(thorsett,Ap,Arho, expect, maxfev=10000)\n",
    "Asep_fit_error_rr=np.sqrt(np.diag(Asep_cov_rr))\n",
    "print(Asep_params_rr)\n",
    "\n",
    "Afreq_fit = np.linspace(700, 4100, 460)\n",
    "Aseparation_fit_rr=thorsett(Afreq_fit,*Asep_params_rr)\n",
    "#separation_fit_rr=thorsett(freq_fit,7.10332731e-05,  6.74290201e-01,  9.59210531e+00)\n",
    "\n",
    "#Plot the thorsett fit\n",
    "#plt.figure(figsize=(9, 6))\n",
    "plt.plot(Afreq_fit,Aseparation_fit_rr, color='lightgrey',lw=2,label='empirical fit',zorder=0)\n",
    "plt.plot(Ap, Arho, '.', lw=0.5,color='lightseagreen', label='UWL data',zorder=1)\n",
    "#plt.errorbar(Ap, Arho,yerr=Arho_err, fmt='.', lw=0.5,color='lightseagreen', label='UWL data',zorder=1)\n",
    "\n",
    "\n",
    "plt.title('Mode A - Half Opening Angle Evolution')\n",
    "plt.xlabel('Frequency (MHz)')\n",
    "plt.ylabel('\\u03C1 (deg)')\n",
    "#plt.legend(loc='lower left')\n",
    "plt.tight_layout()\n",
    "plt.savefig('png/Arho')"
   ]
  },
  {
   "cell_type": "code",
   "execution_count": null,
   "metadata": {},
   "outputs": [],
   "source": []
  },
  {
   "cell_type": "markdown",
   "metadata": {},
   "source": [
    "##### Mode B"
   ]
  },
  {
   "cell_type": "code",
   "execution_count": null,
   "metadata": {},
   "outputs": [],
   "source": [
    "expectedB=(0.2,660,6,2,685,20,1,740,8)\n",
    "boundsB=([0,635,0,0,675,0,0,715,0],[np.inf,685,np.inf,np.inf,725,np.inf,np.inf,770,np.inf])\n",
    "\n",
    "fit_components=component_positions(B_ave,expectedB,boundsB,minf,maxf,frequencies_rfi)"
   ]
  },
  {
   "cell_type": "code",
   "execution_count": null,
   "metadata": {},
   "outputs": [],
   "source": [
    "Blin1,y_comp=plot_comp_movement(fit_components,'Mode B - Component 1','forestgreen',1,2)\n",
    "plt.savefig('png/MBC1')"
   ]
  },
  {
   "cell_type": "code",
   "execution_count": null,
   "metadata": {},
   "outputs": [],
   "source": [
    "Blin2,y_comp=plot_comp_movement(fit_components,'Mode B - Component 2','forestgreen',2,2)\n",
    "plt.savefig('png/MBC2')"
   ]
  },
  {
   "cell_type": "code",
   "execution_count": null,
   "metadata": {},
   "outputs": [],
   "source": [
    "plot_comp_both_movement(fit_components,'Mode B - Component Position','forestgreen',2)\n",
    "plt.tight_layout()\n",
    "plt.savefig('png/MBCC')"
   ]
  },
  {
   "cell_type": "code",
   "execution_count": null,
   "metadata": {},
   "outputs": [],
   "source": [
    "y_sep,Bsep,Bparams,Bp,Bpoints,Bseper=plot_sep_movement(fit_components,'Mode B - Component Separation','forestgreen',2)\n",
    "plt.savefig('png/MBsep')"
   ]
  },
  {
   "cell_type": "code",
   "execution_count": null,
   "metadata": {},
   "outputs": [],
   "source": [
    "y_sep,Bint,Biparams=plot_intensities(fit_components, 'Intensity Ratio of C1/C2 for Mode B', 'forestgreen')\n",
    "plt.savefig('png/MBI')"
   ]
  },
  {
   "cell_type": "code",
   "execution_count": null,
   "metadata": {},
   "outputs": [],
   "source": [
    "#Turning it into half-opening angle\n",
    "\n",
    "#Values from Kloumann and Rankin Paper\n",
    "alpha_deg=2.8\n",
    "beta_deg=4\n",
    "\n",
    "#Covert to Radians\n",
    "deg_to_rad=np.pi/180\n",
    "alpha=alpha_deg*deg_to_rad\n",
    "beta=beta_deg*deg_to_rad\n",
    "\n",
    "#UWL Data\n",
    "Brho=[]\n",
    "Brho_err=[]\n",
    "for k,W in enumerate(Bpoints):\n",
    "    W=(360-W)*deg_to_rad\n",
    "    Brho.append(math.acos((math.cos(alpha)*math.cos(alpha+beta))+(math.sin(alpha)*math.sin(alpha+beta)*math.cos(W/2))))\n",
    "    d=(math.sin(alpha)*math.sin(alpha+beta)*math.sin(W/2))/(np.sqrt(2)*np.sqrt(2-2*(math.cos(alpha))**2*(math.cos(alpha+beta))**2-math.sin(2*alpha)*math.sin(2*(alpha+beta))*math.cos(W/2)-2*(math.sin(alpha))**2*(math.sin(alpha+beta))**2*(math.cos(W/2))**2))\n",
    "    e=np.sqrt(((d)*(Bseper[k]))**2)\n",
    "    Brho_err.append(e)\n",
    "    \n",
    "#Convert back to deg\n",
    "Brho=np.array(Brho)/deg_to_rad\n",
    "Brho_err=np.array(Brho_err)/deg_to_rad\n",
    "\n",
    "\n",
    "#Create a thorsett fit\n",
    "expect=(703,0.4,16)\n",
    "Bsep_params_rr,Bsep_cov_rr=curve_fit(thorsett,Bp,Brho, expect, maxfev=10000)\n",
    "Bsep_fit_error_rr=np.sqrt(np.diag(Bsep_cov_rr))\n",
    "print(Bsep_params_rr)\n",
    "\n",
    "Bfreq_fit = np.linspace(700, 4100, 460)\n",
    "Bseparation_fit_rr=thorsett(Bfreq_fit,*Bsep_params_rr)\n",
    "#separation_fit_rr=thorsett(freq_fit,7.10332731e-05,  6.74290201e-01,  9.59210531e+00)\n",
    "\n",
    "#Plot the thorsett fit\n",
    "#plt.figure(figsize=(9, 6))\n",
    "plt.plot(Bfreq_fit,Bseparation_fit_rr, color='lightgrey',lw=2,label='empirical fit',zorder=0)\n",
    "plt.plot(Bp, Brho, '.', lw=0.5,color='forestgreen', label='UWL data',zorder=1)\n",
    "#plt.errorbar(Ap, Arho,yerr=Arho_err, fmt='.', lw=0.5,color='lightseagreen', label='UWL data',zorder=1)\n",
    "\n",
    "\n",
    "plt.title('Mode B - Half Opening Angle Evolution')\n",
    "plt.xlabel('Frequency (MHz)')\n",
    "plt.ylabel('\\u03C1 (deg)')\n",
    "#plt.legend(loc='lower left')\n",
    "plt.tight_layout()\n",
    "plt.savefig('png/Brho')"
   ]
  },
  {
   "cell_type": "markdown",
   "metadata": {},
   "source": [
    "##### Mode C"
   ]
  },
  {
   "cell_type": "code",
   "execution_count": null,
   "metadata": {},
   "outputs": [],
   "source": [
    "expectedC=(0.5,660,6,2,695,20,1,740,8)\n",
    "boundsC=([0,635,0,0,675,0,0,715,0],[np.inf,685,np.inf,np.inf,725,np.inf,np.inf,770,np.inf])\n",
    "\n",
    "fit_components=component_positions(C_ave,expectedC,boundsC,minf,maxf,frequencies_rfi)"
   ]
  },
  {
   "cell_type": "code",
   "execution_count": null,
   "metadata": {},
   "outputs": [],
   "source": [
    "Clin1,y_comp=plot_comp_movement(fit_components,'Mode C - Component 1','magenta',1,3)\n",
    "plt.savefig('png/MCC1')"
   ]
  },
  {
   "cell_type": "code",
   "execution_count": null,
   "metadata": {},
   "outputs": [],
   "source": [
    "Clin2,y_comp=plot_comp_movement(fit_components,'Mode C - Component 2','magenta',2,2)\n",
    "plt.savefig('png/MCC2')"
   ]
  },
  {
   "cell_type": "code",
   "execution_count": null,
   "metadata": {},
   "outputs": [],
   "source": [
    "plot_comp_both_movement(fit_components,'Mode C - Component Position','magenta',2)\n",
    "plt.tight_layout()\n",
    "plt.savefig('png/MCCC')"
   ]
  },
  {
   "cell_type": "code",
   "execution_count": null,
   "metadata": {},
   "outputs": [],
   "source": [
    "y_sep,Csep,Cparams,Cp,Cpoints,Cseper=plot_sep_movement(fit_components,'Mode C - Component Separation','magenta',2)\n",
    "plt.savefig('png/MCsep')"
   ]
  },
  {
   "cell_type": "code",
   "execution_count": null,
   "metadata": {},
   "outputs": [],
   "source": [
    "y_sep,Cint,Ciparams=plot_intensities(fit_components, 'Intensity Ratio of C1/C2 for Mode C', 'magenta')\n",
    "plt.savefig('png/MCI')"
   ]
  },
  {
   "cell_type": "code",
   "execution_count": null,
   "metadata": {},
   "outputs": [],
   "source": [
    "#Turning it into half-opening angle\n",
    "\n",
    "#Values from Kloumann and Rankin Paper\n",
    "alpha_deg=2.8\n",
    "beta_deg=4\n",
    "\n",
    "#Covert to Radians\n",
    "deg_to_rad=np.pi/180\n",
    "alpha=alpha_deg*deg_to_rad\n",
    "beta=beta_deg*deg_to_rad\n",
    "\n",
    "#UWL Data\n",
    "Crho=[]\n",
    "Crho_err=[]\n",
    "for k,W in enumerate(Cpoints):\n",
    "    W=(360-W)*deg_to_rad\n",
    "    Crho.append(math.acos((math.cos(alpha)*math.cos(alpha+beta))+(math.sin(alpha)*math.sin(alpha+beta)*math.cos(W/2))))\n",
    "    d=(math.sin(alpha)*math.sin(alpha+beta)*math.sin(W/2))/(np.sqrt(2)*np.sqrt(2-2*(math.cos(alpha))**2*(math.cos(alpha+beta))**2-math.sin(2*alpha)*math.sin(2*(alpha+beta))*math.cos(W/2)-2*(math.sin(alpha))**2*(math.sin(alpha+beta))**2*(math.cos(W/2))**2))\n",
    "    e=np.sqrt(((d)*(Cseper[k]))**2)\n",
    "    Crho_err.append(e)\n",
    "    \n",
    "#Convert back to deg\n",
    "Crho=np.array(Crho)/deg_to_rad\n",
    "Crho_err=np.array(Crho_err)/deg_to_rad\n",
    "\n",
    "\n",
    "#Create a thorsett fit\n",
    "expect=(-16.3423701, 0.000376395919, 25.9702446)\n",
    "Csep_params_rr,Csep_cov_rr=curve_fit(thorsett,Cp,Crho, expect, maxfev=10000)\n",
    "Csep_fit_error_rr=np.sqrt(np.diag(Csep_cov_rr))\n",
    "print(Csep_params_rr)\n",
    "\n",
    "Cfreq_fit = np.linspace(700, 4100, 460)\n",
    "Cseparation_fit_rr=thorsett(Cfreq_fit,*Csep_params_rr)\n",
    "#separation_fit_rr=thorsett(freq_fit,7.10332731e-05,  6.74290201e-01,  9.59210531e+00)\n",
    "\n",
    "#Plot the thorsett fit\n",
    "#plt.figure(figsize=(9, 6))\n",
    "plt.plot(Cfreq_fit,Cseparation_fit_rr, color='lightgrey',lw=2,label='empirical fit',zorder=0)\n",
    "plt.plot(Cp, Crho, '.', lw=0.5,color='magenta', label='UWL data',zorder=1)\n",
    "#plt.errorbar(Ap, Arho,yerr=Arho_err, fmt='.', lw=0.5,color='lightseagreen', label='UWL data',zorder=1)\n",
    "\n",
    "\n",
    "plt.title('Mode C - Half Opening Angle Evolution')\n",
    "plt.xlabel('Frequency (MHz)')\n",
    "plt.ylabel('\\u03C1 (deg)')\n",
    "#plt.legend(loc='lower left')\n",
    "plt.tight_layout()\n",
    "plt.savefig('png/Crho')"
   ]
  },
  {
   "cell_type": "markdown",
   "metadata": {},
   "source": [
    "##### Mode D"
   ]
  },
  {
   "cell_type": "code",
   "execution_count": null,
   "metadata": {},
   "outputs": [],
   "source": [
    "expectedD=(0.2,660,6,2,685,20,1,740,8)\n",
    "boundsD=([0,635,0,0,675,0,0,715,0],[np.inf,685,np.inf,np.inf,725,np.inf,np.inf,770,np.inf])\n",
    "\n",
    "fit_components=component_positions(D_ave,expectedD,boundsD,minf,maxf,frequencies_rfi)"
   ]
  },
  {
   "cell_type": "code",
   "execution_count": null,
   "metadata": {},
   "outputs": [],
   "source": [
    "Dlin1,y_comp=plot_comp_movement(fit_components,'Mode D - Component 1','orangered',1,3)\n",
    "plt.savefig('png/MDC1')"
   ]
  },
  {
   "cell_type": "code",
   "execution_count": null,
   "metadata": {},
   "outputs": [],
   "source": [
    "Dlin2,y_comp=plot_comp_movement(fit_components,'Mode D - Component 2','orangered',2,3)\n",
    "plt.savefig('png/MDC2')"
   ]
  },
  {
   "cell_type": "code",
   "execution_count": null,
   "metadata": {},
   "outputs": [],
   "source": [
    "plot_comp_both_movement(fit_components,'Mode D - Component Position','orangered',2)\n",
    "plt.tight_layout()\n",
    "plt.savefig('png/MDCC')"
   ]
  },
  {
   "cell_type": "code",
   "execution_count": null,
   "metadata": {},
   "outputs": [],
   "source": [
    "y_sep,Dsep,Dparams,Dp,Dpoints,Dseper=plot_sep_movement(fit_components,'Mode D - Component Separation','orangered',3)\n",
    "plt.savefig('png/MDsep')"
   ]
  },
  {
   "cell_type": "code",
   "execution_count": null,
   "metadata": {},
   "outputs": [],
   "source": [
    "y_sep,Dint,Diparams=plot_intensities(fit_components, 'Intensity Ratio of C1/C2 for Mode D', 'orangered')\n",
    "plt.savefig('png/MDI')"
   ]
  },
  {
   "cell_type": "code",
   "execution_count": null,
   "metadata": {},
   "outputs": [],
   "source": [
    "#Turning it into half-opening angle\n",
    "\n",
    "#Values from Kloumann and Rankin Paper\n",
    "alpha_deg=2.8\n",
    "beta_deg=4\n",
    "\n",
    "#Covert to Radians\n",
    "deg_to_rad=np.pi/180\n",
    "alpha=alpha_deg*deg_to_rad\n",
    "beta=beta_deg*deg_to_rad\n",
    "\n",
    "#UWL Data\n",
    "Drho=[]\n",
    "Drho_err=[]\n",
    "for k,W in enumerate(Dpoints):\n",
    "    W=(360-W)*deg_to_rad\n",
    "    Drho.append(math.acos((math.cos(alpha)*math.cos(alpha+beta))+(math.sin(alpha)*math.sin(alpha+beta)*math.cos(W/2))))\n",
    "    d=(math.sin(alpha)*math.sin(alpha+beta)*math.sin(W/2))/(np.sqrt(2)*np.sqrt(2-2*(math.cos(alpha))**2*(math.cos(alpha+beta))**2-math.sin(2*alpha)*math.sin(2*(alpha+beta))*math.cos(W/2)-2*(math.sin(alpha))**2*(math.sin(alpha+beta))**2*(math.cos(W/2))**2))\n",
    "    e=np.sqrt(((d)*(Dseper[k]))**2)\n",
    "    Drho_err.append(e)\n",
    "    \n",
    "#Convert back to deg\n",
    "Drho=np.array(Drho)/deg_to_rad\n",
    "Drho_err=np.array(Drho_err)/deg_to_rad\n",
    "\n",
    "\n",
    "#Create a thorsett fit\n",
    "expect=(-16.3423701, 0.000376395919, 25.9702446)\n",
    "Dsep_params_rr,Dsep_cov_rr=curve_fit(thorsett,Dp,Drho, expect, maxfev=10000)\n",
    "Dsep_fit_error_rr=np.sqrt(np.diag(Dsep_cov_rr))\n",
    "print(Dsep_params_rr)\n",
    "\n",
    "Dfreq_fit = np.linspace(700, 4100, 460)\n",
    "Dseparation_fit_rr=thorsett(Dfreq_fit,*Dsep_params_rr)\n",
    "#separation_fit_rr=thorsett(freq_fit,7.10332731e-05,  6.74290201e-01,  9.59210531e+00)\n",
    "\n",
    "#Plot the thorsett fit\n",
    "#plt.figure(figsize=(9, 6))\n",
    "plt.plot(Dfreq_fit,Dseparation_fit_rr, color='lightgrey',lw=2,label='empirical fit',zorder=0)\n",
    "plt.plot(Dp, Drho, '.', lw=0.5,color='orangered', label='UWL data',zorder=1)\n",
    "#plt.errorbar(Ap, Arho,yerr=Arho_err, fmt='.', lw=0.5,color='lightseagreen', label='UWL data',zorder=1)\n",
    "\n",
    "\n",
    "plt.title('Mode D - Half Opening Angle Evolution')\n",
    "plt.xlabel('Frequency (MHz)')\n",
    "plt.ylabel('\\u03C1 (deg)')\n",
    "#plt.legend(loc='lower left')\n",
    "plt.tight_layout()\n",
    "plt.savefig('png/Drho')"
   ]
  },
  {
   "cell_type": "markdown",
   "metadata": {},
   "source": [
    "##### Average Overall"
   ]
  },
  {
   "cell_type": "code",
   "execution_count": null,
   "metadata": {},
   "outputs": [],
   "source": [
    "expectedAVE=(0.15,660,6,0.55,695,20,0.1,715,10,0.25,740,8)\n",
    "boundsAVE=([0,625,0,0,675,0,0,712,0,0,720,0],[np.inf,675,np.inf,np.inf,725,np.inf,np.inf,740,np.inf,np.inf,760,np.inf])\n",
    "\n",
    "fit_components=component_positions(AVE_ave,expectedAVE,boundsAVE,minf,maxf,frequencies_rfi)"
   ]
  },
  {
   "cell_type": "code",
   "execution_count": null,
   "metadata": {},
   "outputs": [],
   "source": [
    "AVElin1,y_comp=plot_comp_movement(fit_components,'Average Profile - Component 1','rebeccapurple',1,3)\n",
    "plt.savefig('png/AVEC1')"
   ]
  },
  {
   "cell_type": "code",
   "execution_count": null,
   "metadata": {},
   "outputs": [],
   "source": [
    "AVElin2,y_comp=plot_comp_movement(fit_components,'Average Profile - Component 2','rebeccapurple',2,2)\n",
    "plt.savefig('png/AVEC2')"
   ]
  },
  {
   "cell_type": "code",
   "execution_count": null,
   "metadata": {},
   "outputs": [],
   "source": [
    "plot_comp_both_movement(fit_components,'Average Profile - Component Position','rebeccapurple',2)\n",
    "plt.savefig('png/AVECC')"
   ]
  },
  {
   "cell_type": "code",
   "execution_count": null,
   "metadata": {},
   "outputs": [],
   "source": [
    "plot_comp_resid(fit_components,'Average Profile - Component Position','rebeccapurple',2)\n",
    "plt.tight_layout()\n",
    "plt.savefig('png/AVECCresid')"
   ]
  },
  {
   "cell_type": "code",
   "execution_count": null,
   "metadata": {
    "scrolled": true
   },
   "outputs": [],
   "source": [
    "y_sep,AVEsep,AVEparams,AVEfp,AVEpoints,AVEseper=plot_sep_movement(fit_components,'Average Profile - Component Separation','rebeccapurple',2)\n",
    "plt.savefig('png/AVEsep')"
   ]
  },
  {
   "cell_type": "code",
   "execution_count": null,
   "metadata": {},
   "outputs": [],
   "source": [
    "len(AVEpoints)"
   ]
  },
  {
   "cell_type": "code",
   "execution_count": null,
   "metadata": {},
   "outputs": [],
   "source": [
    "y_sep,AVEint,AVEiparams=plot_intensities(fit_components, 'Intensity Ratio of C1/C2 for Average Profile', 'rebeccapurple')\n",
    "plt.savefig('png/AVEI')"
   ]
  },
  {
   "cell_type": "markdown",
   "metadata": {},
   "source": [
    "# EPN INCLUSIONS "
   ]
  },
  {
   "cell_type": "code",
   "execution_count": null,
   "metadata": {},
   "outputs": [],
   "source": [
    "bkk = np.loadtxt(fname='../EPN_files/B1944-129.4-LOFAR-bkk.txt', dtype=fulldatatype)\n",
    "bkk2 = np.loadtxt(fname='../EPN_files/B1944-168.4-LOFAR-bkk.txt', dtype=fulldatatype)\n",
    "bkk2['frequency']=1\n",
    "bkk=np.append(bkk,bkk2)\n",
    "bkk_phase = max(bkk['phase']) + 1\n",
    "bkk_freq = [129.4,168.4]"
   ]
  },
  {
   "cell_type": "code",
   "execution_count": null,
   "metadata": {},
   "outputs": [],
   "source": [
    "ant = np.loadtxt(fname='../EPN_files/B1944-400-gb-ant94.txt', dtype=fulldatatype)\n",
    "ant2 = np.loadtxt(fname='../EPN_files/B1944-800-gb-ant94.txt', dtype=fulldatatype)\n",
    "ant3 = np.loadtxt(fname='../EPN_files/B1944-1330-gb-ant94.txt', dtype=fulldatatype)\n",
    "ant4 = np.loadtxt(fname='../EPN_files/B1944-1640-gb-ant94.txt', dtype=fulldatatype)\n",
    "ant2['frequency']=1\n",
    "ant3['frequency']=2\n",
    "ant4['frequency']=3\n",
    "ant=np.append(ant,ant2)\n",
    "ant=np.append(ant,ant3)\n",
    "ant=np.append(ant,ant4)\n",
    "ant_phase = max(ant['phase']) + 1\n",
    "ant_freq = [400,800,1330,1640]"
   ]
  },
  {
   "cell_type": "code",
   "execution_count": null,
   "metadata": {},
   "outputs": [],
   "source": [
    "gl = np.loadtxt(fname='../EPN_files/B1944-410-Lovell-gl98.txt', dtype=fulldatatype)\n",
    "gl2 = np.loadtxt(fname='../EPN_files/B1944-610-Lovell-gl98.txt', dtype=fulldatatype)\n",
    "gl3 = np.loadtxt(fname='../EPN_files/B1944-925-Lovell-gl98.txt', dtype=fulldatatype)\n",
    "gl4 = np.loadtxt(fname='../EPN_files/B1944-1408-Lovell-gl98.txt', dtype=fulldatatype)\n",
    "gl2['frequency']=1\n",
    "gl3['frequency']=2\n",
    "gl4['frequency']=3\n",
    "gl=np.append(gl,gl2)\n",
    "gl=np.append(gl,gl3)\n",
    "gl=np.append(gl,gl4)\n",
    "gl_phase = max(gl['phase']) + 1\n",
    "gl_freq = [410,610,925,1408]"
   ]
  },
  {
   "cell_type": "code",
   "execution_count": null,
   "metadata": {},
   "outputs": [],
   "source": [
    "j = np.loadtxt(fname='../EPN_files/B1944-673.9-Parkes-j98.txt', dtype=fulldatatype)\n",
    "j_phase = max(j['phase']) + 1\n",
    "j_freq = [673.9]"
   ]
  },
  {
   "cell_type": "code",
   "execution_count": null,
   "metadata": {},
   "outputs": [],
   "source": [
    "wc =np.loadtxt(fname='../EPN_files/B1944-1418-Arecibo-wc.txt', dtype=fulldatatype)\n",
    "wc_phase = max(wc['phase']) + 1\n",
    "wc_freq = [1418]"
   ]
  },
  {
   "cell_type": "code",
   "execution_count": null,
   "metadata": {},
   "outputs": [],
   "source": [
    "sgg = np.loadtxt(fname='../EPN_files/B1944-1420-Effelsberg-sgg.txt', dtype=fulldatatype)\n",
    "sgg2 = np.loadtxt(fname='../EPN_files/B1944-4750-Effelsberg-sgg.txt', dtype=fulldatatype)\n",
    "sgg2['frequency']=1\n",
    "sgg=np.append(sgg,sgg2)\n",
    "sgg_phase = max(sgg['phase']) + 1\n",
    "sgg_freq = [1420,4750]"
   ]
  },
  {
   "cell_type": "code",
   "execution_count": null,
   "metadata": {},
   "outputs": [],
   "source": [
    "hkk = np.loadtxt(fname='../EPN_files/B1944-4850-Effelsberg-hkk.txt', dtype=fulldatatype)\n",
    "hkk_phase = max(hkk['phase']) + 1\n",
    "hkk_freq = [4850]"
   ]
  },
  {
   "cell_type": "code",
   "execution_count": null,
   "metadata": {},
   "outputs": [],
   "source": [
    "#Takes a single frequency band out of all the profiles for analysis.\n",
    "freqband = 0\n",
    "\n",
    "f = j['frequency'] == freqband\n",
    "x=j['phase'][f]\n",
    "y=j['intensity'][f]\n",
    "\n",
    "#Expected is taken from Peaks and Gaussian fittings of frequency band 73\n",
    "expected1=(1,55,3,0.5,60,3)\n",
    "bounds1=([0,0,0,0,0,0],[np.inf,j_phase,np.inf,np.inf,j_phase,np.inf])\n",
    "\n",
    "noise = sigmaClip(y)\n",
    "error = np.nanstd(noise[1])\n",
    "\n",
    "#Fits three gaussians to the data\n",
    "params, cov, sigma = fitting_parameters(x,y,expected1,bounds1)\n",
    "fit = multi_gauss(x,*params)\n",
    "#Then finds the maxima of the fit. It only takes the largest two (given they are the outer maxima).\n",
    "#Error for the maxima position is calculated by finding the positions of the fit at an intensity-noise level\n",
    "j_comp = fit_peaks(fit, freqband, cov, params,error,j_freq)\n",
    "j_components = [j_comp]"
   ]
  },
  {
   "cell_type": "code",
   "execution_count": null,
   "metadata": {},
   "outputs": [],
   "source": [
    "#Takes a single frequency band out of all the profiles for analysis.\n",
    "freqband = 0\n",
    "\n",
    "f = wc['frequency'] == freqband\n",
    "x=wc['phase'][f]\n",
    "y=wc['intensity'][f]\n",
    "\n",
    "#Expected is taken from Peaks and Gaussian fittings of frequency band 73\n",
    "expected1=(0.1,470,10,0.6,505,3,0.4,550,3)\n",
    "bounds1=([0,0,0,0,0,0,0,0,0],[np.inf,wc_phase,np.inf,np.inf,wc_phase,np.inf,np.inf,wc_phase,np.inf])\n",
    "\n",
    "noise = sigmaClip(y)\n",
    "error = np.nanstd(noise[1])\n",
    "\n",
    "#Fits three gaussians to the data\n",
    "params, cov, sigma = fitting_parameters(x,y,expected1,bounds1)\n",
    "fit = multi_gauss(x,*params)\n",
    "#Then finds the maxima of the fit. It only takes the largest two (given they are the outer maxima).\n",
    "#Error for the maxima position is calculated by finding the positions of the fit at an intensity-noise level\n",
    "wc_comp = gauss_peaks(fit, no_freq_bands, freqband, cov, params,minf,maxf,error,frequencies_rfi,data='epn',freq=wc_freq)\n",
    "wc_components = [wc_comp]"
   ]
  },
  {
   "cell_type": "code",
   "execution_count": null,
   "metadata": {},
   "outputs": [],
   "source": [
    "#Takes a single frequency band out of all the profiles for analysis.\n",
    "freqband = 0\n",
    "\n",
    "f = sgg['frequency'] == freqband\n",
    "x=sgg['phase'][f]\n",
    "y=sgg['intensity'][f]\n",
    "\n",
    "#Expected is taken from Peaks and Gaussian fittings of frequency band 73\n",
    "expected1=(40,225,10,100,400,5,60,550,3)\n",
    "bounds1=([0,0,0,0,0,0,0,0,0],[np.inf,sgg_phase,np.inf,np.inf,sgg_phase,np.inf,np.inf,sgg_phase,np.inf])\n",
    "\n",
    "noise = sigmaClip(y)\n",
    "error = np.nanstd(noise[1])\n",
    "\n",
    "#Fits three gaussians to the data\n",
    "params, cov, sigma = fitting_parameters(x,y,expected1,bounds1)\n",
    "fit = multi_gauss(x,*params)\n",
    "#Then finds the maxima of the fit. It only takes the largest two (given they are the outer maxima).\n",
    "#Error for the maxima position is calculated by finding the positions of the fit at an intensity-noise level\n",
    "sgg1_comp = gauss_peaks(fit, no_freq_bands, freqband, cov, params,minf,maxf,error,frequencies_rfi,data='epn',freq=sgg_freq)"
   ]
  },
  {
   "cell_type": "code",
   "execution_count": null,
   "metadata": {},
   "outputs": [],
   "source": [
    "#Takes a single frequency band out of all the profiles for analysis.\n",
    "freqband = 1\n",
    "\n",
    "f = sgg['frequency'] == freqband\n",
    "x=sgg['phase'][f]\n",
    "y=sgg['intensity'][f]\n",
    "\n",
    "#Expected is taken from Peaks and Gaussian fittings of frequency band 73\n",
    "expected1=(100,170,5,100,270,3)\n",
    "bounds1=([0,0,0,0,0,0],[np.inf,sgg_phase,np.inf,np.inf,sgg_phase,np.inf])\n",
    "\n",
    "noise = sigmaClip(y)\n",
    "error = np.nanstd(noise[1])\n",
    "\n",
    "#Fits three gaussians to the data\n",
    "params, cov, sigma = fitting_parameters(x,y,expected1,bounds1)\n",
    "fit = multi_gauss(x,*params)\n",
    "#Then finds the maxima of the fit. It only takes the largest two (given they are the outer maxima).\n",
    "#Error for the maxima position is calculated by finding the positions of the fit at an intensity-noise level\n",
    "sgg2_comp = gauss_peaks(fit, no_freq_bands, freqband, cov, params,minf,maxf,error,frequencies_rfi,data='epn',freq=sgg_freq)\n",
    "sgg_components = [sgg1_comp,sgg2_comp]"
   ]
  },
  {
   "cell_type": "code",
   "execution_count": null,
   "metadata": {},
   "outputs": [],
   "source": [
    "#Takes a single frequency band out of all the profiles for analysis.\n",
    "freqband = 0\n",
    "\n",
    "f = hkk['frequency'] == freqband\n",
    "x=hkk['phase'][f]\n",
    "y=hkk['intensity'][f]\n",
    "\n",
    "#Expected is taken from Peaks and Gaussian fittings of frequency band 73\n",
    "expected1=(0.8,87,5,0.8,100,3)\n",
    "bounds1=([0,0,0,0,0,0],[np.inf,hkk_phase,np.inf,np.inf,hkk_phase,np.inf])\n",
    "\n",
    "noise = sigmaClip(y)\n",
    "error = np.nanstd(noise[1])\n",
    "\n",
    "#Fits three gaussians to the data\n",
    "params, cov, sigma = fitting_parameters(x,y,expected1,bounds1)\n",
    "fit = multi_gauss(x,*params)\n",
    "#Then finds the maxima of the fit. It only takes the largest two (given they are the outer maxima).\n",
    "#Error for the maxima position is calculated by finding the positions of the fit at an intensity-noise level\n",
    "hkk_comp = gauss_peaks(fit, no_freq_bands, freqband, cov, params,minf,maxf,error,frequencies_rfi,data='epn',freq=hkk_freq)\n",
    "hkk_components = [hkk_comp]"
   ]
  },
  {
   "cell_type": "code",
   "execution_count": null,
   "metadata": {},
   "outputs": [],
   "source": [
    "ant_components = []\n",
    "expected1=(1,85,3,0.6,90,3)\n",
    "bounds1=([0,0,0,0,88,0],[np.inf,ant_phase,np.inf,np.inf,ant_phase,np.inf])\n",
    "\n",
    "#Loop thought all of the frequency bands\n",
    "for i in range(0,len(ant_freq)):\n",
    "    freqband = i\n",
    "    f = ant['frequency'] == freqband\n",
    "    x=ant['phase'][f]\n",
    "    y=ant['intensity'][f]\n",
    "    \n",
    "    noise = sigmaClip(y)\n",
    "    error = np.nanstd(noise[1])\n",
    "\n",
    "    #Fit the gaussians and find peaks and errors, create array with all frequencies\n",
    "    #Resulting frequencies are in MHz and phase in degrees\n",
    "    if len(x)!=0 and len(y)!=0:\n",
    "        try:\n",
    "            params,cov,sigma = fitting_parameters(x,y,expected1,bounds1)\n",
    "            fit = multi_gauss(x,*params)\n",
    "            profile_comp = fit_peaks(fit, freqband, cov, params,error,ant_freq)\n",
    "        except:\n",
    "            component1 = component(phase=0, intensity=0)\n",
    "            component2 = component(phase=0, intensity=0)\n",
    "            error = 0             \n",
    "            freq=(((maxf-minf)/no_freq_bands)*(freqband))+minf+((maxf-minf)/(no_freq_bands*2))\n",
    "            profile_comp = pulse_component(frequency=freq, comp1=component1, comp2=component2, errors=error)\n",
    "        ant_components.append(profile_comp)"
   ]
  },
  {
   "cell_type": "code",
   "execution_count": null,
   "metadata": {},
   "outputs": [],
   "source": [
    "gl_components = []\n",
    "expected1=(200,210,3,1500,220,5,600,240,7)\n",
    "bounds1=([0,0,0,0,0,0,0,0,0],[np.inf,gl_phase,np.inf,np.inf,gl_phase,np.inf,np.inf,gl_phase,np.inf])\n",
    "\n",
    "#Loop thought all of the frequency bands\n",
    "for i in range(0,2):\n",
    "    freqband = i\n",
    "    f = gl['frequency'] == freqband\n",
    "    x=gl['phase'][f]\n",
    "    y=gl['intensity'][f]\n",
    "    \n",
    "    noise = sigmaClip(y)\n",
    "    error = np.nanstd(noise[1])\n",
    "\n",
    "    #Fit the gaussians and find peaks and errors, create array with all frequencies\n",
    "    #Resulting frequencies are in MHz and phase in degrees\n",
    "    if len(x)!=0 and len(y)!=0:\n",
    "        try:\n",
    "            params,cov,sigma = fitting_parameters(x,y,expected1,bounds1)\n",
    "            fit = multi_gauss(x,*params)\n",
    "            profile_comp = fit_peaks(fit, freqband, cov, params,error,gl_freq)\n",
    "        except:\n",
    "            component1 = component(phase=0, intensity=0)\n",
    "            component2 = component(phase=0, intensity=0)\n",
    "            error = 0             \n",
    "            freq=(((maxf-minf)/no_freq_bands)*(freqband))+minf+((maxf-minf)/(no_freq_bands*2))\n",
    "            profile_comp = pulse_component(frequency=freq, comp1=component1, comp2=component2, errors=error)\n",
    "        gl_components.append(profile_comp)"
   ]
  },
  {
   "cell_type": "code",
   "execution_count": null,
   "metadata": {},
   "outputs": [],
   "source": [
    "expected1=(100,230,3,1000,240,5,500,260,7)\n",
    "bounds1=([0,0,0,0,0,0,0,0,0],[np.inf,gl_phase,np.inf,np.inf,gl_phase,np.inf,np.inf,gl_phase,np.inf])\n",
    "\n",
    "#Loop thought all of the frequency bands\n",
    "for i in range(2,4):\n",
    "    freqband = i\n",
    "    f = gl['frequency'] == freqband\n",
    "    x=gl['phase'][f]\n",
    "    y=gl['intensity'][f]\n",
    "    \n",
    "    noise = sigmaClip(y)\n",
    "    error = np.nanstd(noise[1])\n",
    "\n",
    "    #Fit the gaussians and find peaks and errors, create array with all frequencies\n",
    "    #Resulting frequencies are in MHz and phase in degrees\n",
    "    if len(x)!=0 and len(y)!=0:\n",
    "        try:\n",
    "            params,cov,sigma = fitting_parameters(x,y,expected1,bounds1)\n",
    "            fit = multi_gauss(x,*params)\n",
    "            profile_comp = fit_peaks(fit, freqband, cov, params,error,gl_freq)\n",
    "        except:\n",
    "            component1 = component(phase=0, intensity=0)\n",
    "            component2 = component(phase=0, intensity=0)\n",
    "            error = 0             \n",
    "            freq=(((maxf-minf)/no_freq_bands)*(freqband))+minf+((maxf-minf)/(no_freq_bands*2))\n",
    "            profile_comp = pulse_component(frequency=freq, comp1=component1, comp2=component2, errors=error)\n",
    "        gl_components.append(profile_comp)"
   ]
  },
  {
   "cell_type": "code",
   "execution_count": null,
   "metadata": {},
   "outputs": [],
   "source": [
    "#Gain component separation values\n",
    "ant_sep, ant_error = separation_singleprofile(ant_components)\n",
    "gl_sep, gl_error = separation_singleprofile(gl_components)\n",
    "j_sep, j_error = separation_singleprofile(j_components)\n",
    "wc_sep, wc_error = separation_singleprofile(wc_components)\n",
    "sgg_sep, sgg_error = separation_singleprofile(sgg_components)\n",
    "hkk_sep, hkk_error = separation_singleprofile(hkk_components)\n",
    "\n",
    "\n",
    "epn_sep = [ant_sep, gl_sep, j_sep, wc_sep, sgg_sep,hkk_sep]\n",
    "epn_error = [ant_error, gl_error, j_error, wc_error, sgg_error,hkk_error]\n",
    "\n",
    "epn_seps=[]\n",
    "frequency_epn=[]\n",
    "epn_errors=[]\n",
    "\n",
    "#Put them into arrays for graphing\n",
    "for k,epn in enumerate(epn_sep):\n",
    "    for i in range(0,len(epn)):\n",
    "        AVEpoints=np.append(AVEpoints,epn[i][1])\n",
    "        AVEfp=np.append(AVEfp,epn[i][0])\n",
    "        AVEseper=np.append(AVEseper,epn_error[k][i])\n",
    "\n",
    "        epn_seps.append(epn[i][1])\n",
    "        frequency_epn.append(epn[i][0])\n",
    "        epn_errors.append(epn_error[k][i])"
   ]
  },
  {
   "cell_type": "code",
   "execution_count": null,
   "metadata": {},
   "outputs": [],
   "source": [
    "#Create a thorsett fit\n",
    "expect=(703,0.4,16)\n",
    "sep_params,sep_cov=curve_fit(thorsett,AVEfp,AVEpoints, expect, maxfev=10000,  bounds=([0,0,-np.inf],[np.inf,0.9,np.inf]))\n",
    "sep_fit_error=np.sqrt(np.diag(sep_cov))\n",
    "print(sep_params)\n",
    "\n",
    "freq_fit = np.linspace(300, 4900, 460)\n",
    "separation_fit=thorsett(freq_fit,*sep_params)"
   ]
  },
  {
   "cell_type": "code",
   "execution_count": null,
   "metadata": {},
   "outputs": [],
   "source": [
    "#Plot the thorsett fit\n",
    "#plt.figure(figsize=(9, 6))\n",
    "plt.plot(freq_fit,separation_fit, color='lightgrey',lw=2,label='empirical fit',zorder=0)\n",
    "plt.errorbar(AVEfp, AVEpoints, yerr=AVEseper, fmt='.', lw=0.5,color='rebeccapurple', label='UWL data',zorder=1)\n",
    "plt.errorbar(frequency_epn, epn_seps, yerr=epn_errors, fmt='.', lw=0.5,color='orange', label='EPN data',zorder=2)\n",
    "\n",
    "plt.title('Average Profile - Component Separation')\n",
    "plt.xlabel('Frequency (MHz)')\n",
    "plt.ylabel('\\u0394\\u03B8 (deg)')\n",
    "plt.legend(loc='lower right')\n",
    "plt.tight_layout()\n",
    "plt.savefig('png/AVEsepEPN')"
   ]
  },
  {
   "cell_type": "code",
   "execution_count": null,
   "metadata": {},
   "outputs": [],
   "source": [
    "#Turning it into half-opening angle\n",
    "\n",
    "#Values from Kloumann and Rankin Paper\n",
    "alpha_deg=2.8\n",
    "beta_deg=4\n",
    "\n",
    "#Covert to Radians\n",
    "deg_to_rad=np.pi/180\n",
    "alpha=alpha_deg*deg_to_rad\n",
    "beta=beta_deg*deg_to_rad\n",
    "\n",
    "#UWL Data\n",
    "rho=[]\n",
    "rho_err=[]\n",
    "for k,W in enumerate(AVEpoints):\n",
    "    W=(360-W)*deg_to_rad\n",
    "    rho.append(math.acos((math.cos(alpha)*math.cos(alpha+beta))+(math.sin(alpha)*math.sin(alpha+beta)*math.cos(W/2))))\n",
    "    d=(math.sin(alpha)*math.sin(alpha+beta)*math.sin(W/2))/(np.sqrt(2)*np.sqrt(2-2*(math.cos(alpha))**2*(math.cos(alpha+beta))**2-math.sin(2*alpha)*math.sin(2*(alpha+beta))*math.cos(W/2)-2*(math.sin(alpha))**2*(math.sin(alpha+beta))**2*(math.cos(W/2))**2))\n",
    "    e=np.sqrt(((d)*(AVEseper[k]))**2)\n",
    "    rho_err.append(e)\n",
    "    \n",
    "#Convert back to deg\n",
    "rho=np.array(rho)/deg_to_rad\n",
    "rho_err=np.array(rho_err)/deg_to_rad\n",
    "\n",
    "#EPN Data\n",
    "rhoE=[]\n",
    "rhoE_err=[]\n",
    "for k,W in enumerate(epn_seps):\n",
    "    W=(360-W)*deg_to_rad\n",
    "    rhoE.append(math.acos(math.cos(alpha)*math.cos(alpha+beta)+math.sin(alpha)*math.sin(alpha+beta)*math.cos(-W/2)))\n",
    "    d=(math.sin(alpha)*math.sin(alpha+beta)*math.sin(W/2))/(np.sqrt(2)*np.sqrt(2-2*(math.cos(alpha))**2*(math.cos(alpha+beta))**2-math.sin(2*alpha)*math.sin(2*(alpha+beta))*math.cos(W/2)-2*(math.sin(alpha))**2*(math.sin(alpha+beta))**2*(math.cos(W/2))**2))\n",
    "    e=np.sqrt(((d)*(epn_errors[k]))**2)\n",
    "    rhoE_err.append(e)\n",
    "    \n",
    "#Convert back to deg\n",
    "rhoE=np.array(rhoE)/deg_to_rad\n",
    "rhoE_err=np.array(rhoE_err)/deg_to_rad\n"
   ]
  },
  {
   "cell_type": "code",
   "execution_count": null,
   "metadata": {},
   "outputs": [],
   "source": [
    "(math.acos((math.cos(alpha)*math.cos(alpha+beta))+(math.sin(alpha)*math.sin(alpha+beta)*math.cos((360-27.4)*deg_to_rad/2))))/deg_to_rad"
   ]
  },
  {
   "cell_type": "code",
   "execution_count": null,
   "metadata": {},
   "outputs": [],
   "source": [
    "(math.acos((math.cos(alpha)*math.cos(alpha+beta))+(math.sin(alpha)*math.sin(alpha+beta)*math.cos((360-24.6)*deg_to_rad/2))))/deg_to_rad"
   ]
  },
  {
   "cell_type": "code",
   "execution_count": null,
   "metadata": {},
   "outputs": [],
   "source": [
    "#Create a thorsett fit\n",
    "expect=(703,0.4,16)\n",
    "sep_params_rr,sep_cov_rr=curve_fit(thorsett,AVEfp,rho, expect, maxfev=10000)\n",
    "sep_fit_error_rr=np.sqrt(np.diag(sep_cov))\n",
    "print(sep_params_rr)\n",
    "\n",
    "freq_fit = np.linspace(300, 4900, 460)\n",
    "separation_fit_rr=thorsett(freq_fit,*sep_params_rr)\n",
    "#separation_fit_rr=thorsett(freq_fit,7.10332731e-05,  6.74290201e-01,  9.59210531e+00)"
   ]
  },
  {
   "cell_type": "code",
   "execution_count": null,
   "metadata": {},
   "outputs": [],
   "source": [
    "#Plot the thorsett fit\n",
    "#plt.figure(figsize=(9, 6))\n",
    "plt.plot(freq_fit,separation_fit_rr, color='lightgrey',lw=2,label='empirical fit',zorder=0)\n",
    "plt.plot(AVEfp, rho, '.', lw=0.5,color='rebeccapurple', label='UWL data',zorder=1)\n",
    "plt.plot(frequency_epn, rhoE, '.', lw=0.5,color='orange', label='EPN data',zorder=1)\n",
    "#plt.errorbar(AVEfp, rho, yerr=rho_err,fmt='.', lw=0.5,color='rebeccapurple', label='UWL data',zorder=1)\n",
    "#plt.errorbar(frequency_epn, rhoE, yerr=rhoE_err, fmt='.', lw=0.5,color='orange', label='EPN data',zorder=1)\n",
    "\n",
    "plt.title('Component Separation - B1944+17')\n",
    "plt.xlabel('Frequency (MHz)')\n",
    "plt.ylabel('\\u03C1 (deg)')\n",
    "plt.legend(loc='lower left')\n",
    "plt.tight_layout()\n",
    "plt.savefig('png/AVErhoEPN')"
   ]
  },
  {
   "cell_type": "markdown",
   "metadata": {},
   "source": [
    "### Direct Comparison"
   ]
  },
  {
   "cell_type": "code",
   "execution_count": null,
   "metadata": {},
   "outputs": [],
   "source": [
    "plt.figure(figsize=(13, 6))\n",
    "plt.plot(AVElin1,y_comp, color='black',lw=3,label='average',zorder=0.5)\n",
    "plt.plot(Alin1,y_comp, color='lightseagreen',lw=1.5,label='mode A')\n",
    "plt.plot(Blin1,y_comp, color='forestgreen',lw=1.5,label='mode B')\n",
    "plt.plot(Clin1,y_comp, color='magenta',lw=1.5,label='mode C')\n",
    "plt.plot(Dlin1,y_comp, color='orangered',lw=1.5,label='mode D')\n",
    "plt.plot(AVElin2,y_comp, color='black',lw=3,zorder=0.5)\n",
    "plt.plot(Alin2,y_comp, color='lightseagreen',lw=1.5)\n",
    "plt.plot(Blin2,y_comp, color='forestgreen',lw=1.5)\n",
    "plt.plot(Clin2,y_comp, color='magenta',lw=1.5)\n",
    "plt.plot(Dlin2,y_comp, color='orangered',lw=1.5)\n",
    "\n",
    "plt.legend(loc='upper center')\n",
    "plt.title('Evolution of Component Phase for Various Modes')\n",
    "plt.xticks(np.arange(241, 264, 2.0))\n",
    "plt.xlabel('Phase (deg)')\n",
    "plt.ylabel('Frequency (MHz)')\n",
    "plt.tight_layout()\n",
    "plt.savefig('png/CompMove')"
   ]
  },
  {
   "cell_type": "code",
   "execution_count": null,
   "metadata": {
    "scrolled": false
   },
   "outputs": [],
   "source": [
    "separation_fit=thorsett(y_sep,*sep_params)\n",
    "\n",
    "plt.figure(figsize=(9, 6))\n",
    "plt.plot(y_sep,separation_fit, color='black',lw=3,label='average',zorder=0.5)\n",
    "plt.plot(y_sep,Asep, color='lightseagreen',lw=1.5,label='mode A')\n",
    "plt.plot(y_sep,Bsep, color='forestgreen',lw=1.5,label='mode B')\n",
    "plt.plot(y_sep,Csep, color='magenta',lw=1.5,label='mode C')\n",
    "plt.plot(y_sep,Dsep, color='orangered',lw=1.5,label='mode D')\n",
    "plt.legend()\n",
    "plt.title('Evolution of Component Separation for Various Modes')\n",
    "plt.ylabel('\\u0394\\u03B8 (deg)')\n",
    "plt.xlabel('Frequency (MHz)')\n",
    "plt.tight_layout()\n",
    "plt.savefig('png/Separation')"
   ]
  },
  {
   "cell_type": "code",
   "execution_count": null,
   "metadata": {},
   "outputs": [],
   "source": [
    "print(f'Average Profile: \\t \\u0394\\u03B8 = {sep_params[0]:.3f} \\u03BD^{sep_params[1]:.5f} + {sep_params[2]:.3f} \\n')\n",
    "print(f'Mode A: \\t\\t \\u0394\\u03B8 = {Aparams[0]:.3f} \\u03BD^{Aparams[1]:.6f} + {Aparams[2]:.3f} \\n')\n",
    "print(f'Mode B: \\t\\t \\u0394\\u03B8 = {Bparams[0]:.3f} \\u03BD^{Bparams[1]:.6f} + {Bparams[2]:.3f} \\n')\n",
    "print(f'Mode C: \\t\\t \\u0394\\u03B8 = {Cparams[0]:.3f} \\u03BD^{Cparams[1]:.6f} + {Cparams[2]:.3f} \\n')\n",
    "print(f'Mode D: \\t\\t \\u0394\\u03B8 = {Dparams[0]:.3f} \\u03BD^{Dparams[1]:.6f} + {Dparams[2]:.3f} \\n')"
   ]
  },
  {
   "cell_type": "code",
   "execution_count": null,
   "metadata": {},
   "outputs": [],
   "source": [
    "freq_fit = np.linspace(300, 4900, 460)\n",
    "separation_fit_rr=thorsett(Afreq_fit,*sep_params_rr)\n",
    "\n",
    "plt.figure(figsize=(9, 6))\n",
    "plt.plot(Afreq_fit,separation_fit_rr, color='black',lw=3,label='average',zorder=0)\n",
    "plt.plot(Afreq_fit,Aseparation_fit_rr, color='lightseagreen',lw=2,label='Mode A',zorder=0)\n",
    "plt.plot(Bfreq_fit,Bseparation_fit_rr, color='forestgreen',lw=2,label='Mode B',zorder=0)\n",
    "plt.plot(Cfreq_fit,Cseparation_fit_rr, color='magenta',lw=2,label='Mode C',zorder=0)\n",
    "plt.plot(Dfreq_fit,Dseparation_fit_rr, color='orangered',lw=2,label='Mode D',zorder=0)\n",
    "plt.legend()\n",
    "plt.title('Evolution of Half Opening Angle for Various Modes')\n",
    "plt.ylabel('\\u03C1 (deg)')\n",
    "plt.xlabel('Frequency (MHz)')\n",
    "plt.tight_layout()\n",
    "plt.savefig('png/HOpenAngle')"
   ]
  },
  {
   "cell_type": "code",
   "execution_count": null,
   "metadata": {},
   "outputs": [],
   "source": [
    "print(f'Average Profile: \\t \\u0394\\u03B8 = {sep_params_rr[0]:.3f} \\u03BD^{sep_params_rr[1]:.5f} + {sep_params_rr[2]:.3f} \\n')\n",
    "print(f'Mode A: \\t\\t \\u0394\\u03B8 = {Asep_params_rr[0]:.3f} \\u03BD^{Asep_params_rr[1]:.6f} + {Asep_params_rr[2]:.3f} \\n')\n",
    "print(f'Mode B: \\t\\t \\u0394\\u03B8 = {Bsep_params_rr[0]:.3f} \\u03BD^{Bsep_params_rr[1]:.6f} + {Bsep_params_rr[2]:.3f} \\n')\n",
    "print(f'Mode C: \\t\\t \\u0394\\u03B8 = {Csep_params_rr[0]:.3f} \\u03BD^{Csep_params_rr[1]:.6f} + {Csep_params_rr[2]:.3f} \\n')\n",
    "print(f'Mode D: \\t\\t \\u0394\\u03B8 = {Dsep_params_rr[0]:.3f} \\u03BD^{Dsep_params_rr[1]:.6f} + {Dsep_params_rr[2]:.3f} \\n')"
   ]
  },
  {
   "cell_type": "code",
   "execution_count": null,
   "metadata": {},
   "outputs": [],
   "source": [
    "plt.figure(figsize=(9, 6))\n",
    "plt.plot(y_sep,AVEint, color='black',lw=3,label='average',zorder=0.5)\n",
    "plt.plot(y_sep,Aint, color='lightseagreen',lw=1.5,label='mode A')\n",
    "plt.plot(y_sep,Bint, color='forestgreen',lw=1.5,label='mode B')\n",
    "plt.plot(y_sep,Cint, color='magenta',lw=1.5,label='mode C')\n",
    "plt.plot(y_sep,Dint, color='orangered',lw=1.5,label='mode D')\n",
    "plt.legend()\n",
    "plt.title('Evolution of Component Intensity Ratio for Various Modes')\n",
    "plt.ylabel('Component 1 Intensity/Component 2 Intensity')\n",
    "plt.xlabel('Frequency (MHz)')\n",
    "plt.savefig('png/Intensities')"
   ]
  },
  {
   "cell_type": "code",
   "execution_count": null,
   "metadata": {},
   "outputs": [],
   "source": []
  },
  {
   "cell_type": "markdown",
   "metadata": {},
   "source": [
    "## FUNCTIONS"
   ]
  },
  {
   "cell_type": "code",
   "execution_count": null,
   "metadata": {},
   "outputs": [],
   "source": [
    "component = col.namedtuple('component','phase intensity')\n",
    "ind_component = col.namedtuple('component','phase intensity width')\n",
    "pulse_component = col.namedtuple('pulse_component','frequency comp1 comp2 errors')\n",
    "component_separation = col.namedtuple('component_separation','frequency separation')"
   ]
  },
  {
   "cell_type": "code",
   "execution_count": null,
   "metadata": {},
   "outputs": [],
   "source": [
    "def gauss(x,amp,cen,sd):\n",
    "    return amp*np.exp(-(x-cen)**2/(2*sd**2))\\\n",
    "\n",
    "def multi_gauss(x, *params):\n",
    "    y = np.zeros_like(x)\n",
    "    for i in range(0, len(params), 3):\n",
    "        a = params[i]\n",
    "        b = params[i+1]\n",
    "        c = params[i+2]\n",
    "        y = y +  a * np.exp( -(((x-b)**2) / (2*c**2)) )\n",
    "    return y"
   ]
  },
  {
   "cell_type": "code",
   "execution_count": null,
   "metadata": {},
   "outputs": [],
   "source": [
    "\"\"\"\n",
    "    Used to get the parameters, covariance matrix and errors for any number of gaussian fits, through and expected value. \n",
    "\"\"\"\n",
    "def fitting_parameters(x,y,expected,bound):\n",
    "    \"\"\"\n",
    "    bound=([],[])\n",
    "    for i in range(len(expected)):\n",
    "        bound[0].append(0)\n",
    "        bound[1].append(np.inf)\n",
    "    \"\"\"\n",
    "        \n",
    "    params,cov=curve_fit(multi_gauss,x,y,expected, bounds=bound)\n",
    "    sigma=np.sqrt(np.diag(cov))\n",
    "    return params, cov, sigma"
   ]
  },
  {
   "cell_type": "code",
   "execution_count": null,
   "metadata": {},
   "outputs": [],
   "source": [
    "def sigmaClip(data, alpha=3, tol=0.1, ntrials=10):\n",
    "    \"\"\"\n",
    "    Compute the data's median, m, and its standard deviation, sigma.\n",
    "    Keep only the data that falls in the range (m-alpha*sigma,m+alpha*sigma) for some value of alpha, and discard everything else.\n",
    "    This operation is repeated ntrials number of times or until the tolerance level is hit.\n",
    "\n",
    "    Parameters:\n",
    "    -----------\n",
    "    data: list\n",
    "        A list of floats - the data to clip\n",
    "    alpha: float\n",
    "        OPTIONAL - Determines the number of sigmas to use to determine the upper nad lower limits. Default=3\n",
    "    tol: float\n",
    "        OPTIONAL - The fractional change in the standard deviation that determines when the tolerance is hit. Default=0.1\n",
    "    ntrils: int\n",
    "        OPTIONAL - The maximum number of times to apply the operation. Default=10\n",
    "\n",
    "    Returns:\n",
    "    --------\n",
    "    oldstd: float\n",
    "        The std of the clipped data\n",
    "    x: list\n",
    "        The data list that contains only noise, with nans in place of 'real' data\n",
    "    \n",
    "    Created by Nick Swainston\n",
    "    \"\"\"\n",
    "    x = np.copy(data)\n",
    "    oldstd = np.nanstd(x)\n",
    "    #When the x[x<lolim] and x[x>hilim] commands encounter a nan it produces a\n",
    "    #warning. This is expected because it is ignoring flagged data from a\n",
    "    #previous trial so the warning is supressed.\n",
    "    old_settings = np.seterr(all='ignore')\n",
    "    for trial in range(ntrials):\n",
    "        median = np.nanmedian(x)\n",
    "\n",
    "        lolim = median - alpha * oldstd\n",
    "        hilim = median + alpha * oldstd\n",
    "        x[x<lolim] = np.nan\n",
    "        x[x>hilim] = np.nan\n",
    "\n",
    "        newstd = np.nanstd(x)\n",
    "        tollvl = (oldstd - newstd) / newstd\n",
    "\n",
    "        if tollvl <= tol:\n",
    "            np.seterr(**old_settings)\n",
    "            return oldstd, x\n",
    "\n",
    "        if trial + 1 == ntrials:\n",
    "            np.seterr(**old_settings)\n",
    "            return oldstd, x\n",
    "\n",
    "        oldstd = newstd"
   ]
  },
  {
   "cell_type": "code",
   "execution_count": null,
   "metadata": {},
   "outputs": [],
   "source": [
    "def multi_gauss_ddx(x, *params):\n",
    "    #derivative of gaussian\n",
    "    y = np.zeros_like(x)\n",
    "    for i in range(0, len(params), 3):\n",
    "        a = params[i]\n",
    "        b = params[i+1]\n",
    "        c = params[i+2]\n",
    "        y = y - a/c**2 * (x - b) * np.exp( -(((x-b)**2) / (2*c**2)) )\n",
    "    return y\n",
    "\n",
    "def multi_gauss_d2dx2(x, *params):\n",
    "    #double derivative of gaussian\n",
    "    y = np.zeros_like(x)\n",
    "    for i in range(0, len(params), 3):\n",
    "        a = params[i]\n",
    "        b = params[i+1]\n",
    "        c = params[i+2]\n",
    "        y = y + (multi_gauss(x, a, b, c) / c**2) * (((x - b)**2)/(c**2) - 1)\n",
    "    return y\n",
    "\n",
    "def jacobian_slope(x, *params):\n",
    "    \"\"\"\n",
    "    Evaluates the Jacobian matrix of a gaussian slope at a single point, x\n",
    "\n",
    "    Parameters:\n",
    "    -----------\n",
    "    x: float\n",
    "        The point to evaluate\n",
    "    *params: list\n",
    "        A list containing three parameters per gaussian component in the order: Amp, Mean, Width\n",
    "\n",
    "    Returns:\n",
    "    --------\n",
    "    J: numpy.matrix\n",
    "        The Jacobian matrix\n",
    "    \"\"\"\n",
    "    def dda(a, b, c, x):\n",
    "        return -multi_gauss(x, a, b, c) * (x - b)/(c**2)/a\n",
    "    def ddb(a, b, c, x):\n",
    "        return multi_gauss(x, a, b, c) * (1 - (x - b)**2/(c**2))/c**2\n",
    "    def ddc(a, b, c, x):\n",
    "        return multi_gauss(x, a, b, c) * (x - b)/(c**3) * (2 - (x-b)**2/(c**2))\n",
    "    J = []\n",
    "    for i in range(0, len(params), 3):\n",
    "        a = params[i]\n",
    "        b = params[i+1]\n",
    "        c = params[i+2]\n",
    "        mypars = [a, b, c, x]\n",
    "        J.append(dda(*mypars))\n",
    "        J.append(ddb(*mypars))\n",
    "        J.append(ddc(*mypars))\n",
    "    J = np.asmatrix(J)\n",
    "    return J"
   ]
  },
  {
   "cell_type": "code",
   "execution_count": null,
   "metadata": {},
   "outputs": [],
   "source": [
    "def find_x_err(x, popt, pcov):\n",
    "    \"\"\"\n",
    "    Finds the error in the horizontal position of a gaussian fit at the point x.\n",
    "    Uses the equation sigma_x = sigma_y/d2ydx2 where:\n",
    "    sigma_x = error in x\n",
    "    d2ydx2 = second derivative of the gaussian function at point x\n",
    "    sigma_y = sqrt.J*C*J_T\n",
    "    J = Jacobian evalutated at point x\n",
    "    C = covariance matrix of gaussian fit\n",
    "    J_T = transposed jacobian\n",
    "\n",
    "    Parameters:\n",
    "    -----------\n",
    "    x: list\n",
    "        A list of points to evaluate the error at\n",
    "    popt: list\n",
    "        The parameters used to describe the gaussian fit\n",
    "    pcov: numpy.matrix\n",
    "        The covariance matrix corresponding to popt\n",
    "\n",
    "    Returns:\n",
    "    --------\n",
    "    x_err: list\n",
    "        The error evaluated at each point, x\n",
    "    \"\"\"\n",
    "    x_err = []\n",
    "    for i, point in enumerate(x):\n",
    "        J = jacobian_slope(point, *popt)\n",
    "        d2dx2 = multi_gauss_d2dx2(point, *popt)\n",
    "        JC = np.matmul(J, pcov)\n",
    "        sigma_y = np.sqrt( np.matmul(JC, np.transpose(J)).item(0) )\n",
    "        x_err.append(sigma_y / abs(d2dx2))\n",
    "    return x_err"
   ]
  },
  {
   "cell_type": "code",
   "execution_count": null,
   "metadata": {},
   "outputs": [],
   "source": [
    "def find_minima_maxima_gauss(popt, pcov, x_length):\n",
    "    \"\"\"\n",
    "    Finds all peaks of a gaussian function, where the derivative is equal to zero. \n",
    "\n",
    "    Parameters:\n",
    "    -----------\n",
    "    popt: list\n",
    "        A list of length 3N where N is the number of gaussians. This list contains the parameters amp, mean, centre respectively\n",
    "    x_length: int\n",
    "        The length of the list used to fit the gaussian\n",
    "\n",
    "    Returns:\n",
    "    --------\n",
    "    minima: list\n",
    "        A list of the minimum points of the fit\n",
    "    maxima: list\n",
    "        A list of the maximum points of the fit\n",
    "    \"\"\"\n",
    "    #Create the derivative list and spline it to find roots\n",
    "    x = np.linspace(0, x_length-1, x_length)\n",
    "    dy = multi_gauss_ddx(x, *popt)\n",
    "    spline_dy = UnivariateSpline(x, dy, s=0)\n",
    "    roots = spline_dy.roots()\n",
    "    \n",
    "    #Find which are max and min\n",
    "    maxima = []\n",
    "    minima = []\n",
    "    for root in roots:\n",
    "        idx = int(root + 0.5)\n",
    "        if dy[idx-1] > dy[idx]:\n",
    "            maxima.append(root)\n",
    "        else:\n",
    "            minima.append(root)            \n",
    "            \n",
    "    minima_e = find_x_err(minima, popt, pcov)\n",
    "    maxima_e = find_x_err(maxima, popt, pcov)\n",
    "    \n",
    "    return minima, maxima, minima_e, maxima_e"
   ]
  },
  {
   "cell_type": "code",
   "execution_count": null,
   "metadata": {},
   "outputs": [],
   "source": [
    "def gauss_peaks(fit, nofreqband, freqband, pcov, params, freq_low, freq_high, noise, frequencies_rfi, data = 'parkes', freq=0):\n",
    "    \"\"\"\n",
    "    Find the peaks of a gaussian fit, take the highest two and create a profile_comp.\n",
    "    Also converts the phase into degrees and the frequency into MHz.\n",
    "    \n",
    "    Parameters:\n",
    "    -----------\n",
    "    fit: list\n",
    "        the gaussian fit to find peaks of\n",
    "    nofreqband: int\n",
    "        total number of frequency bins \n",
    "    freqband: int\n",
    "        current frequency band which has been fit\n",
    "    pcov: list\n",
    "        the covariance matrix from the fit\n",
    "    params: list\n",
    "        the parameters for the fit\n",
    "    freq_low: int\n",
    "        the lower boundary of the frequency range\n",
    "    freq_high: int\n",
    "        the high boundary of the frequency range\n",
    "    Returns:\n",
    "    --------\n",
    "    profile_comp: pulse_component\n",
    "        carrys information about each component at a certain frequency\n",
    "    \"\"\"\n",
    "    \n",
    "    deg_mod=360/len(fit)\n",
    "    \n",
    "    ##Find the peaks of the fit, and the intensity at those peaks\n",
    "    #minima, peakpos, minima_e, err = find_minima_maxima_gauss(params, pcov, len(fit))\n",
    "    #peakint = multi_gauss(peakpos, *params)\n",
    "    \n",
    "    err=[]\n",
    "    err2=[]\n",
    "    peakpos=[]\n",
    "    peakint=[]\n",
    "    \n",
    "    uncert=np.sqrt(np.diag(pcov))\n",
    "    \n",
    "    for h in range(1,len(params),3):\n",
    "        peakpos=np.append(peakpos,params[h])\n",
    "        err=np.append(err,uncert[h])\n",
    "        peakint=np.append(peakint,params[h-1])\n",
    "        err2=np.append(err2,uncert[h-1])\n",
    "    \n",
    "    if len(peakpos)==4:\n",
    "        peakpos=np.delete(peakpos,2)\n",
    "        peakint=np.delete(peakint,2)\n",
    "        err=np.delete(err,2)  \n",
    "        err2=np.delete(err2,2)\n",
    "    if len(peakpos)==3:\n",
    "        peakpos=np.delete(peakpos,0)\n",
    "        peakint=np.delete(peakint,0)\n",
    "        err=np.delete(err,0)\n",
    "        err2=np.delete(err2,0)\n",
    "        \n",
    "    #Removes peaks until only two highest remain - which also have to be the lasttwo peaks\n",
    "    #If the highest do not correspond to the last, the frequency band is not used\n",
    "    while len(peakpos)>2:\n",
    "        mn=min(peakint)\n",
    "        peakint = list(peakint)\n",
    "        rm = peakint.index(mn)\n",
    "        if rm!=len(peakpos)-1:\n",
    "            del peakpos[rm]\n",
    "            del peakint[rm]\n",
    "            del err[rm]\n",
    "            del err2[rm]\n",
    "        else:\n",
    "            break \n",
    "\n",
    "    #Assign the peaks to the correct component label, also converts phase from bins to degrees\n",
    "    \n",
    "    component1=0\n",
    "    component2=0\n",
    "    errr=[]\n",
    "    errr2=[]\n",
    "    \n",
    "    if(max(peakint)/noise)>3:\n",
    "        if data=='parkes':\n",
    "            for n,p in enumerate(peakpos):\n",
    "                if p>670 and p<710:\n",
    "                    component1 = component(phase=(deg_mod)*peakpos[n], intensity=peakint[n])\n",
    "                    errr.append(err[n])\n",
    "                    errr2.append(err2[n])\n",
    "                elif p>720:\n",
    "                    component2 = component(phase=(deg_mod)*peakpos[n], intensity=peakint[n])\n",
    "                    errr.append(err[n])\n",
    "                    errr2.append(err2[n])\n",
    "        elif data!='parkes' and len(peakpos)==2:\n",
    "            component1 = component(phase=(deg_mod)*peakpos[0], intensity=peakint[0])\n",
    "            errr.append(err[0])\n",
    "            errr2.append(err2[0])\n",
    "            component2 = component(phase=(deg_mod)*peakpos[1], intensity=peakint[1])\n",
    "            errr.append(err[1])\n",
    "            errr2.append(err2[1])\n",
    "    else:\n",
    "        print(\"Too noisey\", freqband)\n",
    "                \n",
    "    if component1==0 or component2==0:\n",
    "        component1 = component(phase=0, intensity=0)\n",
    "        component2 = component(phase=0, intensity=0)\n",
    "        error = 0   \n",
    "        print(\"peaks\",len(peakpos),peakpos,\"band\", freqband)\n",
    "    else:\n",
    "        error = [np.array(errr)*(deg_mod),errr2]\n",
    "\n",
    "    #Converts the frequency from bins to MHz    \n",
    "    if data=='parkes':\n",
    "        #freq=(((freq_high-freq_low)/nofreqband)*(freqband))+freq_low+((freq_high-freq_low)/(nofreqband*2))\n",
    "        freq=frequencies_rfi[freqband]\n",
    "    else:\n",
    "        freq=freq[freqband]\n",
    "\n",
    "    profile_comp = pulse_component(frequency=freq, comp1=component1, comp2=component2, errors=error)\n",
    "\n",
    "    return profile_comp"
   ]
  },
  {
   "cell_type": "code",
   "execution_count": null,
   "metadata": {},
   "outputs": [],
   "source": [
    "def fit_peaks(fit, freqband, pcov, params, noise, frequency):\n",
    "    \n",
    "    deg_mod=360/len(fit)\n",
    "    \n",
    "    #Find the peaks of the fit, and the intensity at those peaks\n",
    "    peakpos = params[1]\n",
    "    paramint = params[0]\n",
    "    errcov = np.sqrt(np.diag(pcov))\n",
    "    err = errcov[1]\n",
    "    err2 = errcov[0]\n",
    "    if len(params)>3:\n",
    "        peakpos=np.append(peakpos,params[4])\n",
    "        paramint=np.append(paramint,params[3])\n",
    "        err = np.append(err,errcov[4])\n",
    "        err2 = np.append(err2,errcov[3])\n",
    "    if len(params)>6:\n",
    "        peakpos=np.append(peakpos,params[7])\n",
    "        paramint=np.append(paramint,params[6])\n",
    "        err=np.append(err,errcov[7])\n",
    "        err2 = np.append(err2,errcov[6])\n",
    "\n",
    "    print(peakpos)\n",
    "    peakint = multi_gauss(peakpos, *params)\n",
    "    print(peakint)\n",
    "\n",
    "    #Removes peaks until only two highest remain - which also have to be the two outer peaks\n",
    "    #If the highest do not correspond to the outer, the frequency band is not used\n",
    "    while len(peakpos)>2:\n",
    "        mn=min(paramint)\n",
    "        paramint = list(paramint)\n",
    "        rm = paramint.index(mn)   \n",
    "        print(rm)\n",
    "        peakpos=np.delete(peakpos,rm)\n",
    "        peakint=np.delete(peakint,rm)\n",
    "        err=np.delete(err,rm)\n",
    "        err2=np.delete(err2,rm)\n",
    "\n",
    "    #Assign the peaks to the correct component label, also converts phase from bins to degrees\n",
    "    \n",
    "    component1=0\n",
    "    component2=0\n",
    "    errr=[]\n",
    "    errr2=[]\n",
    "    \n",
    "    if(max(peakint)/noise)>3:\n",
    "        if len(peakpos)==2:\n",
    "            component1 = component(phase=(deg_mod)*peakpos[0], intensity=peakint[0])\n",
    "            errr.append(err[0])\n",
    "            errr2.append(err2[0])\n",
    "            component2 = component(phase=(deg_mod)*peakpos[1], intensity=peakint[1])\n",
    "            errr.append(err[1])\n",
    "            errr2.append(err2[1])\n",
    "    else:\n",
    "        print(\"Too noisey\", freqband)\n",
    "                \n",
    "    if component1==0 or component2==0:\n",
    "        component1 = component(phase=0, intensity=0)\n",
    "        component2 = component(phase=0, intensity=0)\n",
    "        error = 0   \n",
    "        print(\"peaks\",len(peakpos),peakpos,\"band\", freqband)\n",
    "    else:\n",
    "        error = [np.array(errr)*(deg_mod),np.array(errr2)]\n",
    "\n",
    "    #Converts the frequency from bins to MHz    \n",
    "    freq=frequency[freqband]\n",
    "    \n",
    "    profile_comp = pulse_component(frequency=freq, comp1=component1, comp2=component2, errors=error)\n",
    "\n",
    "    return profile_comp"
   ]
  },
  {
   "cell_type": "code",
   "execution_count": null,
   "metadata": {},
   "outputs": [],
   "source": [
    "\"\"\"\n",
    "    Graphing Sub-pulse operation:\n",
    "    Used to get the correct x, y and error arrays created for graphing the data and finding a fit.\n",
    "\"\"\"\n",
    "def graphing_comp(fit_comp,comp_num):\n",
    "        phase_comp=[]\n",
    "        frequency_comp=[]\n",
    "        comp_err=[]\n",
    "\n",
    "        for i in range(0,len(fit_comp)):\n",
    "            if fit_comp[i][comp_num][0]!=0:\n",
    "                phase_comp.append(fit_comp[i][comp_num][0])\n",
    "                frequency_comp.append(fit_comp[i][0])\n",
    "                comp_err.append(fit_comp[i][3][0][comp_num-1])\n",
    "\n",
    "        return phase_comp, frequency_comp, comp_err    "
   ]
  },
  {
   "cell_type": "code",
   "execution_count": null,
   "metadata": {},
   "outputs": [],
   "source": [
    "\"\"\"\n",
    "    Used to remove outliers more than the threshold number of standard deviations from the mean. \n",
    "    Also removes points with high errors (greater than 100 degrees).\n",
    "\"\"\"\n",
    "def detect_outlier(frequency_comp, phase_comp, comp_err , threshold):\n",
    "    phase=[]\n",
    "    frequency=[]\n",
    "    err=[]\n",
    "    \n",
    "    #Find mean and standard deviation of data\n",
    "    mean_1 = np.mean(phase_comp)\n",
    "    std_1 =np.std(phase_comp)\n",
    "    \n",
    "    for i in range(len(phase_comp)):\n",
    "        #Find z score\n",
    "        z_score= (phase_comp[i] - mean_1)/std_1 \n",
    "        #Only include points which have a z score under the threshold value, and with errors less than 100 degrees\n",
    "        if np.abs(z_score) < threshold and comp_err[i]<5:\n",
    "            phase.append(phase_comp[i])\n",
    "            frequency.append(frequency_comp[i])\n",
    "            err.append(comp_err[i])\n",
    "    return frequency, phase, err"
   ]
  },
  {
   "cell_type": "code",
   "execution_count": null,
   "metadata": {},
   "outputs": [],
   "source": [
    "def thorsett(x, A, alpha, smin):\n",
    "    return (A * (x**(alpha)) + smin)\n",
    "def powerlaw(x, A, alpha):\n",
    "    return (A * (x**(alpha)))\n",
    "def linear(x, m, c):\n",
    "    return ((m * np.array(x)) + c)"
   ]
  },
  {
   "cell_type": "code",
   "execution_count": null,
   "metadata": {},
   "outputs": [],
   "source": [
    "\"\"\"\n",
    "    Used to gain separation of components values and the uncertainties. \n",
    "\"\"\"\n",
    "def separation_singleprofile(components_array):\n",
    "    sep_array=[]\n",
    "    uncert=[]\n",
    "\n",
    "    #Go through all the different frequencies\n",
    "    for i in range(0,len(components_array)):\n",
    "        if components_array[i][1][0] != 0 and components_array[i][2][0] != 0:\n",
    "            freq=components_array[i][0]\n",
    "            #Subtract second component from first\n",
    "            sep=(components_array[i][2][0]) - (components_array[i][1][0])\n",
    "            single_sep=component_separation(frequency=freq, separation=sep)\n",
    "            sep_array.append(single_sep)\n",
    "            #Calculate uncertainty\n",
    "            uncert.append(np.sqrt((components_array[i][3][0][0])**2 + (components_array[i][3][0][1])**2))\n",
    "    return sep_array, uncert"
   ]
  },
  {
   "cell_type": "code",
   "execution_count": null,
   "metadata": {},
   "outputs": [],
   "source": [
    "def plot_peaks(x,y,profile_comp):\n",
    "    plt.plot(x,y, lw=1)\n",
    "    plt.plot(x, fit, color='red', lw=3, label='gaussian fit')\n",
    "\n",
    "    x=[profile_comp[i][0] for i in range(1,3)]\n",
    "    y=[profile_comp[i][1] for i in range(1,3)]\n",
    "\n",
    "    plt.plot(x, y ,'X', markerfacecolor='black', markeredgecolor='black', label='peaks')\n",
    "\n",
    "    plt.xlabel('Phase (deg)')\n",
    "    plt.ylabel('Intensity')\n",
    "    plt.legend()\n",
    "    return"
   ]
  },
  {
   "cell_type": "code",
   "execution_count": null,
   "metadata": {},
   "outputs": [],
   "source": [
    "def component_positions(averageprofiles,expected1,bounds1,minf,maxf,frequencies_rfi):\n",
    "    fit_components = []\n",
    "    no_freq_bands=max(averageprofiles['frequency'])+1\n",
    "\n",
    "    #Loop thought all of the frequency bands\n",
    "    for freqband in range(0,no_freq_bands):\n",
    "        f = averageprofiles['frequency'] == freqband\n",
    "        x=averageprofiles['phase'][f]\n",
    "        y=averageprofiles['intensity'][f]\n",
    "\n",
    "        noise = sigmaClip(y)\n",
    "        error = np.nanstd(noise[1])\n",
    "\n",
    "        #Fit the gaussians and find peaks and errors, create array with all frequencies\n",
    "        #Resulting frequencies are in MHz and phase in degrees\n",
    "        if len(x)!=0 and len(y)!=0:\n",
    "            try:\n",
    "                params,cov,sigma = fitting_parameters(x,y,expected1,bounds1)\n",
    "                fit = multi_gauss(x,*params)\n",
    "                profile_comp = gauss_peaks(fit, no_freq_bands, freqband, cov, params, minf,maxf,error,frequencies_rfi)\n",
    "            except:\n",
    "                component1 = component(phase=0, intensity=0)\n",
    "                component2 = component(phase=0, intensity=0)\n",
    "                error = 0             \n",
    "                #freq=(((maxf-minf)/no_freq_bands)*(freqband))+minf+((maxf-minf)/(no_freq_bands*2))\n",
    "                freq=frequencies_rfi[freqband]\n",
    "                profile_comp = pulse_component(frequency=freq, comp1=component1, comp2=component2, errors=error)\n",
    "            fit_components.append(profile_comp)\n",
    "    return fit_components"
   ]
  },
  {
   "cell_type": "code",
   "execution_count": null,
   "metadata": {},
   "outputs": [],
   "source": [
    "def plot_comp_movement(fit_components,title,colour,comnum,outlierrem):\n",
    "    #Separate the array into x and y axis of phase and frequency which can be graphed\n",
    "    phase_comp1, frequency_comp1, comp1_err=graphing_comp(fit_components,comnum)\n",
    "    #Plot points\n",
    "    #plt.errorbar(phase_comp1,frequency_comp1, xerr=comp1_err, fmt='.', lw=0.5, color='red')\n",
    "    plt.title(title)\n",
    "    plt.xlabel('Phase (deg)')\n",
    "    plt.ylabel('Frequency')\n",
    "    #Remove outliers which are greater than 'threshold' number of std away from the mean\n",
    "    frequency_comp1, phase_comp1, comp1_err = detect_outlier(frequency_comp1, phase_comp1, comp1_err,outlierrem)\n",
    "    #Plot outlier removed points\"\n",
    "    plt.errorbar(phase_comp1,frequency_comp1, xerr=comp1_err, fmt='.', lw=0.5, color=colour,label='data')\n",
    "    \n",
    "    #Fit the thorsett model to the component position\n",
    "    y_range=list(range(minf,maxf))\n",
    "    #Fit a linear \n",
    "    comp1_paramslin,comp1_covlin=curve_fit(linear,frequency_comp1,phase_comp1, maxfev=10000, sigma=comp1_err)\n",
    "    comp1_fit_errorlin=np.sqrt(np.diag(comp1_covlin))\n",
    "    comp1_fitlin = linear(y_range, *comp1_paramslin)\n",
    "    \n",
    "    print('Params',comp1_paramslin,comp1_fit_errorlin)\n",
    "    #Plot linear\n",
    "    #plt.plot(comp1_fitlin, y_range,color='black',lw=2, label='linear fit', zorder=1)\n",
    "    #plt.legend()\n",
    "\n",
    "    return comp1_fitlin, y_range"
   ]
  },
  {
   "cell_type": "code",
   "execution_count": null,
   "metadata": {},
   "outputs": [],
   "source": [
    "def plot_sep_movement(fit_components,title,colour,outlierrem):\n",
    "    y_range=list(range(minf,maxf))\n",
    "    #Gain component separation values\n",
    "    component_sep, sep_error = separation_singleprofile(fit_components)\n",
    "    comp_sep=[]\n",
    "    frequency_forsep=[]\n",
    "    #Put them into arrays for graphing\n",
    "    for i in range(0,len(component_sep)):\n",
    "        comp_sep.append(component_sep[i][1])\n",
    "        frequency_forsep.append(component_sep[i][0])\n",
    "    \n",
    "    #Plot points\n",
    "    #plt.errorbar(frequency_forsep, comp_sep, yerr=sep_error, color='red', fmt='.', lw=0.5)\n",
    "    plt.xlabel('Frequency (MHz)')\n",
    "    plt.ylabel('\\u0394\\u03B8 (deg)')\n",
    "    #Remove outliers\n",
    "    frequency_forsep, comp_sep, sep_error = detect_outlier(frequency_forsep, comp_sep, sep_error, outlierrem)\n",
    "    #Plot points with outliers removed\n",
    "    plt.errorbar(frequency_forsep, comp_sep, yerr=sep_error, color=colour, fmt='.', lw=0.5, label='data')\n",
    "    print(len(frequency_forsep))\n",
    "    plt.title(title)\n",
    "    \n",
    "    #Create a thorsett fit\n",
    "    expect=(100,0.5,5)\n",
    "    sep_params,sep_cov=curve_fit(thorsett,frequency_forsep,comp_sep, expect, maxfev=10000, sigma=sep_error, bounds=([0,-1,-np.inf],[np.inf,np.inf,np.inf]))\n",
    "    sep_fit_error=np.sqrt(np.diag(sep_cov))\n",
    "    separation_fit=thorsett(y_range,*sep_params)\n",
    "    print(len(frequency_forsep))\n",
    "    \n",
    "    print(sep_params)\n",
    "    \n",
    "    \n",
    "    plt.plot(y_range,separation_fit, color='lightgrey',lw=1,label='empirical fit',zorder=0.1)\n",
    "    return y_range, separation_fit, sep_params, frequency_forsep,comp_sep,sep_error"
   ]
  },
  {
   "cell_type": "code",
   "execution_count": null,
   "metadata": {},
   "outputs": [],
   "source": [
    "def find_widths(profile, popt, pcov):\n",
    "    #perform spline operations on the fit\n",
    "    x = np.linspace(0, len(profile)-1, len(profile))\n",
    "    fit = multi_gauss(x, *popt)\n",
    "    amp_fit = max(fit) - min(fit)\n",
    "    spline10 = UnivariateSpline(x, fit - np.full(len(x), 0.1*amp_fit), s=0)\n",
    "    spline50 = UnivariateSpline(x, fit - np.full(len(x), 0.5*amp_fit), s=0)\n",
    "\n",
    "    #find W10, W50 and Wscat\n",
    "    W10_roots = spline10.roots()\n",
    "    W50_roots = spline50.roots()\n",
    "    W10 = W10_roots[-1] - W10_roots[0]\n",
    "    W50 = W50_roots[-1] - W50_roots[0]\n",
    "\n",
    "    #W10 root errors\n",
    "    err_10 = find_x_err(W10_roots, popt, pcov)\n",
    "    W10_e = np.sqrt(err_10[0]**2 + err_10[-1]**2)\n",
    "\n",
    "    #W50 root errors\n",
    "    err_50 = find_x_err(W50_roots, popt, pcov)\n",
    "    W50_e = np.sqrt(err_50[0]**2 + err_50[-1]**2)\n",
    "    \n",
    "    return W10, W50, W10_e, W50_e"
   ]
  },
  {
   "cell_type": "code",
   "execution_count": null,
   "metadata": {},
   "outputs": [],
   "source": [
    "def plot_intensities(fit_components, title, colour):  \n",
    "    #Find intensity of component1\n",
    "    intensity_comp1=[]\n",
    "    frequency_comp1=[]\n",
    "    intensity_comp2=[]\n",
    "    frequency_comp2=[]\n",
    "    err1=[]\n",
    "    err2=[]\n",
    "\n",
    "    for i in range(0,len(fit_components)):\n",
    "        if fit_components[i][1][0] != 0:\n",
    "            intensity_comp1.append(fit_components[i][1][1])\n",
    "            frequency_comp1.append(fit_components[i][0])\n",
    "            err1.append(fit_components[i][3][1][0])\n",
    "            intensity_comp2.append(fit_components[i][2][1])\n",
    "            frequency_comp2.append(fit_components[i][0])\n",
    "            err2.append(fit_components[i][3][1][1])\n",
    "\n",
    "    int_ratio=np.array(intensity_comp1)/np.array(intensity_comp2)\n",
    "    int_err=[]\n",
    "    for h in list(range(0,len(int_ratio))):\n",
    "        i_err=int_ratio[h]*np.sqrt((err1[h]/intensity_comp1[h])**2+(err2[h]/intensity_comp2[h])**2)\n",
    "        int_err.append(i_err)\n",
    "\n",
    "    plt.errorbar(frequency_comp2,int_ratio, yerr=int_err, fmt='.', lw=0.5, color=colour,label='data')\n",
    "    plt.title('Intensity Ratio of Component 1/Component 2')\n",
    "    plt.xlabel('Frequency')\n",
    "    plt.ylabel('Intensity Ratio')\n",
    "    plt.title(title)\n",
    "    \n",
    "    #Fit the thorsett model to the component position\n",
    "    y_range=list(range(minf,maxf))\n",
    "    #Fit a linear \n",
    "    ratio_paramslin,ratio_covlin=curve_fit(linear,frequency_comp2,int_ratio, maxfev=10000) #sigma=comp1_err)\n",
    "    ratio_fit_errorlin=np.sqrt(np.diag(ratio_covlin))\n",
    "    ratio_fitlin = linear(y_range, *ratio_paramslin)\n",
    "    \n",
    "    #Plot linear\n",
    "    plt.plot(y_range,ratio_fitlin,color='lightgrey',lw=1, label='linear fit', zorder=1)\n",
    "    plt.legend()\n",
    "    \n",
    "    return y_range, ratio_fitlin, ratio_paramslin"
   ]
  },
  {
   "cell_type": "code",
   "execution_count": null,
   "metadata": {},
   "outputs": [],
   "source": [
    "def frequency_calc(minf,maxf,frequency_list,rfi_channels):\n",
    "    frange=maxf-minf\n",
    "    scrunch=max(frequency_list)+1\n",
    "    wband=int((frange/scrunch)//1)\n",
    "    \n",
    "    true_freq=[]\n",
    "\n",
    "    for chan in frequency_list:\n",
    "\n",
    "        w=0\n",
    "        num_chan=0\n",
    "        sums=np.array([])\n",
    "\n",
    "        while w<wband:\n",
    "\n",
    "            try: b=rfi_channels.index(int((wband*chan)+w))\n",
    "            except ValueError:\n",
    "                sums=np.append(sums,int((wband*chan)+w))\n",
    "\n",
    "            w=w+1\n",
    "\n",
    "        centre_bin=int(np.average(sums)//1)\n",
    "        print(centre_bin,'       ',128-len(sums),'       ',int(wband*chan+(wband/2))-1)\n",
    "\n",
    "        centre_frequ=(centre_bin)+minf\n",
    "\n",
    "        true_freq.append(centre_frequ)\n",
    "    return true_freq"
   ]
  },
  {
   "cell_type": "code",
   "execution_count": null,
   "metadata": {},
   "outputs": [],
   "source": []
  },
  {
   "cell_type": "code",
   "execution_count": null,
   "metadata": {},
   "outputs": [],
   "source": [
    "def plot_comp_both_movement(fit_components,title,colour,outlierrem):\n",
    "    #Separate the array into x and y axis of phase and frequency which can be graphed\n",
    "    phase_comp1, frequency_comp1, comp1_err=graphing_comp(fit_components,1)\n",
    "\n",
    "    #Remove outliers which are greater than 'threshold' number of std away from the mean\n",
    "    frequency_comp1, phase_comp1, comp1_err = detect_outlier(frequency_comp1, phase_comp1, comp1_err,outlierrem)\n",
    "  \n",
    "    #Fit the thorsett model to the component position\n",
    "    y_range=list(range(minf,maxf))\n",
    "    #Fit a linear \n",
    "    comp1_paramslin,comp1_covlin=curve_fit(linear,frequency_comp1,phase_comp1, maxfev=10000, sigma=comp1_err)\n",
    "    comp1_fit_errorlin=np.sqrt(np.diag(comp1_covlin))\n",
    "    comp1_fitlin = linear(y_range, *comp1_paramslin)\n",
    "    \n",
    "    #Separate the array into x and y axis of phase and frequency which can be graphed\n",
    "    phase_comp2, frequency_comp2, comp2_err=graphing_comp(fit_components,2)\n",
    "\n",
    "    #Remove outliers which are greater than 'threshold' number of std away from the mean\n",
    "    frequency_comp2, phase_comp2, comp2_err = detect_outlier(frequency_comp2, phase_comp2, comp2_err,outlierrem)\n",
    "  \n",
    "    #Fit a linear \n",
    "    comp2_paramslin,comp2_covlin=curve_fit(linear,frequency_comp2,phase_comp2, maxfev=10000, sigma=comp2_err)\n",
    "    comp2_fit_errorlin=np.sqrt(np.diag(comp2_covlin))\n",
    "    comp2_fitlin = linear(y_range, *comp2_paramslin)\n",
    "    \n",
    "    \n",
    "    #Plot linear\n",
    "    #plt.plot(comp1_fitlin, y_range,color='black',lw=2, label='linear fit', zorder=1)\n",
    "    #plt.legend()\n",
    "\n",
    "    plt.figure(figsize=(8,4))\n",
    "    plt.errorbar(phase_comp2,frequency_comp2, xerr=comp2_err, color=colour, fmt='.', lw=0.5, zorder=1)\n",
    "    plt.errorbar(phase_comp1,frequency_comp1, xerr=comp1_err, color=colour, fmt='.', lw=0.5,label='Data', zorder=1)\n",
    "    plt.plot(comp1_fitlin,y_range, color='lightgrey', label='Linear Fit', zorder=0)\n",
    "    plt.plot(comp2_fitlin,y_range, color='lightgrey', zorder=0)\n",
    "    plt.title(title)\n",
    "    plt.xlabel('Phase (deg)')\n",
    "    plt.ylabel('Frequency (MHz)')\n",
    "    #plt.legend()\n",
    "    \n",
    "    return "
   ]
  },
  {
   "cell_type": "code",
   "execution_count": null,
   "metadata": {},
   "outputs": [],
   "source": [
    "def plot_comp_resid(fit_components,title,colour,outlierrem):\n",
    "    #Separate the array into x and y axis of phase and frequency which can be graphed\n",
    "    phase_comp1, frequency_comp1, comp1_err=graphing_comp(fit_components,1)\n",
    "\n",
    "    #Remove outliers which are greater than 'threshold' number of std away from the mean\n",
    "    frequency_comp1, phase_comp1, comp1_err = detect_outlier(frequency_comp1, phase_comp1, comp1_err,outlierrem)\n",
    "  \n",
    "    #Fit the thorsett model to the component position\n",
    "    y_range=list(range(minf,maxf))\n",
    "    #Fit a linear \n",
    "    comp1_paramslin,comp1_covlin=curve_fit(linear,frequency_comp1,phase_comp1, maxfev=10000, sigma=comp1_err)\n",
    "    comp1_fit_errorlin=np.sqrt(np.diag(comp1_covlin))\n",
    "    comp1_fitlin = linear(y_range, *comp1_paramslin)\n",
    "    \n",
    "    #Separate the array into x and y axis of phase and frequency which can be graphed\n",
    "    phase_comp2, frequency_comp2, comp2_err=graphing_comp(fit_components,2)\n",
    "\n",
    "    #Remove outliers which are greater than 'threshold' number of std away from the mean\n",
    "    frequency_comp2, phase_comp2, comp2_err = detect_outlier(frequency_comp2, phase_comp2, comp2_err,outlierrem)\n",
    "  \n",
    "    #Fit a linear \n",
    "    comp2_paramslin,comp2_covlin=curve_fit(linear,frequency_comp2,phase_comp2, maxfev=10000, sigma=comp2_err)\n",
    "    comp2_fit_errorlin=np.sqrt(np.diag(comp2_covlin))\n",
    "    comp2_fitlin = linear(y_range, *comp2_paramslin)\n",
    "    \n",
    "    comp1_fitlin3 = linear(frequency_comp1, *comp1_paramslin)\n",
    "    comp2_fitlin3 = linear(frequency_comp2, *comp2_paramslin)\n",
    "    \n",
    "    comp1_resid_lin = phase_comp1 - comp1_fitlin3\n",
    "    comp2_resid_lin = phase_comp2 - comp2_fitlin3\n",
    "    \n",
    "    \n",
    "    fig = plt.figure(figsize=(12, 5))\n",
    "    grid = plt.GridSpec(1, 6, hspace=0, wspace=0)\n",
    "    resid_1 = fig.add_subplot(grid[0, 0])\n",
    "    plt.ylabel('Frequency (MHz)')\n",
    "    main_ax = fig.add_subplot(grid[0, 1:5], sharey=resid_1)\n",
    "    plt.xlabel('Phase (deg)')\n",
    "    resid_2 = fig.add_subplot(grid[0, 5], sharey=resid_1)\n",
    "\n",
    "    resid_1.plot(comp1_resid_lin, frequency_comp1, '.', color='darkgoldenrod')\n",
    "    main_ax.errorbar(phase_comp1,frequency_comp1, xerr=comp1_err, color='darkgoldenrod', fmt='.', lw=0.5, label='Component 1', zorder=1)\n",
    "    main_ax.errorbar(phase_comp2,frequency_comp2, xerr=comp2_err, color='blue', fmt='.', lw=0.5, label='Component 2', zorder=1)\n",
    "    main_ax.plot(comp1_fitlin,y_range, color='darkgrey',lw=2, zorder=0)\n",
    "    main_ax.plot(comp2_fitlin,y_range, color='darkgrey',lw=2, zorder=0)\n",
    "    resid_2.plot(comp2_resid_lin, frequency_comp2, '.', color='b')\n",
    "\n",
    "    resid_1.set_title('C1 Residuals')\n",
    "    resid_2.set_title('C2 Residuals')\n",
    "    main_ax.set_title('Average Profile - Component Phase Positions')\n",
    "\n",
    "    main_ax.legend(loc='upper center')\n",
    "    resid_1.label_outer()\n",
    "    main_ax.label_outer()\n",
    "    resid_2.label_outer()\n",
    "    \n",
    "    return "
   ]
  },
  {
   "cell_type": "code",
   "execution_count": null,
   "metadata": {},
   "outputs": [],
   "source": []
  },
  {
   "cell_type": "code",
   "execution_count": null,
   "metadata": {},
   "outputs": [],
   "source": []
  },
  {
   "cell_type": "code",
   "execution_count": null,
   "metadata": {},
   "outputs": [],
   "source": []
  },
  {
   "cell_type": "code",
   "execution_count": null,
   "metadata": {},
   "outputs": [],
   "source": []
  },
  {
   "cell_type": "code",
   "execution_count": null,
   "metadata": {},
   "outputs": [],
   "source": []
  },
  {
   "cell_type": "code",
   "execution_count": null,
   "metadata": {},
   "outputs": [],
   "source": []
  }
 ],
 "metadata": {
  "kernelspec": {
   "display_name": "Python 3",
   "language": "python",
   "name": "python3"
  },
  "language_info": {
   "codemirror_mode": {
    "name": "ipython",
    "version": 3
   },
   "file_extension": ".py",
   "mimetype": "text/x-python",
   "name": "python",
   "nbconvert_exporter": "python",
   "pygments_lexer": "ipython3",
   "version": "3.7.4"
  }
 },
 "nbformat": 4,
 "nbformat_minor": 4
}
