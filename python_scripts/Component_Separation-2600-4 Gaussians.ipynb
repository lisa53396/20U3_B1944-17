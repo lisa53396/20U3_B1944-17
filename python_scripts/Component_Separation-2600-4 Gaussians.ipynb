{
 "cells": [
  {
   "cell_type": "markdown",
   "metadata": {
    "colab_type": "text",
    "id": "4z_feS2dDwlJ"
   },
   "source": [
    "## Importing Packages Needed"
   ]
  },
  {
   "cell_type": "code",
   "execution_count": 463,
   "metadata": {
    "colab": {},
    "colab_type": "code",
    "id": "zJLqZxwce0pN"
   },
   "outputs": [],
   "source": [
    "import numpy as np\n",
    "import matplotlib.pyplot as py\n",
    "from scipy.optimize import curve_fit\n",
    "import collections as col\n",
    "import statistics\n",
    "from scipy.interpolate import UnivariateSpline"
   ]
  },
  {
   "cell_type": "markdown",
   "metadata": {
    "colab_type": "text",
    "id": "FamzMgIcD2xs"
   },
   "source": [
    "## Definition of Named Tuples"
   ]
  },
  {
   "cell_type": "code",
   "execution_count": 464,
   "metadata": {
    "colab": {},
    "colab_type": "code",
    "id": "Uzxt0sq0qeHc"
   },
   "outputs": [],
   "source": [
    "component = col.namedtuple('component','phase intensity')\n",
    "ind_component = col.namedtuple('component','phase intensity width')\n",
    "pulse_component = col.namedtuple('pulse_component','frequency comp1 comp2 errors')\n",
    "component_separation = col.namedtuple('component_separation','frequency separation')"
   ]
  },
  {
   "cell_type": "markdown",
   "metadata": {
    "colab_type": "text",
    "id": "a8CeXWdQIy8b"
   },
   "source": [
    "# Definition of Functions"
   ]
  },
  {
   "cell_type": "markdown",
   "metadata": {
    "colab_type": "text",
    "id": "nOegi6c8I3gu"
   },
   "source": [
    "Gaussian Fitting Functions:"
   ]
  },
  {
   "cell_type": "code",
   "execution_count": 465,
   "metadata": {
    "colab": {},
    "colab_type": "code",
    "id": "Jf6ae6VTR-iR"
   },
   "outputs": [],
   "source": [
    "def gauss(x,amp,cen,sd):\n",
    "    return amp*np.exp(-(x-cen)**2/(2*sd**2))\\\n",
    "\n",
    "def multi_gauss(x, *params):\n",
    "    y = np.zeros_like(x)\n",
    "    for i in range(0, len(params), 3):\n",
    "        a = params[i]\n",
    "        b = params[i+1]\n",
    "        c = params[i+2]\n",
    "        y = y +  a * np.exp( -(((x-b)**2) / (2*c**2)) )\n",
    "    return y"
   ]
  },
  {
   "cell_type": "code",
   "execution_count": 466,
   "metadata": {},
   "outputs": [],
   "source": [
    "\"\"\"\n",
    "    Used to get the parameters, covariance matrix and errors for any number of gaussian fits, through and expected value. \n",
    "\"\"\"\n",
    "def fitting_parameters(x,y,expected,bound):\n",
    "    \"\"\"\n",
    "    bound=([],[])\n",
    "    for i in range(len(expected)):\n",
    "        bound[0].append(0)\n",
    "        bound[1].append(np.inf)\n",
    "    \"\"\"\n",
    "        \n",
    "    params,cov=curve_fit(multi_gauss,x,y,expected, bounds=bound)\n",
    "    sigma=np.sqrt(np.diag(cov))\n",
    "    return params, cov, sigma"
   ]
  },
  {
   "cell_type": "markdown",
   "metadata": {},
   "source": [
    "Chi Squared functions"
   ]
  },
  {
   "cell_type": "code",
   "execution_count": 467,
   "metadata": {},
   "outputs": [],
   "source": [
    "\"\"\"\n",
    "    Compute the data's chi squared values.\n",
    "\n",
    "    Parameters:\n",
    "    -----------\n",
    "    observed_values: list\n",
    "        A list of floats - the raw data\n",
    "    expected_values: list\n",
    "        A list of floats - the expected data or the fit\n",
    "    err: float/list\n",
    "        The error across all data - standard deviation of the noise\n",
    "\n",
    "    Returns:\n",
    "    --------\n",
    "    test_statistic: float\n",
    "        The chi squared value of the data\n",
    "    \n",
    "    Created by Keegan Smith\n",
    "\"\"\"\n",
    "def chsq(observed_values, expected_values, err):\n",
    "    test_statistic=0\n",
    "    for observed, expected in zip(observed_values, expected_values):\n",
    "        test_statistic+=((float(observed)-float(expected))/float(err))**2\n",
    "    return test_statistic\n",
    "\n",
    "def chsq_err(observed_values, expected_values, err):\n",
    "    #Same as above but used when there is a different error for each point\n",
    "    test_statistic=0\n",
    "    for observed, expected, error in zip(observed_values, expected_values, err):\n",
    "        test_statistic+=((float(observed)-float(expected))/float(error))**2\n",
    "    return test_statistic"
   ]
  },
  {
   "cell_type": "markdown",
   "metadata": {},
   "source": [
    "Error Finding Functions"
   ]
  },
  {
   "cell_type": "code",
   "execution_count": 468,
   "metadata": {},
   "outputs": [],
   "source": [
    "def sigmaClip(data, alpha=3, tol=0.1, ntrials=10):\n",
    "    \"\"\"\n",
    "    Compute the data's median, m, and its standard deviation, sigma.\n",
    "    Keep only the data that falls in the range (m-alpha*sigma,m+alpha*sigma) for some value of alpha, and discard everything else.\n",
    "    This operation is repeated ntrials number of times or until the tolerance level is hit.\n",
    "\n",
    "    Parameters:\n",
    "    -----------\n",
    "    data: list\n",
    "        A list of floats - the data to clip\n",
    "    alpha: float\n",
    "        OPTIONAL - Determines the number of sigmas to use to determine the upper nad lower limits. Default=3\n",
    "    tol: float\n",
    "        OPTIONAL - The fractional change in the standard deviation that determines when the tolerance is hit. Default=0.1\n",
    "    ntrils: int\n",
    "        OPTIONAL - The maximum number of times to apply the operation. Default=10\n",
    "\n",
    "    Returns:\n",
    "    --------\n",
    "    oldstd: float\n",
    "        The std of the clipped data\n",
    "    x: list\n",
    "        The data list that contains only noise, with nans in place of 'real' data\n",
    "    \n",
    "    Created by Nick Swainston\n",
    "    \"\"\"\n",
    "    x = np.copy(data)\n",
    "    oldstd = np.nanstd(x)\n",
    "    #When the x[x<lolim] and x[x>hilim] commands encounter a nan it produces a\n",
    "    #warning. This is expected because it is ignoring flagged data from a\n",
    "    #previous trial so the warning is supressed.\n",
    "    old_settings = np.seterr(all='ignore')\n",
    "    for trial in range(ntrials):\n",
    "        median = np.nanmedian(x)\n",
    "\n",
    "        lolim = median - alpha * oldstd\n",
    "        hilim = median + alpha * oldstd\n",
    "        x[x<lolim] = np.nan\n",
    "        x[x>hilim] = np.nan\n",
    "\n",
    "        newstd = np.nanstd(x)\n",
    "        tollvl = (oldstd - newstd) / newstd\n",
    "\n",
    "        if tollvl <= tol:\n",
    "            np.seterr(**old_settings)\n",
    "            return oldstd, x\n",
    "\n",
    "        if trial + 1 == ntrials:\n",
    "            np.seterr(**old_settings)\n",
    "            return oldstd, x\n",
    "\n",
    "        oldstd = newstd"
   ]
  },
  {
   "cell_type": "code",
   "execution_count": 469,
   "metadata": {},
   "outputs": [],
   "source": [
    "def multi_gauss_ddx(x, *params):\n",
    "    #derivative of gaussian\n",
    "    y = np.zeros_like(x)\n",
    "    for i in range(0, len(params), 3):\n",
    "        a = params[i]\n",
    "        b = params[i+1]\n",
    "        c = params[i+2]\n",
    "        y = y - a/c**2 * (x - b) * np.exp( -(((x-b)**2) / (2*c**2)) )\n",
    "    return y\n",
    "\n",
    "def multi_gauss_d2dx2(x, *params):\n",
    "    #double derivative of gaussian\n",
    "    y = np.zeros_like(x)\n",
    "    for i in range(0, len(params), 3):\n",
    "        a = params[i]\n",
    "        b = params[i+1]\n",
    "        c = params[i+2]\n",
    "        y = y + (multi_gauss(x, a, b, c) / c**2) * (((x - b)**2)/(c**2) - 1)\n",
    "    return y\n",
    "\n",
    "def jacobian_slope(x, *params):\n",
    "    \"\"\"\n",
    "    Evaluates the Jacobian matrix of a gaussian slope at a single point, x\n",
    "\n",
    "    Parameters:\n",
    "    -----------\n",
    "    x: float\n",
    "        The point to evaluate\n",
    "    *params: list\n",
    "        A list containing three parameters per gaussian component in the order: Amp, Mean, Width\n",
    "\n",
    "    Returns:\n",
    "    --------\n",
    "    J: numpy.matrix\n",
    "        The Jacobian matrix\n",
    "    \"\"\"\n",
    "    def dda(a, b, c, x):\n",
    "        return -multi_gauss(x, a, b, c) * (x - b)/(c**2)/a\n",
    "    def ddb(a, b, c, x):\n",
    "        return multi_gauss(x, a, b, c) * (1 - (x - b)**2/(c**2))/c**2\n",
    "    def ddc(a, b, c, x):\n",
    "        return multi_gauss(x, a, b, c) * (x - b)/(c**3) * (2 - (x-b)**2/(c**2))\n",
    "    J = []\n",
    "    for i in range(0, len(params), 3):\n",
    "        a = params[i]\n",
    "        b = params[i+1]\n",
    "        c = params[i+2]\n",
    "        mypars = [a, b, c, x]\n",
    "        J.append(dda(*mypars))\n",
    "        J.append(ddb(*mypars))\n",
    "        J.append(ddc(*mypars))\n",
    "    J = np.asmatrix(J)\n",
    "    return J"
   ]
  },
  {
   "cell_type": "code",
   "execution_count": 470,
   "metadata": {},
   "outputs": [],
   "source": [
    "def find_x_err(x, popt, pcov):\n",
    "    \"\"\"\n",
    "    Finds the error in the horizontal position of a gaussian fit at the point x.\n",
    "    Uses the equation sigma_x = sigma_y/d2ydx2 where:\n",
    "    sigma_x = error in x\n",
    "    d2ydx2 = second derivative of the gaussian function at point x\n",
    "    sigma_y = sqrt.J*C*J_T\n",
    "    J = Jacobian evalutated at point x\n",
    "    C = covariance matrix of gaussian fit\n",
    "    J_T = transposed jacobian\n",
    "\n",
    "    Parameters:\n",
    "    -----------\n",
    "    x: list\n",
    "        A list of points to evaluate the error at\n",
    "    popt: list\n",
    "        The parameters used to describe the gaussian fit\n",
    "    pcov: numpy.matrix\n",
    "        The covariance matrix corresponding to popt\n",
    "\n",
    "    Returns:\n",
    "    --------\n",
    "    x_err: list\n",
    "        The error evaluated at each point, x\n",
    "    \"\"\"\n",
    "    x_err = []\n",
    "    for i, point in enumerate(x):\n",
    "        J = jacobian_slope(point, *popt)\n",
    "        d2dx2 = multi_gauss_d2dx2(point, *popt)\n",
    "        JC = np.matmul(J, pcov)\n",
    "        sigma_y = np.sqrt( np.matmul(JC, np.transpose(J)).item(0) )\n",
    "        x_err.append(sigma_y / abs(d2dx2))\n",
    "    return x_err"
   ]
  },
  {
   "cell_type": "markdown",
   "metadata": {
    "colab_type": "text",
    "id": "Hf__MEBnJEd_"
   },
   "source": [
    "Finding Peak of Fittings Function"
   ]
  },
  {
   "cell_type": "code",
   "execution_count": 471,
   "metadata": {},
   "outputs": [],
   "source": [
    "def find_minima_maxima_gauss(popt, pcov, x_length):\n",
    "    \"\"\"\n",
    "    Finds all peaks of a gaussian function, where the derivative is equal to zero. \n",
    "\n",
    "    Parameters:\n",
    "    -----------\n",
    "    popt: list\n",
    "        A list of length 3N where N is the number of gaussians. This list contains the parameters amp, mean, centre respectively\n",
    "    x_length: int\n",
    "        The length of the list used to fit the gaussian\n",
    "\n",
    "    Returns:\n",
    "    --------\n",
    "    minima: list\n",
    "        A list of the minimum points of the fit\n",
    "    maxima: list\n",
    "        A list of the maximum points of the fit\n",
    "    \"\"\"\n",
    "    #Create the derivative list and spline it to find roots\n",
    "    x = np.linspace(0, x_length-1, x_length)\n",
    "    dy = multi_gauss_ddx(x, *popt)\n",
    "    spline_dy = UnivariateSpline(x, dy, s=0)\n",
    "    roots = spline_dy.roots()\n",
    "    \n",
    "    #Find which are max and min\n",
    "    maxima = []\n",
    "    minima = []\n",
    "    for root in roots:\n",
    "        idx = int(root + 0.5)\n",
    "        if dy[idx-1] > dy[idx]:\n",
    "            maxima.append(root)\n",
    "        else:\n",
    "            minima.append(root)            \n",
    "            \n",
    "    minima_e = find_x_err(minima, popt, pcov)\n",
    "    maxima_e = find_x_err(maxima, popt, pcov)\n",
    "    \n",
    "    return minima, maxima, minima_e, maxima_e"
   ]
  },
  {
   "cell_type": "code",
   "execution_count": 472,
   "metadata": {},
   "outputs": [],
   "source": [
    "def gauss_peaks(fit, nofreqband, freqband, pcov, params,freq_low,freq_high,noise):\n",
    "    \"\"\"\n",
    "    Find the peaks of a gaussian fit, take the highest two and create a profile_comp.\n",
    "    Also converts the phase into degrees and the frequency into MHz.\n",
    "    \n",
    "    Parameters:\n",
    "    -----------\n",
    "    fit: list\n",
    "        the gaussian fit to find peaks of\n",
    "    nofreqband: int\n",
    "        total number of frequency bins \n",
    "    freqband: int\n",
    "        current frequency band which has been fit\n",
    "    pcov: list\n",
    "        the covariance matrix from the fit\n",
    "    params: list\n",
    "        the parameters for the fit\n",
    "    freq_low: int\n",
    "        the lower boundary of the frequency range\n",
    "    freq_high: int\n",
    "        the high boundary of the frequency range\n",
    "    Returns:\n",
    "    --------\n",
    "    profile_comp: pulse_component\n",
    "        carrys information about each component at a certain frequency\n",
    "    \"\"\"\n",
    "    \n",
    "    deg_mod=360/len(fit)\n",
    "    \n",
    "    #Find the peaks of the fit, and the intensity at those peaks\n",
    "    minima, peakpos, minima_e, err = find_minima_maxima_gauss(params, pcov, len(fit))\n",
    "    peakint = multi_gauss(peakpos, *params)\n",
    "    \n",
    "    \"\"\"\n",
    "    #Removes peaks until only two highest remain - which also have to be the two outer peaks\n",
    "    #If the highest do not correspond to the outer, the frequency band is not used\n",
    "    while len(peakpos)>2:\n",
    "        mn=min(peakint)\n",
    "        peakint = list(peakint)\n",
    "        rm = peakint.index(mn)\n",
    "        if rm!=0 and rm!=len(peakpos)-1:\n",
    "            del peakpos[rm]\n",
    "            del peakint[rm]\n",
    "            del err[rm]\n",
    "        else:\n",
    "            break \n",
    "    \"\"\"\n",
    "\n",
    "    #Assign the peaks to the correct component label, also converts phase from bins to degrees\n",
    "    \n",
    "    component1=0\n",
    "    component2=0\n",
    "    errr=[]\n",
    "    \n",
    "    if(max(peakint)/noise)>3:\n",
    "        for n,p in enumerate(peakpos):\n",
    "            if p>670 and p<710:\n",
    "                component1 = component(phase=(deg_mod)*peakpos[n], intensity=peakint[n])\n",
    "                errr.append(err[n])\n",
    "            elif p>720:\n",
    "                component2 = component(phase=(deg_mod)*peakpos[n], intensity=peakint[n])\n",
    "                errr.append(err[n])        \n",
    "                \n",
    "    if component1==0 or component2==0:\n",
    "        component1 = component(phase=0, intensity=0)\n",
    "        component2 = component(phase=0, intensity=0)\n",
    "        error = 0   \n",
    "    else:\n",
    "        error = np.array(errr)*(deg_mod)\n",
    "        \n",
    "    \n",
    "    \"\"\"\n",
    "    if len(peakpos)==2 and (max(peakint)/noise)>3:\n",
    "        component1 = component(phase=(deg_mod)*peakpos[0], intensity=peakint[0])\n",
    "        component2 = component(phase=(deg_mod)*peakpos[1], intensity=peakint[1])\n",
    "        error = np.array(err)*(deg_mod)\n",
    "    elif len(peakpos)==3 and (max(peakint)/noise)>3:\n",
    "        component1 = component(phase=(deg_mod)*peakpos[1], intensity=peakint[1])\n",
    "        component2 = component(phase=(deg_mod)*peakpos[2], intensity=peakint[2])\n",
    "        error = np.array(err)*(deg_mod)        \n",
    "    elif len(peakpos)==4 and (max(peakint)/noise)>3:\n",
    "        component1 = component(phase=(deg_mod)*peakpos[1], intensity=peakint[1])\n",
    "        component2 = component(phase=(deg_mod)*peakpos[3], intensity=peakint[3])\n",
    "        error = np.array(err)*(deg_mod)   \n",
    "    else:\n",
    "        component1 = component(phase=0, intensity=0)\n",
    "        component2 = component(phase=0, intensity=0)\n",
    "        error = 0       \n",
    "   \"\"\"\n",
    "   \n",
    "    #Converts the frequency from bins to MHz    \n",
    "    freq=(((freq_high-freq_low)/nofreqband)*(freqband))+freq_low+((freq_high-freq_low)/(nofreqband*2))\n",
    "\n",
    "    profile_comp = pulse_component(frequency=freq, comp1=component1, comp2=component2, errors=error)\n",
    "\n",
    "    return profile_comp"
   ]
  },
  {
   "cell_type": "code",
   "execution_count": 473,
   "metadata": {},
   "outputs": [],
   "source": [
    "\"\"\"\n",
    "    Graphing Sub-pulse operation:\n",
    "    Used to get the correct x, y and error arrays created for graphing the data and finding a fit.\n",
    "\"\"\"\n",
    "def graphing_comp(fit_comp,comp_num):\n",
    "        phase_comp=[]\n",
    "        frequency_comp=[]\n",
    "        comp_err=[]\n",
    "\n",
    "        for i in range(0,len(fit_comp)):\n",
    "            if fit_comp[i][comp_num][0]!=0:\n",
    "                phase_comp.append(fit_comp[i][comp_num][0])\n",
    "                frequency_comp.append(fit_comp[i][0])\n",
    "                comp_err.append(fit_comp[i][3][comp_num-1])\n",
    "\n",
    "        return phase_comp, frequency_comp, comp_err    "
   ]
  },
  {
   "cell_type": "markdown",
   "metadata": {},
   "source": [
    "Removing outliers"
   ]
  },
  {
   "cell_type": "code",
   "execution_count": 474,
   "metadata": {},
   "outputs": [],
   "source": [
    "\"\"\"\n",
    "    Used to remove outliers more than the threshold number of standard deviations from the mean. \n",
    "    Also removes points with high errors (greater than 100 degrees).\n",
    "\"\"\"\n",
    "def detect_outlier(frequency_comp, phase_comp, comp_err , threshold):\n",
    "    phase=[]\n",
    "    frequency=[]\n",
    "    err=[]\n",
    "    \n",
    "    #Find mean and standard deviation of data\n",
    "    mean_1 = np.mean(phase_comp)\n",
    "    std_1 =np.std(phase_comp)\n",
    "    \n",
    "    for i in range(len(phase_comp)):\n",
    "        #Find z score\n",
    "        z_score= (phase_comp[i] - mean_1)/std_1 \n",
    "        #Only include points which have a z score under the threshold value, and with errors less than 100 degrees\n",
    "        if np.abs(z_score) < threshold and comp_err[i]<100:\n",
    "            phase.append(phase_comp[i])\n",
    "            frequency.append(frequency_comp[i])\n",
    "            err.append(comp_err[i])\n",
    "    return frequency, phase, err"
   ]
  },
  {
   "cell_type": "markdown",
   "metadata": {
    "colab_type": "text",
    "id": "4P1qFLYpI9hB"
   },
   "source": [
    "Plotting Fittings Functions"
   ]
  },
  {
   "cell_type": "code",
   "execution_count": 475,
   "metadata": {
    "colab": {},
    "colab_type": "code",
    "id": "gPhqw8WaI8pp"
   },
   "outputs": [],
   "source": [
    "\"\"\"\n",
    "    Plotting functions to plot the gaussian fit, three gaussian fit with the gaussians filled in,\n",
    "    and the peaks of the gaussian fit. \n",
    "\"\"\"\n",
    "def plot_fit(x,y,fit,params,sigma):\n",
    "    py.plot(x, y, lw=1, label='data')\n",
    "    py.plot(x,fit, color='red',lw=3,label='gaussian fit')\n",
    "    py.xlabel('Phase Bin')\n",
    "    py.ylabel('Intensity')\n",
    "    py.legend()\n",
    "    return\n",
    "\n",
    "def plot_fill(x,y,params):\n",
    "    params1 = params[0:3]\n",
    "    params2 = params[3:6]\n",
    "    params3 = params[6:9]\n",
    "    params4 = params[9:12]\n",
    "    gfit1 = gauss(x, *params1)\n",
    "    gfit2 = gauss(x, *params2)\n",
    "    gfit3 = gauss(x, *params3)\n",
    "    gfit4 = gauss(x, *params4)\n",
    "\n",
    "    py.plot(x, y, lw=1, label='data')\n",
    "    py.plot(x,fit,color='red',lw=3,label='gaussian fit')\n",
    "    py.xlabel('Phase Bin')\n",
    "    py.ylabel('Intensity')\n",
    "    py.legend()\n",
    "\n",
    "    py.plot(x, gfit1, \"g\")\n",
    "    py.fill_between(x, gfit1.min(), gfit1, facecolor=\"green\", alpha=0.5)\n",
    "    py.plot(x, gfit2, \"y\")\n",
    "    py.fill_between(x, gfit2.min(), gfit2, facecolor=\"yellow\", alpha=0.5)\n",
    "    py.plot(x, gfit3, \"r\")\n",
    "    py.fill_between(x, gfit3.min(), gfit3, facecolor=\"red\", alpha=0.5)\n",
    "    py.plot(x, gfit4, \"b\")\n",
    "    py.fill_between(x, gfit4.min(), gfit4, facecolor=\"blue\", alpha=0.5)\n",
    "    return \n",
    "\n",
    "def plot_peaks(x,y,profile_comp):\n",
    "    py.plot(x,y, lw=1)\n",
    "    py.plot(x, fit, color='red', lw=3, label='gaussian fit')\n",
    "\n",
    "    x=[profile_comp[i][0] for i in range(1,3)]\n",
    "    y=[profile_comp[i][1] for i in range(1,3)]\n",
    "\n",
    "    py.plot(x, y ,'X', markerfacecolor='black', markeredgecolor='black', label='peaks')\n",
    "\n",
    "    py.xlabel('Phase (deg)')\n",
    "    py.ylabel('Intensity')\n",
    "    py.legend()\n",
    "    return"
   ]
  },
  {
   "cell_type": "markdown",
   "metadata": {
    "colab_type": "text",
    "id": "L_oE3uFcsKkA"
   },
   "source": [
    "Functions for Fitting Separation Data"
   ]
  },
  {
   "cell_type": "code",
   "execution_count": 476,
   "metadata": {
    "colab": {},
    "colab_type": "code",
    "id": "_V1yQ0U5__mq"
   },
   "outputs": [],
   "source": [
    "def thorsett(x, A, alpha, smin):\n",
    "    return (A * (x**(alpha)) + smin)\n",
    "def powerlaw(x, A, alpha):\n",
    "    return (A * (x**(alpha)))"
   ]
  },
  {
   "cell_type": "code",
   "execution_count": 477,
   "metadata": {
    "colab": {},
    "colab_type": "code",
    "id": "EgEnQbxBujiH"
   },
   "outputs": [],
   "source": [
    "\"\"\"\n",
    "    Used to gain separation of components values and the uncertainties. \n",
    "\"\"\"\n",
    "def separation_singleprofile(components_array):\n",
    "    sep_array=[]\n",
    "    uncert=[]\n",
    "\n",
    "    #Go through all the different frequencies\n",
    "    for i in range(0,len(components_array)):\n",
    "        if components_array[i][1][0] != 0 and components_array[i][2][0] != 0:\n",
    "            freq=components_array[i][0]\n",
    "            #Subtract second component from first\n",
    "            sep=(components_array[i][2][0]) - (components_array[i][1][0])\n",
    "            single_sep=component_separation(frequency=freq, separation=sep)\n",
    "            sep_array.append(single_sep)\n",
    "            #Calculate uncertainty\n",
    "            uncert.append(np.sqrt((components_array[i][3][0])**2 + (components_array[i][3][1])**2))\n",
    "    return sep_array, uncert"
   ]
  },
  {
   "cell_type": "markdown",
   "metadata": {
    "colab_type": "text",
    "id": "HsEW4YA0D-QH"
   },
   "source": [
    "# Importing Data"
   ]
  },
  {
   "cell_type": "markdown",
   "metadata": {
    "colab_type": "text",
    "id": "5aCGkE3ZYbBM"
   },
   "source": [
    "Data must be in text file format from software pdv.\n",
    "Also must contain time scrunched data so that the first column of numbers is always 0 (only one pulse). "
   ]
  },
  {
   "cell_type": "markdown",
   "metadata": {},
   "source": [
    "Parkes data"
   ]
  },
  {
   "cell_type": "code",
   "execution_count": 478,
   "metadata": {
    "colab": {},
    "colab_type": "code",
    "id": "4ieR-2IlfGA_"
   },
   "outputs": [],
   "source": [
    "fulldatatype=([('pulse','i8'),('frequency','i8'),('phase','i8'),('intensity','f8')])"
   ]
  },
  {
   "cell_type": "code",
   "execution_count": 479,
   "metadata": {
    "colab": {},
    "colab_type": "code",
    "id": "o9kgY0kqfIrQ"
   },
   "outputs": [],
   "source": [
    "averageprofiles = np.loadtxt(fname='/home/lisasmith/20U3_B1944+17/Parkes_archive_files/B1944-2600s-T-f32.pdv', dtype=fulldatatype)\n",
    "maxf=4000\n",
    "minf=700\n",
    "no_freq_bands = max(averageprofiles['frequency']) + 1\n",
    "size_freq = (maxf-minf) / no_freq_bands\n",
    "halfsize_freq = size_freq / 2"
   ]
  },
  {
   "cell_type": "markdown",
   "metadata": {
    "colab_type": "text",
    "id": "eKWvXxMcEIfE"
   },
   "source": [
    "# INDIVIDUAL FREQUENCY BAND"
   ]
  },
  {
   "cell_type": "markdown",
   "metadata": {
    "colab_type": "text",
    "id": "MVQ_pgyRnofm"
   },
   "source": [
    "Following Section is for error checking. It displays how each frequency band is fitted and it's peaks. "
   ]
  },
  {
   "cell_type": "markdown",
   "metadata": {},
   "source": [
    "#### Parkes Data Set"
   ]
  },
  {
   "cell_type": "code",
   "execution_count": 480,
   "metadata": {
    "colab": {},
    "colab_type": "code",
    "id": "mcIptVeffJXA"
   },
   "outputs": [
    {
     "name": "stderr",
     "output_type": "stream",
     "text": [
      "<ipython-input-470-872f30e54463>:32: RuntimeWarning: invalid value encountered in double_scalars\n",
      "  x_err.append(sigma_y / abs(d2dx2))\n"
     ]
    }
   ],
   "source": [
    "#13, 50, 51, \n",
    "#Takes a single frequency band out of all the profiles for analysis.\n",
    "freqband = 100\n",
    "f = averageprofiles['frequency'] == freqband\n",
    "phase=averageprofiles['phase'][f]\n",
    "intensity=averageprofiles['intensity'][f]\n",
    "x = phase\n",
    "y = intensity\n",
    "\n",
    "#Expected is taken from Peaks and Gaussian fittings of frequency band 73\n",
    "expected1=(0.15,660,6,0.55,695,20,0.1,715,10,0.25,730,8)\n",
    "bounds1=([0,625,0,0,675,0,0,710,0,0,720,0],[np.inf,675,np.inf,np.inf,725,np.inf,np.inf,740,np.inf,np.inf,750,np.inf])\n",
    "#expected2=(0.1,660,6,0.75,690,20,0.2,710,10,0.25,740,15)\n",
    "\n",
    "noise = sigmaClip(y)\n",
    "error = np.nanstd(noise[1])\n",
    "\n",
    "#Fits three gaussians to the data\n",
    "params, cov, sigma = fitting_parameters(x,y,expected1,bounds1)\n",
    "fit = multi_gauss(x,*params)\n",
    "#Then finds the maxima of the fit. It only takes the largest two (given they are the outer maxima).\n",
    "#Error for the maxima position is calculated by finding the positions of the fit at an intensity-noise level\n",
    "profile_comp = gauss_peaks(fit, no_freq_bands, freqband, cov, params,minf,maxf,error)\n",
    "\n",
    "#py.axis([200,400,-0.05,0.07])"
   ]
  },
  {
   "cell_type": "code",
   "execution_count": 481,
   "metadata": {
    "colab": {
     "base_uri": "https://localhost:8080/",
     "height": 279
    },
    "colab_type": "code",
    "id": "vZAjg5geZVkC",
    "outputId": "140132f9-2e27-4888-d3e3-a91c901affe6"
   },
   "outputs": [
    {
     "name": "stdout",
     "output_type": "stream",
     "text": [
      "[3.01647458e-02 6.64823950e+02 3.65223025e+00 8.05993168e-02\n",
      " 6.87758607e+02 8.12108093e+00 5.60297304e-02 7.10000000e+02\n",
      " 5.24293191e+00 4.06298529e-02 7.47057213e+02 1.50196413e+01]\n"
     ]
    },
    {
     "data": {
      "text/plain": [
       "(600.0, 850.0, -0.1, 1.2)"
      ]
     },
     "execution_count": 481,
     "metadata": {},
     "output_type": "execute_result"
    },
    {
     "data": {
      "image/png": "[encoded data removed]",
      "text/plain": [
       "<Figure size 432x288 with 1 Axes>"
      ]
     },
     "metadata": {
      "needs_background": "light"
     },
     "output_type": "display_data"
    }
   ],
   "source": [
    "plot_fill(x,y,params)\n",
    "print(params)\n",
    "py.axis([600,850,-0.1,1.2])"
   ]
  },
  {
   "cell_type": "code",
   "execution_count": 482,
   "metadata": {
    "colab": {
     "base_uri": "https://localhost:8080/",
     "height": 279
    },
    "colab_type": "code",
    "id": "mmZe3OBoZ8rn",
    "outputId": "f4fbbdb4-6a61-4b32-a144-7e3e202771b4"
   },
   "outputs": [
    {
     "data": {
      "text/plain": [
       "(210.9375, 298.828125, -0.1, 0.2)"
      ]
     },
     "execution_count": 482,
     "metadata": {},
     "output_type": "execute_result"
    },
    {
     "data": {
      "image/png": "[encoded data removed]",
      "text/plain": [
       "<Figure size 432x288 with 1 Axes>"
      ]
     },
     "metadata": {
      "needs_background": "light"
     },
     "output_type": "display_data"
    }
   ],
   "source": [
    "plot_peaks(x*(360/1024),y,profile_comp)\n",
    "py.axis([210.9375,298.828125,-0.1,0.2])"
   ]
  },
  {
   "cell_type": "code",
   "execution_count": 483,
   "metadata": {},
   "outputs": [
    {
     "data": {
      "text/plain": [
       "pulse_component(frequency=3888.9423076923076, comp1=component(phase=0, intensity=0), comp2=component(phase=0, intensity=0), errors=0)"
      ]
     },
     "execution_count": 483,
     "metadata": {},
     "output_type": "execute_result"
    }
   ],
   "source": [
    "profile_comp"
   ]
  },
  {
   "cell_type": "markdown",
   "metadata": {},
   "source": [
    "# ALL FREQUENCY BANDS"
   ]
  },
  {
   "cell_type": "markdown",
   "metadata": {
    "colab_type": "text",
    "id": "er13GCy-EUTz"
   },
   "source": [
    "# Gaussian Plotting and Finding Peaks of Overall Fit\n"
   ]
  },
  {
   "cell_type": "markdown",
   "metadata": {
    "colab_type": "text",
    "id": "dUDXQCiVhOyH"
   },
   "source": [
    "The following is a looped version of the previous section to find the correct peaks for each pulse profile"
   ]
  },
  {
   "cell_type": "markdown",
   "metadata": {},
   "source": [
    "#### GMRT Data"
   ]
  },
  {
   "cell_type": "code",
   "execution_count": 484,
   "metadata": {
    "colab": {},
    "colab_type": "code",
    "id": "MspZDahR4R4P"
   },
   "outputs": [
    {
     "name": "stderr",
     "output_type": "stream",
     "text": [
      "<ipython-input-470-872f30e54463>:32: RuntimeWarning: invalid value encountered in double_scalars\n",
      "  x_err.append(sigma_y / abs(d2dx2))\n"
     ]
    }
   ],
   "source": [
    "fit_components = []\n",
    "#Taken from Peaks and Gaussian fittings of frequency band 6, in the middle\n",
    "#expected=(0.1,660,6,0.75,695,20,0.2,720,10,0.25,750,15)\n",
    "expected=(0.15,660,6,0.55,695,20,0.1,715,10,0.25,730,8)\n",
    "bounds=([0,625,0,0,675,0,0,710,0,0,720,0],[np.inf,675,np.inf,np.inf,725,np.inf,np.inf,740,np.inf,np.inf,750,np.inf])\n",
    "\n",
    "\n",
    "#Loop thought all of the frequency bands\n",
    "for i in range(0,no_freq_bands):\n",
    "    freqband = i\n",
    "    f = averageprofiles['frequency'] == freqband\n",
    "    x=averageprofiles['phase'][f]\n",
    "    y=averageprofiles['intensity'][f]\n",
    "    \n",
    "    noise = sigmaClip(y)\n",
    "    error = np.nanstd(noise[1])\n",
    "\n",
    "    #Fit the gaussians and find peaks and errors, create array with all frequencies\n",
    "    #Resulting frequencies are in MHz and phase in degrees\n",
    "    if len(x)!=0 and len(y)!=0:\n",
    "        try:\n",
    "            params,cov,sigma = fitting_parameters(x,y,expected,bounds)\n",
    "            fit = multi_gauss(x,*params)\n",
    "            profile_comp = gauss_peaks(fit, no_freq_bands, freqband, cov, params, minf,maxf,error)\n",
    "        except:\n",
    "            component1 = component(phase=0, intensity=0)\n",
    "            component2 = component(phase=0, intensity=0)\n",
    "            error = 0             \n",
    "            freq=(((maxf-minf)/no_freq_bands)*(freqband))+minf+((maxf-minf)/(no_freq_bands*2))\n",
    "            profile_comp = pulse_component(frequency=freq, comp1=component1, comp2=component2, errors=error)\n",
    "        \n",
    "        fit_components.append(profile_comp)"
   ]
  },
  {
   "cell_type": "markdown",
   "metadata": {
    "colab_type": "text",
    "id": "6a03g77-gZa5"
   },
   "source": [
    "# Change of Peak Position over Frequency"
   ]
  },
  {
   "cell_type": "markdown",
   "metadata": {
    "colab_type": "text",
    "id": "KszZ-DmF3pTJ"
   },
   "source": [
    "Starting to graph out all the movement of component phase across frequency"
   ]
  },
  {
   "cell_type": "markdown",
   "metadata": {},
   "source": [
    "## GMRT"
   ]
  },
  {
   "cell_type": "markdown",
   "metadata": {},
   "source": [
    "### Component 1"
   ]
  },
  {
   "cell_type": "code",
   "execution_count": 485,
   "metadata": {
    "colab": {},
    "colab_type": "code",
    "id": "CUJj3cbezRgq"
   },
   "outputs": [
    {
     "data": {
      "text/plain": [
       "<ErrorbarContainer object of 3 artists>"
      ]
     },
     "execution_count": 485,
     "metadata": {},
     "output_type": "execute_result"
    },
    {
     "data": {
      "image/png": "[encoded data removed]",
      "text/plain": [
       "<Figure size 432x288 with 1 Axes>"
      ]
     },
     "metadata": {
      "needs_background": "light"
     },
     "output_type": "display_data"
    }
   ],
   "source": [
    "#Separate the array into x and y axis of phase and frequency which can be graphed\n",
    "phase_comp1, frequency_comp1, comp1_err=graphing_comp(fit_components,1)\n",
    "#Plot points\n",
    "py.errorbar(phase_comp1,frequency_comp1, xerr=comp1_err, fmt='.', lw=0.5, color='red', label='data')\n",
    "py.title('Component 1 - Red Outliers Removed')\n",
    "py.xlabel('Phase (deg))')\n",
    "py.ylabel('Frequency')\n",
    "#Remove outliers which are greater than 'threshold' number of std away from the mean\n",
    "frequency_comp1, phase_comp1, comp1_err = detect_outlier(frequency_comp1, phase_comp1, comp1_err,2)\n",
    "#Plot outlier removed points\n",
    "py.errorbar(phase_comp1,frequency_comp1, xerr=comp1_err, fmt='.', lw=0.5, color='blue',label='data')"
   ]
  },
  {
   "cell_type": "code",
   "execution_count": 486,
   "metadata": {},
   "outputs": [],
   "source": [
    "#Fit the thorsett model to the component position\n",
    "y_range=list(range(700,4040))\n",
    "expect=(500,0.4,16)\n",
    "comp1_params,comp1_cov=curve_fit(thorsett,frequency_comp1,phase_comp1, expect, maxfev=100000, sigma=comp1_err, bounds=([0,-np.inf,0],[np.inf,np.inf,np.inf]))\n",
    "comp1_fit_error=np.sqrt(np.diag(comp1_cov))\n",
    "comp1_fit = thorsett(y_range, *comp1_params)\n",
    "#Fit a powerlaw to component position\n",
    "comp1_paramspl,comp1_covpl=curve_fit(powerlaw,frequency_comp1,phase_comp1, maxfev=10000, sigma=comp1_err)\n",
    "comp1_fit_errorpl=np.sqrt(np.diag(comp1_covpl))\n",
    "comp1_fitpl = powerlaw(y_range, *comp1_paramspl)\n",
    "comp1_fitpl2 = powerlaw(frequency_comp1, *comp1_paramspl)"
   ]
  },
  {
   "cell_type": "code",
   "execution_count": 487,
   "metadata": {},
   "outputs": [
    {
     "data": {
      "text/plain": [
       "<matplotlib.legend.Legend at 0x7f30e9094550>"
      ]
     },
     "execution_count": 487,
     "metadata": {},
     "output_type": "execute_result"
    },
    {
     "data": {
      "image/png": "[encoded data removed]",
      "text/plain": [
       "<Figure size 432x288 with 1 Axes>"
      ]
     },
     "metadata": {
      "needs_background": "light"
     },
     "output_type": "display_data"
    }
   ],
   "source": [
    "#Graph points with the fit ontop\n",
    "py.errorbar(phase_comp1,frequency_comp1, xerr=comp1_err, fmt='.', lw=0.5, label='GMRT data', zorder=0)\n",
    "py.plot(comp1_fitpl,y_range, color='red',lw=2, label='power law', zorder=1)\n",
    "py.title('Component 1 - Position')\n",
    "py.xlabel('Phase (deg))')\n",
    "py.ylabel('Frequency')\n",
    "py.legend(loc='lower right')"
   ]
  },
  {
   "cell_type": "code",
   "execution_count": 488,
   "metadata": {},
   "outputs": [
    {
     "name": "stdout",
     "output_type": "stream",
     "text": [
      "The thorsett equation of fit for this pulse is: \t Phase = 253.296 ν^-0.004 + 0.000\n",
      "The errors are 37112.55228526484, 0.6789401230051709, 37133.06753290271 \n",
      "\n",
      "The power law equation of fit for this pulse is: \t Phase = 253.296 ν^-0.004\n",
      "The errors are 1.3162263209345586, 0.0007015416736159555\n"
     ]
    }
   ],
   "source": [
    "print(f'The thorsett equation of fit for this pulse is: \\t Phase = {comp1_params[0]:.3f} \\u03BD^{comp1_params[1]:.3f} + {comp1_params[2]:.3f}')\n",
    "print(f'The errors are {comp1_fit_error[0]}, {comp1_fit_error[1]}, {comp1_fit_error[2]} \\n')\n",
    "\n",
    "print(f'The power law equation of fit for this pulse is: \\t Phase = {comp1_paramspl[0]:.3f} \\u03BD^{comp1_paramspl[1]:.3f}')\n",
    "print(f'The errors are {comp1_fit_errorpl[0]}, {comp1_fit_errorpl[1]}')"
   ]
  },
  {
   "cell_type": "code",
   "execution_count": 489,
   "metadata": {},
   "outputs": [
    {
     "name": "stdout",
     "output_type": "stream",
     "text": [
      "The chi squared reduced value is 6.8891595658008\n"
     ]
    }
   ],
   "source": [
    "print('The chi squared reduced value is', chsq_err(phase_comp1, comp1_fitpl2, comp1_err)/(len(phase_comp1)-2))"
   ]
  },
  {
   "cell_type": "markdown",
   "metadata": {},
   "source": [
    "### Component 2"
   ]
  },
  {
   "cell_type": "code",
   "execution_count": 490,
   "metadata": {
    "colab": {},
    "colab_type": "code",
    "id": "ylBJ8twuzL8g"
   },
   "outputs": [
    {
     "data": {
      "text/plain": [
       "<ErrorbarContainer object of 3 artists>"
      ]
     },
     "execution_count": 490,
     "metadata": {},
     "output_type": "execute_result"
    },
    {
     "data": {
      "image/png": "[encoded data removed]",
      "text/plain": [
       "<Figure size 432x288 with 1 Axes>"
      ]
     },
     "metadata": {
      "needs_background": "light"
     },
     "output_type": "display_data"
    }
   ],
   "source": [
    "#Separate the array into x and y axis of phase and frequency which can be graphed\n",
    "phase_comp2, frequency_comp2, comp2_err=graphing_comp(fit_components,2)\n",
    "#Plot points\n",
    "py.errorbar(phase_comp2,frequency_comp2, xerr=comp2_err, fmt='.', lw=0.5, color='red', label='data')\n",
    "py.title('Component 2 - Red Outliers Removed')\n",
    "py.xlabel('Phase (deg))')\n",
    "py.ylabel('Frequency')\n",
    "\n",
    "#Remove outliers which are greater than 'threshold' number of std away from the mean\n",
    "frequency_comp2, phase_comp2, comp2_err = detect_outlier(frequency_comp2, phase_comp2, comp2_err,2)\n",
    "#Plot outlier removed points\n",
    "py.errorbar(phase_comp2,frequency_comp2, xerr=comp2_err, fmt='.', lw=0.5, color='blue',label='data')"
   ]
  },
  {
   "cell_type": "code",
   "execution_count": 491,
   "metadata": {},
   "outputs": [],
   "source": [
    "#Temporary for viewing\n",
    "#print(comp2_err)\n",
    "#ind=comp2_err.index(0)\n",
    "#del comp2_err[ind]\n",
    "#del phase_comp2[ind]\n",
    "#del frequency_comp2[ind]"
   ]
  },
  {
   "cell_type": "code",
   "execution_count": 492,
   "metadata": {},
   "outputs": [],
   "source": [
    "#Fit the thorsett model to the component position\n",
    "#expect=(700,0.4,16)\n",
    "comp2_params,comp2_cov=curve_fit(thorsett,frequency_comp2,phase_comp2, expect, maxfev=10000, sigma=comp2_err, bounds=([0,-np.inf,0],[np.inf,np.inf,np.inf]))\n",
    "comp2_fit_error=np.sqrt(np.diag(comp2_cov))\n",
    "comp2_fit = thorsett(y_range, *comp2_params)\n",
    "#Fit a powerlaw to the component position\n",
    "comp2_paramspl,comp2_covpl=curve_fit(powerlaw,frequency_comp2,phase_comp2, maxfev=10000, sigma=comp2_err)\n",
    "comp2_fit_errorpl=np.sqrt(np.diag(comp2_covpl))\n",
    "comp2_fitpl = powerlaw(y_range, *comp2_paramspl)\n",
    "comp2_fitpl2 = powerlaw(frequency_comp2, *comp2_paramspl)"
   ]
  },
  {
   "cell_type": "code",
   "execution_count": 493,
   "metadata": {},
   "outputs": [
    {
     "data": {
      "text/plain": [
       "<matplotlib.legend.Legend at 0x7f30ea030df0>"
      ]
     },
     "execution_count": 493,
     "metadata": {},
     "output_type": "execute_result"
    },
    {
     "data": {
      "image/png": "[encoded data removed]",
      "text/plain": [
       "<Figure size 432x288 with 1 Axes>"
      ]
     },
     "metadata": {
      "needs_background": "light"
     },
     "output_type": "display_data"
    }
   ],
   "source": [
    "#Graph points with the fit ontop\n",
    "py.errorbar( phase_comp2,frequency_comp2, xerr=comp2_err, fmt='.', lw=0.5, label='GMRT data', zorder=0)\n",
    "py.plot(comp2_fitpl,y_range, color='red',lw=2, label='power law', zorder=1)\n",
    "py.title('Component 2 - Position')\n",
    "py.xlabel('Phase (deg))')\n",
    "py.ylabel('Frequency')\n",
    "py.legend(loc='lower right')"
   ]
  },
  {
   "cell_type": "code",
   "execution_count": 494,
   "metadata": {},
   "outputs": [
    {
     "name": "stdout",
     "output_type": "stream",
     "text": [
      "The thorsett equation of fit for this pulse is: \t Phase = 0.000 ν^1.630 + 257.581\n",
      "The errors are 1.913556806398525e-05, 0.3305961214272812, 0.3419799248726927 \n",
      "\n",
      "The power law equation of fit for this pulse is: \t Phase = 242.258 ν^0.009\n",
      "The errors are 1.2767192388572581, 0.0006965565884813245\n"
     ]
    }
   ],
   "source": [
    "print(f'The thorsett equation of fit for this pulse is: \\t Phase = {comp2_params[0]:.3f} \\u03BD^{comp2_params[1]:.3f} + {comp2_params[2]:.3f}')\n",
    "print(f'The errors are {comp2_fit_error[0]}, {comp2_fit_error[1]}, {comp2_fit_error[2]} \\n')\n",
    "\n",
    "print(f'The power law equation of fit for this pulse is: \\t Phase = {comp2_paramspl[0]:.3f} \\u03BD^{comp2_paramspl[1]:.3f}')\n",
    "print(f'The errors are {comp2_fit_errorpl[0]}, {comp2_fit_errorpl[1]}')"
   ]
  },
  {
   "cell_type": "code",
   "execution_count": 495,
   "metadata": {},
   "outputs": [
    {
     "name": "stdout",
     "output_type": "stream",
     "text": [
      "The chi squared reduced value is 2.4776600435832785\n"
     ]
    }
   ],
   "source": [
    "print('The chi squared reduced value is',chsq_err(phase_comp2, comp2_fitpl2, comp2_err)/(len(phase_comp2)-2))"
   ]
  },
  {
   "cell_type": "markdown",
   "metadata": {},
   "source": [
    "# Both Component Movements"
   ]
  },
  {
   "cell_type": "code",
   "execution_count": 496,
   "metadata": {},
   "outputs": [
    {
     "data": {
      "text/plain": [
       "<matplotlib.legend.Legend at 0x7f30e9457c70>"
      ]
     },
     "execution_count": 496,
     "metadata": {},
     "output_type": "execute_result"
    },
    {
     "data": {
      "image/png": "[encoded data removed]",
      "text/plain": [
       "<Figure size 432x288 with 1 Axes>"
      ]
     },
     "metadata": {
      "needs_background": "light"
     },
     "output_type": "display_data"
    }
   ],
   "source": [
    "py.plot(comp1_fitpl,y_range, color='red',lw=2, label='Component 1', zorder=1)\n",
    "py.plot(comp2_fitpl,y_range, color='red',lw=2, label='Component 2', zorder=1)\n",
    "py.title('Component Positions')\n",
    "py.xlabel('Phase (deg))')\n",
    "py.ylabel('Frequency')\n",
    "py.legend(loc='lower right')"
   ]
  },
  {
   "cell_type": "markdown",
   "metadata": {
    "colab_type": "text",
    "id": "onWmCTwBgzh2"
   },
   "source": [
    "# Fitting Power Laws to Separation "
   ]
  },
  {
   "cell_type": "markdown",
   "metadata": {
    "colab_type": "text",
    "id": "pRvVTEsj_64Q"
   },
   "source": [
    "## Just GMRT"
   ]
  },
  {
   "cell_type": "code",
   "execution_count": 497,
   "metadata": {
    "colab": {},
    "colab_type": "code",
    "id": "pacJRC6tIbBS"
   },
   "outputs": [],
   "source": [
    "#Gain component separation values\n",
    "component_sep, sep_error = separation_singleprofile(fit_components)\n",
    "\n",
    "comp_sep=[]\n",
    "frequency_forsep=[]\n",
    "\n",
    "#Put them into arrays for graphing\n",
    "for i in range(0,len(component_sep)):\n",
    "    comp_sep.append(component_sep[i][1])\n",
    "    frequency_forsep.append(component_sep[i][0])"
   ]
  },
  {
   "cell_type": "code",
   "execution_count": 498,
   "metadata": {
    "colab": {
     "base_uri": "https://localhost:8080/"
    },
    "colab_type": "code",
    "id": "oE8r2963KMSz",
    "outputId": "25557bf4-1b1c-415d-c785-7fa822a71292"
   },
   "outputs": [
    {
     "data": {
      "text/plain": [
       "Text(0.5, 1.0, 'Component Separation - Red Outliers Removed')"
      ]
     },
     "execution_count": 498,
     "metadata": {},
     "output_type": "execute_result"
    },
    {
     "data": {
      "image/png": "[encoded data removed]",
      "text/plain": [
       "<Figure size 432x288 with 1 Axes>"
      ]
     },
     "metadata": {
      "needs_background": "light"
     },
     "output_type": "display_data"
    }
   ],
   "source": [
    "#Plot points\n",
    "py.errorbar(frequency_forsep, comp_sep, yerr=sep_error, color='red', fmt='.', lw=0.5, label='data')\n",
    "py.xlabel('Frequency')\n",
    "py.ylabel('\\u0394\\u03B8 (deg)')\n",
    "\n",
    "#Remove outliers\n",
    "frequency_forsep, comp_sep, sep_error = detect_outlier(frequency_forsep, comp_sep, sep_error, 2.5)\n",
    "\n",
    "#Plot points with outliers removed\n",
    "py.errorbar(frequency_forsep, comp_sep, yerr=sep_error, color='blue', fmt='.', lw=0.5, label='data')\n",
    "py.title('Component Separation - Red Outliers Removed')"
   ]
  },
  {
   "cell_type": "code",
   "execution_count": 499,
   "metadata": {
    "colab": {},
    "colab_type": "code",
    "id": "Eb9tysocAfn3"
   },
   "outputs": [],
   "source": [
    "#Create a thorsett fit\n",
    "expect=(703,0.4,16)\n",
    "sep_params,sep_cov=curve_fit(thorsett,frequency_forsep,comp_sep, expect, maxfev=10000, sigma=sep_error, bounds=([0,-1,-np.inf],[np.inf,0.5,np.inf]))\n",
    "sep_fit_error=np.sqrt(np.diag(sep_cov))\n",
    "separation_fit=thorsett(frequency_forsep,*sep_params)"
   ]
  },
  {
   "cell_type": "code",
   "execution_count": 500,
   "metadata": {
    "colab": {
     "base_uri": "https://localhost:8080/",
     "height": 300
    },
    "colab_type": "code",
    "id": "oY7ok57vApBN",
    "outputId": "c54100cc-1569-4c6b-fb74-c413acbdf635"
   },
   "outputs": [
    {
     "data": {
      "text/plain": [
       "<matplotlib.legend.Legend at 0x7f30e6894340>"
      ]
     },
     "execution_count": 500,
     "metadata": {},
     "output_type": "execute_result"
    },
    {
     "data": {
      "image/png": "[encoded data removed]",
      "text/plain": [
       "<Figure size 432x288 with 1 Axes>"
      ]
     },
     "metadata": {
      "needs_background": "light"
     },
     "output_type": "display_data"
    }
   ],
   "source": [
    "#Plot the thorsett fit\n",
    "py.errorbar(frequency_forsep, comp_sep, yerr=sep_error, fmt='.', lw=0.5, label='data',zorder=1)\n",
    "py.plot(frequency_forsep,separation_fit, color='red',lw=2,label='thorsett fit',zorder=2)\n",
    "py.title('Component Separation - Fit Peaks')\n",
    "py.xlabel('Frequency')\n",
    "py.ylabel('\\u0394\\u03B8 (deg)')\n",
    "py.legend(loc='lower left')"
   ]
  },
  {
   "cell_type": "code",
   "execution_count": 501,
   "metadata": {},
   "outputs": [
    {
     "name": "stdout",
     "output_type": "stream",
     "text": [
      "The equation of fit for this pulsar is: \t Δθ = 0.172 ν^0.500 + 7.118 \n",
      "\n",
      "The errors are 0.544, 0.334, 4.693 \n",
      "Units for Δθ is degrees and ν is MHz\n",
      "The chi squared reduced value is 2.703648835109792\n"
     ]
    }
   ],
   "source": [
    "#chi, p = sp.stats.chisquare(comp_sep, separation_fit)\n",
    "print(f'The equation of fit for this pulsar is: \\t \\u0394\\u03B8 = {sep_params[0]:.3f} \\u03BD^{sep_params[1]:.3f} + {sep_params[2]:.3f} \\n')\n",
    "print(f'The errors are {sep_fit_error[0]:.3f}, {sep_fit_error[1]:.3f}, {sep_fit_error[2]:.3f} ')\n",
    "#print('The chi squared value for the fit is: ', chi)\n",
    "print('Units for \\u0394\\u03B8 is degrees and \\u03BD is MHz')\n",
    "print('The chi squared reduced value is',chsq_err(comp_sep, separation_fit, sep_error)/(len(comp_sep)-2))"
   ]
  },
  {
   "cell_type": "markdown",
   "metadata": {
    "colab_type": "text",
    "id": "e6XHCJRCjogM"
   },
   "source": [
    "# Change in Intensity over Frequency for GMRT"
   ]
  },
  {
   "cell_type": "markdown",
   "metadata": {
    "colab_type": "text",
    "id": "S8Wdb29Jkmx7"
   },
   "source": [
    "## Fit Peaks (fit_components)"
   ]
  },
  {
   "cell_type": "code",
   "execution_count": 502,
   "metadata": {
    "colab": {},
    "colab_type": "code",
    "id": "qLKpI3HvjyrZ"
   },
   "outputs": [
    {
     "data": {
      "text/plain": [
       "Text(0, 0.5, 'Intensity')"
      ]
     },
     "execution_count": 502,
     "metadata": {},
     "output_type": "execute_result"
    },
    {
     "data": {
      "image/png": "[encoded data removed]",
      "text/plain": [
       "<Figure size 432x288 with 1 Axes>"
      ]
     },
     "metadata": {
      "needs_background": "light"
     },
     "output_type": "display_data"
    }
   ],
   "source": [
    "#Find intensity of components at each frequency and graph\n",
    "intensity_comp1=[]\n",
    "frequency_comp1=[]\n",
    "\n",
    "for i in range(0,len(fit_components)):\n",
    "  if fit_components[i][1][0] != 0:\n",
    "    intensity_comp1.append(fit_components[i][1][1])\n",
    "    frequency_comp1.append(fit_components[i][0])\n",
    "    \n",
    "py.plot(frequency_comp1,intensity_comp1, '.')\n",
    "py.title('Component 1')\n",
    "py.xlabel('Frequency')\n",
    "py.ylabel('Intensity')"
   ]
  },
  {
   "cell_type": "code",
   "execution_count": 503,
   "metadata": {
    "colab": {},
    "colab_type": "code",
    "id": "IDYE2r0PksL3"
   },
   "outputs": [
    {
     "data": {
      "text/plain": [
       "Text(0, 0.5, 'Intensity')"
      ]
     },
     "execution_count": 503,
     "metadata": {},
     "output_type": "execute_result"
    },
    {
     "data": {
      "image/png": "[encoded data removed]",
      "text/plain": [
       "<Figure size 432x288 with 1 Axes>"
      ]
     },
     "metadata": {
      "needs_background": "light"
     },
     "output_type": "display_data"
    }
   ],
   "source": [
    "#Find intensity of components at each frequency and graph\n",
    "intensity_comp2=[]\n",
    "frequency_comp2=[]\n",
    "\n",
    "for i in range(0,len(fit_components)):\n",
    "  if fit_components[i][1][0] != 0:\n",
    "    intensity_comp2.append(fit_components[i][2][1])\n",
    "    frequency_comp2.append(fit_components[i][0])\n",
    "\n",
    "py.plot(frequency_comp2,intensity_comp2, '.')\n",
    "py.title('Component 2')\n",
    "py.xlabel('Frequency')\n",
    "py.ylabel('Intensity')"
   ]
  },
  {
   "cell_type": "code",
   "execution_count": null,
   "metadata": {},
   "outputs": [],
   "source": [
    "\n"
   ]
  }
 ],
 "metadata": {
  "colab": {
   "collapsed_sections": [
    "4z_feS2dDwlJ",
    "FamzMgIcD2xs",
    "HsEW4YA0D-QH",
    "eKWvXxMcEIfE",
    "er13GCy-EUTz",
    "6a03g77-gZa5",
    "IGeyAoMhEduw",
    "Y1RZQ9SHcgOZ",
    "pccDpOhFgn-A",
    "KZFBrw4AEiXX",
    "jBHxooGJctvn",
    "S8Wdb29Jkmx7",
    "G6J_t2-wlTKi",
    "8WslQQJrq_Aj",
    "-PbPFKZBj1oi",
    "BAAAMssWpRQc"
   ],
   "name": "Component Separation - RFI Removed.ipynb",
   "provenance": []
  },
  "kernelspec": {
   "display_name": "Python 3",
   "language": "python",
   "name": "python3"
  },
  "language_info": {
   "codemirror_mode": {
    "name": "ipython",
    "version": 3
   },
   "file_extension": ".py",
   "mimetype": "text/x-python",
   "name": "python",
   "nbconvert_exporter": "python",
   "pygments_lexer": "ipython3",
   "version": "3.8.2"
  }
 },
 "nbformat": 4,
 "nbformat_minor": 1
}
