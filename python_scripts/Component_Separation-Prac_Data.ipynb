{
 "cells": [
  {
   "cell_type": "markdown",
   "metadata": {
    "colab_type": "text",
    "id": "4z_feS2dDwlJ"
   },
   "source": [
    "## Importing Packages Needed"
   ]
  },
  {
   "cell_type": "code",
   "execution_count": 1,
   "metadata": {
    "colab": {},
    "colab_type": "code",
    "id": "zJLqZxwce0pN"
   },
   "outputs": [],
   "source": [
    "import numpy as np\n",
    "import matplotlib.pyplot as py\n",
    "from scipy.optimize import curve_fit\n",
    "import collections as col\n",
    "import statistics\n",
    "from scipy.interpolate import UnivariateSpline"
   ]
  },
  {
   "cell_type": "markdown",
   "metadata": {
    "colab_type": "text",
    "id": "FamzMgIcD2xs"
   },
   "source": [
    "## Definition of Named Tuples"
   ]
  },
  {
   "cell_type": "code",
   "execution_count": 2,
   "metadata": {
    "colab": {},
    "colab_type": "code",
    "id": "Uzxt0sq0qeHc"
   },
   "outputs": [],
   "source": [
    "component = col.namedtuple('component','phase intensity')\n",
    "ind_component = col.namedtuple('component','phase intensity width')\n",
    "pulse_component = col.namedtuple('pulse_component','frequency comp1 comp2 errors')\n",
    "component_separation = col.namedtuple('component_separation','frequency separation')"
   ]
  },
  {
   "cell_type": "markdown",
   "metadata": {
    "colab_type": "text",
    "id": "a8CeXWdQIy8b"
   },
   "source": [
    "# Definition of Functions"
   ]
  },
  {
   "cell_type": "markdown",
   "metadata": {
    "colab_type": "text",
    "id": "nOegi6c8I3gu"
   },
   "source": [
    "Gaussian Fitting Functions:"
   ]
  },
  {
   "cell_type": "code",
   "execution_count": 3,
   "metadata": {
    "colab": {},
    "colab_type": "code",
    "id": "Jf6ae6VTR-iR"
   },
   "outputs": [],
   "source": [
    "def gauss(x,amp,cen,sd):\n",
    "    return amp*np.exp(-(x-cen)**2/(2*sd**2))\\\n",
    "\n",
    "def multi_gauss(x, *params):\n",
    "    y = np.zeros_like(x)\n",
    "    for i in range(0, len(params), 3):\n",
    "        a = params[i]\n",
    "        b = params[i+1]\n",
    "        c = params[i+2]\n",
    "        y = y +  a * np.exp( -(((x-b)**2) / (2*c**2)) )\n",
    "    return y"
   ]
  },
  {
   "cell_type": "code",
   "execution_count": 4,
   "metadata": {},
   "outputs": [],
   "source": [
    "\"\"\"\n",
    "    Used to get the parameters, covariance matrix and errors for any number of gaussian fits, through and expected value. \n",
    "\"\"\"\n",
    "def fitting_parameters(x,y,expected):\n",
    "    bound=([],[])\n",
    "    for i in range(len(expected)):\n",
    "        bound[0].append(0)\n",
    "        bound[1].append(np.inf)\n",
    "        \n",
    "    params,cov=curve_fit(multi_gauss,x,y,expected, bounds=bound)\n",
    "    sigma=np.sqrt(np.diag(cov))\n",
    "    return params, cov, sigma"
   ]
  },
  {
   "cell_type": "markdown",
   "metadata": {},
   "source": [
    "Chi Squared functions"
   ]
  },
  {
   "cell_type": "code",
   "execution_count": 5,
   "metadata": {},
   "outputs": [],
   "source": [
    "\"\"\"\n",
    "    Compute the data's chi squared values.\n",
    "\n",
    "    Parameters:\n",
    "    -----------\n",
    "    observed_values: list\n",
    "        A list of floats - the raw data\n",
    "    expected_values: list\n",
    "        A list of floats - the expected data or the fit\n",
    "    err: float/list\n",
    "        The error across all data - standard deviation of the noise\n",
    "\n",
    "    Returns:\n",
    "    --------\n",
    "    test_statistic: float\n",
    "        The chi squared value of the data\n",
    "    \n",
    "    Created by Keegan Smith\n",
    "\"\"\"\n",
    "def chsq(observed_values, expected_values, err):\n",
    "    test_statistic=0\n",
    "    for observed, expected in zip(observed_values, expected_values):\n",
    "        test_statistic+=((float(observed)-float(expected))/float(err))**2\n",
    "    return test_statistic\n",
    "\n",
    "def chsq_err(observed_values, expected_values, err):\n",
    "    #Same as above but used when there is a different error for each point\n",
    "    test_statistic=0\n",
    "    for observed, expected, error in zip(observed_values, expected_values, err):\n",
    "        test_statistic+=((float(observed)-float(expected))/float(error))**2\n",
    "    return test_statistic"
   ]
  },
  {
   "cell_type": "markdown",
   "metadata": {},
   "source": [
    "Error Finding Functions"
   ]
  },
  {
   "cell_type": "code",
   "execution_count": 6,
   "metadata": {},
   "outputs": [],
   "source": [
    "def sigmaClip(data, alpha=3, tol=0.1, ntrials=10):\n",
    "    \"\"\"\n",
    "    Compute the data's median, m, and its standard deviation, sigma.\n",
    "    Keep only the data that falls in the range (m-alpha*sigma,m+alpha*sigma) for some value of alpha, and discard everything else.\n",
    "    This operation is repeated ntrials number of times or until the tolerance level is hit.\n",
    "\n",
    "    Parameters:\n",
    "    -----------\n",
    "    data: list\n",
    "        A list of floats - the data to clip\n",
    "    alpha: float\n",
    "        OPTIONAL - Determines the number of sigmas to use to determine the upper nad lower limits. Default=3\n",
    "    tol: float\n",
    "        OPTIONAL - The fractional change in the standard deviation that determines when the tolerance is hit. Default=0.1\n",
    "    ntrils: int\n",
    "        OPTIONAL - The maximum number of times to apply the operation. Default=10\n",
    "\n",
    "    Returns:\n",
    "    --------\n",
    "    oldstd: float\n",
    "        The std of the clipped data\n",
    "    x: list\n",
    "        The data list that contains only noise, with nans in place of 'real' data\n",
    "    \n",
    "    Created by Nick Swainston\n",
    "    \"\"\"\n",
    "    x = np.copy(data)\n",
    "    oldstd = np.nanstd(x)\n",
    "    #When the x[x<lolim] and x[x>hilim] commands encounter a nan it produces a\n",
    "    #warning. This is expected because it is ignoring flagged data from a\n",
    "    #previous trial so the warning is supressed.\n",
    "    old_settings = np.seterr(all='ignore')\n",
    "    for trial in range(ntrials):\n",
    "        median = np.nanmedian(x)\n",
    "\n",
    "        lolim = median - alpha * oldstd\n",
    "        hilim = median + alpha * oldstd\n",
    "        x[x<lolim] = np.nan\n",
    "        x[x>hilim] = np.nan\n",
    "\n",
    "        newstd = np.nanstd(x)\n",
    "        tollvl = (oldstd - newstd) / newstd\n",
    "\n",
    "        if tollvl <= tol:\n",
    "            np.seterr(**old_settings)\n",
    "            return oldstd, x\n",
    "\n",
    "        if trial + 1 == ntrials:\n",
    "            np.seterr(**old_settings)\n",
    "            return oldstd, x\n",
    "\n",
    "        oldstd = newstd"
   ]
  },
  {
   "cell_type": "code",
   "execution_count": 7,
   "metadata": {},
   "outputs": [],
   "source": [
    "def multi_gauss_ddx(x, *params):\n",
    "    #derivative of gaussian\n",
    "    y = np.zeros_like(x)\n",
    "    for i in range(0, len(params), 3):\n",
    "        a = params[i]\n",
    "        b = params[i+1]\n",
    "        c = params[i+2]\n",
    "        y = y - a/c**2 * (x - b) * np.exp( -(((x-b)**2) / (2*c**2)) )\n",
    "    return y\n",
    "\n",
    "def multi_gauss_d2dx2(x, *params):\n",
    "    #double derivative of gaussian\n",
    "    y = np.zeros_like(x)\n",
    "    for i in range(0, len(params), 3):\n",
    "        a = params[i]\n",
    "        b = params[i+1]\n",
    "        c = params[i+2]\n",
    "        y = y + (multi_gauss(x, a, b, c) / c**2) * (((x - b)**2)/(c**2) - 1)\n",
    "    return y\n",
    "\n",
    "def jacobian_slope(x, *params):\n",
    "    \"\"\"\n",
    "    Evaluates the Jacobian matrix of a gaussian slope at a single point, x\n",
    "\n",
    "    Parameters:\n",
    "    -----------\n",
    "    x: float\n",
    "        The point to evaluate\n",
    "    *params: list\n",
    "        A list containing three parameters per gaussian component in the order: Amp, Mean, Width\n",
    "\n",
    "    Returns:\n",
    "    --------\n",
    "    J: numpy.matrix\n",
    "        The Jacobian matrix\n",
    "    \"\"\"\n",
    "    def dda(a, b, c, x):\n",
    "        return -multi_gauss(x, a, b, c) * (x - b)/(c**2)/a\n",
    "    def ddb(a, b, c, x):\n",
    "        return multi_gauss(x, a, b, c) * (1 - (x - b)**2/(c**2))/c**2\n",
    "    def ddc(a, b, c, x):\n",
    "        return multi_gauss(x, a, b, c) * (x - b)/(c**3) * (2 - (x-b)**2/(c**2))\n",
    "    J = []\n",
    "    for i in range(0, len(params), 3):\n",
    "        a = params[i]\n",
    "        b = params[i+1]\n",
    "        c = params[i+2]\n",
    "        mypars = [a, b, c, x]\n",
    "        J.append(dda(*mypars))\n",
    "        J.append(ddb(*mypars))\n",
    "        J.append(ddc(*mypars))\n",
    "    J = np.asmatrix(J)\n",
    "    return J"
   ]
  },
  {
   "cell_type": "code",
   "execution_count": 8,
   "metadata": {},
   "outputs": [],
   "source": [
    "def find_x_err(x, popt, pcov):\n",
    "    \"\"\"\n",
    "    Finds the error in the horizontal position of a gaussian fit at the point x.\n",
    "    Uses the equation sigma_x = sigma_y/d2ydx2 where:\n",
    "    sigma_x = error in x\n",
    "    d2ydx2 = second derivative of the gaussian function at point x\n",
    "    sigma_y = sqrt.J*C*J_T\n",
    "    J = Jacobian evalutated at point x\n",
    "    C = covariance matrix of gaussian fit\n",
    "    J_T = transposed jacobian\n",
    "\n",
    "    Parameters:\n",
    "    -----------\n",
    "    x: list\n",
    "        A list of points to evaluate the error at\n",
    "    popt: list\n",
    "        The parameters used to describe the gaussian fit\n",
    "    pcov: numpy.matrix\n",
    "        The covariance matrix corresponding to popt\n",
    "\n",
    "    Returns:\n",
    "    --------\n",
    "    x_err: list\n",
    "        The error evaluated at each point, x\n",
    "    \"\"\"\n",
    "    x_err = []\n",
    "    for i, point in enumerate(x):\n",
    "        J = jacobian_slope(point, *popt)\n",
    "        d2dx2 = multi_gauss_d2dx2(point, *popt)\n",
    "        JC = np.matmul(J, pcov)\n",
    "        sigma_y = np.sqrt( np.matmul(JC, np.transpose(J)).item(0) )\n",
    "        x_err.append(sigma_y / abs(d2dx2))\n",
    "    return x_err"
   ]
  },
  {
   "cell_type": "markdown",
   "metadata": {
    "colab_type": "text",
    "id": "Hf__MEBnJEd_"
   },
   "source": [
    "Finding Peak of Fittings Function"
   ]
  },
  {
   "cell_type": "code",
   "execution_count": 9,
   "metadata": {},
   "outputs": [],
   "source": [
    "def find_minima_maxima_gauss(popt, pcov, x_length):\n",
    "    \"\"\"\n",
    "    Finds all peaks of a gaussian function, where the derivative is equal to zero. \n",
    "\n",
    "    Parameters:\n",
    "    -----------\n",
    "    popt: list\n",
    "        A list of length 3N where N is the number of gaussians. This list contains the parameters amp, mean, centre respectively\n",
    "    x_length: int\n",
    "        The length of the list used to fit the gaussian\n",
    "\n",
    "    Returns:\n",
    "    --------\n",
    "    minima: list\n",
    "        A list of the minimum points of the fit\n",
    "    maxima: list\n",
    "        A list of the maximum points of the fit\n",
    "    \"\"\"\n",
    "    #Create the derivative list and spline it to find roots\n",
    "    x = np.linspace(0, x_length-1, x_length)\n",
    "    dy = multi_gauss_ddx(x, *popt)\n",
    "    spline_dy = UnivariateSpline(x, dy, s=0)\n",
    "    roots = spline_dy.roots()\n",
    "    print(dy)\n",
    "    py.plot(dy)\n",
    "    py.title('Derivative')\n",
    "    \n",
    "    #Find which are max and min\n",
    "    maxima = []\n",
    "    minima = []\n",
    "    for root in roots:\n",
    "        idx = int(root + 0.5)\n",
    "        if dy[idx-1] > dy[idx]:\n",
    "            maxima.append(root)\n",
    "        else:\n",
    "            minima.append(root)      \n",
    "    print('Maxima:',maxima)\n",
    "    \n",
    "    if len(maxima)==1:\n",
    "        #x = np.linspace(range_min, range_max, range_max-range_min)\n",
    "        dy2 = multi_gauss_d2dx2(x, *popt)\n",
    "        spline_dy = UnivariateSpline(x, dy2, s=0)\n",
    "        roots = spline_dy.roots()\n",
    "        py.plot(dy2)\n",
    "\n",
    "        maxroot=[]\n",
    "        for root in roots:\n",
    "            idx = int(root + 0.5)\n",
    "            if dy[idx-1] < dy[idx]:\n",
    "                maxroot.append(root)\n",
    "        if len(maxroot)>1:\n",
    "            if maxroot[1]>maxima[0]:\n",
    "                maxima.append(maxroot[1])\n",
    "    print('Maxima 2:',maxima)\n",
    "    \n",
    "            \n",
    "    minima_e = find_x_err(minima, popt, pcov)\n",
    "    maxima_e = find_x_err(maxima, popt, pcov)\n",
    "\n",
    "    return minima, maxima, minima_e, maxima_e"
   ]
  },
  {
   "cell_type": "code",
   "execution_count": 10,
   "metadata": {},
   "outputs": [],
   "source": [
    "def gauss_peaks(fit, nofreqband, freqband, pcov, params,freq_low,freq_high,noise):\n",
    "    \"\"\"\n",
    "    Find the peaks of a gaussian fit, take the highest two and create a profile_comp.\n",
    "    Also converts the phase into degrees and the frequency into MHz.\n",
    "    \n",
    "    Parameters:\n",
    "    -----------\n",
    "    fit: list\n",
    "        the gaussian fit to find peaks of\n",
    "    nofreqband: int\n",
    "        total number of frequency bins \n",
    "    freqband: int\n",
    "        current frequency band which has been fit\n",
    "    pcov: list\n",
    "        the covariance matrix from the fit\n",
    "    params: list\n",
    "        the parameters for the fit\n",
    "    freq_low: int\n",
    "        the lower boundary of the frequency range\n",
    "    freq_high: int\n",
    "        the high boundary of the frequency range\n",
    "    Returns:\n",
    "    --------\n",
    "    profile_comp: pulse_component\n",
    "        carrys information about each component at a certain frequency\n",
    "    \"\"\"\n",
    "    \n",
    "    deg_mod=360/len(fit)\n",
    "    \n",
    "    #Find the peaks of the fit, and the intensity at those peaks\n",
    "    minima, peakpos, minima_e, err = find_minima_maxima_gauss(params, pcov, len(fit))\n",
    "    peakint = multi_gauss(peakpos, *params)\n",
    "    \n",
    "    \"\"\"\n",
    "    #Removes peaks until only two highest remain - which also have to be the two outer peaks\n",
    "    #If the highest do not correspond to the outer, the frequency band is not used\n",
    "    while len(peakpos)>2:\n",
    "        mn=min(peakint)\n",
    "        peakint = list(peakint)\n",
    "        rm = peakint.index(mn)\n",
    "        if rm!=0 and rm!=len(peakpos)-1:\n",
    "            del peakpos[rm]\n",
    "            del peakint[rm]\n",
    "            del err[rm]\n",
    "        else:\n",
    "            break \n",
    "    \"\"\"\n",
    "\n",
    "    #Assign the peaks to the correct component label, also converts phase from bins to degrees\n",
    "    if len(peakpos)==2 and (max(peakint)/noise)>2.5:\n",
    "        component1 = component(phase=(deg_mod)*peakpos[0], intensity=peakint[0])\n",
    "        component2 = component(phase=(deg_mod)*peakpos[1], intensity=peakint[1])\n",
    "        error = np.array(err)*(deg_mod)\n",
    "    else:\n",
    "        component1 = component(phase=0, intensity=0)\n",
    "        component2 = component(phase=0, intensity=0)\n",
    "        error = 0       \n",
    "   \n",
    "    #Converts the frequency from bins to MHz    \n",
    "    freq=(((freq_high-freq_low)/nofreqband)*(nofreqband-freqband))+freq_low\n",
    "\n",
    "    profile_comp = pulse_component(frequency=freq, comp1=component1, comp2=component2, errors=error)\n",
    "\n",
    "    return profile_comp"
   ]
  },
  {
   "cell_type": "code",
   "execution_count": 11,
   "metadata": {},
   "outputs": [],
   "source": [
    "\"\"\"\n",
    "    Graphing Sub-pulse operation:\n",
    "    Used to get the correct x, y and error arrays created for graphing the data and finding a fit.\n",
    "\"\"\"\n",
    "def graphing_comp(fit_comp,comp_num):\n",
    "        phase_comp=[]\n",
    "        frequency_comp=[]\n",
    "        comp_err=[]\n",
    "\n",
    "        for i in range(0,len(fit_comp)):\n",
    "            if fit_comp[i][comp_num][0]!=0:\n",
    "                phase_comp.append(fit_comp[i][comp_num][0])\n",
    "                frequency_comp.append(fit_comp[i][0])\n",
    "                comp_err.append(fit_comp[i][3][comp_num-1])\n",
    "\n",
    "        return phase_comp, frequency_comp, comp_err    "
   ]
  },
  {
   "cell_type": "markdown",
   "metadata": {},
   "source": [
    "Removing outliers"
   ]
  },
  {
   "cell_type": "code",
   "execution_count": 12,
   "metadata": {},
   "outputs": [],
   "source": [
    "\"\"\"\n",
    "    Used to remove outliers more than the threshold number of standard deviations from the mean. \n",
    "    Also removes points with high errors (greater than 100 degrees).\n",
    "\"\"\"\n",
    "def detect_outlier(frequency_comp, phase_comp, comp_err , threshold):\n",
    "    phase=[]\n",
    "    frequency=[]\n",
    "    err=[]\n",
    "    \n",
    "    #Find mean and standard deviation of data\n",
    "    mean_1 = np.mean(phase_comp)\n",
    "    std_1 =np.std(phase_comp)\n",
    "    \n",
    "    for i in range(len(phase_comp)):\n",
    "        #Find z score\n",
    "        z_score= (phase_comp[i] - mean_1)/std_1 \n",
    "        #Only include points which have a z score under the threshold value, and with errors less than 100 degrees\n",
    "        if np.abs(z_score) < threshold and comp_err[i]<100:\n",
    "            phase.append(phase_comp[i])\n",
    "            frequency.append(frequency_comp[i])\n",
    "            err.append(comp_err[i])\n",
    "    return frequency, phase, err"
   ]
  },
  {
   "cell_type": "markdown",
   "metadata": {
    "colab_type": "text",
    "id": "4P1qFLYpI9hB"
   },
   "source": [
    "Plotting Fittings Functions"
   ]
  },
  {
   "cell_type": "code",
   "execution_count": 13,
   "metadata": {
    "colab": {},
    "colab_type": "code",
    "id": "gPhqw8WaI8pp"
   },
   "outputs": [],
   "source": [
    "\"\"\"\n",
    "    Plotting functions to plot the gaussian fit, three gaussian fit with the gaussians filled in,\n",
    "    and the peaks of the gaussian fit. \n",
    "\"\"\"\n",
    "def plot_fit(x,y,fit,params,sigma):\n",
    "    py.plot(x, y, lw=1, label='data')\n",
    "    py.plot(x,fit, color='red',lw=3,label='gaussian fit')\n",
    "    py.xlabel('Phase Bin')\n",
    "    py.ylabel('Intensity')\n",
    "    py.legend()\n",
    "    return\n",
    "\n",
    "def plot_fill(x,y,params):\n",
    "    params1 = params[0:3]\n",
    "    params2 = params[3:6]\n",
    "    gfit1 = gauss(x, *params1)\n",
    "    gfit2 = gauss(x, *params2)\n",
    "\n",
    "    py.plot(x, y, lw=1, label='data')\n",
    "    py.plot(x,fit,color='red',lw=3,label='gaussian fit')\n",
    "    py.xlabel('Phase Bin')\n",
    "    py.ylabel('Intensity')\n",
    "    py.legend()\n",
    "\n",
    "    py.plot(x, gfit1, \"g\")\n",
    "    py.fill_between(x, gfit1.min(), gfit1, facecolor=\"green\", alpha=0.5)\n",
    "    py.plot(x, gfit2, \"y\")\n",
    "    py.fill_between(x, gfit2.min(), gfit2, facecolor=\"yellow\", alpha=0.5)\n",
    "    return \n",
    "\n",
    "def plot_peaks(x,y,profile_comp):\n",
    "    py.plot(x,y, lw=1)\n",
    "    py.plot(x, fit, color='red', lw=3, label='gaussian fit')\n",
    "\n",
    "    x=[profile_comp[i][0] for i in range(1,3)]\n",
    "    y=[profile_comp[i][1] for i in range(1,3)]\n",
    "\n",
    "    py.plot(x, y ,'X', markerfacecolor='black', markeredgecolor='black', label='peaks')\n",
    "\n",
    "    py.xlabel('Phase (deg)')\n",
    "    py.ylabel('Intensity')\n",
    "    py.legend()\n",
    "    return"
   ]
  },
  {
   "cell_type": "markdown",
   "metadata": {
    "colab_type": "text",
    "id": "L_oE3uFcsKkA"
   },
   "source": [
    "Functions for Fitting Separation Data"
   ]
  },
  {
   "cell_type": "code",
   "execution_count": 14,
   "metadata": {
    "colab": {},
    "colab_type": "code",
    "id": "_V1yQ0U5__mq"
   },
   "outputs": [],
   "source": [
    "def thorsett(x, A, alpha, smin):\n",
    "    return (A * (x**(alpha)) + smin)\n",
    "def powerlaw(x, A, alpha):\n",
    "    return (A * (x**(alpha)))"
   ]
  },
  {
   "cell_type": "code",
   "execution_count": 15,
   "metadata": {
    "colab": {},
    "colab_type": "code",
    "id": "EgEnQbxBujiH"
   },
   "outputs": [],
   "source": [
    "\"\"\"\n",
    "    Used to gain separation of components values and the uncertainties. \n",
    "\"\"\"\n",
    "def separation_singleprofile(components_array):\n",
    "    sep_array=[]\n",
    "    uncert=[]\n",
    "\n",
    "    #Go through all the different frequencies\n",
    "    for i in range(0,len(components_array)):\n",
    "        if components_array[i][1][0] != 0 and components_array[i][2][0] != 0:\n",
    "            freq=components_array[i][0]\n",
    "            #Subtract second component from first\n",
    "            sep=(components_array[i][2][0]) - (components_array[i][1][0])\n",
    "            single_sep=component_separation(frequency=freq, separation=sep)\n",
    "            sep_array.append(single_sep)\n",
    "            #Calculate uncertainty\n",
    "            uncert.append(np.sqrt((components_array[i][3][0])**2 + (components_array[i][3][1])**2))\n",
    "    return sep_array, uncert"
   ]
  },
  {
   "cell_type": "markdown",
   "metadata": {
    "colab_type": "text",
    "id": "HsEW4YA0D-QH"
   },
   "source": [
    "# Importing Data"
   ]
  },
  {
   "cell_type": "markdown",
   "metadata": {
    "colab_type": "text",
    "id": "5aCGkE3ZYbBM"
   },
   "source": [
    "Data must be in text file format from software pdv.\n",
    "Also must contain time scrunched data so that the first column of numbers is always 0 (only one pulse). "
   ]
  },
  {
   "cell_type": "markdown",
   "metadata": {},
   "source": [
    "GMRT data"
   ]
  },
  {
   "cell_type": "code",
   "execution_count": 16,
   "metadata": {
    "colab": {},
    "colab_type": "code",
    "id": "4ieR-2IlfGA_"
   },
   "outputs": [],
   "source": [
    "fulldatatype=([('pulse','i8'),('frequency','i8'),('phase','i8'),('intensity','f8')])"
   ]
  },
  {
   "cell_type": "code",
   "execution_count": 17,
   "metadata": {
    "colab": {},
    "colab_type": "code",
    "id": "o9kgY0kqfIrQ"
   },
   "outputs": [],
   "source": [
    "averageprofiles = np.loadtxt(fname='/home/lisasmith/20U3_B1944+17/archive_files/B1944+17-sc-T-f4.pdv', dtype=fulldatatype)\n",
    "no_freq_bands = max(averageprofiles['frequency'])+1"
   ]
  },
  {
   "cell_type": "markdown",
   "metadata": {
    "colab_type": "text",
    "id": "eKWvXxMcEIfE"
   },
   "source": [
    "# INDIVIDUAL FREQUENCY BAND"
   ]
  },
  {
   "cell_type": "markdown",
   "metadata": {
    "colab_type": "text",
    "id": "MVQ_pgyRnofm"
   },
   "source": [
    "Following Section is for error checking. It displays how each frequency band is fitted and it's peaks. "
   ]
  },
  {
   "cell_type": "markdown",
   "metadata": {},
   "source": [
    "#### GMRT Data Set"
   ]
  },
  {
   "cell_type": "code",
   "execution_count": 42,
   "metadata": {
    "colab": {},
    "colab_type": "code",
    "id": "mcIptVeffJXA"
   },
   "outputs": [
    {
     "name": "stdout",
     "output_type": "stream",
     "text": [
      "[ 4.95509943e-044  9.33309433e-044  1.75430010e-043 ... -3.34208988e-225\n",
      " -7.79424069e-226 -1.81400347e-226]\n",
      "Maxima: [311.007066665884, 350.66527779113085]\n",
      "Maxima 2: [311.007066665884, 350.66527779113085]\n"
     ]
    },
    {
     "data": {
      "text/plain": [
       "[200, 400, -0.05, 0.07]"
      ]
     },
     "execution_count": 42,
     "metadata": {},
     "output_type": "execute_result"
    },
    {
     "data": {
      "image/png": "[encoded data removed]",
      "text/plain": [
       "<matplotlib.figure.Figure at 0x7f5770b2a278>"
      ]
     },
     "metadata": {},
     "output_type": "display_data"
    }
   ],
   "source": [
    "#Takes a single frequency band out of all the profiles for analysis.\n",
    "freqband = 0\n",
    "f = averageprofiles['frequency'] == freqband\n",
    "phase=averageprofiles['phase'][f]\n",
    "intensity=averageprofiles['intensity'][f]\n",
    "x = phase\n",
    "y = intensity\n",
    "\n",
    "#Expected is taken from Peaks and Gaussian fittings of frequency band 73\n",
    "expected=(1,315,25,0.5,350,5)\n",
    "\n",
    "noise = sigmaClip(y)\n",
    "error = np.nanstd(noise[1])\n",
    "\n",
    "#Fits three gaussians to the data\n",
    "params, cov, sigma = fitting_parameters(x,y,expected)\n",
    "fit = multi_gauss(x,*params)\n",
    "#Then finds the maxima of the fit. It only takes the largest two (given they are the outer maxima).\n",
    "#Error for the maxima position is calculated by finding the positions of the fit at an intensity-noise level\n",
    "profile_comp = gauss_peaks(fit, no_freq_bands, freqband, cov, params,1113,1625,error)\n",
    "\n",
    "py.axis([200,400,-0.05,0.07])"
   ]
  },
  {
   "cell_type": "code",
   "execution_count": 46,
   "metadata": {
    "colab": {
     "base_uri": "https://localhost:8080/",
     "height": 279
    },
    "colab_type": "code",
    "id": "vZAjg5geZVkC",
    "outputId": "140132f9-2e27-4888-d3e3-a91c901affe6"
   },
   "outputs": [
    {
     "data": {
      "text/plain": [
       "[200, 400, -0.5, 1.5]"
      ]
     },
     "execution_count": 46,
     "metadata": {},
     "output_type": "execute_result"
    },
    {
     "data": {
      "image/png": "[encoded data removed]",
      "text/plain": [
       "<matplotlib.figure.Figure at 0x7f577116d6a0>"
      ]
     },
     "metadata": {},
     "output_type": "display_data"
    }
   ],
   "source": [
    "plot_fill(x,y,params)\n",
    "py.axis([200,400,-0.5,1.5])"
   ]
  },
  {
   "cell_type": "code",
   "execution_count": 47,
   "metadata": {
    "colab": {
     "base_uri": "https://localhost:8080/",
     "height": 279
    },
    "colab_type": "code",
    "id": "mmZe3OBoZ8rn",
    "outputId": "f4fbbdb4-6a61-4b32-a144-7e3e202771b4"
   },
   "outputs": [
    {
     "data": {
      "text/plain": [
       "[70.3125, 140.625, -0.5, 1.5]"
      ]
     },
     "execution_count": 47,
     "metadata": {},
     "output_type": "execute_result"
    },
    {
     "data": {
      "image/png": "[encoded data removed]",
      "text/plain": [
       "<matplotlib.figure.Figure at 0x7f57710a0588>"
      ]
     },
     "metadata": {},
     "output_type": "display_data"
    }
   ],
   "source": [
    "plot_peaks(x*(360/1024),y,profile_comp)\n",
    "py.axis([70.3125,140.625,-0.5,1.5])"
   ]
  },
  {
   "cell_type": "code",
   "execution_count": 45,
   "metadata": {},
   "outputs": [
    {
     "data": {
      "text/plain": [
       "array([  0.82166789, 310.8473066 ,  22.08353543,   0.41316858,\n",
       "       356.97194853,  13.27779035])"
      ]
     },
     "execution_count": 45,
     "metadata": {},
     "output_type": "execute_result"
    }
   ],
   "source": [
    "params"
   ]
  },
  {
   "cell_type": "markdown",
   "metadata": {},
   "source": [
    "# ALL FREQUENCY BANDS"
   ]
  },
  {
   "cell_type": "markdown",
   "metadata": {
    "colab_type": "text",
    "id": "er13GCy-EUTz"
   },
   "source": [
    "# Gaussian Plotting and Finding Peaks of Overall Fit\n"
   ]
  },
  {
   "cell_type": "markdown",
   "metadata": {
    "colab_type": "text",
    "id": "dUDXQCiVhOyH"
   },
   "source": [
    "The following is a looped version of the previous section to find the correct peaks for each pulse profile"
   ]
  },
  {
   "cell_type": "markdown",
   "metadata": {},
   "source": [
    "#### GMRT Data"
   ]
  },
  {
   "cell_type": "code",
   "execution_count": 22,
   "metadata": {
    "colab": {},
    "colab_type": "code",
    "id": "MspZDahR4R4P"
   },
   "outputs": [
    {
     "name": "stdout",
     "output_type": "stream",
     "text": [
      "[ 4.95509943e-044  9.33309433e-044  1.75430010e-043 ... -3.34208988e-225\n",
      " -7.79424069e-226 -1.81400347e-226]\n",
      "Maxima: [311.007066665884, 350.66527779113085]\n",
      "Maxima 2: [311.007066665884, 350.66527779113085]\n",
      "[ 1.04334852e-053  2.28038075e-053  4.97140664e-053 ... -9.18901780e-279\n",
      " -1.51439374e-279 -2.48946584e-280]\n",
      "Maxima: [310.59764150087534, 349.3544316238485]\n",
      "Maxima 2: [310.59764150087534, 349.3544316238485]\n",
      "[ 2.38495152e-047  4.74185811e-047  9.40686022e-047 ... -4.92481022e-245\n",
      " -1.00975658e-245 -2.06573549e-246]\n",
      "Maxima: [310.61878064205945, 347.26654768346316]\n",
      "Maxima 2: [310.61878064205945, 347.26654768346316]\n",
      "[ 2.33220419e-046  4.57412464e-046  8.95154166e-046 ... -4.98131416e-239\n",
      " -1.05913043e-239 -2.24702053e-240]\n",
      "Maxima: [311.2169105592861]\n",
      "Maxima 2: [311.2169105592861, 347.8062971616696]\n",
      "[ 1.32573357e-044  2.53172482e-044  4.82463594e-044 ... -1.31655644e-228\n",
      " -2.98985603e-229 -6.77567420e-230]\n",
      "Maxima: [311.7821574770073, 349.66591445658116]\n",
      "Maxima 2: [311.7821574770073, 349.66591445658116]\n",
      "[ 7.97480399e-046  1.55528854e-045  3.02660475e-045 ... -3.47429552e-238\n",
      " -7.43921090e-239 -1.58944118e-239]\n",
      "Maxima: [310.4882750487952]\n",
      "Maxima 2: [310.4882750487952, 346.67832635360986]\n",
      "[ 3.82999865e-045  7.35969247e-045  1.41123317e-044 ... -1.88126452e-231\n",
      " -4.20175030e-232 -9.36466684e-233]\n",
      "Maxima: [311.65880734672646]\n",
      "Maxima 2: [311.65880734672646, 347.4730409931509]\n",
      "[ 1.03629371e-047  2.07523808e-047  4.14639325e-047 ... -3.07987941e-247\n",
      " -6.21768145e-248 -1.25240387e-248]\n",
      "Maxima: [310.8205080514363]\n",
      "Maxima 2: [310.8205080514363, 346.5039893592874]\n",
      "[ 9.72051593e-046  1.88595952e-045  3.65123586e-045 ... -7.43613108e-235\n",
      " -1.62417085e-235 -3.53984714e-236]\n",
      "Maxima: [311.62347136688726]\n",
      "Maxima 2: [311.62347136688726, 348.0547684914128]\n",
      "[ 2.37441360e-044  4.51704382e-044  8.57517113e-044 ... -1.35125316e-228\n",
      " -3.07702354e-229 -6.99228538e-230]\n",
      "Maxima: [311.2044081707875]\n",
      "Maxima 2: [311.2044081707875, 347.10689371538103]\n",
      "[ 5.47186104e-047  1.08274799e-046  2.13772781e-046 ... -6.84187199e-244\n",
      " -1.41453296e-244 -2.91801548e-245]\n",
      "Maxima: [310.2740913070544]\n",
      "Maxima 2: [310.2740913070544, 346.5300827996063]\n",
      "[ 3.83373150e-047  7.58219171e-047  1.49625655e-046 ... -2.02905230e-241\n",
      " -4.24732668e-242 -8.87115101e-243]\n",
      "Maxima: [311.6389337674855, 348.36390688166904]\n",
      "Maxima 2: [311.6389337674855, 348.36390688166904]\n",
      "[ 1.58444433e-049  3.25135699e-049  6.65634295e-049 ... -5.29534396e-256\n",
      " -1.01097456e-256 -1.92563214e-257]\n",
      "Maxima: [310.7041637584325, 350.3052233830353]\n",
      "Maxima 2: [310.7041637584325, 350.3052233830353]\n",
      "[ 3.68331608e-047  7.26894016e-047  1.43134315e-046 ... -3.53420451e-241\n",
      " -7.42269240e-242 -1.55551954e-242]\n",
      "Maxima: [311.3085645576172, 353.1940651887503]\n",
      "Maxima 2: [311.3085645576172, 353.1940651887503]\n",
      "[2.74510210e-62 6.83983829e-62 1.69914701e-61 ... 0.00000000e+00\n",
      " 0.00000000e+00 0.00000000e+00]\n",
      "Maxima: [308.3280190267205]\n",
      "Maxima 2: [308.3280190267205, 340.53481690110874]\n",
      "[ 6.91817987e-039  1.19161448e-038  2.04887986e-038 ... -4.19510687e-191\n",
      " -1.21955515e-191 -3.53916037e-192]\n",
      "Maxima: [313.76103058859366]\n",
      "Maxima 2: [313.76103058859366, 348.7184786548107]\n",
      "[ 7.14787955e-047  1.40052037e-046  2.73810179e-046 ... -3.28778821e-240\n",
      " -6.97631839e-241 -1.47706766e-241]\n",
      "Maxima: [310.34457853583353, 355.9266533126075]\n",
      "Maxima 2: [310.34457853583353, 355.9266533126075]\n",
      "[ 2.36629114e-071  6.78953887e-071  1.94133675e-070 ... -2.76811859e-284\n",
      " -3.97701646e-285 -5.69738481e-286]\n",
      "Maxima: [307.1125435233649, 341.28927076974156]\n",
      "Maxima 2: [307.1125435233649, 341.28927076974156]\n",
      "[ 4.80987419e-060  1.14411930e-059  2.71385475e-059 ... -3.99690892e-308\n",
      " -5.45406757e-309 -7.42161018e-310]\n",
      "Maxima: [310.7829361962518, 356.20364484844674]\n",
      "Maxima 2: [310.7829361962518, 356.20364484844674]\n",
      "[ 8.85281142e-048  1.75484844e-047  3.47082257e-047 ... -4.83131709e-243\n",
      " -1.00453262e-243 -2.08401385e-244]\n",
      "Maxima: [311.82679697229906]\n",
      "Maxima 2: [311.82679697229906, 348.9783197488038]\n",
      "[ 1.80808921e-050  3.76798078e-050  7.83334268e-050 ... -1.36108543e-267\n",
      " -2.43840992e-268 -4.35794220e-269]\n",
      "Maxima: [308.33590196070776]\n"
     ]
    },
    {
     "name": "stderr",
     "output_type": "stream",
     "text": [
      "/usr/lib/python3/dist-packages/ipykernel_launcher.py:32: RuntimeWarning: invalid value encountered in double_scalars\n"
     ]
    },
    {
     "name": "stdout",
     "output_type": "stream",
     "text": [
      "Maxima 2: [308.33590196070776, 341.81140212328415]\n",
      "[ 4.06702930e-053  8.86248116e-053  1.92626434e-052 ... -4.84335775e-277\n",
      " -7.27055504e-278 -1.08832677e-278]\n",
      "Maxima: [308.10749346612084]\n",
      "Maxima 2: [308.10749346612084, 340.7659449569261]\n",
      "[ 9.86651357e-051  2.05533262e-050  4.27131959e-050 ... -6.85925374e-262\n",
      " -1.26298205e-262 -2.31997193e-263]\n",
      "Maxima: [310.3754076863003, 350.8621863975874]\n",
      "Maxima 2: [310.3754076863003, 350.8621863975874]\n",
      "[ 1.01822695e-046  1.99421911e-046  3.89717906e-046 ... -1.34093773e-239\n",
      " -2.85241740e-240 -6.05439041e-241]\n",
      "Maxima: [310.57216361892824, 353.69506766102046]\n",
      "Maxima 2: [310.57216361892824, 353.69506766102046]\n",
      "[ 1.29941462e-041  2.35351489e-041  4.25449166e-041 ... -1.06598597e-210\n",
      " -2.73052930e-211 -6.98083487e-212]\n",
      "Maxima: [311.5731908111987, 349.9567255756589]\n",
      "Maxima 2: [311.5731908111987, 349.9567255756589]\n",
      "[ 1.01412481e-045  1.95326713e-045  3.75412014e-045 ... -6.23816762e-232\n",
      " -1.39066467e-232 -3.09362546e-233]\n",
      "Maxima: [311.8871385170903, 351.4803220599785]\n",
      "Maxima 2: [311.8871385170903, 351.4803220599785]\n",
      "[ 1.97757099e-048  3.96212452e-048  7.92039868e-048 ... -5.61487682e-245\n",
      " -1.14837780e-245 -2.34345085e-246]\n",
      "Maxima: [312.36235560799065, 353.5609528656652]\n",
      "Maxima 2: [312.36235560799065, 353.5609528656652]\n",
      "[ 6.49011224e-050  1.33728788e-049  2.74900331e-049 ... -1.52788619e-257\n",
      " -2.88994444e-258 -5.45342457e-259]\n",
      "Maxima: [311.1474530660255]\n",
      "Maxima 2: [311.1474530660255, 345.57799344669263]\n",
      "[ 9.98571605e-052  2.12003479e-051  4.48991645e-051 ... -4.24987473e-270\n",
      " -7.43159956e-271 -1.29635422e-271]\n",
      "Maxima: [310.26326872970037]\n",
      "Maxima 2: [310.26326872970037, 344.90857082345]\n",
      "[ 9.49625719e-043  1.74990825e-042  3.21823596e-042 ... -1.61154546e-215\n",
      " -3.99037127e-216 -9.86114762e-217]\n",
      "Maxima: [312.4081570764957, 353.6002631902903]\n",
      "Maxima 2: [312.4081570764957, 353.6002631902903]\n",
      "[ 5.22821057e-047  1.02950610e-046  2.02276837e-046 ... -1.45250429e-241\n",
      " -3.04988234e-242 -6.38989619e-243]\n",
      "Maxima: [310.69601240146477, 350.0673314182117]\n",
      "Maxima 2: [310.69601240146477, 350.0673314182117]\n",
      "[ 1.65870352e-048  3.33539629e-048  6.69172358e-048 ... -3.95462307e-249\n",
      " -7.91142579e-250 -1.57913762e-250]\n",
      "Maxima: [310.97647596853017]\n",
      "Maxima 2: [310.97647596853017, 345.51420989106936]\n",
      "[ 6.51248857e-043  1.20276233e-042  2.21689727e-042 ... -3.00969356e-218\n",
      " -7.34986513e-219 -1.79131941e-219]\n",
      "Maxima: [311.00951921868864, 357.1551420769071]\n",
      "Maxima 2: [311.00951921868864, 357.1551420769071]\n",
      "[ 2.47799123e-052  5.28427539e-052  1.12407147e-051 ... -2.98743908e-273\n",
      " -5.14135162e-274 -8.82636940e-275]\n",
      "Maxima: [309.6625008394436]\n",
      "Maxima 2: [309.6625008394436, 343.87175119537545]\n",
      "[ 4.70959604e-038  7.66997869e-038  1.24731133e-037 ... -3.58570288e-146\n",
      " -1.34624175e-146 -5.04713412e-147]\n",
      "Maxima: [307.3134140897224]\n",
      "Maxima 2: [307.3134140897224, 334.6990640424889]\n",
      "[ 5.83337265e-059  1.36805100e-058  3.19945928e-058 ... -5.54750059e-306\n",
      " -7.71476238e-307 -1.06990003e-307]\n",
      "Maxima: [309.9991066978701]\n",
      "Maxima 2: [309.9991066978701, 345.9765648656634]\n",
      "[ 4.70950994e-039  8.07306069e-039  1.38149269e-038 ... -1.14334599e-187\n",
      " -3.39470439e-188 -1.00618456e-188]\n",
      "Maxima: [315.37529514794716, 357.21377014803534]\n",
      "Maxima 2: [315.37529514794716, 357.21377014803534]\n",
      "[ 3.15060563e-060  7.41203840e-060  1.73893068e-059 ... -4.09248200e-301\n",
      " -5.83325570e-302 -8.29162875e-303]\n",
      "Maxima: [312.7016193313294, 359.84267482100023]\n",
      "Maxima 2: [312.7016193313294, 359.84267482100023]\n",
      "[ 9.59395404e-063  2.31637540e-062  5.57695710e-062 ... -1.16695904e-304\n",
      " -1.61324996e-305 -2.22396668e-306]\n",
      "Maxima: [315.77886640610535]\n",
      "Maxima 2: [315.77886640610535, 346.4334731726179]\n",
      "[ 9.20824096e-044  1.68757328e-043  3.08678891e-043 ... -2.14719898e-209\n",
      " -5.52150456e-210 -1.41711272e-210]\n",
      "Maxima: [316.3466221950757, 353.8530879611906]\n",
      "Maxima 2: [316.3466221950757, 353.8530879611906]\n",
      "[ 2.33739001e-031  3.56650064e-031  5.43459695e-031 ... -3.44038486e-145\n",
      " -1.34310401e-145 -5.23636135e-146]\n",
      "Maxima: [318.2820033022737, 354.6961250603567]\n",
      "Maxima 2: [318.2820033022737, 354.6961250603567]\n",
      "[ 2.09264852e-048  4.20783676e-048  8.44161605e-048 ... -4.95950316e-253\n",
      " -9.74390752e-254 -1.91001163e-254]\n",
      "Maxima: [309.35518244130736]\n",
      "Maxima 2: [309.35518244130736, 346.6799662338035]\n",
      "[ 1.63329333e-054  3.58262330e-054  7.83844298e-054 ... -3.59142934e-279\n",
      " -5.90828316e-280 -9.69506318e-281]\n",
      "Maxima: [311.5342112444206]\n",
      "Maxima 2: [311.5342112444206, 345.54082564147535]\n",
      "[ 6.31900889e-036  1.04605309e-035  1.72882889e-035 ... -3.18393839e-176\n",
      " -1.01642281e-176 -3.23952425e-177]\n",
      "Maxima: [314.2965354157607, 355.84788994096846]\n",
      "Maxima 2: [314.2965354157607, 355.84788994096846]\n",
      "[ 6.67460676e-046  1.28694817e-045  2.47612533e-045 ... -1.05926612e-231\n",
      " -2.36328343e-232 -5.26146091e-233]\n",
      "Maxima: [312.36242953866775, 352.1536544696337]\n",
      "Maxima 2: [312.36242953866775, 352.1536544696337]\n",
      "[ 4.47684191e-043  8.28455417e-043  1.53003816e-042 ... -4.24242448e-216\n",
      " -1.04485629e-216 -2.56825615e-217]\n",
      "Maxima: [313.0154897094182, 356.8426521313201]\n",
      "Maxima 2: [313.0154897094182, 356.8426521313201]\n",
      "[ 1.73241068e-044  3.28104927e-044  6.20122814e-044 ... -3.00953033e-224\n",
      " -7.02499482e-225 -1.63643949e-225]\n",
      "Maxima: [312.9445092487495, 354.17008952141003]\n",
      "Maxima 2: [312.9445092487495, 354.17008952141003]\n",
      "[ 4.52098139e-047  8.94888187e-047  1.76742663e-046 ... -7.63639422e-242\n",
      " -1.59357676e-242 -3.31816404e-243]\n",
      "Maxima: [311.7095906338523]\n",
      "Maxima 2: [311.7095906338523, 346.717223258922]\n",
      "[ 2.60203814e-050  5.41278923e-050  1.12328908e-049 ... -2.33905058e-261\n",
      " -4.31508482e-262 -7.94155805e-263]\n",
      "Maxima: [310.6499936015682]\n",
      "Maxima 2: [310.6499936015682, 345.22600524372774]\n",
      "[ 3.04129423e-044  5.74772011e-044  1.08402229e-043 ... -1.03972732e-223\n",
      " -2.43538644e-224 -5.69279241e-225]\n",
      "Maxima: [312.7798961332505, 351.30061584792736]\n",
      "Maxima 2: [312.7798961332505, 351.30061584792736]\n",
      "[ 2.14358423e-046  4.18933826e-046  8.16970526e-046 ... -1.16250558e-236\n",
      " -2.50762970e-237 -5.39748552e-238]\n",
      "Maxima: [312.29449598148943]\n",
      "Maxima 2: [312.29449598148943, 346.7348270710465]\n",
      "[ 5.79031889e-049  1.17627789e-048  2.38407306e-048 ... -3.77948248e-250\n",
      " -7.46542488e-251 -1.47123663e-251]\n",
      "Maxima: [312.3350173326408]\n",
      "Maxima 2: [312.3350173326408, 346.55915776170855]\n",
      "[ 1.12777322e-045  2.17955250e-045  4.20325121e-045 ... -2.20001131e-232\n",
      " -4.87682191e-233 -1.07876032e-233]\n",
      "Maxima: [312.4210883396237]\n",
      "Maxima 2: [312.4210883396237, 347.1608645524953]\n",
      "[ 1.59551077e-050  3.32205341e-050  6.90049256e-050 ... -2.70931800e-259\n",
      " -5.04529292e-260 -9.37309562e-261]\n",
      "Maxima: [311.80433438567, 349.8202611886976]\n",
      "Maxima 2: [311.80433438567, 349.8202611886976]\n",
      "[ 8.23992458e-049  1.66754941e-048  3.36698161e-048 ... -2.16202840e-249\n",
      " -4.29853905e-250 -8.52688803e-251]\n",
      "Maxima: [311.7375922623319, 352.6622741153325]\n",
      "Maxima 2: [311.7375922623319, 352.6622741153325]\n",
      "[ 9.51229248e-047  1.85685204e-046  3.61686204e-046 ... -3.27517500e-234\n",
      " -7.16352464e-235 -1.56345410e-235]\n",
      "Maxima: [313.4594696175004, 352.97897124237136]\n",
      "Maxima 2: [313.4594696175004, 352.97897124237136]\n",
      "[ 3.57600840e-047  7.04402962e-047  1.38448339e-046 ... -2.86863925e-240\n",
      " -6.06132176e-241 -1.27792782e-241]\n",
      "Maxima: [311.98791982022124]\n",
      "Maxima 2: [311.98791982022124, 346.6987627890617]\n",
      "[ 2.48861480e-043  4.62808896e-043  8.58959263e-043 ... -8.95405600e-219\n",
      " -2.17049380e-219 -5.25082762e-220]\n",
      "Maxima: [312.76293908148784]\n",
      "Maxima 2: [312.76293908148784, 347.982358516705]\n",
      "[ 6.47937428e-035  1.05445090e-034  1.71333451e-034 ... -9.65609312e-168\n",
      " -3.24346016e-168 -1.08778152e-168]\n",
      "Maxima: [316.80847282596824]\n",
      "Maxima 2: [316.80847282596824, 350.66943716764433]\n",
      "[ 5.11295642e-046  9.82818026e-046  1.88521376e-045 ... -7.14283111e-228\n",
      " -1.62731389e-228 -3.69966419e-229]\n",
      "Maxima: [314.201219736541, 358.1524131847588]\n",
      "Maxima 2: [314.201219736541, 358.1524131847588]\n",
      "[4.53649488e-76 1.40130468e-75 4.31246612e-75 ... 0.00000000e+00\n",
      " 0.00000000e+00 0.00000000e+00]\n",
      "Maxima: [306.0085040402805, 346.36478085284665]\n",
      "Maxima 2: [306.0085040402805, 346.36478085284665]\n",
      "[ 1.13971082e-045  2.16166306e-045  4.09158443e-045 ... -3.84291253e-221\n",
      " -9.13297428e-222 -2.16609580e-222]\n",
      "Maxima: [316.0159880543929, 362.82422574139935]\n",
      "Maxima 2: [316.0159880543929, 362.82422574139935]\n",
      "[ 3.20886380e-049  6.42880731e-049  1.28511120e-048 ... -1.59835594e-241\n",
      " -3.33258338e-242 -6.93303298e-243]\n",
      "Maxima: [314.89884600945214, 358.25169219131413]\n",
      "Maxima 2: [314.89884600945214, 358.25169219131413]\n",
      "[ 2.65992069e-024  3.62169258e-024  4.92650717e-024 ... -5.81653341e-100\n",
      " -3.02468094e-100 -1.57138523e-100]\n",
      "Maxima: [293.537541587394, 329.57971638046075]\n",
      "Maxima 2: [293.537541587394, 329.57971638046075]\n",
      "[ 8.66239788e-026  1.21612630e-025  1.70549394e-025 ... -1.18151466e-115\n",
      " -5.58722955e-116 -2.63929681e-116]\n",
      "Maxima: [320.41884320559797]\n",
      "Maxima 2: [320.41884320559797, 869.1297690012661]\n",
      "[ 4.14543989e-026  5.88756364e-026  8.35228800e-026 ... -2.71543775e-124\n",
      " -1.22234003e-124 -5.49607492e-125]\n",
      "Maxima: [313.97417081236694, 354.48752166303984]\n",
      "Maxima 2: [313.97417081236694, 354.48752166303984]\n",
      "[ 2.78129103e-027  4.02969023e-027  5.83140789e-027 ... -2.30449663e-131\n",
      " -9.90108395e-132 -4.24883164e-132]\n",
      "Maxima: [313.46893518023273]\n",
      "Maxima 2: [313.46893518023273]\n",
      "[ 1.84895462e-066  4.89678668e-066  1.29272354e-065 ... -3.51487966e-283\n",
      " -5.10350245e-284 -7.38890417e-285]\n",
      "Maxima: [309.4277001413684]\n",
      "Maxima 2: [309.4277001413684, 340.03318411700326]\n",
      "[ 1.05465931e-048  2.10464700e-048  4.19064740e-048 ... -7.29633190e-241\n",
      " -1.52827603e-241 -3.19401804e-242]\n",
      "Maxima: [314.25798884421545, 357.52598947446216]\n",
      "Maxima 2: [314.25798884421545, 357.52598947446216]\n"
     ]
    },
    {
     "name": "stdout",
     "output_type": "stream",
     "text": [
      "[ 1.83719798e-048  3.69465893e-048  7.41310679e-048 ... -2.73610974e-251\n",
      " -5.41887134e-252 -1.07076804e-252]\n",
      "Maxima: [309.61090569916416, 349.1393246773273]\n",
      "Maxima 2: [309.61090569916416, 349.1393246773273]\n",
      "[ 5.05825257e-047  9.86323778e-047  1.91913485e-046 ... -1.14273345e-232\n",
      " -2.52280091e-233 -5.55765485e-234]\n",
      "Maxima: [314.3418366885219, 357.3340732490538]\n",
      "Maxima 2: [314.3418366885219, 357.3340732490538]\n",
      "[ 1.53357825e-051  3.22203324e-051  6.75317767e-051 ... -7.79080368e-263\n",
      " -1.42146048e-263 -2.58728965e-264]\n",
      "Maxima: [311.70195469917644, 352.54804237934667]\n",
      "Maxima 2: [311.70195469917644, 352.54804237934667]\n",
      "[ 1.69819553e-044  3.21464510e-044  6.07266150e-044 ... -1.10617262e-225\n",
      " -2.56673684e-226 -5.94352540e-227]\n",
      "Maxima: [312.51964684572664]\n",
      "Maxima 2: [312.51964684572664, 344.868238686631]\n",
      "[ 4.53020964e-044  8.50974292e-044  1.59524681e-043 ... -3.99675454e-222\n",
      " -9.47908338e-223 -2.24358294e-223]\n",
      "Maxima: [312.55344445502806, 352.2624498731357]\n",
      "Maxima 2: [312.55344445502806, 352.2624498731357]\n",
      "[ 1.55893682e-048  3.14096582e-048  6.31407451e-048 ... -2.41799731e-248\n",
      " -4.84562976e-249 -9.68857911e-250]\n",
      "Maxima: [312.24125452584934]\n",
      "Maxima 2: [312.24125452584934, 346.4071749346393]\n",
      "[ 2.76362519e-044  5.20436353e-044  9.78062875e-044 ... -1.32056067e-222\n",
      " -3.12036450e-223 -7.35811501e-224]\n",
      "Maxima: [312.83089762606073, 354.19244982705044]\n",
      "Maxima 2: [312.83089762606073, 354.19244982705044]\n",
      "[ 1.65931015e-038  2.85036569e-038  4.88784331e-038 ... -2.30228586e-188\n",
      " -6.78311408e-189 -1.99501525e-189]\n",
      "Maxima: [314.99068069001015]\n",
      "Maxima 2: [314.99068069001015, 349.01917975006376]\n",
      "[ 1.44206235e-039  2.51933750e-039  4.39348737e-039 ... -6.66159276e-194\n",
      " -1.89114962e-194 -5.35917518e-195]\n",
      "Maxima: [315.02889409578785, 355.386435261343]\n",
      "Maxima 2: [315.02889409578785, 355.386435261343]\n",
      "[ 6.10969457e-039  1.05793669e-038  1.82866365e-038 ... -2.53217382e-190\n",
      " -7.35029277e-191 -2.12987082e-191]\n",
      "Maxima: [315.3821207718624, 357.7957044153815]\n",
      "Maxima 2: [315.3821207718624, 357.7957044153815]\n",
      "[ 1.28830074e-041  2.32224184e-041  4.17804224e-041 ... -9.13647732e-206\n",
      " -2.40470178e-206 -6.31716795e-207]\n",
      "Maxima: [314.2816465489754, 349.92773712511115]\n",
      "Maxima 2: [314.2816465489754, 349.92773712511115]\n",
      "[ 9.21791695e-043  1.69485624e-042  3.11013429e-042 ... -3.31213246e-213\n",
      " -8.30643192e-214 -2.07907952e-214]\n",
      "Maxima: [313.571861333325, 355.2800732283905]\n",
      "Maxima 2: [313.571861333325, 355.2800732283905]\n",
      "[ 2.20640386e-042  4.03399378e-042  7.36104272e-042 ... -2.56759809e-211\n",
      " -6.52003023e-212 -1.65245505e-212]\n",
      "Maxima: [313.88377798311495]\n",
      "Maxima 2: [313.88377798311495, 346.49115806102986]\n",
      "[ 5.97443592e-045  1.13426150e-044  2.14897098e-044 ... -1.12261862e-224\n",
      " -2.61453430e-225 -6.07660642e-226]\n",
      "Maxima: [313.70567331938827]\n",
      "Maxima 2: [313.70567331938827, 349.75251935348086]\n",
      "[ 3.55720731e-040  6.29567583e-040  1.11217614e-039 ... -1.55830544e-200\n",
      " -4.24943820e-201 -1.15667693e-201]\n",
      "Maxima: [313.3185267950514]\n",
      "Maxima 2: [313.3185267950514, 350.56161109751736]\n",
      "[ 2.38624226e-047  4.72245136e-047  9.32517478e-047 ... -3.18250312e-242\n",
      " -6.63948898e-243 -1.38210378e-243]\n",
      "Maxima: [311.4082142576118, 348.33764636713977]\n",
      "Maxima 2: [311.4082142576118, 348.33764636713977]\n",
      "[ 5.85371908e-048  1.16734912e-047  2.32271608e-047 ... -1.11041769e-244\n",
      " -2.27986991e-245 -4.67050560e-246]\n",
      "Maxima: [311.91670728866694]\n",
      "Maxima 2: [311.91670728866694, 348.1362429730166]\n",
      "[ 8.78623632e-047  1.71930387e-046  3.35706560e-046 ... -8.16020435e-236\n",
      " -1.76787570e-236 -3.82176039e-237]\n",
      "Maxima: [312.90508276510593, 350.8292992387884]\n",
      "Maxima 2: [312.90508276510593, 350.8292992387884]\n",
      "[ 6.96660432e-047  1.36409191e-046  2.66514999e-046 ... -1.28476397e-236\n",
      " -2.77281577e-237 -5.97142289e-238]\n",
      "Maxima: [312.69225651009, 351.29460025378853]\n",
      "Maxima 2: [312.69225651009, 351.29460025378853]\n",
      "[ 1.98633058e-039  3.47819268e-039  6.07955338e-039 ... -3.20297678e-195\n",
      " -9.01232723e-196 -2.53127659e-196]\n",
      "Maxima: [314.4189624865334, 353.98851216827376]\n",
      "Maxima 2: [314.4189624865334, 353.98851216827376]\n",
      "[ 2.38002801e-038  4.09516015e-038  7.03398098e-038 ... -1.26463037e-188\n",
      " -3.71277984e-189 -1.08812755e-189]\n",
      "Maxima: [314.94030696324]\n",
      "Maxima 2: [314.94030696324, 350.1354886872198]\n",
      "[ 3.32215243e-042  6.05437373e-042  1.10123290e-041 ... -2.92558954e-209\n",
      " -7.51674744e-210 -1.92757092e-210]\n",
      "Maxima: [314.2500710244889, 351.0823227387971]\n",
      "Maxima 2: [314.2500710244889, 351.0823227387971]\n",
      "[ 6.35367186e-045  1.20593044e-044  2.28414306e-044 ... -1.72560569e-223\n",
      " -4.04114006e-224 -9.44437829e-225]\n",
      "Maxima: [314.1341807485322, 352.8810252649961]\n",
      "Maxima 2: [314.1341807485322, 352.8810252649961]\n",
      "[ 8.65834494e-040  1.51803598e-039  2.65671376e-039 ... -2.98814513e-195\n",
      " -8.40991276e-196 -2.36265524e-196]\n",
      "Maxima: [314.89878256926005, 355.1366909188713]\n",
      "Maxima 2: [314.89878256926005, 355.1366909188713]\n",
      "[ 4.29705432e-048  8.55075685e-048  1.69774275e-047 ... -4.37011685e-242\n",
      " -9.10368950e-243 -1.89225232e-243]\n",
      "Maxima: [312.93724935402435, 351.6673354312009]\n",
      "Maxima 2: [312.93724935402435, 351.6673354312009]\n",
      "[ 5.26966757e-037  8.84161516e-037  1.48101638e-036 ... -1.70747029e-178\n",
      " -5.34922231e-179 -1.67305992e-179]\n",
      "Maxima: [316.42632853364927, 354.8817509308376]\n",
      "Maxima 2: [316.42632853364927, 354.8817509308376]\n",
      "[ 1.76067285e-048  3.53819348e-048  7.09414624e-048 ... -1.93121797e-247\n",
      " -3.89516681e-248 -7.83862935e-249]\n",
      "Maxima: [312.3078077913207]\n",
      "Maxima 2: [312.3078077913207, 345.9781701888178]\n",
      "[ 2.13816947e-043  3.95786230e-043  7.31170883e-043 ... -2.73056075e-214\n",
      " -6.78832706e-215 -1.68429002e-215]\n",
      "Maxima: [314.8179675901058, 349.0991353770162]\n",
      "Maxima 2: [314.8179675901058, 349.0991353770162]\n",
      "[ 1.45294054e-040  2.58776240e-040  4.60033921e-040 ... -7.13685408e-203\n",
      " -1.91695385e-203 -5.13935950e-204]\n",
      "Maxima: [313.16927057477403]\n",
      "Maxima 2: [313.16927057477403, 348.2455269956265]\n",
      "[ 1.55903125e-050  3.21795269e-050  6.62657116e-050 ... -5.95828547e-254\n",
      " -1.14669425e-254 -2.20171921e-255]\n",
      "Maxima: [313.2205621848272, 353.9357938996403]\n",
      "Maxima 2: [313.2205621848272, 353.9357938996403]\n",
      "[ 1.88308929e-039  3.30118510e-039  5.77670039e-039 ... -2.82370905e-197\n",
      " -7.86338790e-198 -2.18581828e-198]\n",
      "Maxima: [313.0852119441777, 353.99638825516905]\n",
      "Maxima 2: [313.0852119441777, 353.99638825516905]\n",
      "[ 7.61713005e-048  1.50935188e-047  2.98422120e-047 ... -1.11716232e-239\n",
      " -2.36003164e-240 -4.97467079e-241]\n",
      "Maxima: [313.5073317515571, 351.5469943659148]\n",
      "Maxima 2: [313.5073317515571, 351.5469943659148]\n",
      "[ 6.97766365e-042  1.26342179e-041  2.28326445e-041 ... -5.32272651e-207\n",
      " -1.38857005e-207 -3.61555115e-208]\n",
      "Maxima: [314.34602830434875, 354.21263912916453]\n",
      "Maxima 2: [314.34602830434875, 354.21263912916453]\n",
      "[ 7.80073950e-036  1.28947436e-035  2.12808176e-035 ... -3.98994285e-174\n",
      " -1.28721935e-174 -4.14610814e-175]\n",
      "Maxima: [315.6904501066697, 352.77465611504493]\n",
      "Maxima 2: [315.6904501066697, 352.77465611504493]\n",
      "[ 1.19464614e-042  2.19627502e-042  4.02978199e-042 ... -1.55731452e-212\n",
      " -3.91594605e-213 -9.82761250e-214]\n",
      "Maxima: [314.2485897178776]\n",
      "Maxima 2: [314.2485897178776, 348.8079174131226]\n",
      "[ 1.14669924e-042  2.11194842e-042  3.88205181e-042 ... -2.19505991e-213\n",
      " -5.48887200e-214 -1.36983306e-214]\n",
      "Maxima: [313.82472150186214, 351.2813467628781]\n",
      "Maxima 2: [313.82472150186214, 351.2813467628781]\n",
      "[ 8.89484171e-045  1.69064128e-044  3.20675442e-044 ... -4.73234843e-224\n",
      " -1.10314332e-224 -2.56620725e-225]\n",
      "Maxima: [313.94137438426736, 352.74071905151294]\n",
      "Maxima 2: [313.94137438426736, 352.74071905151294]\n",
      "[ 5.55110718e-037  9.36577436e-037  1.57752833e-036 ... -1.98391635e-181\n",
      " -6.09860531e-182 -1.87158962e-182]\n",
      "Maxima: [315.2565521915765, 354.1604576807655]\n",
      "Maxima 2: [315.2565521915765, 354.1604576807655]\n",
      "[ 1.96269174e-043  3.63666908e-043  6.72500187e-043 ... -2.73931015e-215\n",
      " -6.77374079e-216 -1.67169269e-216]\n",
      "Maxima: [314.30602291861237]\n",
      "Maxima 2: [314.30602291861237, 348.03948299240074]\n",
      "[ 1.97966182e-032  3.10344837e-032  4.85815168e-032 ... -1.60879799e-155\n",
      " -5.86229874e-156 -2.13309846e-156]\n",
      "Maxima: [316.3261800421477, 354.109416893971]\n",
      "Maxima 2: [316.3261800421477, 354.109416893971]\n",
      "[ 1.49449742e-037  2.53333327e-037  4.28696314e-037 ... -1.17910716e-184\n",
      " -3.56455274e-185 -1.07577301e-185]\n",
      "Maxima: [314.17548174956966, 354.2244058192783]\n",
      "Maxima 2: [314.17548174956966, 354.2244058192783]\n",
      "[ 1.32746514e-033  2.11642887e-033  3.36923697e-033 ... -1.43634904e-162\n",
      " -5.01133192e-163 -1.74581094e-163]\n",
      "Maxima: [315.12464358345005, 360.40504961080586]\n",
      "Maxima 2: [315.12464358345005, 360.40504961080586]\n",
      "[ 1.54770696e-033  2.45734236e-033  3.89582499e-033 ... -1.97763444e-159\n",
      " -7.02565771e-160 -2.49223088e-160]\n",
      "Maxima: [316.96720291073365]\n",
      "Maxima 2: [316.96720291073365, 352.8209060490413]\n",
      "[ 3.12663789e-040  5.49869774e-040  9.65278709e-040 ... -7.07501303e-197\n",
      " -1.97449826e-197 -5.50047799e-198]\n",
      "Maxima: [314.6252760188738, 352.50208848220905]\n",
      "Maxima 2: [314.6252760188738, 352.50208848220905]\n",
      "[ 1.23261727e-038  2.10894939e-038  3.60214291e-038 ... -1.83328286e-183\n",
      " -5.54792046e-184 -1.67606667e-184]\n",
      "Maxima: [318.0474060605151, 356.22099971245615]\n",
      "Maxima 2: [318.0474060605151, 356.22099971245615]\n",
      "[ 5.55022511e-042  1.00434625e-041  1.81396953e-041 ... -3.06626350e-205\n",
      " -8.07174230e-206 -2.12081255e-206]\n",
      "Maxima: [315.549077975979, 358.2114930897505]\n",
      "Maxima 2: [315.549077975979, 358.2114930897505]\n",
      "[ 3.54809150e-044  6.68342810e-044  1.25636467e-043 ... -1.02609889e-221\n",
      " -2.43253172e-222 -5.75497392e-223]\n",
      "Maxima: [313.56602015978234, 350.2353734037153]\n",
      "Maxima 2: [313.56602015978234, 350.2353734037153]\n",
      "[ 3.26452011e-040  5.79196666e-040  1.02572563e-039 ... -2.73642652e-199\n",
      " -7.48710906e-200 -2.04477971e-200]\n",
      "Maxima: [314.7656053310058]\n",
      "Maxima 2: [314.7656053310058, 348.8348848000707]\n",
      "[ 3.15385579e-041  5.69442104e-041  1.02619754e-040 ... -1.87925000e-205\n",
      " -4.93630915e-206 -1.29418794e-206]\n",
      "Maxima: [314.5439229562539]\n",
      "Maxima 2: [314.5439229562539, 349.4473313253835]\n",
      "[ 3.72968820e-039  6.53099476e-039  1.14157261e-038 ... -3.40766831e-194\n",
      " -9.62095472e-195 -2.71143974e-195]\n",
      "Maxima: [314.9742541004283, 354.4241135977764]\n",
      "Maxima 2: [314.9742541004283, 354.4241135977764]\n",
      "[ 3.99153157e-038  6.88089532e-038  1.18410378e-037 ... -1.23298716e-188\n",
      " -3.60924338e-189 -1.05467038e-189]\n",
      "Maxima: [315.1499352160324, 353.17049529891904]\n",
      "Maxima 2: [315.1499352160324, 353.17049529891904]\n"
     ]
    },
    {
     "name": "stdout",
     "output_type": "stream",
     "text": [
      "[ 3.68843072e-040  6.55926674e-040  1.16429732e-039 ... -4.94155028e-200\n",
      " -1.34407073e-200 -3.64904756e-201]\n",
      "Maxima: [314.58931377374, 352.49875462238697]\n",
      "Maxima 2: [314.58931377374, 352.49875462238697]\n",
      "[ 1.97674711e-040  3.52707527e-040  6.28156946e-040 ... -1.74794017e-201\n",
      " -4.71320478e-202 -1.26852619e-202]\n",
      "Maxima: [314.38174782968736, 352.3356220746191]\n",
      "Maxima 2: [314.38174782968736, 352.3356220746191]\n",
      "[ 2.49910973e-039  4.38730797e-039  7.68817812e-039 ... -9.13848569e-196\n",
      " -2.55729854e-196 -7.14339557e-197]\n",
      "Maxima: [314.45127861182897, 353.28012290267486]\n",
      "Maxima 2: [314.45127861182897, 353.28012290267486]\n",
      "[ 6.11200840e-038  1.04748203e-037  1.79207584e-037 ... -5.12485584e-187\n",
      " -1.51878678e-187 -4.49327159e-188]\n",
      "Maxima: [315.06217438402086, 352.51782856013654]\n",
      "Maxima 2: [315.06217438402086, 352.51782856013654]\n",
      "[ 1.65917499e-041  2.99829691e-041  5.40792779e-041 ... -2.79534053e-205\n",
      " -7.35134540e-206 -1.92963993e-206]\n",
      "Maxima: [315.0106061505232, 351.7131765535708]\n",
      "Maxima 2: [315.0106061505232, 351.7131765535708]\n",
      "[ 4.71822987e-036  7.87045369e-036  1.31070453e-035 ... -9.47088941e-178\n",
      " -2.98152988e-178 -9.37077406e-179]\n",
      "Maxima: [314.9123532950489, 354.9766608152271]\n",
      "Maxima 2: [314.9123532950489, 354.9766608152271]\n",
      "[ 5.13455050e-040  9.08779113e-040  1.60552192e-039 ... -2.54135735e-198\n",
      " -6.99458306e-199 -1.92160211e-199]\n",
      "Maxima: [314.78671783184376]\n",
      "Maxima 2: [314.78671783184376, 350.02864588418106]\n",
      "[ 3.01331185e-041  5.42496412e-041  9.74827149e-041 ... -1.62892545e-204\n",
      " -4.30978249e-205 -1.13812772e-205]\n",
      "Maxima: [314.55152945754065, 354.61178040651225]\n",
      "Maxima 2: [314.55152945754065, 354.61178040651225]\n"
     ]
    },
    {
     "data": {
      "image/png": "[encoded data removed]",
      "text/plain": [
       "<matplotlib.figure.Figure at 0x7f57710b0f60>"
      ]
     },
     "metadata": {},
     "output_type": "display_data"
    }
   ],
   "source": [
    "fit_components = []\n",
    "#Taken from Peaks and Gaussian fittings of frequency band 73, in the middle\n",
    "expected=(1,315,25,0.5,350,5)\n",
    "\n",
    "#Loop thought all of the frequency bands\n",
    "for i in range(0,no_freq_bands):\n",
    "    freqband = i\n",
    "    f = averageprofiles['frequency'] == freqband\n",
    "    x=averageprofiles['phase'][f]\n",
    "    y=averageprofiles['intensity'][f]\n",
    "    \n",
    "    noise = sigmaClip(y)\n",
    "    error = np.nanstd(noise[1])\n",
    "\n",
    "    #Fit the gaussians and find peaks and errors, create array with all frequencies\n",
    "    #Resulting frequencies are in MHz and phase in degrees\n",
    "    if len(x)!=0 and len(y)!=0:\n",
    "        params,cov,sigma = fitting_parameters(x,y,expected)\n",
    "        fit = multi_gauss(x,*params)\n",
    "        profile_comp = gauss_peaks(fit, no_freq_bands, freqband, cov, params, 1113,1625,error)\n",
    "  \n",
    "        fit_components.append(profile_comp)"
   ]
  },
  {
   "cell_type": "markdown",
   "metadata": {
    "colab_type": "text",
    "id": "6a03g77-gZa5"
   },
   "source": [
    "# Change of Peak Position over Frequency"
   ]
  },
  {
   "cell_type": "markdown",
   "metadata": {
    "colab_type": "text",
    "id": "KszZ-DmF3pTJ"
   },
   "source": [
    "Starting to graph out all the movement of component phase across frequency"
   ]
  },
  {
   "cell_type": "markdown",
   "metadata": {},
   "source": [
    "## GMRT"
   ]
  },
  {
   "cell_type": "markdown",
   "metadata": {},
   "source": [
    "### Component 1"
   ]
  },
  {
   "cell_type": "code",
   "execution_count": 23,
   "metadata": {
    "colab": {},
    "colab_type": "code",
    "id": "CUJj3cbezRgq"
   },
   "outputs": [
    {
     "data": {
      "text/plain": [
       "<Container object of 3 artists>"
      ]
     },
     "execution_count": 23,
     "metadata": {},
     "output_type": "execute_result"
    },
    {
     "data": {
      "image/png": "[encoded data removed]",
      "text/plain": [
       "<matplotlib.figure.Figure at 0x7f5771147080>"
      ]
     },
     "metadata": {},
     "output_type": "display_data"
    }
   ],
   "source": [
    "#Separate the array into x and y axis of phase and frequency which can be graphed\n",
    "phase_comp1, frequency_comp1, comp1_err=graphing_comp(fit_components,1)\n",
    "#Plot points\n",
    "py.errorbar(phase_comp1,frequency_comp1, xerr=comp1_err, fmt='.', lw=0.5, color='red', label='data')\n",
    "py.title('Component 1 - Red Outliers Removed')\n",
    "py.xlabel('Phase (deg))')\n",
    "py.ylabel('Frequency')\n",
    "#Remove outliers which are greater than 'threshold' number of std away from the mean\n",
    "#frequency_comp1, phase_comp1, comp1_err = detect_outlier(frequency_comp1, phase_comp1, comp1_err,3)\n",
    "#Plot outlier removed points\n",
    "py.errorbar(phase_comp1,frequency_comp1, xerr=comp1_err, fmt='.', lw=0.5, color='blue',label='data')"
   ]
  },
  {
   "cell_type": "code",
   "execution_count": 24,
   "metadata": {},
   "outputs": [],
   "source": [
    "#Fit the thorsett model to the component position\n",
    "y_range=list(range(1113,1625))\n",
    "expect=(500,0.4,16)\n",
    "comp1_params,comp1_cov=curve_fit(thorsett,frequency_comp1,phase_comp1, expect, maxfev=100000, sigma=comp1_err, bounds=([0,-np.inf,0],[np.inf,np.inf,np.inf]))\n",
    "comp1_fit_error=np.sqrt(np.diag(comp1_cov))\n",
    "comp1_fit = thorsett(y_range, *comp1_params)\n",
    "#Fit a powerlaw to component position\n",
    "comp1_paramspl,comp1_covpl=curve_fit(powerlaw,frequency_comp1,phase_comp1, maxfev=10000, sigma=comp1_err)\n",
    "comp1_fit_errorpl=np.sqrt(np.diag(comp1_covpl))\n",
    "comp1_fitpl = powerlaw(y_range, *comp1_paramspl)\n",
    "comp1_fitpl2 = powerlaw(frequency_comp1, *comp1_paramspl)"
   ]
  },
  {
   "cell_type": "code",
   "execution_count": 25,
   "metadata": {},
   "outputs": [
    {
     "data": {
      "text/plain": [
       "<matplotlib.legend.Legend at 0x7f5770e94860>"
      ]
     },
     "execution_count": 25,
     "metadata": {},
     "output_type": "execute_result"
    },
    {
     "data": {
      "image/png": "[encoded data removed]",
      "text/plain": [
       "<matplotlib.figure.Figure at 0x7f576fef74a8>"
      ]
     },
     "metadata": {},
     "output_type": "display_data"
    }
   ],
   "source": [
    "#Graph points with the fit ontop\n",
    "py.errorbar(phase_comp1,frequency_comp1, xerr=comp1_err, fmt='.', lw=0.5, label='GMRT data', zorder=0)\n",
    "py.plot(comp1_fitpl,y_range, color='red',lw=2, label='power law', zorder=1)\n",
    "py.title('Component 1 - Position')\n",
    "py.xlabel('Phase (deg))')\n",
    "py.ylabel('Frequency')\n",
    "py.legend(loc='lower right')"
   ]
  },
  {
   "cell_type": "code",
   "execution_count": 26,
   "metadata": {},
   "outputs": [
    {
     "name": "stdout",
     "output_type": "stream",
     "text": [
      "The thorsett equation of fit for this pulse is: \t Phase = 140.402 ν^-0.036 + 2.060\n",
      "The errors are 3447.3939254703014, 1.2140684891117226, 3595.370921184786 \n",
      "\n",
      "The power law equation of fit for this pulse is: \t Phase = 142.379 ν^-0.036\n",
      "The errors are 1.944363054016229, 0.001898596038128119\n"
     ]
    }
   ],
   "source": [
    "print(f'The thorsett equation of fit for this pulse is: \\t Phase = {comp1_params[0]:.3f} \\u03BD^{comp1_params[1]:.3f} + {comp1_params[2]:.3f}')\n",
    "print(f'The errors are {comp1_fit_error[0]}, {comp1_fit_error[1]}, {comp1_fit_error[2]} \\n')\n",
    "\n",
    "print(f'The power law equation of fit for this pulse is: \\t Phase = {comp1_paramspl[0]:.3f} \\u03BD^{comp1_paramspl[1]:.3f}')\n",
    "print(f'The errors are {comp1_fit_errorpl[0]}, {comp1_fit_errorpl[1]}')"
   ]
  },
  {
   "cell_type": "code",
   "execution_count": 27,
   "metadata": {},
   "outputs": [
    {
     "name": "stdout",
     "output_type": "stream",
     "text": [
      "The chi squared reduced value is 1.4795605775954792\n"
     ]
    }
   ],
   "source": [
    "print('The chi squared reduced value is', chsq_err(phase_comp1, comp1_fitpl2, comp1_err)/(len(phase_comp1)-2))"
   ]
  },
  {
   "cell_type": "markdown",
   "metadata": {},
   "source": [
    "### Component 2"
   ]
  },
  {
   "cell_type": "code",
   "execution_count": 28,
   "metadata": {
    "colab": {},
    "colab_type": "code",
    "id": "ylBJ8twuzL8g"
   },
   "outputs": [
    {
     "data": {
      "text/plain": [
       "[115, 130, 1100, 1650]"
      ]
     },
     "execution_count": 28,
     "metadata": {},
     "output_type": "execute_result"
    },
    {
     "data": {
      "image/png": "[encoded data removed]",
      "text/plain": [
       "<matplotlib.figure.Figure at 0x7f5770e64cc0>"
      ]
     },
     "metadata": {},
     "output_type": "display_data"
    }
   ],
   "source": [
    "#Separate the array into x and y axis of phase and frequency which can be graphed\n",
    "phase_comp2, frequency_comp2, comp2_err=graphing_comp(fit_components,2)\n",
    "#Plot points\n",
    "py.errorbar(phase_comp2,frequency_comp2, xerr=comp2_err, fmt='.', lw=0.5, color='red', label='data')\n",
    "py.title('Component 2 - Red Outliers Removed')\n",
    "py.xlabel('Phase (deg))')\n",
    "py.ylabel('Frequency')\n",
    "\n",
    "#Remove outliers which are greater than 'threshold' number of std away from the mean\n",
    "frequency_comp2, phase_comp2, comp2_err = detect_outlier(frequency_comp2, phase_comp2, comp2_err,3)\n",
    "#Plot outlier removed points\n",
    "py.errorbar(phase_comp2,frequency_comp2, xerr=comp2_err, fmt='.', lw=0.5, color='blue',label='data')\n",
    "py.axis([115,130,1100,1650])"
   ]
  },
  {
   "cell_type": "code",
   "execution_count": 29,
   "metadata": {},
   "outputs": [],
   "source": [
    "#Temporary for viewing\n",
    "#print(comp2_err)\n",
    "#ind=comp2_err.index(0)\n",
    "#del comp2_err[ind]\n",
    "#del phase_comp2[ind]\n",
    "#del frequency_comp2[ind]"
   ]
  },
  {
   "cell_type": "code",
   "execution_count": 30,
   "metadata": {},
   "outputs": [],
   "source": [
    "#Fit the thorsett model to the component position\n",
    "#expect=(700,0.4,16)\n",
    "comp2_params,comp2_cov=curve_fit(thorsett,frequency_comp2,phase_comp2, expect, maxfev=10000, sigma=comp2_err, bounds=([0,-np.inf,0],[np.inf,np.inf,np.inf]))\n",
    "comp2_fit_error=np.sqrt(np.diag(comp2_cov))\n",
    "comp2_fit = thorsett(y_range, *comp2_params)\n",
    "#Fit a powerlaw to the component position\n",
    "comp2_paramspl,comp2_covpl=curve_fit(powerlaw,frequency_comp2,phase_comp2, maxfev=10000, sigma=comp2_err)\n",
    "comp2_fit_errorpl=np.sqrt(np.diag(comp2_covpl))\n",
    "comp2_fitpl = powerlaw(y_range, *comp2_paramspl)\n",
    "comp2_fitpl2 = powerlaw(frequency_comp2, *comp2_paramspl)"
   ]
  },
  {
   "cell_type": "code",
   "execution_count": 31,
   "metadata": {},
   "outputs": [
    {
     "data": {
      "text/plain": [
       "[115, 130, 1100, 1650]"
      ]
     },
     "execution_count": 31,
     "metadata": {},
     "output_type": "execute_result"
    },
    {
     "data": {
      "image/png": "[encoded data removed]",
      "text/plain": [
       "<matplotlib.figure.Figure at 0x7f5770e2e080>"
      ]
     },
     "metadata": {},
     "output_type": "display_data"
    }
   ],
   "source": [
    "#Graph points with the fit ontop\n",
    "py.errorbar( phase_comp2,frequency_comp2, xerr=comp2_err, fmt='.', lw=0.5, label='GMRT data', zorder=0)\n",
    "py.plot(comp2_fitpl,y_range, color='red',lw=2, label='power law', zorder=1)\n",
    "py.title('Component 2 - Position')\n",
    "py.xlabel('Phase (deg))')\n",
    "py.ylabel('Frequency')\n",
    "py.legend(loc='lower right')\n",
    "py.axis([115,130,1100,1650])"
   ]
  },
  {
   "cell_type": "code",
   "execution_count": 32,
   "metadata": {},
   "outputs": [
    {
     "name": "stdout",
     "output_type": "stream",
     "text": [
      "The thorsett equation of fit for this pulse is: \t Phase = 123.399 ν^-0.011 + 10.101\n",
      "The errors are 174255.88823882275, 16.3239477346141, 174795.5018742669 \n",
      "\n",
      "The power law equation of fit for this pulse is: \t Phase = 133.472 ν^-0.010\n",
      "The errors are 6.698228012559307, 0.007029279529709843\n"
     ]
    }
   ],
   "source": [
    "print(f'The thorsett equation of fit for this pulse is: \\t Phase = {comp2_params[0]:.3f} \\u03BD^{comp2_params[1]:.3f} + {comp2_params[2]:.3f}')\n",
    "print(f'The errors are {comp2_fit_error[0]}, {comp2_fit_error[1]}, {comp2_fit_error[2]} \\n')\n",
    "\n",
    "print(f'The power law equation of fit for this pulse is: \\t Phase = {comp2_paramspl[0]:.3f} \\u03BD^{comp2_paramspl[1]:.3f}')\n",
    "print(f'The errors are {comp2_fit_errorpl[0]}, {comp2_fit_errorpl[1]}')"
   ]
  },
  {
   "cell_type": "code",
   "execution_count": 33,
   "metadata": {},
   "outputs": [
    {
     "name": "stdout",
     "output_type": "stream",
     "text": [
      "The chi squared reduced value is 1.31535832400596\n"
     ]
    }
   ],
   "source": [
    "print('The chi squared reduced value is',chsq_err(phase_comp2, comp2_fitpl2, comp2_err)/(len(phase_comp2)-2))"
   ]
  },
  {
   "cell_type": "markdown",
   "metadata": {},
   "source": [
    "# Both Component Movements"
   ]
  },
  {
   "cell_type": "code",
   "execution_count": 34,
   "metadata": {},
   "outputs": [
    {
     "data": {
      "text/plain": [
       "<matplotlib.legend.Legend at 0x7f5770cfb898>"
      ]
     },
     "execution_count": 34,
     "metadata": {},
     "output_type": "execute_result"
    },
    {
     "data": {
      "image/png": "[encoded data removed]",
      "text/plain": [
       "<matplotlib.figure.Figure at 0x7f5771062ba8>"
      ]
     },
     "metadata": {},
     "output_type": "display_data"
    }
   ],
   "source": [
    "py.plot(comp1_fitpl,y_range, color='red',lw=2, label='Component 1', zorder=1)\n",
    "py.plot(comp2_fitpl,y_range, color='red',lw=2, label='Component 2', zorder=1)\n",
    "py.title('Component Positions')\n",
    "py.xlabel('Phase (deg))')\n",
    "py.ylabel('Frequency')\n",
    "py.legend(loc='lower right')"
   ]
  },
  {
   "cell_type": "markdown",
   "metadata": {
    "colab_type": "text",
    "id": "onWmCTwBgzh2"
   },
   "source": [
    "# Fitting Power Laws to Separation "
   ]
  },
  {
   "cell_type": "markdown",
   "metadata": {
    "colab_type": "text",
    "id": "pRvVTEsj_64Q"
   },
   "source": [
    "## Just GMRT"
   ]
  },
  {
   "cell_type": "code",
   "execution_count": 35,
   "metadata": {
    "colab": {},
    "colab_type": "code",
    "id": "pacJRC6tIbBS"
   },
   "outputs": [],
   "source": [
    "#Gain component separation values\n",
    "component_sep, sep_error = separation_singleprofile(fit_components)\n",
    "\n",
    "comp_sep=[]\n",
    "frequency_forsep=[]\n",
    "\n",
    "#Put them into arrays for graphing\n",
    "for i in range(0,len(component_sep)):\n",
    "    comp_sep.append(component_sep[i][1])\n",
    "    frequency_forsep.append(component_sep[i][0])"
   ]
  },
  {
   "cell_type": "code",
   "execution_count": 36,
   "metadata": {
    "colab": {
     "base_uri": "https://localhost:8080/"
    },
    "colab_type": "code",
    "id": "oE8r2963KMSz",
    "outputId": "25557bf4-1b1c-415d-c785-7fa822a71292"
   },
   "outputs": [
    {
     "data": {
      "text/plain": [
       "Text(0.5,1,'Component Separation - Red Outliers Removed')"
      ]
     },
     "execution_count": 36,
     "metadata": {},
     "output_type": "execute_result"
    },
    {
     "data": {
      "image/png": "[encoded data removed]",
      "text/plain": [
       "<matplotlib.figure.Figure at 0x7f5770d0d320>"
      ]
     },
     "metadata": {},
     "output_type": "display_data"
    }
   ],
   "source": [
    "#Plot points\n",
    "py.errorbar(frequency_forsep, comp_sep, yerr=sep_error, color='red', fmt='.', lw=0.5, label='data')\n",
    "py.xlabel('Frequency')\n",
    "py.ylabel('\\u0394\\u03B8 (deg)')\n",
    "\n",
    "#Remove outliers\n",
    "frequency_forsep, comp_sep, sep_error = detect_outlier(frequency_forsep, comp_sep, sep_error, 2.5)\n",
    "\n",
    "#Plot points with outliers removed\n",
    "py.errorbar(frequency_forsep, comp_sep, yerr=sep_error, color='blue', fmt='.', lw=0.5, label='data')\n",
    "py.title('Component Separation - Red Outliers Removed')"
   ]
  },
  {
   "cell_type": "code",
   "execution_count": 37,
   "metadata": {
    "colab": {},
    "colab_type": "code",
    "id": "Eb9tysocAfn3"
   },
   "outputs": [],
   "source": [
    "#Create a thorsett fit\n",
    "expect=(703,0.4,16)\n",
    "sep_params,sep_cov=curve_fit(thorsett,frequency_forsep,comp_sep, expect, maxfev=10000, sigma=sep_error, bounds=([0,-1,-np.inf],[np.inf,0.5,np.inf]))\n",
    "sep_fit_error=np.sqrt(np.diag(sep_cov))\n",
    "separation_fit=thorsett(frequency_forsep,*sep_params)"
   ]
  },
  {
   "cell_type": "code",
   "execution_count": 38,
   "metadata": {
    "colab": {
     "base_uri": "https://localhost:8080/",
     "height": 300
    },
    "colab_type": "code",
    "id": "oY7ok57vApBN",
    "outputId": "c54100cc-1569-4c6b-fb74-c413acbdf635"
   },
   "outputs": [
    {
     "data": {
      "text/plain": [
       "<matplotlib.legend.Legend at 0x7f5770bf9b00>"
      ]
     },
     "execution_count": 38,
     "metadata": {},
     "output_type": "execute_result"
    },
    {
     "data": {
      "image/png": "[encoded data removed]",
      "text/plain": [
       "<matplotlib.figure.Figure at 0x7f5770d353c8>"
      ]
     },
     "metadata": {},
     "output_type": "display_data"
    }
   ],
   "source": [
    "#Plot the thorsett fit\n",
    "py.errorbar(frequency_forsep, comp_sep, yerr=sep_error, fmt='.', lw=0.5, label='data',zorder=1)\n",
    "py.plot(frequency_forsep,separation_fit, color='red',lw=2,label='thorsett fit',zorder=2)\n",
    "py.title('Component Separation - Fit Peaks')\n",
    "py.xlabel('Frequency')\n",
    "py.ylabel('\\u0394\\u03B8 (deg)')\n",
    "py.legend(loc='lower left')"
   ]
  },
  {
   "cell_type": "code",
   "execution_count": 39,
   "metadata": {},
   "outputs": [
    {
     "name": "stdout",
     "output_type": "stream",
     "text": [
      "The equation of fit for this pulsar is: \t Δθ = 1429.573 ν^0.002 + -1433.916 \n",
      "\n",
      "The errors are 4616380.793, 5.717, 4616759.859 \n",
      "Units for Δθ is degrees and ν is MHz\n",
      "The chi squared reduced value is 0.6647810861360745\n"
     ]
    }
   ],
   "source": [
    "#chi, p = sp.stats.chisquare(comp_sep, separation_fit)\n",
    "print(f'The equation of fit for this pulsar is: \\t \\u0394\\u03B8 = {sep_params[0]:.3f} \\u03BD^{sep_params[1]:.3f} + {sep_params[2]:.3f} \\n')\n",
    "print(f'The errors are {sep_fit_error[0]:.3f}, {sep_fit_error[1]:.3f}, {sep_fit_error[2]:.3f} ')\n",
    "#print('The chi squared value for the fit is: ', chi)\n",
    "print('Units for \\u0394\\u03B8 is degrees and \\u03BD is MHz')\n",
    "print('The chi squared reduced value is',chsq_err(comp_sep, separation_fit, sep_error)/(len(comp_sep)-2))"
   ]
  },
  {
   "cell_type": "markdown",
   "metadata": {
    "colab_type": "text",
    "id": "e6XHCJRCjogM"
   },
   "source": [
    "# Change in Intensity over Frequency for GMRT"
   ]
  },
  {
   "cell_type": "markdown",
   "metadata": {
    "colab_type": "text",
    "id": "S8Wdb29Jkmx7"
   },
   "source": [
    "## Fit Peaks (fit_components)"
   ]
  },
  {
   "cell_type": "code",
   "execution_count": 40,
   "metadata": {
    "colab": {},
    "colab_type": "code",
    "id": "qLKpI3HvjyrZ"
   },
   "outputs": [
    {
     "data": {
      "text/plain": [
       "Text(0,0.5,'Intensity')"
      ]
     },
     "execution_count": 40,
     "metadata": {},
     "output_type": "execute_result"
    },
    {
     "data": {
      "image/png": "[encoded data removed]",
      "text/plain": [
       "<matplotlib.figure.Figure at 0x7f5770bd8390>"
      ]
     },
     "metadata": {},
     "output_type": "display_data"
    }
   ],
   "source": [
    "#Find intensity of components at each frequency and graph\n",
    "intensity_comp1=[]\n",
    "frequency_comp1=[]\n",
    "\n",
    "for i in range(0,len(fit_components)):\n",
    "  if fit_components[i][1][0] != 0:\n",
    "    intensity_comp1.append(fit_components[i][1][1])\n",
    "    frequency_comp1.append(fit_components[i][0])\n",
    "    \n",
    "py.plot(frequency_comp1,intensity_comp1, '.')\n",
    "py.title('Component 1')\n",
    "py.xlabel('Frequency')\n",
    "py.ylabel('Intensity')"
   ]
  },
  {
   "cell_type": "code",
   "execution_count": 41,
   "metadata": {
    "colab": {},
    "colab_type": "code",
    "id": "IDYE2r0PksL3"
   },
   "outputs": [
    {
     "data": {
      "text/plain": [
       "Text(0,0.5,'Intensity')"
      ]
     },
     "execution_count": 41,
     "metadata": {},
     "output_type": "execute_result"
    },
    {
     "data": {
      "image/png": "[encoded data removed]",
      "text/plain": [
       "<matplotlib.figure.Figure at 0x7f5770bc7438>"
      ]
     },
     "metadata": {},
     "output_type": "display_data"
    }
   ],
   "source": [
    "#Find intensity of components at each frequency and graph\n",
    "intensity_comp2=[]\n",
    "frequency_comp2=[]\n",
    "\n",
    "for i in range(0,len(fit_components)):\n",
    "  if fit_components[i][1][0] != 0:\n",
    "    intensity_comp2.append(fit_components[i][2][1])\n",
    "    frequency_comp2.append(fit_components[i][0])\n",
    "\n",
    "py.plot(frequency_comp2,intensity_comp2, '.')\n",
    "py.title('Component 2')\n",
    "py.xlabel('Frequency')\n",
    "py.ylabel('Intensity')"
   ]
  },
  {
   "cell_type": "code",
   "execution_count": null,
   "metadata": {},
   "outputs": [],
   "source": [
    "\n"
   ]
  }
 ],
 "metadata": {
  "colab": {
   "collapsed_sections": [
    "4z_feS2dDwlJ",
    "FamzMgIcD2xs",
    "HsEW4YA0D-QH",
    "eKWvXxMcEIfE",
    "er13GCy-EUTz",
    "6a03g77-gZa5",
    "IGeyAoMhEduw",
    "Y1RZQ9SHcgOZ",
    "pccDpOhFgn-A",
    "KZFBrw4AEiXX",
    "jBHxooGJctvn",
    "S8Wdb29Jkmx7",
    "G6J_t2-wlTKi",
    "8WslQQJrq_Aj",
    "-PbPFKZBj1oi",
    "BAAAMssWpRQc"
   ],
   "name": "Component Separation - RFI Removed.ipynb",
   "provenance": []
  },
  "kernelspec": {
   "display_name": "Python 3",
   "language": "python",
   "name": "python3"
  },
  "language_info": {
   "codemirror_mode": {
    "name": "ipython",
    "version": 3
   },
   "file_extension": ".py",
   "mimetype": "text/x-python",
   "name": "python",
   "nbconvert_exporter": "python",
   "pygments_lexer": "ipython3",
   "version": "3.8.2"
  }
 },
 "nbformat": 4,
 "nbformat_minor": 1
}
