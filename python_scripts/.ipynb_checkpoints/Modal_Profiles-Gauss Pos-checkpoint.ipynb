{
 "cells": [
  {
   "cell_type": "markdown",
   "metadata": {},
   "source": [
    "## Import Packages and Functions"
   ]
  },
  {
   "cell_type": "code",
   "execution_count": 202,
   "metadata": {},
   "outputs": [],
   "source": [
    "import numpy as np\n",
    "import matplotlib.pyplot as plt\n",
    "from scipy.optimize import curve_fit\n",
    "import collections as col\n",
    "import statistics\n",
    "from scipy.interpolate import UnivariateSpline\n",
    "import glob "
   ]
  },
  {
   "cell_type": "markdown",
   "metadata": {},
   "source": [
    "## Load Data"
   ]
  },
  {
   "cell_type": "code",
   "execution_count": 203,
   "metadata": {},
   "outputs": [],
   "source": [
    "fulldatatype=([('pulse','i8'),('frequency','i8'),('phase','i8'),('intensity','f8')])"
   ]
  },
  {
   "cell_type": "code",
   "execution_count": 204,
   "metadata": {},
   "outputs": [],
   "source": [
    "modedatatype=([('file','i8'),('start','i8'),('end','i8'),('length','i8'),('mode','U1')])"
   ]
  },
  {
   "cell_type": "code",
   "execution_count": 205,
   "metadata": {},
   "outputs": [],
   "source": [
    "mode_class = np.loadtxt(fname='mode_doc2.csv', delimiter=',', dtype=modedatatype)"
   ]
  },
  {
   "cell_type": "code",
   "execution_count": 206,
   "metadata": {},
   "outputs": [],
   "source": [
    "file_names = glob.glob(\"../Parkes_archive_files/4500nsub/2019*.Fp.pdv\")\n",
    "file_names=sorted(file_names)"
   ]
  },
  {
   "cell_type": "code",
   "execution_count": 207,
   "metadata": {},
   "outputs": [],
   "source": [
    "maxf=4032\n",
    "minf=704"
   ]
  },
  {
   "cell_type": "markdown",
   "metadata": {},
   "source": [
    "# FREQUENCY SCRUNCHED"
   ]
  },
  {
   "cell_type": "markdown",
   "metadata": {},
   "source": [
    "## Create an Array of Pulses For Each Mode"
   ]
  },
  {
   "cell_type": "code",
   "execution_count": 208,
   "metadata": {},
   "outputs": [
    {
     "name": "stdout",
     "output_type": "stream",
     "text": [
      "File: 0\n",
      "File: 1\n",
      "File: 2\n",
      "File: 3\n",
      "File: 4\n",
      "File: 5\n",
      "File: 6\n",
      "File: 7\n",
      "File: 8\n",
      "File: 9\n",
      "File: 10\n",
      "File: 11\n",
      "File: 12\n",
      "File: 13\n",
      "File: 14\n",
      "File: 15\n"
     ]
    }
   ],
   "source": [
    "#Creating arrays for each mode, which contain the pulses for that mode\n",
    "A=np.array([], dtype=fulldatatype)\n",
    "B=np.array([], dtype=fulldatatype)\n",
    "C=np.array([], dtype=fulldatatype)\n",
    "D=np.array([], dtype=fulldatatype)\n",
    "AVE=np.array([], dtype=fulldatatype)\n",
    "\n",
    "A_len=np.array([])\n",
    "B_len=np.array([])\n",
    "C_len=np.array([])\n",
    "D_len=np.array([])\n",
    "\n",
    "for a in range(16):\n",
    "    #Load in a file at a time\n",
    "    print('File:', a)\n",
    "    current_file = np.loadtxt(fname=file_names[a], dtype=fulldatatype)\n",
    "\n",
    "    f = mode_class['file'] == a\n",
    "    \n",
    "    #Mode Arrays\n",
    "    \n",
    "    #Mode A\n",
    "    #Isolate the pulses which are mode A and part of current file\n",
    "    m = mode_class['mode'] == 'A'\n",
    "    p = np.logical_and(f,m)\n",
    "    mA = mode_class[p]\n",
    "    \n",
    "    #Find the number of mode A bursts\n",
    "    num_A=np.sum(m)\n",
    "    \n",
    "    #For every burst\n",
    "    for segment in mA:\n",
    "        #Record the length of burst\n",
    "        A_len = np.append(A_len,segment[3])\n",
    "        #Then for every pulse in segment\n",
    "        for b in range(segment[1],segment[2]+1):\n",
    "            #Add all file lines for this pulse to an array\n",
    "            s = current_file['pulse'] == b\n",
    "            A = np.append(A,current_file[s])\n",
    "\n",
    "    #Mode B\n",
    "    m = mode_class['mode'] == 'B'\n",
    "    p = np.logical_and(f,m)\n",
    "    mB = mode_class[p]\n",
    "    \n",
    "    num_B=np.sum(m)\n",
    "    \n",
    "    for segment in mB:\n",
    "        B_len = np.append(B_len,segment[3])\n",
    "        for b in range(segment[1],segment[2]+1):\n",
    "            s = current_file['pulse'] == b\n",
    "            B = np.append(B,current_file[s])\n",
    "            \n",
    "    #Mode C\n",
    "    m = mode_class['mode'] == 'C'\n",
    "    p = np.logical_and(f,m)\n",
    "    mC = mode_class[p]\n",
    "    \n",
    "    num_C=np.sum(m)\n",
    "    \n",
    "    for segment in mC:\n",
    "        C_len = np.append(C_len,segment[3])\n",
    "        for b in range(segment[1],segment[2]+1):\n",
    "            s = current_file['pulse'] == b\n",
    "            C = np.append(C,current_file[s])\n",
    "            \n",
    "    #Mode D\n",
    "    m = mode_class['mode'] == 'D'\n",
    "    p = np.logical_and(f,m)\n",
    "    mD = mode_class[p]\n",
    "    \n",
    "    num_D=np.sum(m)\n",
    "    \n",
    "    for segment in mD:\n",
    "        D_len = np.append(D_len,segment[3])\n",
    "        for b in range(segment[1],segment[2]+1):\n",
    "            s = current_file['pulse'] == b\n",
    "            D = np.append(D,current_file[s])\n",
    "            \n",
    "    #Average\n",
    "    m = mode_class['mode'] != 'N'\n",
    "    p = np.logical_and(f,m)\n",
    "    mAVE = mode_class[p]\n",
    "    \n",
    "    num_AVE=np.sum(m)\n",
    "    \n",
    "    for segment in mAVE:\n",
    "        for b in range(segment[1],segment[2]+1):\n",
    "            s = current_file['pulse'] == b\n",
    "            AVE = np.append(AVE,current_file[s])"
   ]
  },
  {
   "cell_type": "code",
   "execution_count": 209,
   "metadata": {
    "scrolled": false
   },
   "outputs": [
    {
     "data": {
      "text/plain": [
       "[550, 850, -0.05, 1.05]"
      ]
     },
     "execution_count": 209,
     "metadata": {},
     "output_type": "execute_result"
    },
    {
     "data": {
      "image/png": "[encoded data removed]",
      "text/plain": [
       "<Figure size 432x288 with 1 Axes>"
      ]
     },
     "metadata": {
      "needs_background": "light"
     },
     "output_type": "display_data"
    }
   ],
   "source": [
    "#Averaging the modes together\n",
    "xA=np.array([])\n",
    "yA=np.array([])\n",
    "\n",
    "for c in range(1024):\n",
    "    xA=np.append(xA,c)\n",
    "    \n",
    "    ph = A['phase'] == c\n",
    "    it = A['intensity'][ph]\n",
    "    \n",
    "    yA=np.append(yA,sum(it)/len(it))\n",
    "    \n",
    "plt.plot(xA,yA/max(yA),color='lightseagreen')\n",
    "plt.title('Mode A')\n",
    "plt.xlabel('Phase Bin')\n",
    "plt.ylabel('Intensity')\n",
    "plt.axis([550,850,-0.05,1.05])"
   ]
  },
  {
   "cell_type": "code",
   "execution_count": 210,
   "metadata": {},
   "outputs": [
    {
     "name": "stdout",
     "output_type": "stream",
     "text": [
      "Mode A Profile Stats:\n",
      "Peak 1 Location:\t 245.67359663750054 degrees\n",
      "Peak 2 Location:\t 259.8199517442426 degrees\n",
      "W10:\t\t\t 118.30965952167946 bins \t\n",
      "\t\t\t 41.59323967559044 degrees\n",
      "W50:\t\t\t 89.74862860440066 bins \t\n",
      "\t\t\t 31.552252243734607 degrees\n"
     ]
    }
   ],
   "source": [
    "expectedA=(0.5,660,6,2,695,20,1,740,8)\n",
    "boundsA=([0,635,0,0,675,0,0,715,0],[np.inf,685,np.inf,np.inf,725,np.inf,np.inf,770,np.inf])\n",
    "\n",
    "\n",
    "noise = sigmaClip(yA)\n",
    "error = np.nanstd(noise[1])\n",
    "\n",
    "#Fits gaussians to the data\n",
    "params, cov, sigma = fitting_parameters(xA,yA,expectedA,boundsA)\n",
    "fit = multi_gauss(xA,*params)\n",
    "#Then finds the maxima of the fit. It only takes the largest two (given they are the outer maxima).\n",
    "#Error for the maxima position is calculated by finding the positions of the fit at an intensity-noise level\n",
    "profile_comp = gauss_peaks(fit, 1, 0, cov, params,minf,maxf,error)\n",
    "\n",
    "print('Mode A Profile Stats:')\n",
    "print('Peak 1 Location:\\t', profile_comp[1][0],'degrees')\n",
    "print('Peak 2 Location:\\t', profile_comp[2][0],'degrees')\n",
    "\n",
    "W10,W50,W10e,W50e=find_widths(fit,params, cov)\n",
    "print('W10:\\t\\t\\t',W10,'bins \\t')\n",
    "print('\\t\\t\\t', W10*(360/1024),'degrees')\n",
    "print('W50:\\t\\t\\t',W50,'bins \\t')\n",
    "print('\\t\\t\\t', W50*(360/1024),'degrees')"
   ]
  },
  {
   "cell_type": "code",
   "execution_count": 211,
   "metadata": {},
   "outputs": [
    {
     "data": {
      "text/plain": [
       "[550, 850, -0.05, 1.05]"
      ]
     },
     "execution_count": 211,
     "metadata": {},
     "output_type": "execute_result"
    },
    {
     "data": {
      "image/png": "[encoded data removed]",
      "text/plain": [
       "<Figure size 432x288 with 1 Axes>"
      ]
     },
     "metadata": {
      "needs_background": "light"
     },
     "output_type": "display_data"
    }
   ],
   "source": [
    "#Averaging the modes together\n",
    "xB=np.array([])\n",
    "yB=np.array([])\n",
    "\n",
    "for c in range(1024):\n",
    "    xB=np.append(xB,c)\n",
    "    \n",
    "    ph = B['phase'] == c\n",
    "    it = B['intensity'][ph]\n",
    "    \n",
    "    yB=np.append(yB,sum(it)/len(it))\n",
    "    \n",
    "plt.plot(xB,yB/max(yB),color='forestgreen')\n",
    "plt.title('Mode B')\n",
    "plt.xlabel('Phase Bin')\n",
    "plt.ylabel('Intensity')\n",
    "plt.axis([550,850,-0.05,1.05])"
   ]
  },
  {
   "cell_type": "code",
   "execution_count": 212,
   "metadata": {},
   "outputs": [
    {
     "name": "stdout",
     "output_type": "stream",
     "text": [
      "Mode B Profile Stats:\n",
      "Peak 1 Location:\t 243.9073859340731 degrees\n",
      "Peak 2 Location:\t Peak currently unresolvable\n",
      "W10:\t\t\t 118.53454202916134 bins \t\n",
      "\t\t\t 41.67229993212703 degrees\n",
      "W50:\t\t\t 79.20195636245603 bins \t\n",
      "\t\t\t 27.84443778367595 degrees\n"
     ]
    }
   ],
   "source": [
    "expectedB=(0.2,660,6,2,685,20,1,740,8)\n",
    "boundsB=([0,635,0,0,675,0,0,715,0],[np.inf,685,np.inf,np.inf,725,np.inf,np.inf,770,np.inf])\n",
    "\n",
    "noise = sigmaClip(yB)\n",
    "error = np.nanstd(noise[1])\n",
    "\n",
    "#Fits gaussians to the data\n",
    "params, cov, sigma = fitting_parameters(xB,yB,expectedB,boundsB)\n",
    "fit = multi_gauss(xB,*params)\n",
    "#Then finds the maxima of the fit. It only takes the largest two (given they are the outer maxima).\n",
    "#Error for the maxima position is calculated by finding the positions of the fit at an intensity-noise level\n",
    "profile_comp = gauss_peaks(fit, 1, 0, cov, params,minf,maxf,error)\n",
    "\n",
    "print('Mode B Profile Stats:')\n",
    "print('Peak 1 Location:\\t', 693.7810088791413*(360/1024),'degrees')\n",
    "print('Peak 2 Location:\\t', 'Peak currently unresolvable')\n",
    "\n",
    "W10,W50,W10e,W50e=find_widths(fit,params, cov)\n",
    "print('W10:\\t\\t\\t',W10,'bins \\t')\n",
    "print('\\t\\t\\t', W10*(360/1024),'degrees')\n",
    "print('W50:\\t\\t\\t',W50,'bins \\t')\n",
    "print('\\t\\t\\t', W50*(360/1024),'degrees')"
   ]
  },
  {
   "cell_type": "code",
   "execution_count": 213,
   "metadata": {},
   "outputs": [
    {
     "data": {
      "text/plain": [
       "[550, 850, -0.05, 1.05]"
      ]
     },
     "execution_count": 213,
     "metadata": {},
     "output_type": "execute_result"
    },
    {
     "data": {
      "image/png": "[encoded data removed]",
      "text/plain": [
       "<Figure size 432x288 with 1 Axes>"
      ]
     },
     "metadata": {
      "needs_background": "light"
     },
     "output_type": "display_data"
    }
   ],
   "source": [
    "#Averaging the modes together\n",
    "xC=np.array([])\n",
    "yC=np.array([])\n",
    "\n",
    "for c in range(1024):\n",
    "    xC=np.append(xC,c)\n",
    "    \n",
    "    ph = C['phase'] == c\n",
    "    it = C['intensity'][ph]\n",
    "    \n",
    "    yC=np.append(yC,sum(it)/len(it))\n",
    "    \n",
    "plt.plot(xC,yC/max(yC),color='magenta')\n",
    "plt.title('Mode C')\n",
    "plt.xlabel('Phase Bin')\n",
    "plt.ylabel('Intensity')\n",
    "plt.axis([550,850,-0.05,1.05])"
   ]
  },
  {
   "cell_type": "code",
   "execution_count": 214,
   "metadata": {},
   "outputs": [
    {
     "name": "stdout",
     "output_type": "stream",
     "text": [
      "Mode C Profile Stats:\n",
      "Peak 1 Location:\t 243.29305232827153 degrees\n",
      "Peak 2 Location:\t Peak currently unresolvable\n",
      "W10:\t\t\t 125.04971849210449 bins \t\n",
      "\t\t\t 43.962791657380485 degrees\n",
      "W50:\t\t\t 78.45727305714729 bins \t\n",
      "\t\t\t 27.582635059153343 degrees\n"
     ]
    }
   ],
   "source": [
    "expectedC=(0.5,660,6,2,695,20,1,740,8)\n",
    "boundsC=([0,635,0,0,675,0,0,715,0],[np.inf,685,np.inf,np.inf,725,np.inf,np.inf,770,np.inf])\n",
    "\n",
    "noise = sigmaClip(yC)\n",
    "error = np.nanstd(noise[1])\n",
    "\n",
    "#Fits gaussians to the data\n",
    "params, cov, sigma = fitting_parameters(xC,yC,expectedC,boundsC)\n",
    "fit = multi_gauss(xC,*params)\n",
    "#Then finds the maxima of the fit. It only takes the largest two (given they are the outer maxima).\n",
    "#Error for the maxima position is calculated by finding the positions of the fit at an intensity-noise level\n",
    "profile_comp = gauss_peaks(fit, 1, 0, cov, params,minf,maxf,error)\n",
    "\n",
    "print('Mode C Profile Stats:')\n",
    "print('Peak 1 Location:\\t', 692.0335710670835*(360/1024),'degrees')\n",
    "print('Peak 2 Location:\\t', 'Peak currently unresolvable')\n",
    "\n",
    "W10,W50,W10e,W50e=find_widths(fit,params, cov)\n",
    "print('W10:\\t\\t\\t',W10,'bins \\t')\n",
    "print('\\t\\t\\t', W10*(360/1024),'degrees')\n",
    "print('W50:\\t\\t\\t',W50,'bins \\t')\n",
    "print('\\t\\t\\t', W50*(360/1024),'degrees')"
   ]
  },
  {
   "cell_type": "code",
   "execution_count": 215,
   "metadata": {},
   "outputs": [
    {
     "data": {
      "text/plain": [
       "[550, 850, -0.05, 1.05]"
      ]
     },
     "execution_count": 215,
     "metadata": {},
     "output_type": "execute_result"
    },
    {
     "data": {
      "image/png": "[encoded data removed]",
      "text/plain": [
       "<Figure size 432x288 with 1 Axes>"
      ]
     },
     "metadata": {
      "needs_background": "light"
     },
     "output_type": "display_data"
    }
   ],
   "source": [
    "#Averaging the modes together\n",
    "xD=np.array([])\n",
    "yD=np.array([])\n",
    "\n",
    "for c in range(1024):\n",
    "    xD=np.append(xD,c)\n",
    "    \n",
    "    ph = D['phase'] == c\n",
    "    it = D['intensity'][ph]\n",
    "    \n",
    "    yD=np.append(yD,sum(it)/len(it))\n",
    "    \n",
    "plt.plot(xD,yD/max(yD),color='orangered')\n",
    "plt.title('Mode D')\n",
    "plt.xlabel('Phase Bin')\n",
    "plt.ylabel('Intensity')\n",
    "plt.axis([550,850,-0.05,1.05])"
   ]
  },
  {
   "cell_type": "code",
   "execution_count": 216,
   "metadata": {},
   "outputs": [
    {
     "name": "stdout",
     "output_type": "stream",
     "text": [
      "Mode D Profile Stats:\n",
      "Peak 1 Location:\t 244.1153844264283 degrees\n",
      "Peak 2 Location:\t 260.0229179067416 degrees\n",
      "W10:\t\t\t 124.2131859026988 bins \t\n",
      "\t\t\t 43.668698168917544 degrees\n",
      "W50:\t\t\t 76.9077302082278 bins \t\n",
      "\t\t\t 27.037873901330087 degrees\n"
     ]
    }
   ],
   "source": [
    "expectedD=(0.2,660,6,2,685,20,1,740,8)\n",
    "boundsD=([0,635,0,0,675,0,0,715,0],[np.inf,685,np.inf,np.inf,725,np.inf,np.inf,770,np.inf])\n",
    "\n",
    "noise = sigmaClip(yD)\n",
    "error = np.nanstd(noise[1])\n",
    "\n",
    "#Fits gaussians to the data\n",
    "params, cov, sigma = fitting_parameters(xD,yD,expectedD,boundsD)\n",
    "fit = multi_gauss(xD,*params)\n",
    "#Then finds the maxima of the fit. It only takes the largest two (given they are the outer maxima).\n",
    "#Error for the maxima position is calculated by finding the positions of the fit at an intensity-noise level\n",
    "profile_comp = gauss_peaks(fit, 1, 0, cov, params,minf,maxf,error)\n",
    "\n",
    "print('Mode D Profile Stats:')\n",
    "print('Peak 1 Location:\\t', profile_comp[1][0],'degrees')\n",
    "print('Peak 2 Location:\\t', profile_comp[2][0],'degrees')\n",
    "\n",
    "W10,W50,W10e,W50e=find_widths(fit,params, cov)\n",
    "print('W10:\\t\\t\\t',W10,'bins \\t')\n",
    "print('\\t\\t\\t', W10*(360/1024),'degrees')\n",
    "print('W50:\\t\\t\\t',W50,'bins \\t')\n",
    "print('\\t\\t\\t', W50*(360/1024),'degrees')"
   ]
  },
  {
   "cell_type": "code",
   "execution_count": 217,
   "metadata": {},
   "outputs": [
    {
     "data": {
      "text/plain": [
       "[550, 850, -0.05, 1.05]"
      ]
     },
     "execution_count": 217,
     "metadata": {},
     "output_type": "execute_result"
    },
    {
     "data": {
      "image/png": "[encoded data removed]",
      "text/plain": [
       "<Figure size 432x288 with 1 Axes>"
      ]
     },
     "metadata": {
      "needs_background": "light"
     },
     "output_type": "display_data"
    }
   ],
   "source": [
    "#Averaging the modes together\n",
    "xAVE=np.array([])\n",
    "yAVE=np.array([])\n",
    "\n",
    "for c in range(1024):\n",
    "    xAVE=np.append(xAVE,c)\n",
    "    \n",
    "    ph = AVE['phase'] == c\n",
    "    it = AVE['intensity'][ph]\n",
    "    \n",
    "    yAVE=np.append(yAVE,sum(it)/len(it))\n",
    "    \n",
    "plt.plot(xAVE,yAVE/max(yAVE),color='black')\n",
    "plt.title('Average Profile')\n",
    "plt.xlabel('Phase Bin')\n",
    "plt.ylabel('Intensity')\n",
    "plt.axis([550,850,-0.05,1.05])"
   ]
  },
  {
   "cell_type": "code",
   "execution_count": 218,
   "metadata": {},
   "outputs": [
    {
     "name": "stdout",
     "output_type": "stream",
     "text": [
      "Average Profile Stats:\n",
      "Peak 1 Location:\t 243.73934004936336 degrees\n",
      "Peak 2 Location:\t 258.5782646866862 degrees\n",
      "W10:\t\t\t 124.33169993532636 bins \t\n",
      "\t\t\t 43.71036325851317 degrees\n",
      "W50:\t\t\t 79.8971765606592 bins \t\n",
      "\t\t\t 28.088851134606752 degrees\n"
     ]
    }
   ],
   "source": [
    "expectedAVE=(0.15,660,6,0.55,695,20,0.1,715,10,0.25,740,8)\n",
    "boundsAVE=([0,625,0,0,675,0,0,712,0,0,720,0],[np.inf,675,np.inf,np.inf,725,np.inf,np.inf,740,np.inf,np.inf,760,np.inf])\n",
    "\n",
    "noise = sigmaClip(yAVE)\n",
    "error = np.nanstd(noise[1])\n",
    "\n",
    "#Fits gaussians to the data\n",
    "params, cov, sigma = fitting_parameters(xAVE,yAVE,expectedAVE,boundsAVE)\n",
    "fit = multi_gauss(xAVE,*params)\n",
    "#Then finds the maxima of the fit. It only takes the largest two (given they are the outer maxima).\n",
    "#Error for the maxima position is calculated by finding the positions of the fit at an intensity-noise level\n",
    "profile_comp = gauss_peaks(fit, 1, 0, cov, params,minf,maxf,error)\n",
    "\n",
    "print('Average Profile Stats:')\n",
    "print('Peak 1 Location:\\t', profile_comp[1][0],'degrees')\n",
    "print('Peak 2 Location:\\t', profile_comp[2][0],'degrees')\n",
    "\n",
    "W10,W50,W10e,W50e=find_widths(fit,params, cov)\n",
    "print('W10:\\t\\t\\t',W10,'bins \\t')\n",
    "print('\\t\\t\\t', W10*(360/1024),'degrees')\n",
    "print('W50:\\t\\t\\t',W50,'bins \\t')\n",
    "print('\\t\\t\\t', W50*(360/1024),'degrees')"
   ]
  },
  {
   "cell_type": "code",
   "execution_count": 219,
   "metadata": {},
   "outputs": [
    {
     "data": {
      "text/plain": [
       "[600, 800, -0.05, 1.05]"
      ]
     },
     "execution_count": 219,
     "metadata": {},
     "output_type": "execute_result"
    },
    {
     "data": {
      "image/png": "[encoded data removed]",
      "text/plain": [
       "<Figure size 432x288 with 1 Axes>"
      ]
     },
     "metadata": {
      "needs_background": "light"
     },
     "output_type": "display_data"
    }
   ],
   "source": [
    "plt.plot(xA,yA/max(yA),label='mode A', color='lightseagreen',lw=0.6)\n",
    "plt.plot(xA,yB/max(yB),label='mode B', color='forestgreen',lw=0.6)\n",
    "plt.plot(xA,yC/max(yC),label='mode C', color='magenta',lw=0.6)\n",
    "plt.plot(xA,yD/max(yD),label='mode D', color='orangered',lw=0.6)\n",
    "plt.plot(xAVE,yAVE/max(yAVE),label='average', color='black',lw=1)\n",
    "plt.title('Average Profile')\n",
    "plt.xlabel('Phase Bin')\n",
    "plt.ylabel('Normalised Intensity')\n",
    "plt.legend()\n",
    "plt.axis([600,800,-0.05,1.05])"
   ]
  },
  {
   "cell_type": "code",
   "execution_count": 220,
   "metadata": {},
   "outputs": [
    {
     "name": "stdout",
     "output_type": "stream",
     "text": [
      "Mode A Stats:\n",
      "Number of Bursts: 6\n",
      "Length Min, Ave and Max: 2.0 49.166666666666664 84.0\n"
     ]
    },
    {
     "data": {
      "image/png": "[encoded data removed]",
      "text/plain": [
       "<Figure size 432x288 with 1 Axes>"
      ]
     },
     "metadata": {
      "needs_background": "light"
     },
     "output_type": "display_data"
    }
   ],
   "source": [
    "plt.hist(A_len, range(1,int(max(A_len))));\n",
    "plt.title('Mode A Burst Length')\n",
    "plt.xlabel('Burst Length')\n",
    "plt.ylabel('Frequency')\n",
    "print('Mode A Stats:')\n",
    "print('Number of Bursts:', num_A)\n",
    "print('Length Min, Ave and Max:', min(A_len),np.average(A_len), max(A_len))"
   ]
  },
  {
   "cell_type": "code",
   "execution_count": 221,
   "metadata": {},
   "outputs": [
    {
     "name": "stdout",
     "output_type": "stream",
     "text": [
      "Mode B Stats:\n",
      "Number of Bursts: 7\n",
      "Length Min, Ave and Max: 13.0 22.0 28.0\n"
     ]
    },
    {
     "data": {
      "image/png": "[encoded data removed]",
      "text/plain": [
       "<Figure size 432x288 with 1 Axes>"
      ]
     },
     "metadata": {
      "needs_background": "light"
     },
     "output_type": "display_data"
    }
   ],
   "source": [
    "plt.hist(B_len, int(max(B_len)));\n",
    "plt.title('Mode B Burst Length')\n",
    "plt.xlabel('Burst Length')\n",
    "plt.ylabel('Frequency')\n",
    "print('Mode B Stats:')\n",
    "print('Number of Bursts:', num_B)\n",
    "print('Length Min, Ave and Max:', min(B_len),np.average(B_len), max(B_len))"
   ]
  },
  {
   "cell_type": "code",
   "execution_count": 222,
   "metadata": {},
   "outputs": [
    {
     "name": "stdout",
     "output_type": "stream",
     "text": [
      "Mode C Stats:\n",
      "Number of Bursts: 49\n",
      "Length Min, Ave and Max: 1.0 6.122448979591836 20.0\n"
     ]
    },
    {
     "data": {
      "image/png": "[encoded data removed]",
      "text/plain": [
       "<Figure size 432x288 with 1 Axes>"
      ]
     },
     "metadata": {
      "needs_background": "light"
     },
     "output_type": "display_data"
    }
   ],
   "source": [
    "plt.hist(C_len, int(max(C_len)));\n",
    "plt.title('Mode C Burst Length')\n",
    "plt.xlabel('Burst Length')\n",
    "plt.ylabel('Frequency')\n",
    "print('Mode C Stats:')\n",
    "print('Number of Bursts:', num_C)\n",
    "print('Length Min, Ave and Max:', min(C_len),np.average(C_len), max(C_len))"
   ]
  },
  {
   "cell_type": "code",
   "execution_count": 223,
   "metadata": {},
   "outputs": [
    {
     "name": "stdout",
     "output_type": "stream",
     "text": [
      "Mode D Stats:\n",
      "Number of Bursts: 7\n",
      "Length Min, Ave and Max: 6.0 22.0 44.0\n"
     ]
    },
    {
     "data": {
      "image/png": "[encoded data removed]",
      "text/plain": [
       "<Figure size 432x288 with 1 Axes>"
      ]
     },
     "metadata": {
      "needs_background": "light"
     },
     "output_type": "display_data"
    }
   ],
   "source": [
    "plt.hist(D_len, int(max(D_len)));\n",
    "plt.title('Mode D Burst Length')\n",
    "plt.xlabel('Burst Length')\n",
    "plt.ylabel('Frequency')\n",
    "print('Mode D Stats:')\n",
    "print('Number of Bursts:', num_D)\n",
    "print('Length Min, Ave and Max:', min(D_len),np.average(D_len), max(D_len))"
   ]
  },
  {
   "cell_type": "markdown",
   "metadata": {},
   "source": [
    "# ACROSS FREQUENCY"
   ]
  },
  {
   "cell_type": "markdown",
   "metadata": {},
   "source": [
    "### Create Pulse Arrays for each mode"
   ]
  },
  {
   "cell_type": "code",
   "execution_count": 224,
   "metadata": {},
   "outputs": [],
   "source": [
    "file_names = glob.glob(\"../Parkes_archive_files/4500nsub/2019*.f128p.pdv\")\n",
    "file_names=sorted(file_names)"
   ]
  },
  {
   "cell_type": "code",
   "execution_count": 225,
   "metadata": {},
   "outputs": [
    {
     "name": "stdout",
     "output_type": "stream",
     "text": [
      "File: 0\n",
      "File: 1\n",
      "File: 2\n",
      "File: 3\n",
      "File: 4\n",
      "File: 5\n",
      "File: 6\n",
      "File: 7\n",
      "File: 8\n",
      "File: 9\n",
      "File: 10\n",
      "File: 11\n",
      "File: 12\n",
      "File: 13\n",
      "File: 14\n",
      "File: 15\n"
     ]
    }
   ],
   "source": [
    "#Creating arrays for each mode, which contain the pulses for that mode\n",
    "A=np.array([], dtype=fulldatatype)\n",
    "B=np.array([], dtype=fulldatatype)\n",
    "C=np.array([], dtype=fulldatatype)\n",
    "D=np.array([], dtype=fulldatatype)\n",
    "AVE=np.array([], dtype=fulldatatype)\n",
    "\n",
    "A_len=np.array([])\n",
    "B_len=np.array([])\n",
    "C_len=np.array([])\n",
    "D_len=np.array([])\n",
    "\n",
    "for a in range(16):\n",
    "    #Load in a file at a time\n",
    "    print('File:', a)\n",
    "    current_file = np.loadtxt(fname=file_names[a], dtype=fulldatatype)\n",
    "\n",
    "    f = mode_class['file'] == a\n",
    "    \n",
    "    #Mode Arrays\n",
    "    \n",
    "    #Mode A\n",
    "    #Isolate the pulses which are mode A and part of current file\n",
    "    m = mode_class['mode'] == 'A'\n",
    "    p = np.logical_and(f,m)\n",
    "    mA = mode_class[p]\n",
    "    \n",
    "    #Find the number of mode A bursts\n",
    "    num_A=np.sum(m)\n",
    "    \n",
    "    #For every burst\n",
    "    for segment in mA:\n",
    "        #Record the length of burst\n",
    "        A_len = np.append(A_len,segment[3])\n",
    "        #Then for every pulse in segment\n",
    "        for b in range(segment[1],segment[2]+1):\n",
    "            #Add all file lines for this pulse to an array\n",
    "            s = current_file['pulse'] == b\n",
    "            A = np.append(A,current_file[s])\n",
    "\n",
    "    #Mode B\n",
    "    m = mode_class['mode'] == 'B'\n",
    "    p = np.logical_and(f,m)\n",
    "    mB = mode_class[p]\n",
    "    \n",
    "    num_B=np.sum(m)\n",
    "    \n",
    "    for segment in mB:\n",
    "        B_len = np.append(B_len,segment[3])\n",
    "        for b in range(segment[1],segment[2]+1):\n",
    "            s = current_file['pulse'] == b\n",
    "            B = np.append(B,current_file[s])\n",
    "            \n",
    "    #Mode C\n",
    "    m = mode_class['mode'] == 'C'\n",
    "    p = np.logical_and(f,m)\n",
    "    mC = mode_class[p]\n",
    "    \n",
    "    num_C=np.sum(m)\n",
    "    \n",
    "    for segment in mC:\n",
    "        C_len = np.append(C_len,segment[3])\n",
    "        for b in range(segment[1],segment[2]+1):\n",
    "            s = current_file['pulse'] == b\n",
    "            C = np.append(C,current_file[s])\n",
    "            \n",
    "    #Mode D\n",
    "    m = mode_class['mode'] == 'D'\n",
    "    p = np.logical_and(f,m)\n",
    "    mD = mode_class[p]\n",
    "    \n",
    "    num_D=np.sum(m)\n",
    "    \n",
    "    for segment in mD:\n",
    "        D_len = np.append(D_len,segment[3])\n",
    "        for b in range(segment[1],segment[2]+1):\n",
    "            s = current_file['pulse'] == b\n",
    "            D = np.append(D,current_file[s])\n",
    "            \n",
    "    #Average\n",
    "    m = mode_class['mode'] != 'N'\n",
    "    p = np.logical_and(f,m)\n",
    "    mAVE = mode_class[p]\n",
    "    \n",
    "    num_AVE=np.sum(m)\n",
    "    \n",
    "    for segment in mAVE:\n",
    "        for b in range(segment[1],segment[2]+1):\n",
    "            s = current_file['pulse'] == b\n",
    "            AVE = np.append(AVE,current_file[s])"
   ]
  },
  {
   "cell_type": "markdown",
   "metadata": {},
   "source": [
    "### Making an average profile for each mode"
   ]
  },
  {
   "cell_type": "code",
   "execution_count": 226,
   "metadata": {},
   "outputs": [],
   "source": [
    "A_ave=np.array([], dtype=fulldatatype)\n",
    "B_ave=np.array([], dtype=fulldatatype)\n",
    "C_ave=np.array([], dtype=fulldatatype)\n",
    "D_ave=np.array([], dtype=fulldatatype)\n",
    "AVE_ave=np.array([], dtype=fulldatatype)"
   ]
  },
  {
   "cell_type": "code",
   "execution_count": 227,
   "metadata": {},
   "outputs": [
    {
     "name": "stdout",
     "output_type": "stream",
     "text": [
      "Frequency band: 0\n",
      "Frequency band: 1\n",
      "Frequency band: 2\n",
      "Frequency band: 3\n",
      "Frequency band: 4\n",
      "Frequency band: 5\n",
      "Frequency band: 6\n",
      "Frequency band: 7\n",
      "Frequency band: 8\n",
      "Frequency band: 9\n",
      "Frequency band: 10\n",
      "Frequency band: 11\n",
      "Frequency band: 12\n",
      "Frequency band: 13\n",
      "Frequency band: 14\n",
      "Frequency band: 15\n",
      "Frequency band: 16\n",
      "Frequency band: 17\n",
      "Frequency band: 18\n",
      "Frequency band: 19\n",
      "Frequency band: 20\n",
      "Frequency band: 21\n",
      "Frequency band: 22\n",
      "Frequency band: 23\n",
      "Frequency band: 24\n",
      "Frequency band: 25\n",
      "Frequency band: 26\n",
      "Frequency band: 27\n",
      "Frequency band: 28\n",
      "Frequency band: 29\n",
      "Frequency band: 30\n",
      "Frequency band: 31\n",
      "Frequency band: 32\n",
      "Frequency band: 33\n",
      "Frequency band: 34\n",
      "Frequency band: 35\n",
      "Frequency band: 36\n",
      "Frequency band: 37\n",
      "Frequency band: 38\n",
      "Frequency band: 39\n",
      "Frequency band: 40\n",
      "Frequency band: 41\n",
      "Frequency band: 42\n",
      "Frequency band: 43\n",
      "Frequency band: 44\n",
      "Frequency band: 45\n",
      "Frequency band: 46\n",
      "Frequency band: 47\n",
      "Frequency band: 48\n",
      "Frequency band: 49\n",
      "Frequency band: 50\n",
      "Frequency band: 51\n",
      "Frequency band: 52\n",
      "Frequency band: 53\n",
      "Frequency band: 54\n",
      "Frequency band: 55\n",
      "Frequency band: 56\n",
      "Frequency band: 57\n",
      "Frequency band: 58\n",
      "Frequency band: 59\n",
      "Frequency band: 60\n",
      "Frequency band: 61\n",
      "Frequency band: 62\n",
      "Frequency band: 63\n",
      "Frequency band: 64\n",
      "Frequency band: 65\n",
      "Frequency band: 66\n",
      "Frequency band: 67\n",
      "Frequency band: 68\n",
      "Frequency band: 69\n",
      "Frequency band: 70\n",
      "Frequency band: 71\n",
      "Frequency band: 72\n",
      "Frequency band: 73\n",
      "Frequency band: 74\n",
      "Frequency band: 75\n",
      "Frequency band: 76\n",
      "Frequency band: 77\n",
      "Frequency band: 78\n",
      "Frequency band: 79\n",
      "Frequency band: 80\n",
      "Frequency band: 81\n",
      "Frequency band: 82\n",
      "Frequency band: 83\n",
      "Frequency band: 84\n",
      "Frequency band: 85\n",
      "Frequency band: 86\n",
      "Frequency band: 87\n",
      "Frequency band: 88\n",
      "Frequency band: 89\n",
      "Frequency band: 90\n",
      "Frequency band: 91\n",
      "Frequency band: 92\n",
      "Frequency band: 93\n",
      "Frequency band: 94\n",
      "Frequency band: 95\n",
      "Frequency band: 96\n",
      "Frequency band: 97\n",
      "Frequency band: 98\n",
      "Frequency band: 99\n",
      "Frequency band: 100\n",
      "Frequency band: 101\n",
      "Frequency band: 102\n"
     ]
    }
   ],
   "source": [
    "#Averaging the modes together\n",
    "\n",
    "for d in range(103):\n",
    "    print('Frequency band:', d)\n",
    "    if d in A['frequency']:\n",
    "        e = A['frequency'] == d\n",
    "        A_freq= A[e]\n",
    "        for c in range(1024):\n",
    "            ph = A_freq['phase'] == c\n",
    "            it = A_freq['intensity'][ph]\n",
    "    \n",
    "            A_ave=np.append(A_ave,np.array((0, d, c, sum(it)/len(it)),dtype=fulldatatype))\n",
    "        \n",
    "    if d in B['frequency']:\n",
    "        e = B['frequency'] == d\n",
    "        B_freq= B[e]\n",
    "        for c in range(1024):\n",
    "            ph = B_freq['phase'] == c\n",
    "            it = B_freq['intensity'][ph]\n",
    "    \n",
    "            B_ave=np.append(B_ave,np.array((0, d, c, sum(it)/len(it)),dtype=fulldatatype))\n",
    "        \n",
    "    if d in C['frequency']:\n",
    "        e = C['frequency'] == d\n",
    "        C_freq= C[e]\n",
    "        for c in range(1024):\n",
    "            ph = C_freq['phase'] == c\n",
    "            it = C_freq['intensity'][ph]\n",
    "    \n",
    "            C_ave=np.append(C_ave,np.array((0, d, c, sum(it)/len(it)),dtype=fulldatatype))\n",
    "        \n",
    "    if d in D['frequency']:\n",
    "        e = D['frequency'] == d\n",
    "        D_freq= D[e]\n",
    "        for c in range(1024):\n",
    "            ph = D_freq['phase'] == c\n",
    "            it = D_freq['intensity'][ph]\n",
    "    \n",
    "            D_ave=np.append(D_ave,np.array((0, d, c, sum(it)/len(it)),dtype=fulldatatype))\n",
    "    \n",
    "    if d in AVE['frequency']:\n",
    "        e = AVE['frequency'] == d\n",
    "        AVE_freq= AVE[e]\n",
    "        for c in range(1024):\n",
    "            ph = AVE_freq['phase'] == c\n",
    "            it = AVE_freq['intensity'][ph]\n",
    "    \n",
    "            AVE_ave=np.append(AVE_ave,np.array((0, d, c, sum(it)/len(it)),dtype=fulldatatype))"
   ]
  },
  {
   "cell_type": "markdown",
   "metadata": {},
   "source": [
    "## Gaussian Fittings of Profiles"
   ]
  },
  {
   "cell_type": "markdown",
   "metadata": {},
   "source": [
    "#### Single Frequency Test"
   ]
  },
  {
   "cell_type": "code",
   "execution_count": 228,
   "metadata": {},
   "outputs": [],
   "source": [
    "no_freq_bands=max(AVE_ave['frequency'])\n",
    "averageprofiles=AVE_ave\n",
    "\n",
    "#Takes a single frequency band out of all the profiles for analysis.\n",
    "freqband =13\n",
    "\n",
    "f = averageprofiles['frequency'] == freqband\n",
    "x=averageprofiles['phase'][f]\n",
    "y=averageprofiles['intensity'][f]\n",
    "\n",
    "#Expected is taken from Peaks and Gaussian fittings of frequency band 73\n",
    "#expectedA=(0.5,660,6,2,695,20,1,740,8)\n",
    "#boundsA=([0,635,0,0,675,0,0,715,0],[np.inf,685,np.inf,np.inf,725,np.inf,np.inf,770,np.inf])\n",
    "#expectedB=(0.2,660,6,2,685,20,1,740,8)\n",
    "#boundsB=([0,635,0,0,675,0,0,715,0],[np.inf,685,np.inf,np.inf,725,np.inf,np.inf,770,np.inf])\n",
    "#expectedC=(0.5,660,6,2,695,20,1,740,8)\n",
    "#boundsC=([0,635,0,0,675,0,0,715,0],[np.inf,685,np.inf,np.inf,725,np.inf,np.inf,770,np.inf])\n",
    "#expectedD=(0.2,660,6,2,685,20,1,740,8)\n",
    "#boundsD=([0,635,0,0,675,0,0,715,0],[np.inf,685,np.inf,np.inf,725,np.inf,np.inf,770,np.inf])\n",
    "expectedAVE=(0.15,660,6,0.55,695,20,0.1,715,10,0.25,740,8)\n",
    "boundsAVE=([0,625,0,0,675,0,0,712,0,0,720,0],[np.inf,675,np.inf,np.inf,725,np.inf,np.inf,740,np.inf,np.inf,760,np.inf])\n",
    "\n",
    "\n",
    "noise = sigmaClip(y)\n",
    "error = np.nanstd(noise[1])\n",
    "\n",
    "#Fits three gaussians to the data\n",
    "params, cov, sigma = fitting_parameters(x,y,expectedAVE,boundsAVE)\n",
    "fit = multi_gauss(x,*params)\n",
    "#Then finds the maxima of the fit. It only takes the largest two (given they are the outer maxima).\n",
    "#Error for the maxima position is calculated by finding the positions of the fit at an intensity-noise level\n",
    "profile_comp = gauss_peaks(fit, no_freq_bands, freqband, cov, params,minf,maxf,error)\n",
    "\n",
    "#py.axis([200,400,-0.05,0.07])"
   ]
  },
  {
   "cell_type": "code",
   "execution_count": 229,
   "metadata": {},
   "outputs": [
    {
     "data": {
      "text/plain": [
       "[600, 825, -0.1, 0.45]"
      ]
     },
     "execution_count": 229,
     "metadata": {},
     "output_type": "execute_result"
    },
    {
     "data": {
      "image/png": "[encoded data removed]",
      "text/plain": [
       "<Figure size 504x360 with 2 Axes>"
      ]
     },
     "metadata": {
      "needs_background": "light"
     },
     "output_type": "display_data"
    }
   ],
   "source": [
    "#Plot fill parameters\n",
    "params1 = params[0:3]\n",
    "params2 = params[3:6]\n",
    "params3 = params[6:9]\n",
    "gfit1 = gauss(x, *params1)\n",
    "gfit2 = gauss(x, *params2)\n",
    "gfit3 = gauss(x, *params3)\n",
    "#Boundary parameters\n",
    "yt=[0,1]\n",
    "x1=[635,635]\n",
    "x2=[685,685]\n",
    "x3=[676,676]\n",
    "x4=[725,725]\n",
    "x5=[715,715]\n",
    "x6=[770,770]\n",
    "    \n",
    "plot = plt.figure(figsize=(7, 5))\n",
    "grid = plt.GridSpec(5, 1, hspace=0, wspace=0)\n",
    "boundary = plot.add_subplot(grid[4, 0])\n",
    "main_ax = plot.add_subplot(grid[0:4, 0], sharex=boundary)\n",
    "\n",
    "\n",
    "main_ax.plot(x, y, lw=1, label='data')\n",
    "main_ax.plot(x,fit,color='red',lw=3,label='gaussian fit')\n",
    "main_ax.plot(x, gfit1, \"g\")\n",
    "main_ax.fill_between(x, gfit1.min(), gfit1, facecolor=\"green\", alpha=0.5)\n",
    "main_ax.plot(x, gfit2, \"y\")\n",
    "main_ax.fill_between(x, gfit2.min(), gfit2, facecolor=\"yellow\", alpha=0.5)\n",
    "main_ax.plot(x, gfit3, \"r\")\n",
    "main_ax.fill_between(x, gfit3.min(), gfit3, facecolor=\"red\", alpha=0.5)\n",
    "#main_ax.plot(x, gfit4, \"b\")\n",
    "#main_ax.fill_between(x, gfit4.min(), gfit4, facecolor=\"blue\", alpha=0.5)\n",
    "boundary.plot(x1,yt, \"g\", '--')\n",
    "boundary.plot(x2,yt, \"g\", '--')\n",
    "boundary.plot(x3,yt, \"y\", '--')\n",
    "boundary.plot(x4,yt, \"y\", '--')\n",
    "boundary.plot(x5,yt, \"r\", '--')\n",
    "boundary.plot(x6,yt, \"r\", '--')\n",
    "\n",
    "plt.title(\"Average Profile - Frequency Band 13\")\n",
    "\n",
    "plt.ylabel('Intensity')\n",
    "plt.xlabel('Frequency (Bins)')\n",
    "main_ax.legend(loc='lower right')\n",
    "boundary.label_outer()\n",
    "main_ax.label_outer()\n",
    "plt.axis([600,825,-0.1,0.45])"
   ]
  },
  {
   "cell_type": "code",
   "execution_count": 230,
   "metadata": {},
   "outputs": [
    {
     "data": {
      "text/plain": [
       "[220, 280, -0.1, 0.5]"
      ]
     },
     "execution_count": 230,
     "metadata": {},
     "output_type": "execute_result"
    },
    {
     "data": {
      "image/png": "[encoded data removed]",
      "text/plain": [
       "<Figure size 432x288 with 1 Axes>"
      ]
     },
     "metadata": {
      "needs_background": "light"
     },
     "output_type": "display_data"
    }
   ],
   "source": [
    "plot_peaks(x*(360/1024),y,profile_comp)\n",
    "plt.axis([220,280,-0.1,0.5])"
   ]
  },
  {
   "cell_type": "markdown",
   "metadata": {},
   "source": [
    "#### All Frequencies"
   ]
  },
  {
   "cell_type": "markdown",
   "metadata": {},
   "source": [
    "##### Mode A"
   ]
  },
  {
   "cell_type": "code",
   "execution_count": 231,
   "metadata": {},
   "outputs": [
    {
     "name": "stdout",
     "output_type": "stream",
     "text": [
      "Too noisey 12\n",
      "peaks 2 [698.53390837 750.0032007 ] band 12\n",
      "Too noisey 25\n",
      "peaks 2 [699.08571199 749.65804853] band 25\n"
     ]
    }
   ],
   "source": [
    "expectedA=(0.5,660,6,2,695,20,1,740,8)\n",
    "boundsA=([0,635,0,0,675,0,0,715,0],[np.inf,685,np.inf,np.inf,725,np.inf,np.inf,770,np.inf])\n",
    "\n",
    "maxf=4032\n",
    "minf=704\n",
    "\n",
    "fit_components=component_positions(A_ave,expectedA,boundsA,minf,maxf)"
   ]
  },
  {
   "cell_type": "code",
   "execution_count": 232,
   "metadata": {},
   "outputs": [
    {
     "data": {
      "image/png": "[encoded data removed]",
      "text/plain": [
       "<Figure size 432x288 with 1 Axes>"
      ]
     },
     "metadata": {
      "needs_background": "light"
     },
     "output_type": "display_data"
    }
   ],
   "source": [
    "Alin1,y_comp=plot_comp_movement(fit_components,'Mode A - Component 1','lightseagreen',1,2)\n",
    "plt.savefig('MAC1')"
   ]
  },
  {
   "cell_type": "code",
   "execution_count": 233,
   "metadata": {},
   "outputs": [
    {
     "data": {
      "image/png": "[encoded data removed]",
      "text/plain": [
       "<Figure size 432x288 with 1 Axes>"
      ]
     },
     "metadata": {
      "needs_background": "light"
     },
     "output_type": "display_data"
    }
   ],
   "source": [
    "Alin2,y_comp=plot_comp_movement(fit_components,'Mode A - Component 2','lightseagreen',2,2)\n",
    "plt.savefig('MAC2')"
   ]
  },
  {
   "cell_type": "code",
   "execution_count": 234,
   "metadata": {},
   "outputs": [
    {
     "data": {
      "image/png": "[encoded data removed]",
      "text/plain": [
       "<Figure size 432x288 with 1 Axes>"
      ]
     },
     "metadata": {
      "needs_background": "light"
     },
     "output_type": "display_data"
    }
   ],
   "source": [
    "y_sep,Asep,Aparams=plot_sep_movement(fit_components,'Mode A - Component Separation','lightseagreen',2.5)\n",
    "plt.savefig('MAsep')"
   ]
  },
  {
   "cell_type": "code",
   "execution_count": 235,
   "metadata": {},
   "outputs": [
    {
     "ename": "TypeError",
     "evalue": "unsupported operand type(s) for /: 'list' and 'list'",
     "output_type": "error",
     "traceback": [
      "\u001b[1;31m---------------------------------------------------------------------------\u001b[0m",
      "\u001b[1;31mTypeError\u001b[0m                                 Traceback (most recent call last)",
      "\u001b[1;32m<ipython-input-235-a665150306c6>\u001b[0m in \u001b[0;36m<module>\u001b[1;34m\u001b[0m\n\u001b[1;32m----> 1\u001b[1;33m \u001b[0my_sep\u001b[0m\u001b[1;33m,\u001b[0m\u001b[0mAint\u001b[0m\u001b[1;33m,\u001b[0m\u001b[0mAiparams\u001b[0m\u001b[1;33m=\u001b[0m\u001b[0mplot_intensities\u001b[0m\u001b[1;33m(\u001b[0m\u001b[0mfit_components\u001b[0m\u001b[1;33m,\u001b[0m \u001b[1;34m'Intensity Ratio of C1/C2 for Mode A'\u001b[0m\u001b[1;33m,\u001b[0m \u001b[1;34m'lightseagreen'\u001b[0m\u001b[1;33m)\u001b[0m\u001b[1;33m\u001b[0m\u001b[1;33m\u001b[0m\u001b[0m\n\u001b[0m\u001b[0;32m      2\u001b[0m \u001b[0mplt\u001b[0m\u001b[1;33m.\u001b[0m\u001b[0msavefig\u001b[0m\u001b[1;33m(\u001b[0m\u001b[1;34m'MAI'\u001b[0m\u001b[1;33m)\u001b[0m\u001b[1;33m\u001b[0m\u001b[1;33m\u001b[0m\u001b[0m\n",
      "\u001b[1;32m<ipython-input-163-1f0dfe4a017c>\u001b[0m in \u001b[0;36mplot_intensities\u001b[1;34m(fit_components, title, colour)\u001b[0m\n\u001b[0;32m     18\u001b[0m \u001b[1;33m\u001b[0m\u001b[0m\n\u001b[0;32m     19\u001b[0m     \u001b[0mint_ratio\u001b[0m\u001b[1;33m=\u001b[0m\u001b[0mnp\u001b[0m\u001b[1;33m.\u001b[0m\u001b[0marray\u001b[0m\u001b[1;33m(\u001b[0m\u001b[0mintensity_comp1\u001b[0m\u001b[1;33m)\u001b[0m\u001b[1;33m/\u001b[0m\u001b[0mnp\u001b[0m\u001b[1;33m.\u001b[0m\u001b[0marray\u001b[0m\u001b[1;33m(\u001b[0m\u001b[0mintensity_comp2\u001b[0m\u001b[1;33m)\u001b[0m\u001b[1;33m\u001b[0m\u001b[1;33m\u001b[0m\u001b[0m\n\u001b[1;32m---> 20\u001b[1;33m     \u001b[0mint_err\u001b[0m\u001b[1;33m=\u001b[0m\u001b[0mint_ratio\u001b[0m\u001b[1;33m*\u001b[0m\u001b[0mnp\u001b[0m\u001b[1;33m.\u001b[0m\u001b[0msqrt\u001b[0m\u001b[1;33m(\u001b[0m\u001b[1;33m(\u001b[0m\u001b[0merr1\u001b[0m\u001b[1;33m/\u001b[0m\u001b[0mintensity_comp1\u001b[0m\u001b[1;33m)\u001b[0m\u001b[1;33m^\u001b[0m\u001b[1;36m2\u001b[0m\u001b[1;33m+\u001b[0m\u001b[1;33m(\u001b[0m\u001b[0merr2\u001b[0m\u001b[1;33m/\u001b[0m\u001b[0mintensity_comp2\u001b[0m\u001b[1;33m)\u001b[0m\u001b[1;33m^\u001b[0m\u001b[1;36m2\u001b[0m\u001b[1;33m)\u001b[0m\u001b[1;33m\u001b[0m\u001b[1;33m\u001b[0m\u001b[0m\n\u001b[0m\u001b[0;32m     21\u001b[0m \u001b[1;33m\u001b[0m\u001b[0m\n\u001b[0;32m     22\u001b[0m \u001b[1;33m\u001b[0m\u001b[0m\n",
      "\u001b[1;31mTypeError\u001b[0m: unsupported operand type(s) for /: 'list' and 'list'"
     ]
    }
   ],
   "source": [
    "y_sep,Aint,Aiparams=plot_intensities(fit_components, 'Intensity Ratio of C1/C2 for Mode A', 'lightseagreen')\n",
    "plt.savefig('MAI')"
   ]
  },
  {
   "cell_type": "markdown",
   "metadata": {},
   "source": [
    "##### Mode B"
   ]
  },
  {
   "cell_type": "code",
   "execution_count": null,
   "metadata": {},
   "outputs": [],
   "source": [
    "expectedB=(0.2,660,6,2,685,20,1,740,8)\n",
    "boundsB=([0,635,0,0,675,0,0,715,0],[np.inf,685,np.inf,np.inf,725,np.inf,np.inf,770,np.inf])\n",
    "\n",
    "fit_components=component_positions(B_ave,expectedB,boundsB,minf,maxf)"
   ]
  },
  {
   "cell_type": "code",
   "execution_count": null,
   "metadata": {},
   "outputs": [],
   "source": [
    "Blin1,y_comp=plot_comp_movement(fit_components,'Mode B - Component 1','forestgreen',1,3)\n",
    "plt.savefig('MBC1')"
   ]
  },
  {
   "cell_type": "code",
   "execution_count": null,
   "metadata": {},
   "outputs": [],
   "source": [
    "Blin2,y_comp=plot_comp_movement(fit_components,'Mode B - Component 2','forestgreen',2,3)\n",
    "plt.savefig('MBC2')"
   ]
  },
  {
   "cell_type": "code",
   "execution_count": null,
   "metadata": {},
   "outputs": [],
   "source": [
    "y_sep,Bsep,Bparams=plot_sep_movement(fit_components,'Mode B - Component Separation','forestgreen',2.5)\n",
    "plt.savefig('MBsep')"
   ]
  },
  {
   "cell_type": "code",
   "execution_count": null,
   "metadata": {},
   "outputs": [],
   "source": [
    "y_sep,Bint,Biparams=plot_intensities(fit_components, 'Intensity Ratio of C1/C2 for Mode B', 'forestgreen')\n",
    "plt.savefig('MBI')"
   ]
  },
  {
   "cell_type": "markdown",
   "metadata": {},
   "source": [
    "##### Mode C"
   ]
  },
  {
   "cell_type": "code",
   "execution_count": null,
   "metadata": {},
   "outputs": [],
   "source": [
    "expectedC=(0.5,660,6,2,695,20,1,740,8)\n",
    "boundsC=([0,635,0,0,675,0,0,715,0],[np.inf,685,np.inf,np.inf,725,np.inf,np.inf,770,np.inf])\n",
    "\n",
    "fit_components=component_positions(C_ave,expectedC,boundsC,minf,maxf)"
   ]
  },
  {
   "cell_type": "code",
   "execution_count": null,
   "metadata": {},
   "outputs": [],
   "source": [
    "Clin1,y_comp=plot_comp_movement(fit_components,'Mode C - Component 1','magenta',1,3)\n",
    "plt.savefig('MCC1')"
   ]
  },
  {
   "cell_type": "code",
   "execution_count": null,
   "metadata": {},
   "outputs": [],
   "source": [
    "Clin2,y_comp=plot_comp_movement(fit_components,'Mode C - Component 2','magenta',2,3)\n",
    "plt.savefig('MCC2')"
   ]
  },
  {
   "cell_type": "code",
   "execution_count": null,
   "metadata": {},
   "outputs": [],
   "source": [
    "y_sep,Csep,Cparams=plot_sep_movement(fit_components,'Mode C - Component Separation','magenta',2.5)\n",
    "plt.savefig('MCsep')"
   ]
  },
  {
   "cell_type": "code",
   "execution_count": null,
   "metadata": {},
   "outputs": [],
   "source": [
    "y_sep,Cint,Ciparams=plot_intensities(fit_components, 'Intensity Ratio of C1/C2 for Mode C', 'magenta')\n",
    "plt.savefig('MCI')"
   ]
  },
  {
   "cell_type": "markdown",
   "metadata": {},
   "source": [
    "##### Mode D"
   ]
  },
  {
   "cell_type": "code",
   "execution_count": null,
   "metadata": {},
   "outputs": [],
   "source": [
    "expectedD=(0.2,660,6,2,685,20,1,740,8)\n",
    "boundsD=([0,635,0,0,675,0,0,715,0],[np.inf,685,np.inf,np.inf,725,np.inf,np.inf,770,np.inf])\n",
    "\n",
    "fit_components=component_positions(D_ave,expectedD,boundsD,minf,maxf)"
   ]
  },
  {
   "cell_type": "code",
   "execution_count": null,
   "metadata": {},
   "outputs": [],
   "source": [
    "Dlin1,y_comp=plot_comp_movement(fit_components,'Mode D - Component 1','orangered',1,3)\n",
    "plt.savefig('MDC1')"
   ]
  },
  {
   "cell_type": "code",
   "execution_count": null,
   "metadata": {},
   "outputs": [],
   "source": [
    "Dlin2,y_comp=plot_comp_movement(fit_components,'Mode D - Component 2','orangered',2,3)\n",
    "plt.savefig('MDC2')"
   ]
  },
  {
   "cell_type": "code",
   "execution_count": null,
   "metadata": {},
   "outputs": [],
   "source": [
    "y_sep,Dsep,Dparams=plot_sep_movement(fit_components,'Mode D - Component Separation','orangered',2.5)\n",
    "plt.savefig('MDsep')"
   ]
  },
  {
   "cell_type": "code",
   "execution_count": null,
   "metadata": {},
   "outputs": [],
   "source": [
    "y_sep,Dint,Diparams=plot_intensities(fit_components, 'Intensity Ratio of C1/C2 for Mode D', 'orangered')\n",
    "plt.savefig('MDI')"
   ]
  },
  {
   "cell_type": "markdown",
   "metadata": {},
   "source": [
    "##### Average Overall"
   ]
  },
  {
   "cell_type": "code",
   "execution_count": null,
   "metadata": {},
   "outputs": [],
   "source": [
    "expectedAVE=(0.15,660,6,0.55,695,20,0.1,715,10,0.25,740,8)\n",
    "boundsAVE=([0,625,0,0,675,0,0,712,0,0,720,0],[np.inf,675,np.inf,np.inf,725,np.inf,np.inf,740,np.inf,np.inf,760,np.inf])\n",
    "\n",
    "fit_components=component_positions(AVE_ave,expectedAVE,boundsAVE,minf,maxf)"
   ]
  },
  {
   "cell_type": "code",
   "execution_count": null,
   "metadata": {},
   "outputs": [],
   "source": [
    "AVElin1,y_comp=plot_comp_movement(fit_components,'Average Profile - Component 1','black',1,3)\n",
    "plt.savefig('AVEC1')"
   ]
  },
  {
   "cell_type": "code",
   "execution_count": null,
   "metadata": {},
   "outputs": [],
   "source": [
    "AVElin2,y_comp=plot_comp_movement(fit_components,'Average Profile - Component 2','black',2,3)\n",
    "plt.savefig('AVEC2')"
   ]
  },
  {
   "cell_type": "code",
   "execution_count": null,
   "metadata": {},
   "outputs": [],
   "source": [
    "y_sep,AVEsep,AVEparams=plot_sep_movement(fit_components,'Average Profile - Component Separation','black',1.6)\n",
    "plt.savefig('AVEsep')"
   ]
  },
  {
   "cell_type": "code",
   "execution_count": null,
   "metadata": {},
   "outputs": [],
   "source": [
    "y_sep,AVEint,AVEiparams=plot_intensities(fit_components, 'Intensity Ratio of C1/C2 for Average Profile', 'black')\n",
    "plt.savefig('AVEI')"
   ]
  },
  {
   "cell_type": "markdown",
   "metadata": {},
   "source": [
    "### Direct Comparison"
   ]
  },
  {
   "cell_type": "code",
   "execution_count": null,
   "metadata": {},
   "outputs": [],
   "source": [
    "plt.figure(figsize=(12, 6))\n",
    "plt.plot(AVElin1,y_comp, color='black',lw=3,label='average',zorder=0.5)\n",
    "plt.plot(Alin1,y_comp, color='lightseagreen',lw=1.5,label='mode A')\n",
    "plt.plot(Blin1,y_comp, color='forestgreen',lw=1.5,label='mode B')\n",
    "plt.plot(Clin1,y_comp, color='magenta',lw=1.5,label='mode C')\n",
    "plt.plot(Dlin1,y_comp, color='orangered',lw=1.5,label='mode D')\n",
    "plt.plot(AVElin2,y_comp, color='black',lw=3,zorder=0.5)\n",
    "plt.plot(Alin2,y_comp, color='lightseagreen',lw=1.5)\n",
    "plt.plot(Blin2,y_comp, color='forestgreen',lw=1.5)\n",
    "plt.plot(Clin2,y_comp, color='magenta',lw=1.5)\n",
    "plt.plot(Dlin2,y_comp, color='orangered',lw=1.5)\n",
    "\n",
    "plt.legend()\n",
    "plt.title('Evolution of Component Phase for Various Modes')\n",
    "plt.xticks(np.arange(241, 265, 1.0))\n",
    "plt.xlabel('Phase (deg)')\n",
    "plt.ylabel('Frequency (MHz)')\n",
    "plt.savefig('CompMove')"
   ]
  },
  {
   "cell_type": "code",
   "execution_count": null,
   "metadata": {
    "scrolled": false
   },
   "outputs": [],
   "source": [
    "plt.figure(figsize=(9, 6))\n",
    "plt.plot(y_sep,AVEsep, color='black',lw=3,label='average',zorder=0.5)\n",
    "plt.plot(y_sep,Asep, color='lightseagreen',lw=1.5,label='mode A')\n",
    "plt.plot(y_sep,Bsep, color='forestgreen',lw=1.5,label='mode B')\n",
    "plt.plot(y_sep,Csep, color='magenta',lw=1.5,label='mode C')\n",
    "plt.plot(y_sep,Dsep, color='orangered',lw=1.5,label='mode D')\n",
    "plt.legend()\n",
    "plt.title('Evolution of Component Separation for Various Modes')\n",
    "plt.ylabel('\\u0394\\u03B8 (deg)')\n",
    "plt.xlabel('Frequency (MHz)')\n",
    "plt.savefig('Separation')"
   ]
  },
  {
   "cell_type": "code",
   "execution_count": null,
   "metadata": {},
   "outputs": [],
   "source": [
    "print(f'Average Profile: \\t \\u0394\\u03B8 = {AVEparams[0]:.3f} \\u03BD^{AVEparams[1]:.3f} + {AVEparams[2]:.3f} \\n')\n",
    "print(f'Mode A: \\t\\t \\u0394\\u03B8 = {Aparams[0]:.3f} \\u03BD^{Aparams[1]:.3f} + {Aparams[2]:.3f} \\n')\n",
    "print(f'Mode B: \\t\\t \\u0394\\u03B8 = {Bparams[0]:.3f} \\u03BD^{Bparams[1]:.3f} + {Bparams[2]:.3f} \\n')\n",
    "print(f'Mode C: \\t\\t \\u0394\\u03B8 = {Cparams[0]:.3f} \\u03BD^{Cparams[1]:.3f} + {Cparams[2]:.3f} \\n')\n",
    "print(f'Mode D: \\t\\t \\u0394\\u03B8 = {Dparams[0]:.3f} \\u03BD^{Dparams[1]:.3f} + {Dparams[2]:.3f} \\n')"
   ]
  },
  {
   "cell_type": "code",
   "execution_count": null,
   "metadata": {},
   "outputs": [],
   "source": [
    "plt.figure(figsize=(9, 6))\n",
    "plt.plot(y_sep,AVEint, color='black',lw=3,label='average',zorder=0.5)\n",
    "plt.plot(y_sep,Aint, color='lightseagreen',lw=1.5,label='mode A')\n",
    "plt.plot(y_sep,Bint, color='forestgreen',lw=1.5,label='mode B')\n",
    "plt.plot(y_sep,Cint, color='magenta',lw=1.5,label='mode C')\n",
    "plt.plot(y_sep,Dint, color='orangered',lw=1.5,label='mode D')\n",
    "plt.legend()\n",
    "plt.title('Evolution of Component Intensity Ratio for Various Modes')\n",
    "plt.ylabel('Component 1 Intensity/Component 2 Intensity')\n",
    "plt.xlabel('Frequency (MHz)')\n",
    "plt.savefig('Intensities')"
   ]
  },
  {
   "cell_type": "code",
   "execution_count": null,
   "metadata": {},
   "outputs": [],
   "source": [
    "#Find intensity of components at each frequency and graph\n",
    "intensity_comp1=[]\n",
    "frequency_comp1=[]\n",
    "\n",
    "for i in range(0,len(fit_components)):\n",
    "  if fit_components[i][1][0] != 0:\n",
    "    intensity_comp1.append(fit_components[i][1][1])\n",
    "    frequency_comp1.append(fit_components[i][0])\n",
    "    \n",
    "plt.plot(frequency_comp1,intensity_comp1, '.')\n",
    "plt.title('Component 1')\n",
    "plt.xlabel('Frequency')\n",
    "plt.ylabel('Intensity')"
   ]
  },
  {
   "cell_type": "code",
   "execution_count": null,
   "metadata": {},
   "outputs": [],
   "source": [
    "#Find intensity of components at each frequency and graph\n",
    "intensity_comp2=[]\n",
    "frequency_comp2=[]\n",
    "\n",
    "for i in range(0,len(fit_components)):\n",
    "  if fit_components[i][1][0] != 0:\n",
    "    intensity_comp2.append(fit_components[i][2][1])\n",
    "    frequency_comp2.append(fit_components[i][0])\n",
    "\n",
    "plt.plot(frequency_comp2,intensity_comp2, '.')\n",
    "plt.title('Component 2')\n",
    "plt.xlabel('Frequency')\n",
    "plt.ylabel('Intensity')"
   ]
  },
  {
   "cell_type": "markdown",
   "metadata": {},
   "source": [
    "## FUNCTIONS"
   ]
  },
  {
   "cell_type": "code",
   "execution_count": null,
   "metadata": {},
   "outputs": [],
   "source": [
    "component = col.namedtuple('component','phase intensity')\n",
    "ind_component = col.namedtuple('component','phase intensity width')\n",
    "pulse_component = col.namedtuple('pulse_component','frequency comp1 comp2 errors')\n",
    "component_separation = col.namedtuple('component_separation','frequency separation')"
   ]
  },
  {
   "cell_type": "code",
   "execution_count": null,
   "metadata": {},
   "outputs": [],
   "source": [
    "def gauss(x,amp,cen,sd):\n",
    "    return amp*np.exp(-(x-cen)**2/(2*sd**2))\\\n",
    "\n",
    "def multi_gauss(x, *params):\n",
    "    y = np.zeros_like(x)\n",
    "    for i in range(0, len(params), 3):\n",
    "        a = params[i]\n",
    "        b = params[i+1]\n",
    "        c = params[i+2]\n",
    "        y = y +  a * np.exp( -(((x-b)**2) / (2*c**2)) )\n",
    "    return y"
   ]
  },
  {
   "cell_type": "code",
   "execution_count": null,
   "metadata": {},
   "outputs": [],
   "source": [
    "\"\"\"\n",
    "    Used to get the parameters, covariance matrix and errors for any number of gaussian fits, through and expected value. \n",
    "\"\"\"\n",
    "def fitting_parameters(x,y,expected,bound):\n",
    "    \"\"\"\n",
    "    bound=([],[])\n",
    "    for i in range(len(expected)):\n",
    "        bound[0].append(0)\n",
    "        bound[1].append(np.inf)\n",
    "    \"\"\"\n",
    "        \n",
    "    params,cov=curve_fit(multi_gauss,x,y,expected, bounds=bound)\n",
    "    sigma=np.sqrt(np.diag(cov))\n",
    "    return params, cov, sigma"
   ]
  },
  {
   "cell_type": "code",
   "execution_count": null,
   "metadata": {},
   "outputs": [],
   "source": [
    "def sigmaClip(data, alpha=3, tol=0.1, ntrials=10):\n",
    "    \"\"\"\n",
    "    Compute the data's median, m, and its standard deviation, sigma.\n",
    "    Keep only the data that falls in the range (m-alpha*sigma,m+alpha*sigma) for some value of alpha, and discard everything else.\n",
    "    This operation is repeated ntrials number of times or until the tolerance level is hit.\n",
    "\n",
    "    Parameters:\n",
    "    -----------\n",
    "    data: list\n",
    "        A list of floats - the data to clip\n",
    "    alpha: float\n",
    "        OPTIONAL - Determines the number of sigmas to use to determine the upper nad lower limits. Default=3\n",
    "    tol: float\n",
    "        OPTIONAL - The fractional change in the standard deviation that determines when the tolerance is hit. Default=0.1\n",
    "    ntrils: int\n",
    "        OPTIONAL - The maximum number of times to apply the operation. Default=10\n",
    "\n",
    "    Returns:\n",
    "    --------\n",
    "    oldstd: float\n",
    "        The std of the clipped data\n",
    "    x: list\n",
    "        The data list that contains only noise, with nans in place of 'real' data\n",
    "    \n",
    "    Created by Nick Swainston\n",
    "    \"\"\"\n",
    "    x = np.copy(data)\n",
    "    oldstd = np.nanstd(x)\n",
    "    #When the x[x<lolim] and x[x>hilim] commands encounter a nan it produces a\n",
    "    #warning. This is expected because it is ignoring flagged data from a\n",
    "    #previous trial so the warning is supressed.\n",
    "    old_settings = np.seterr(all='ignore')\n",
    "    for trial in range(ntrials):\n",
    "        median = np.nanmedian(x)\n",
    "\n",
    "        lolim = median - alpha * oldstd\n",
    "        hilim = median + alpha * oldstd\n",
    "        x[x<lolim] = np.nan\n",
    "        x[x>hilim] = np.nan\n",
    "\n",
    "        newstd = np.nanstd(x)\n",
    "        tollvl = (oldstd - newstd) / newstd\n",
    "\n",
    "        if tollvl <= tol:\n",
    "            np.seterr(**old_settings)\n",
    "            return oldstd, x\n",
    "\n",
    "        if trial + 1 == ntrials:\n",
    "            np.seterr(**old_settings)\n",
    "            return oldstd, x\n",
    "\n",
    "        oldstd = newstd"
   ]
  },
  {
   "cell_type": "code",
   "execution_count": null,
   "metadata": {},
   "outputs": [],
   "source": [
    "def multi_gauss_ddx(x, *params):\n",
    "    #derivative of gaussian\n",
    "    y = np.zeros_like(x)\n",
    "    for i in range(0, len(params), 3):\n",
    "        a = params[i]\n",
    "        b = params[i+1]\n",
    "        c = params[i+2]\n",
    "        y = y - a/c**2 * (x - b) * np.exp( -(((x-b)**2) / (2*c**2)) )\n",
    "    return y\n",
    "\n",
    "def multi_gauss_d2dx2(x, *params):\n",
    "    #double derivative of gaussian\n",
    "    y = np.zeros_like(x)\n",
    "    for i in range(0, len(params), 3):\n",
    "        a = params[i]\n",
    "        b = params[i+1]\n",
    "        c = params[i+2]\n",
    "        y = y + (multi_gauss(x, a, b, c) / c**2) * (((x - b)**2)/(c**2) - 1)\n",
    "    return y\n",
    "\n",
    "def jacobian_slope(x, *params):\n",
    "    \"\"\"\n",
    "    Evaluates the Jacobian matrix of a gaussian slope at a single point, x\n",
    "\n",
    "    Parameters:\n",
    "    -----------\n",
    "    x: float\n",
    "        The point to evaluate\n",
    "    *params: list\n",
    "        A list containing three parameters per gaussian component in the order: Amp, Mean, Width\n",
    "\n",
    "    Returns:\n",
    "    --------\n",
    "    J: numpy.matrix\n",
    "        The Jacobian matrix\n",
    "    \"\"\"\n",
    "    def dda(a, b, c, x):\n",
    "        return -multi_gauss(x, a, b, c) * (x - b)/(c**2)/a\n",
    "    def ddb(a, b, c, x):\n",
    "        return multi_gauss(x, a, b, c) * (1 - (x - b)**2/(c**2))/c**2\n",
    "    def ddc(a, b, c, x):\n",
    "        return multi_gauss(x, a, b, c) * (x - b)/(c**3) * (2 - (x-b)**2/(c**2))\n",
    "    J = []\n",
    "    for i in range(0, len(params), 3):\n",
    "        a = params[i]\n",
    "        b = params[i+1]\n",
    "        c = params[i+2]\n",
    "        mypars = [a, b, c, x]\n",
    "        J.append(dda(*mypars))\n",
    "        J.append(ddb(*mypars))\n",
    "        J.append(ddc(*mypars))\n",
    "    J = np.asmatrix(J)\n",
    "    return J"
   ]
  },
  {
   "cell_type": "code",
   "execution_count": null,
   "metadata": {},
   "outputs": [],
   "source": [
    "def find_x_err(x, popt, pcov):\n",
    "    \"\"\"\n",
    "    Finds the error in the horizontal position of a gaussian fit at the point x.\n",
    "    Uses the equation sigma_x = sigma_y/d2ydx2 where:\n",
    "    sigma_x = error in x\n",
    "    d2ydx2 = second derivative of the gaussian function at point x\n",
    "    sigma_y = sqrt.J*C*J_T\n",
    "    J = Jacobian evalutated at point x\n",
    "    C = covariance matrix of gaussian fit\n",
    "    J_T = transposed jacobian\n",
    "\n",
    "    Parameters:\n",
    "    -----------\n",
    "    x: list\n",
    "        A list of points to evaluate the error at\n",
    "    popt: list\n",
    "        The parameters used to describe the gaussian fit\n",
    "    pcov: numpy.matrix\n",
    "        The covariance matrix corresponding to popt\n",
    "\n",
    "    Returns:\n",
    "    --------\n",
    "    x_err: list\n",
    "        The error evaluated at each point, x\n",
    "    \"\"\"\n",
    "    x_err = []\n",
    "    for i, point in enumerate(x):\n",
    "        J = jacobian_slope(point, *popt)\n",
    "        d2dx2 = multi_gauss_d2dx2(point, *popt)\n",
    "        JC = np.matmul(J, pcov)\n",
    "        sigma_y = np.sqrt( np.matmul(JC, np.transpose(J)).item(0) )\n",
    "        x_err.append(sigma_y / abs(d2dx2))\n",
    "    return x_err"
   ]
  },
  {
   "cell_type": "code",
   "execution_count": null,
   "metadata": {},
   "outputs": [],
   "source": [
    "def find_minima_maxima_gauss(popt, pcov, x_length):\n",
    "    \"\"\"\n",
    "    Finds all peaks of a gaussian function, where the derivative is equal to zero. \n",
    "\n",
    "    Parameters:\n",
    "    -----------\n",
    "    popt: list\n",
    "        A list of length 3N where N is the number of gaussians. This list contains the parameters amp, mean, centre respectively\n",
    "    x_length: int\n",
    "        The length of the list used to fit the gaussian\n",
    "\n",
    "    Returns:\n",
    "    --------\n",
    "    minima: list\n",
    "        A list of the minimum points of the fit\n",
    "    maxima: list\n",
    "        A list of the maximum points of the fit\n",
    "    \"\"\"\n",
    "    #Create the derivative list and spline it to find roots\n",
    "    x = np.linspace(0, x_length-1, x_length)\n",
    "    dy = multi_gauss_ddx(x, *popt)\n",
    "    spline_dy = UnivariateSpline(x, dy, s=0)\n",
    "    roots = spline_dy.roots()\n",
    "    \n",
    "    #Find which are max and min\n",
    "    maxima = []\n",
    "    minima = []\n",
    "    for root in roots:\n",
    "        idx = int(root + 0.5)\n",
    "        if dy[idx-1] > dy[idx]:\n",
    "            maxima.append(root)\n",
    "        else:\n",
    "            minima.append(root)            \n",
    "            \n",
    "    minima_e = find_x_err(minima, popt, pcov)\n",
    "    maxima_e = find_x_err(maxima, popt, pcov)\n",
    "    \n",
    "    return minima, maxima, minima_e, maxima_e"
   ]
  },
  {
   "cell_type": "code",
   "execution_count": null,
   "metadata": {},
   "outputs": [],
   "source": [
    "def gauss_peaks(fit, nofreqband, freqband, pcov, params, freq_low, freq_high, noise, data = 'parkes', freq=0):\n",
    "    \"\"\"\n",
    "    Find the peaks of a gaussian fit, take the highest two and create a profile_comp.\n",
    "    Also converts the phase into degrees and the frequency into MHz.\n",
    "    \n",
    "    Parameters:\n",
    "    -----------\n",
    "    fit: list\n",
    "        the gaussian fit to find peaks of\n",
    "    nofreqband: int\n",
    "        total number of frequency bins \n",
    "    freqband: int\n",
    "        current frequency band which has been fit\n",
    "    pcov: list\n",
    "        the covariance matrix from the fit\n",
    "    params: list\n",
    "        the parameters for the fit\n",
    "    freq_low: int\n",
    "        the lower boundary of the frequency range\n",
    "    freq_high: int\n",
    "        the high boundary of the frequency range\n",
    "    Returns:\n",
    "    --------\n",
    "    profile_comp: pulse_component\n",
    "        carrys information about each component at a certain frequency\n",
    "    \"\"\"\n",
    "    \n",
    "    deg_mod=360/len(fit)\n",
    "    \n",
    "    ##Find the peaks of the fit, and the intensity at those peaks\n",
    "    #minima, peakpos, minima_e, err = find_minima_maxima_gauss(params, pcov, len(fit))\n",
    "    #peakint = multi_gauss(peakpos, *params)\n",
    "    \n",
    "    err=[]\n",
    "    err2=[]\n",
    "    peakpos=[]\n",
    "    peakint=[]\n",
    "    \n",
    "    uncert=np.sqrt(np.diag(pcov))\n",
    "    \n",
    "    for h in range(1,len(params),3):\n",
    "        peakpos=np.append(peakpos,params[h])\n",
    "        err=np.append(err,uncert[h])\n",
    "        peakint=np.append(peakint,params[h-1])\n",
    "        err2=np.append(err2,uncert[h-1])\n",
    "    \n",
    "    if len(peakpos)==4:\n",
    "        peakpos=np.delete(peakpos,2)\n",
    "        peakint=np.delete(peakint,2)\n",
    "        err=np.delete(err,2)  \n",
    "        err2=np.delete(err2,2)\n",
    "    if len(peakpos)==3:\n",
    "        peakpos=np.delete(peakpos,0)\n",
    "        peakint=np.delete(peakint,0)\n",
    "        err=np.delete(err,0)\n",
    "        err2=np.delete(err2,0)\n",
    "        \n",
    "    #Removes peaks until only two highest remain - which also have to be the lasttwo peaks\n",
    "    #If the highest do not correspond to the last, the frequency band is not used\n",
    "    while len(peakpos)>2:\n",
    "        mn=min(peakint)\n",
    "        peakint = list(peakint)\n",
    "        rm = peakint.index(mn)\n",
    "        if rm!=len(peakpos)-1:\n",
    "            del peakpos[rm]\n",
    "            del peakint[rm]\n",
    "            del err[rm]\n",
    "            del err2[rm]\n",
    "        else:\n",
    "            break \n",
    "\n",
    "    #Assign the peaks to the correct component label, also converts phase from bins to degrees\n",
    "    \n",
    "    component1=0\n",
    "    component2=0\n",
    "    errr=[]\n",
    "    errr2=[]\n",
    "    \n",
    "    if(max(peakint)/noise)>3:\n",
    "        if data=='parkes':\n",
    "            for n,p in enumerate(peakpos):\n",
    "                if p>670 and p<710:\n",
    "                    component1 = component(phase=(deg_mod)*peakpos[n], intensity=peakint[n])\n",
    "                    errr.append(err[n])\n",
    "                    errr2.append(err2[n])\n",
    "                elif p>720:\n",
    "                    component2 = component(phase=(deg_mod)*peakpos[n], intensity=peakint[n])\n",
    "                    errr.append(err[n])\n",
    "                    errr2.append(err2[n])\n",
    "        elif data!='parkes' and len(peakpos)==2:\n",
    "            component1 = component(phase=(deg_mod)*peakpos[0], intensity=peakint[0])\n",
    "            errr.append(err[0])\n",
    "            errr2.append(err2[0])\n",
    "            component2 = component(phase=(deg_mod)*peakpos[1], intensity=peakint[1])\n",
    "            errr.append(err[1])\n",
    "            errr2.append(err2[1])\n",
    "    else:\n",
    "        print(\"Too noisey\", freqband)\n",
    "                \n",
    "    if component1==0 or component2==0:\n",
    "        component1 = component(phase=0, intensity=0)\n",
    "        component2 = component(phase=0, intensity=0)\n",
    "        error = 0   \n",
    "        print(\"peaks\",len(peakpos),peakpos,\"band\", freqband)\n",
    "    else:\n",
    "        error = [np.array(errr)*(deg_mod),errr2]\n",
    "\n",
    "    #Converts the frequency from bins to MHz    \n",
    "    if data=='parkes':\n",
    "        freq=(((freq_high-freq_low)/nofreqband)*(freqband))+freq_low+((freq_high-freq_low)/(nofreqband*2))\n",
    "    else:\n",
    "        freq=freq[freqband]\n",
    "\n",
    "    profile_comp = pulse_component(frequency=freq, comp1=component1, comp2=component2, errors=error)\n",
    "\n",
    "    return profile_comp"
   ]
  },
  {
   "cell_type": "code",
   "execution_count": null,
   "metadata": {},
   "outputs": [],
   "source": [
    "def fit_peaks(fit, freqband, pcov, params, noise, frequency):\n",
    "    \n",
    "    deg_mod=360/len(fit)\n",
    "    \n",
    "    #Find the peaks of the fit, and the intensity at those peaks\n",
    "    peakpos = params[1]\n",
    "    paramint = params[0]\n",
    "    errcov = np.sqrt(np.diag(pcov))\n",
    "    err = errcov[1]\n",
    "    err2 = errcov[0]\n",
    "    if len(params)>3:\n",
    "        peakpos=np.append(peakpos,params[4])\n",
    "        paramint=np.append(paramint,params[3])\n",
    "        err = np.append(err,errcov[4])\n",
    "        err2 = np.append(err2,errcov[3])\n",
    "    if len(params)>6:\n",
    "        peakpos=np.append(peakpos,params[7])\n",
    "        paramint=np.append(paramint,params[6])\n",
    "        err=np.append(err,errcov[7])\n",
    "        err2 = np.append(err2,errcov[6])\n",
    "\n",
    "    print(peakpos)\n",
    "    peakint = multi_gauss(peakpos, *params)\n",
    "    print(peakint)\n",
    "\n",
    "    #Removes peaks until only two highest remain - which also have to be the two outer peaks\n",
    "    #If the highest do not correspond to the outer, the frequency band is not used\n",
    "    while len(peakpos)>2:\n",
    "        mn=min(paramint)\n",
    "        paramint = list(paramint)\n",
    "        rm = paramint.index(mn)   \n",
    "        print(rm)\n",
    "        peakpos=np.delete(peakpos,rm)\n",
    "        peakint=np.delete(peakint,rm)\n",
    "        err=np.delete(err,rm)\n",
    "        err2=np.delete(err2,rm)\n",
    "\n",
    "    #Assign the peaks to the correct component label, also converts phase from bins to degrees\n",
    "    \n",
    "    component1=0\n",
    "    component2=0\n",
    "    errr=[]\n",
    "    errr2=[]\n",
    "    \n",
    "    if(max(peakint)/noise)>3:\n",
    "        if len(peakpos)==2:\n",
    "            component1 = component(phase=(deg_mod)*peakpos[0], intensity=peakint[0])\n",
    "            errr.append(err[0])\n",
    "            errr2.appemd(err2[0])\n",
    "            component2 = component(phase=(deg_mod)*peakpos[1], intensity=peakint[1])\n",
    "            errr.append(err[1])\n",
    "            errr2.append(err2[1])\n",
    "    else:\n",
    "        print(\"Too noisey\", freqband)\n",
    "                \n",
    "    if component1==0 or component2==0:\n",
    "        component1 = component(phase=0, intensity=0)\n",
    "        component2 = component(phase=0, intensity=0)\n",
    "        error = 0   \n",
    "        print(\"peaks\",len(peakpos),peakpos,\"band\", freqband)\n",
    "    else:\n",
    "        error = [np.array(errr)*(deg_mod),np.array(errr2)]\n",
    "\n",
    "    #Converts the frequency from bins to MHz    \n",
    "    freq=frequency[freqband]\n",
    "    \n",
    "    profile_comp = pulse_component(frequency=freq, comp1=component1, comp2=component2, errors=error)\n",
    "\n",
    "    return profile_comp"
   ]
  },
  {
   "cell_type": "code",
   "execution_count": null,
   "metadata": {},
   "outputs": [],
   "source": [
    "\"\"\"\n",
    "    Graphing Sub-pulse operation:\n",
    "    Used to get the correct x, y and error arrays created for graphing the data and finding a fit.\n",
    "\"\"\"\n",
    "def graphing_comp(fit_comp,comp_num):\n",
    "        phase_comp=[]\n",
    "        frequency_comp=[]\n",
    "        comp_err=[]\n",
    "\n",
    "        for i in range(0,len(fit_comp)):\n",
    "            if fit_comp[i][comp_num][0]!=0:\n",
    "                phase_comp.append(fit_comp[i][comp_num][0])\n",
    "                frequency_comp.append(fit_comp[i][0])\n",
    "                comp_err.append(fit_comp[i][3][0][comp_num-1])\n",
    "\n",
    "        return phase_comp, frequency_comp, comp_err    "
   ]
  },
  {
   "cell_type": "code",
   "execution_count": null,
   "metadata": {},
   "outputs": [],
   "source": [
    "\"\"\"\n",
    "    Used to remove outliers more than the threshold number of standard deviations from the mean. \n",
    "    Also removes points with high errors (greater than 100 degrees).\n",
    "\"\"\"\n",
    "def detect_outlier(frequency_comp, phase_comp, comp_err , threshold):\n",
    "    phase=[]\n",
    "    frequency=[]\n",
    "    err=[]\n",
    "    \n",
    "    #Find mean and standard deviation of data\n",
    "    mean_1 = np.mean(phase_comp)\n",
    "    std_1 =np.std(phase_comp)\n",
    "    \n",
    "    for i in range(len(phase_comp)):\n",
    "        #Find z score\n",
    "        z_score= (phase_comp[i] - mean_1)/std_1 \n",
    "        #Only include points which have a z score under the threshold value, and with errors less than 100 degrees\n",
    "        if np.abs(z_score) < threshold and comp_err[i]<20:\n",
    "            phase.append(phase_comp[i])\n",
    "            frequency.append(frequency_comp[i])\n",
    "            err.append(comp_err[i])\n",
    "    return frequency, phase, err"
   ]
  },
  {
   "cell_type": "code",
   "execution_count": null,
   "metadata": {},
   "outputs": [],
   "source": [
    "def thorsett(x, A, alpha, smin):\n",
    "    return (A * (x**(alpha)) + smin)\n",
    "def powerlaw(x, A, alpha):\n",
    "    return (A * (x**(alpha)))\n",
    "def linear(x, m, c):\n",
    "    return ((m * np.array(x)) + c)"
   ]
  },
  {
   "cell_type": "code",
   "execution_count": null,
   "metadata": {},
   "outputs": [],
   "source": [
    "\"\"\"\n",
    "    Used to gain separation of components values and the uncertainties. \n",
    "\"\"\"\n",
    "def separation_singleprofile(components_array):\n",
    "    sep_array=[]\n",
    "    uncert=[]\n",
    "\n",
    "    #Go through all the different frequencies\n",
    "    for i in range(0,len(components_array)):\n",
    "        if components_array[i][1][0] != 0 and components_array[i][2][0] != 0:\n",
    "            freq=components_array[i][0]\n",
    "            #Subtract second component from first\n",
    "            sep=(components_array[i][2][0]) - (components_array[i][1][0])\n",
    "            single_sep=component_separation(frequency=freq, separation=sep)\n",
    "            sep_array.append(single_sep)\n",
    "            #Calculate uncertainty\n",
    "            uncert.append(np.sqrt((components_array[i][3][0][0])**2 + (components_array[i][3][0][1])**2))\n",
    "    return sep_array, uncert"
   ]
  },
  {
   "cell_type": "code",
   "execution_count": null,
   "metadata": {},
   "outputs": [],
   "source": [
    "def plot_peaks(x,y,profile_comp):\n",
    "    plt.plot(x,y, lw=1)\n",
    "    plt.plot(x, fit, color='red', lw=3, label='gaussian fit')\n",
    "\n",
    "    x=[profile_comp[i][0] for i in range(1,3)]\n",
    "    y=[profile_comp[i][1] for i in range(1,3)]\n",
    "\n",
    "    plt.plot(x, y ,'X', markerfacecolor='black', markeredgecolor='black', label='peaks')\n",
    "\n",
    "    plt.xlabel('Phase (deg)')\n",
    "    plt.ylabel('Intensity')\n",
    "    plt.legend()\n",
    "    return"
   ]
  },
  {
   "cell_type": "code",
   "execution_count": null,
   "metadata": {},
   "outputs": [],
   "source": [
    "def component_positions(averageprofiles,expected1,bounds1,minf,maxf):\n",
    "    fit_components = []\n",
    "    no_freq_bands=max(averageprofiles['frequency'])+1\n",
    "\n",
    "    #Loop thought all of the frequency bands\n",
    "    for freqband in range(0,no_freq_bands):\n",
    "        f = averageprofiles['frequency'] == freqband\n",
    "        x=averageprofiles['phase'][f]\n",
    "        y=averageprofiles['intensity'][f]\n",
    "\n",
    "        noise = sigmaClip(y)\n",
    "        error = np.nanstd(noise[1])\n",
    "\n",
    "        #Fit the gaussians and find peaks and errors, create array with all frequencies\n",
    "        #Resulting frequencies are in MHz and phase in degrees\n",
    "        if len(x)!=0 and len(y)!=0:\n",
    "            try:\n",
    "                params,cov,sigma = fitting_parameters(x,y,expected1,bounds1)\n",
    "                fit = multi_gauss(x,*params)\n",
    "                profile_comp = gauss_peaks(fit, no_freq_bands, freqband, cov, params, minf,maxf,error)\n",
    "            except:\n",
    "                component1 = component(phase=0, intensity=0)\n",
    "                component2 = component(phase=0, intensity=0)\n",
    "                error = 0             \n",
    "                freq=(((maxf-minf)/no_freq_bands)*(freqband))+minf+((maxf-minf)/(no_freq_bands*2))\n",
    "                profile_comp = pulse_component(frequency=freq, comp1=component1, comp2=component2, errors=error)\n",
    "            fit_components.append(profile_comp)\n",
    "    return fit_components"
   ]
  },
  {
   "cell_type": "code",
   "execution_count": null,
   "metadata": {},
   "outputs": [],
   "source": [
    "def plot_comp_movement(fit_components,title,colour,comnum,outlierrem):\n",
    "    #Separate the array into x and y axis of phase and frequency which can be graphed\n",
    "    phase_comp1, frequency_comp1, comp1_err=graphing_comp(fit_components,comnum)\n",
    "    #Plot points\n",
    "    #plt.errorbar(phase_comp1,frequency_comp1, xerr=comp1_err, fmt='.', lw=0.5, color='red')\n",
    "    plt.title(title)\n",
    "    plt.xlabel('Phase (deg)')\n",
    "    plt.ylabel('Frequency')\n",
    "    #Remove outliers which are greater than 'threshold' number of std away from the mean\n",
    "    frequency_comp1, phase_comp1, comp1_err = detect_outlier(frequency_comp1, phase_comp1, comp1_err,outlierrem)\n",
    "    #Plot outlier removed points\"\n",
    "    plt.errorbar(phase_comp1,frequency_comp1, xerr=comp1_err, fmt='.', lw=0.5, color=colour,label='data')\n",
    "    \n",
    "    #Fit the thorsett model to the component position\n",
    "    y_range=list(range(minf,maxf))\n",
    "    #Fit a linear \n",
    "    comp1_paramslin,comp1_covlin=curve_fit(linear,frequency_comp1,phase_comp1, maxfev=10000, sigma=comp1_err)\n",
    "    comp1_fit_errorlin=np.sqrt(np.diag(comp1_covlin))\n",
    "    comp1_fitlin = linear(y_range, *comp1_paramslin)\n",
    "    \n",
    "    #Plot linear\n",
    "    #plt.plot(comp1_fitlin, y_range,color='black',lw=2, label='linear fit', zorder=1)\n",
    "    #plt.legend()\n",
    "\n",
    "    return comp1_fitlin, y_range"
   ]
  },
  {
   "cell_type": "code",
   "execution_count": null,
   "metadata": {},
   "outputs": [],
   "source": [
    "def plot_sep_movement(fit_components,title,colour,outlierrem):\n",
    "    y_range=list(range(minf,maxf))\n",
    "    #Gain component separation values\n",
    "    component_sep, sep_error = separation_singleprofile(fit_components)\n",
    "    comp_sep=[]\n",
    "    frequency_forsep=[]\n",
    "    #Put them into arrays for graphing\n",
    "    for i in range(0,len(component_sep)):\n",
    "        comp_sep.append(component_sep[i][1])\n",
    "        frequency_forsep.append(component_sep[i][0])\n",
    "    \n",
    "    #Plot points\n",
    "    #plt.errorbar(frequency_forsep, comp_sep, yerr=sep_error, color='red', fmt='.', lw=0.5)\n",
    "    plt.xlabel('Frequency (MHz)')\n",
    "    plt.ylabel('\\u0394\\u03B8 (deg)')\n",
    "    #Remove outliers\n",
    "    frequency_forsep, comp_sep, sep_error = detect_outlier(frequency_forsep, comp_sep, sep_error, outlierrem)\n",
    "    #Plot points with outliers removed\n",
    "    plt.errorbar(frequency_forsep, comp_sep, yerr=sep_error, color=colour, fmt='.', lw=0.5, label='data')\n",
    "    plt.title(title)\n",
    "    \n",
    "    #Create a thorsett fit\n",
    "    expect=(703,0.5,10)\n",
    "    sep_params,sep_cov=curve_fit(thorsett,frequency_forsep,comp_sep, expect, maxfev=10000, sigma=sep_error, bounds=([0,-1,-np.inf],[np.inf,0.5,np.inf]))\n",
    "    sep_fit_error=np.sqrt(np.diag(sep_cov))\n",
    "    separation_fit=thorsett(y_range,*sep_params)\n",
    "    \n",
    "    plt.plot(y_range,separation_fit, color='lightgrey',lw=1,label='empirical fit',zorder=0.1)\n",
    "    return y_range, separation_fit, sep_params"
   ]
  },
  {
   "cell_type": "code",
   "execution_count": null,
   "metadata": {},
   "outputs": [],
   "source": [
    "def find_widths(profile, popt, pcov):\n",
    "    #perform spline operations on the fit\n",
    "    x = np.linspace(0, len(profile)-1, len(profile))\n",
    "    fit = multi_gauss(x, *popt)\n",
    "    amp_fit = max(fit) - min(fit)\n",
    "    spline10 = UnivariateSpline(x, fit - np.full(len(x), 0.1*amp_fit), s=0)\n",
    "    spline50 = UnivariateSpline(x, fit - np.full(len(x), 0.5*amp_fit), s=0)\n",
    "\n",
    "    #find W10, W50 and Wscat\n",
    "    W10_roots = spline10.roots()\n",
    "    W50_roots = spline50.roots()\n",
    "    W10 = W10_roots[-1] - W10_roots[0]\n",
    "    W50 = W50_roots[-1] - W50_roots[0]\n",
    "\n",
    "    #W10 root errors\n",
    "    err_10 = find_x_err(W10_roots, popt, pcov)\n",
    "    W10_e = np.sqrt(err_10[0]**2 + err_10[-1]**2)\n",
    "\n",
    "    #W50 root errors\n",
    "    err_50 = find_x_err(W50_roots, popt, pcov)\n",
    "    W50_e = np.sqrt(err_50[0]**2 + err_50[-1]**2)\n",
    "    \n",
    "    return W10, W50, W10_e, W50_e"
   ]
  },
  {
   "cell_type": "code",
   "execution_count": null,
   "metadata": {},
   "outputs": [],
   "source": [
    "def plot_intensities(fit_components, title, colour):  \n",
    "    #Find intensity of component1\n",
    "    intensity_comp1=[]\n",
    "    frequency_comp1=[]\n",
    "    intensity_comp2=[]\n",
    "    frequency_comp2=[]\n",
    "    err1=[]\n",
    "    err2=[]\n",
    "\n",
    "    for i in range(0,len(fit_components)):\n",
    "        if fit_components[i][1][0] != 0:\n",
    "            intensity_comp1.append(fit_components[i][1][1])\n",
    "            frequency_comp1.append(fit_components[i][0])\n",
    "            err1.append(fit_components[i][3][1][0])\n",
    "            intensity_comp2.append(fit_components[i][2][1])\n",
    "            frequency_comp2.append(fit_components[i][0])\n",
    "            err2.append(fit_components[i][3][1][1])\n",
    "\n",
    "    int_ratio=np.array(intensity_comp1)/np.array(intensity_comp2)\n",
    "    int_err=int_ratio*np.sqrt((err1/intensity_comp1)^2+(err2/intensity_comp2)^2)\n",
    "    \n",
    "\n",
    "    plt.plot(frequency_comp2,int_ratio, '.', lw=0.5, color=colour,label='data',yerr=int_err)\n",
    "    plt.title('Intensity Ratio of Component 1/Component 2')\n",
    "    plt.xlabel('Frequency')\n",
    "    plt.ylabel('Intensity Ratio')\n",
    "    plt.title(title)\n",
    "    \n",
    "    #Fit the thorsett model to the component position\n",
    "    y_range=list(range(minf,maxf))\n",
    "    #Fit a linear \n",
    "    ratio_paramslin,ratio_covlin=curve_fit(linear,frequency_comp2,int_ratio, maxfev=10000) #sigma=comp1_err)\n",
    "    ratio_fit_errorlin=np.sqrt(np.diag(ratio_covlin))\n",
    "    ratio_fitlin = linear(y_range, *ratio_paramslin)\n",
    "    \n",
    "    #Plot linear\n",
    "    plt.plot(y_range,ratio_fitlin,color='lightgrey',lw=1, label='linear fit', zorder=1)\n",
    "    plt.legend()\n",
    "    \n",
    "    return y_range, ratio_fitlin, ratio_paramslin"
   ]
  },
  {
   "cell_type": "code",
   "execution_count": null,
   "metadata": {},
   "outputs": [],
   "source": []
  },
  {
   "cell_type": "code",
   "execution_count": null,
   "metadata": {},
   "outputs": [],
   "source": []
  },
  {
   "cell_type": "code",
   "execution_count": null,
   "metadata": {},
   "outputs": [],
   "source": []
  },
  {
   "cell_type": "code",
   "execution_count": null,
   "metadata": {},
   "outputs": [],
   "source": []
  },
  {
   "cell_type": "code",
   "execution_count": null,
   "metadata": {},
   "outputs": [],
   "source": []
  },
  {
   "cell_type": "code",
   "execution_count": null,
   "metadata": {},
   "outputs": [],
   "source": []
  },
  {
   "cell_type": "code",
   "execution_count": null,
   "metadata": {},
   "outputs": [],
   "source": []
  },
  {
   "cell_type": "code",
   "execution_count": null,
   "metadata": {},
   "outputs": [],
   "source": []
  },
  {
   "cell_type": "code",
   "execution_count": null,
   "metadata": {},
   "outputs": [],
   "source": []
  },
  {
   "cell_type": "code",
   "execution_count": null,
   "metadata": {},
   "outputs": [],
   "source": []
  }
 ],
 "metadata": {
  "kernelspec": {
   "display_name": "Python 3",
   "language": "python",
   "name": "python3"
  }
 },
 "nbformat": 4,
 "nbformat_minor": 4
}
