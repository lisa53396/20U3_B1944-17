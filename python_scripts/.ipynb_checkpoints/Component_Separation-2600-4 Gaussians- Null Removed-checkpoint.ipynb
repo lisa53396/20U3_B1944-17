{
 "cells": [
  {
   "cell_type": "markdown",
   "metadata": {
    "colab_type": "text",
    "id": "4z_feS2dDwlJ"
   },
   "source": [
    "## Importing Packages Needed"
   ]
  },
  {
   "cell_type": "code",
   "execution_count": 1,
   "metadata": {
    "colab": {},
    "colab_type": "code",
    "id": "zJLqZxwce0pN"
   },
   "outputs": [],
   "source": [
    "import numpy as np\n",
    "import matplotlib.pyplot as py\n",
    "from scipy.optimize import curve_fit\n",
    "import collections as col\n",
    "import statistics\n",
    "from scipy.interpolate import UnivariateSpline"
   ]
  },
  {
   "cell_type": "markdown",
   "metadata": {
    "colab_type": "text",
    "id": "FamzMgIcD2xs"
   },
   "source": [
    "## Definition of Named Tuples"
   ]
  },
  {
   "cell_type": "code",
   "execution_count": 2,
   "metadata": {
    "colab": {},
    "colab_type": "code",
    "id": "Uzxt0sq0qeHc"
   },
   "outputs": [],
   "source": [
    "component = col.namedtuple('component','phase intensity')\n",
    "ind_component = col.namedtuple('component','phase intensity width')\n",
    "pulse_component = col.namedtuple('pulse_component','frequency comp1 comp2 errors')\n",
    "component_separation = col.namedtuple('component_separation','frequency separation')"
   ]
  },
  {
   "cell_type": "markdown",
   "metadata": {
    "colab_type": "text",
    "id": "a8CeXWdQIy8b"
   },
   "source": [
    "# Definition of Functions"
   ]
  },
  {
   "cell_type": "markdown",
   "metadata": {
    "colab_type": "text",
    "id": "nOegi6c8I3gu"
   },
   "source": [
    "Gaussian Fitting Functions:"
   ]
  },
  {
   "cell_type": "code",
   "execution_count": 3,
   "metadata": {
    "colab": {},
    "colab_type": "code",
    "id": "Jf6ae6VTR-iR"
   },
   "outputs": [],
   "source": [
    "def gauss(x,amp,cen,sd):\n",
    "    return amp*np.exp(-(x-cen)**2/(2*sd**2))\\\n",
    "\n",
    "def multi_gauss(x, *params):\n",
    "    y = np.zeros_like(x)\n",
    "    for i in range(0, len(params), 3):\n",
    "        a = params[i]\n",
    "        b = params[i+1]\n",
    "        c = params[i+2]\n",
    "        y = y +  a * np.exp( -(((x-b)**2) / (2*c**2)) )\n",
    "    return y"
   ]
  },
  {
   "cell_type": "code",
   "execution_count": 4,
   "metadata": {},
   "outputs": [],
   "source": [
    "\"\"\"\n",
    "    Used to get the parameters, covariance matrix and errors for any number of gaussian fits, through and expected value. \n",
    "\"\"\"\n",
    "def fitting_parameters(x,y,expected,bound):\n",
    "    \"\"\"\n",
    "    bound=([],[])\n",
    "    for i in range(len(expected)):\n",
    "        bound[0].append(0)\n",
    "        bound[1].append(np.inf)\n",
    "    \"\"\"\n",
    "        \n",
    "    params,cov=curve_fit(multi_gauss,x,y,expected, bounds=bound)\n",
    "    sigma=np.sqrt(np.diag(cov))\n",
    "    return params, cov, sigma"
   ]
  },
  {
   "cell_type": "markdown",
   "metadata": {},
   "source": [
    "Chi Squared functions"
   ]
  },
  {
   "cell_type": "code",
   "execution_count": 5,
   "metadata": {},
   "outputs": [],
   "source": [
    "\"\"\"\n",
    "    Compute the data's chi squared values.\n",
    "\n",
    "    Parameters:\n",
    "    -----------\n",
    "    observed_values: list\n",
    "        A list of floats - the raw data\n",
    "    expected_values: list\n",
    "        A list of floats - the expected data or the fit\n",
    "    err: float/list\n",
    "        The error across all data - standard deviation of the noise\n",
    "\n",
    "    Returns:\n",
    "    --------\n",
    "    test_statistic: float\n",
    "        The chi squared value of the data\n",
    "    \n",
    "    Created by Keegan Smith\n",
    "\"\"\"\n",
    "def chsq(observed_values, expected_values, err):\n",
    "    test_statistic=0\n",
    "    for observed, expected in zip(observed_values, expected_values):\n",
    "        test_statistic+=((float(observed)-float(expected))/float(err))**2\n",
    "    return test_statistic\n",
    "\n",
    "def chsq_err(observed_values, expected_values, err):\n",
    "    #Same as above but used when there is a different error for each point\n",
    "    test_statistic=0\n",
    "    for observed, expected, error in zip(observed_values, expected_values, err):\n",
    "        test_statistic+=((float(observed)-float(expected))/float(error))**2\n",
    "    return test_statistic"
   ]
  },
  {
   "cell_type": "markdown",
   "metadata": {},
   "source": [
    "Error Finding Functions"
   ]
  },
  {
   "cell_type": "code",
   "execution_count": 6,
   "metadata": {},
   "outputs": [],
   "source": [
    "def sigmaClip(data, alpha=3, tol=0.1, ntrials=10):\n",
    "    \"\"\"\n",
    "    Compute the data's median, m, and its standard deviation, sigma.\n",
    "    Keep only the data that falls in the range (m-alpha*sigma,m+alpha*sigma) for some value of alpha, and discard everything else.\n",
    "    This operation is repeated ntrials number of times or until the tolerance level is hit.\n",
    "\n",
    "    Parameters:\n",
    "    -----------\n",
    "    data: list\n",
    "        A list of floats - the data to clip\n",
    "    alpha: float\n",
    "        OPTIONAL - Determines the number of sigmas to use to determine the upper nad lower limits. Default=3\n",
    "    tol: float\n",
    "        OPTIONAL - The fractional change in the standard deviation that determines when the tolerance is hit. Default=0.1\n",
    "    ntrils: int\n",
    "        OPTIONAL - The maximum number of times to apply the operation. Default=10\n",
    "\n",
    "    Returns:\n",
    "    --------\n",
    "    oldstd: float\n",
    "        The std of the clipped data\n",
    "    x: list\n",
    "        The data list that contains only noise, with nans in place of 'real' data\n",
    "    \n",
    "    Created by Nick Swainston\n",
    "    \"\"\"\n",
    "    x = np.copy(data)\n",
    "    oldstd = np.nanstd(x)\n",
    "    #When the x[x<lolim] and x[x>hilim] commands encounter a nan it produces a\n",
    "    #warning. This is expected because it is ignoring flagged data from a\n",
    "    #previous trial so the warning is supressed.\n",
    "    old_settings = np.seterr(all='ignore')\n",
    "    for trial in range(ntrials):\n",
    "        median = np.nanmedian(x)\n",
    "\n",
    "        lolim = median - alpha * oldstd\n",
    "        hilim = median + alpha * oldstd\n",
    "        x[x<lolim] = np.nan\n",
    "        x[x>hilim] = np.nan\n",
    "\n",
    "        newstd = np.nanstd(x)\n",
    "        tollvl = (oldstd - newstd) / newstd\n",
    "\n",
    "        if tollvl <= tol:\n",
    "            np.seterr(**old_settings)\n",
    "            return oldstd, x\n",
    "\n",
    "        if trial + 1 == ntrials:\n",
    "            np.seterr(**old_settings)\n",
    "            return oldstd, x\n",
    "\n",
    "        oldstd = newstd"
   ]
  },
  {
   "cell_type": "code",
   "execution_count": 7,
   "metadata": {},
   "outputs": [],
   "source": [
    "def multi_gauss_ddx(x, *params):\n",
    "    #derivative of gaussian\n",
    "    y = np.zeros_like(x)\n",
    "    for i in range(0, len(params), 3):\n",
    "        a = params[i]\n",
    "        b = params[i+1]\n",
    "        c = params[i+2]\n",
    "        y = y - a/c**2 * (x - b) * np.exp( -(((x-b)**2) / (2*c**2)) )\n",
    "    return y\n",
    "\n",
    "def multi_gauss_d2dx2(x, *params):\n",
    "    #double derivative of gaussian\n",
    "    y = np.zeros_like(x)\n",
    "    for i in range(0, len(params), 3):\n",
    "        a = params[i]\n",
    "        b = params[i+1]\n",
    "        c = params[i+2]\n",
    "        y = y + (multi_gauss(x, a, b, c) / c**2) * (((x - b)**2)/(c**2) - 1)\n",
    "    return y\n",
    "\n",
    "def jacobian_slope(x, *params):\n",
    "    \"\"\"\n",
    "    Evaluates the Jacobian matrix of a gaussian slope at a single point, x\n",
    "\n",
    "    Parameters:\n",
    "    -----------\n",
    "    x: float\n",
    "        The point to evaluate\n",
    "    *params: list\n",
    "        A list containing three parameters per gaussian component in the order: Amp, Mean, Width\n",
    "\n",
    "    Returns:\n",
    "    --------\n",
    "    J: numpy.matrix\n",
    "        The Jacobian matrix\n",
    "    \"\"\"\n",
    "    def dda(a, b, c, x):\n",
    "        return -multi_gauss(x, a, b, c) * (x - b)/(c**2)/a\n",
    "    def ddb(a, b, c, x):\n",
    "        return multi_gauss(x, a, b, c) * (1 - (x - b)**2/(c**2))/c**2\n",
    "    def ddc(a, b, c, x):\n",
    "        return multi_gauss(x, a, b, c) * (x - b)/(c**3) * (2 - (x-b)**2/(c**2))\n",
    "    J = []\n",
    "    for i in range(0, len(params), 3):\n",
    "        a = params[i]\n",
    "        b = params[i+1]\n",
    "        c = params[i+2]\n",
    "        mypars = [a, b, c, x]\n",
    "        J.append(dda(*mypars))\n",
    "        J.append(ddb(*mypars))\n",
    "        J.append(ddc(*mypars))\n",
    "    J = np.asmatrix(J)\n",
    "    return J"
   ]
  },
  {
   "cell_type": "code",
   "execution_count": 8,
   "metadata": {},
   "outputs": [],
   "source": [
    "def find_x_err(x, popt, pcov):\n",
    "    \"\"\"\n",
    "    Finds the error in the horizontal position of a gaussian fit at the point x.\n",
    "    Uses the equation sigma_x = sigma_y/d2ydx2 where:\n",
    "    sigma_x = error in x\n",
    "    d2ydx2 = second derivative of the gaussian function at point x\n",
    "    sigma_y = sqrt.J*C*J_T\n",
    "    J = Jacobian evalutated at point x\n",
    "    C = covariance matrix of gaussian fit\n",
    "    J_T = transposed jacobian\n",
    "\n",
    "    Parameters:\n",
    "    -----------\n",
    "    x: list\n",
    "        A list of points to evaluate the error at\n",
    "    popt: list\n",
    "        The parameters used to describe the gaussian fit\n",
    "    pcov: numpy.matrix\n",
    "        The covariance matrix corresponding to popt\n",
    "\n",
    "    Returns:\n",
    "    --------\n",
    "    x_err: list\n",
    "        The error evaluated at each point, x\n",
    "    \"\"\"\n",
    "    x_err = []\n",
    "    for i, point in enumerate(x):\n",
    "        J = jacobian_slope(point, *popt)\n",
    "        d2dx2 = multi_gauss_d2dx2(point, *popt)\n",
    "        JC = np.matmul(J, pcov)\n",
    "        sigma_y = np.sqrt( np.matmul(JC, np.transpose(J)).item(0) )\n",
    "        x_err.append(sigma_y / abs(d2dx2))\n",
    "    return x_err"
   ]
  },
  {
   "cell_type": "markdown",
   "metadata": {
    "colab_type": "text",
    "id": "Hf__MEBnJEd_"
   },
   "source": [
    "Finding Peak of Fittings Function"
   ]
  },
  {
   "cell_type": "code",
   "execution_count": 9,
   "metadata": {},
   "outputs": [],
   "source": [
    "def find_minima_maxima_gauss(popt, pcov, x_length):\n",
    "    \"\"\"\n",
    "    Finds all peaks of a gaussian function, where the derivative is equal to zero. \n",
    "\n",
    "    Parameters:\n",
    "    -----------\n",
    "    popt: list\n",
    "        A list of length 3N where N is the number of gaussians. This list contains the parameters amp, mean, centre respectively\n",
    "    x_length: int\n",
    "        The length of the list used to fit the gaussian\n",
    "\n",
    "    Returns:\n",
    "    --------\n",
    "    minima: list\n",
    "        A list of the minimum points of the fit\n",
    "    maxima: list\n",
    "        A list of the maximum points of the fit\n",
    "    \"\"\"\n",
    "    #Create the derivative list and spline it to find roots\n",
    "    x = np.linspace(0, x_length-1, x_length)\n",
    "    dy = multi_gauss_ddx(x, *popt)\n",
    "    spline_dy = UnivariateSpline(x, dy, s=0)\n",
    "    roots = spline_dy.roots()\n",
    "    \n",
    "    #Find which are max and min\n",
    "    maxima = []\n",
    "    minima = []\n",
    "    for root in roots:\n",
    "        idx = int(root + 0.5)\n",
    "        if dy[idx-1] > dy[idx]:\n",
    "            maxima.append(root)\n",
    "        else:\n",
    "            minima.append(root)            \n",
    "            \n",
    "    minima_e = find_x_err(minima, popt, pcov)\n",
    "    maxima_e = find_x_err(maxima, popt, pcov)\n",
    "    \n",
    "    return minima, maxima, minima_e, maxima_e"
   ]
  },
  {
   "cell_type": "code",
   "execution_count": 10,
   "metadata": {},
   "outputs": [],
   "source": [
    "def gauss_peaks(fit, nofreqband, freqband, pcov, params, freq_low, freq_high, noise, data = 'parkes', freq=0):\n",
    "    \"\"\"\n",
    "    Find the peaks of a gaussian fit, take the highest two and create a profile_comp.\n",
    "    Also converts the phase into degrees and the frequency into MHz.\n",
    "    \n",
    "    Parameters:\n",
    "    -----------\n",
    "    fit: list\n",
    "        the gaussian fit to find peaks of\n",
    "    nofreqband: int\n",
    "        total number of frequency bins \n",
    "    freqband: int\n",
    "        current frequency band which has been fit\n",
    "    pcov: list\n",
    "        the covariance matrix from the fit\n",
    "    params: list\n",
    "        the parameters for the fit\n",
    "    freq_low: int\n",
    "        the lower boundary of the frequency range\n",
    "    freq_high: int\n",
    "        the high boundary of the frequency range\n",
    "    Returns:\n",
    "    --------\n",
    "    profile_comp: pulse_component\n",
    "        carrys information about each component at a certain frequency\n",
    "    \"\"\"\n",
    "    \n",
    "    deg_mod=360/len(fit)\n",
    "    \n",
    "    #Find the peaks of the fit, and the intensity at those peaks\n",
    "    minima, peakpos, minima_e, err = find_minima_maxima_gauss(params, pcov, len(fit))\n",
    "    peakint = multi_gauss(peakpos, *params)\n",
    "    \n",
    "    \"\"\"\n",
    "    #Removes peaks until only two highest remain - which also have to be the two outer peaks\n",
    "    #If the highest do not correspond to the outer, the frequency band is not used\n",
    "    while len(peakpos)>2:\n",
    "        mn=min(peakint)\n",
    "        peakint = list(peakint)\n",
    "        rm = peakint.index(mn)\n",
    "        if rm!=0 and rm!=len(peakpos)-1:\n",
    "            del peakpos[rm]\n",
    "            del peakint[rm]\n",
    "            del err[rm]\n",
    "        else:\n",
    "            break \n",
    "    \"\"\"\n",
    "\n",
    "    #Assign the peaks to the correct component label, also converts phase from bins to degrees\n",
    "    \n",
    "    component1=0\n",
    "    component2=0\n",
    "    errr=[]\n",
    "    \n",
    "    if(max(peakint)/noise)>3:\n",
    "        if data=='parkes':\n",
    "            for n,p in enumerate(peakpos):\n",
    "                if p>670 and p<710:\n",
    "                    component1 = component(phase=(deg_mod)*peakpos[n], intensity=peakint[n])\n",
    "                    errr.append(err[n])\n",
    "                elif p>720:\n",
    "                    component2 = component(phase=(deg_mod)*peakpos[n], intensity=peakint[n])\n",
    "                    errr.append(err[n])\n",
    "        elif data!='parkes' and len(peakpos)==2:\n",
    "            component1 = component(phase=(deg_mod)*peakpos[0], intensity=peakint[0])\n",
    "            errr.append(err[0])\n",
    "            component2 = component(phase=(deg_mod)*peakpos[1], intensity=peakint[1])\n",
    "            errr.append(err[1])\n",
    "    else:\n",
    "        print(\"Too noisey\", freqband)\n",
    "                \n",
    "    if component1==0 or component2==0:\n",
    "        component1 = component(phase=0, intensity=0)\n",
    "        component2 = component(phase=0, intensity=0)\n",
    "        error = 0   \n",
    "        print(\"peaks\",len(peakpos),peakpos,\"band\", freqband)\n",
    "    else:\n",
    "        error = np.array(errr)*(deg_mod)\n",
    "        \n",
    "    \"\"\"\n",
    "    if len(peakpos)==2 and (max(peakint)/noise)>3:\n",
    "        component1 = component(phase=(deg_mod)*peakpos[0], intensity=peakint[0])\n",
    "        component2 = component(phase=(deg_mod)*peakpos[1], intensity=peakint[1])\n",
    "        error = np.array(err)*(deg_mod)\n",
    "    elif len(peakpos)==3 and (max(peakint)/noise)>3:\n",
    "        component1 = component(phase=(deg_mod)*peakpos[1], intensity=peakint[1])\n",
    "        component2 = component(phase=(deg_mod)*peakpos[2], intensity=peakint[2])\n",
    "        error = np.array(err)*(deg_mod)        \n",
    "    elif len(peakpos)==4 and (max(peakint)/noise)>3:\n",
    "        component1 = component(phase=(deg_mod)*peakpos[1], intensity=peakint[1])\n",
    "        component2 = component(phase=(deg_mod)*peakpos[3], intensity=peakint[3])\n",
    "        error = np.array(err)*(deg_mod)   \n",
    "    else:\n",
    "        component1 = component(phase=0, intensity=0)\n",
    "        component2 = component(phase=0, intensity=0)\n",
    "        error = 0       \n",
    "   \"\"\"\n",
    "   \n",
    "    #Converts the frequency from bins to MHz    \n",
    "    if data=='parkes':\n",
    "        freq=(((freq_high-freq_low)/nofreqband)*(freqband))+freq_low+((freq_high-freq_low)/(nofreqband*2))\n",
    "    else:\n",
    "        freq=freq[freqband]\n",
    "\n",
    "    profile_comp = pulse_component(frequency=freq, comp1=component1, comp2=component2, errors=error)\n",
    "\n",
    "    return profile_comp"
   ]
  },
  {
   "cell_type": "code",
   "execution_count": 11,
   "metadata": {},
   "outputs": [],
   "source": [
    "def fit_peaks(fit, freqband, pcov, params, noise, frequency):\n",
    "    \n",
    "    deg_mod=360/len(fit)\n",
    "    \n",
    "    #Find the peaks of the fit, and the intensity at those peaks\n",
    "    peakpos = params[1]\n",
    "    paramint = params[0]\n",
    "    errcov = np.sqrt(np.diag(pcov))\n",
    "    err = errcov[1]\n",
    "    if len(params)>3:\n",
    "        peakpos=np.append(peakpos,params[4])\n",
    "        paramint=np.append(paramint,params[3])\n",
    "        err = np.append(err,errcov[4])\n",
    "    if len(params)>6:\n",
    "        peakpos=np.append(peakpos,params[7])\n",
    "        paramint=np.append(paramint,params[6])\n",
    "        err=np.append(err,errcov[7])\n",
    "\n",
    "    print(peakpos)\n",
    "    peakint = multi_gauss(peakpos, *params)\n",
    "    print(peakint)\n",
    "\n",
    "    #Removes peaks until only two highest remain - which also have to be the two outer peaks\n",
    "    #If the highest do not correspond to the outer, the frequency band is not used\n",
    "    while len(peakpos)>2:\n",
    "        mn=min(paramint)\n",
    "        paramint = list(paramint)\n",
    "        rm = paramint.index(mn)   \n",
    "        print(rm)\n",
    "        peakpos=np.delete(peakpos,rm)\n",
    "        peakint=np.delete(peakint,rm)\n",
    "        err=np.delete(err,rm)\n",
    "\n",
    "    #Assign the peaks to the correct component label, also converts phase from bins to degrees\n",
    "    \n",
    "    component1=0\n",
    "    component2=0\n",
    "    errr=[]\n",
    "    \n",
    "    if(max(peakint)/noise)>3:\n",
    "        if len(peakpos)==2:\n",
    "            component1 = component(phase=(deg_mod)*peakpos[0], intensity=peakint[0])\n",
    "            errr.append(err[0])\n",
    "            component2 = component(phase=(deg_mod)*peakpos[1], intensity=peakint[1])\n",
    "            errr.append(err[1])\n",
    "    else:\n",
    "        print(\"Too noisey\", freqband)\n",
    "                \n",
    "    if component1==0 or component2==0:\n",
    "        component1 = component(phase=0, intensity=0)\n",
    "        component2 = component(phase=0, intensity=0)\n",
    "        error = 0   \n",
    "        print(\"peaks\",len(peakpos),peakpos,\"band\", freqband)\n",
    "    else:\n",
    "        error = np.array(errr)*(deg_mod)\n",
    "\n",
    "    #Converts the frequency from bins to MHz    \n",
    "    freq=frequency[freqband]\n",
    "    \n",
    "    profile_comp = pulse_component(frequency=freq, comp1=component1, comp2=component2, errors=error)\n",
    "\n",
    "    return profile_comp"
   ]
  },
  {
   "cell_type": "code",
   "execution_count": 12,
   "metadata": {},
   "outputs": [],
   "source": [
    "\"\"\"\n",
    "    Graphing Sub-pulse operation:\n",
    "    Used to get the correct x, y and error arrays created for graphing the data and finding a fit.\n",
    "\"\"\"\n",
    "def graphing_comp(fit_comp,comp_num):\n",
    "        phase_comp=[]\n",
    "        frequency_comp=[]\n",
    "        comp_err=[]\n",
    "\n",
    "        for i in range(0,len(fit_comp)):\n",
    "            if fit_comp[i][comp_num][0]!=0:\n",
    "                phase_comp.append(fit_comp[i][comp_num][0])\n",
    "                frequency_comp.append(fit_comp[i][0])\n",
    "                comp_err.append(fit_comp[i][3][comp_num-1])\n",
    "\n",
    "        return phase_comp, frequency_comp, comp_err    "
   ]
  },
  {
   "cell_type": "markdown",
   "metadata": {},
   "source": [
    "Removing outliers"
   ]
  },
  {
   "cell_type": "code",
   "execution_count": 13,
   "metadata": {},
   "outputs": [],
   "source": [
    "\"\"\"\n",
    "    Used to remove outliers more than the threshold number of standard deviations from the mean. \n",
    "    Also removes points with high errors (greater than 100 degrees).\n",
    "\"\"\"\n",
    "def detect_outlier(frequency_comp, phase_comp, comp_err , threshold):\n",
    "    phase=[]\n",
    "    frequency=[]\n",
    "    err=[]\n",
    "    \n",
    "    #Find mean and standard deviation of data\n",
    "    mean_1 = np.mean(phase_comp)\n",
    "    std_1 =np.std(phase_comp)\n",
    "    \n",
    "    for i in range(len(phase_comp)):\n",
    "        #Find z score\n",
    "        z_score= (phase_comp[i] - mean_1)/std_1 \n",
    "        #Only include points which have a z score under the threshold value, and with errors less than 100 degrees\n",
    "        if np.abs(z_score) < threshold and comp_err[i]<20:\n",
    "            phase.append(phase_comp[i])\n",
    "            frequency.append(frequency_comp[i])\n",
    "            err.append(comp_err[i])\n",
    "    return frequency, phase, err"
   ]
  },
  {
   "cell_type": "markdown",
   "metadata": {
    "colab_type": "text",
    "id": "4P1qFLYpI9hB"
   },
   "source": [
    "Plotting Fittings Functions"
   ]
  },
  {
   "cell_type": "code",
   "execution_count": 14,
   "metadata": {
    "colab": {},
    "colab_type": "code",
    "id": "gPhqw8WaI8pp"
   },
   "outputs": [],
   "source": [
    "\"\"\"\n",
    "    Plotting functions to plot the gaussian fit, three gaussian fit with the gaussians filled in,\n",
    "    and the peaks of the gaussian fit. \n",
    "\"\"\"\n",
    "def plot_fit(x,y,fit,params,sigma):\n",
    "    py.plot(x, y, lw=1, label='data')\n",
    "    py.plot(x,fit, color='red',lw=3,label='gaussian fit')\n",
    "    py.xlabel('Phase Bin')\n",
    "    py.ylabel('Intensity')\n",
    "    py.legend()\n",
    "    return\n",
    "\n",
    "def plot_fill(x,y,params):\n",
    "    params1 = params[0:3]\n",
    "    gfit1 = gauss(x, *params1)\n",
    "    params2 = params[3:6]\n",
    "    gfit2 = gauss(x, *params2)\n",
    "    if len(params)>6:\n",
    "        params3 = params[6:9]\n",
    "        gfit3 = gauss(x, *params3)\n",
    "    if len(params)>9:\n",
    "        params4 = params[9:12]\n",
    "        gfit4 = gauss(x, *params4)\n",
    "    \n",
    "    py.plot(x, y, lw=1, label='data')\n",
    "    py.plot(x,fit,color='red',lw=3,label='gaussian fit')\n",
    "    py.xlabel('Phase Bin')\n",
    "    py.ylabel('Intensity')\n",
    "    py.legend()\n",
    "\n",
    "    py.plot(x, gfit1, \"g\")\n",
    "    py.fill_between(x, gfit1.min(), gfit1, facecolor=\"green\", alpha=0.5)\n",
    "    py.plot(x, gfit2, \"y\")\n",
    "    py.fill_between(x, gfit2.min(), gfit2, facecolor=\"yellow\", alpha=0.5)\n",
    "    if len(params)>6:\n",
    "        py.plot(x, gfit3, \"r\")\n",
    "        py.fill_between(x, gfit3.min(), gfit3, facecolor=\"red\", alpha=0.5)\n",
    "    if len(params)>9:\n",
    "        py.plot(x, gfit4, \"b\")\n",
    "        py.fill_between(x, gfit4.min(), gfit4, facecolor=\"blue\", alpha=0.5)\n",
    "    return \n",
    "\n",
    "def plot_peaks(x,y,profile_comp):\n",
    "    py.plot(x,y, lw=1)\n",
    "    py.plot(x, fit, color='red', lw=3, label='gaussian fit')\n",
    "\n",
    "    x=[profile_comp[i][0] for i in range(1,3)]\n",
    "    y=[profile_comp[i][1] for i in range(1,3)]\n",
    "\n",
    "    py.plot(x, y ,'X', markerfacecolor='black', markeredgecolor='black', label='peaks')\n",
    "\n",
    "    py.xlabel('Phase (deg)')\n",
    "    py.ylabel('Intensity')\n",
    "    py.legend()\n",
    "    return"
   ]
  },
  {
   "cell_type": "markdown",
   "metadata": {
    "colab_type": "text",
    "id": "L_oE3uFcsKkA"
   },
   "source": [
    "Functions for Fitting Separation Data"
   ]
  },
  {
   "cell_type": "code",
   "execution_count": 15,
   "metadata": {
    "colab": {},
    "colab_type": "code",
    "id": "_V1yQ0U5__mq"
   },
   "outputs": [],
   "source": [
    "def thorsett(x, A, alpha, smin):\n",
    "    return (A * (x**(alpha)) + smin)\n",
    "def powerlaw(x, A, alpha):\n",
    "    return (A * (x**(alpha)))\n",
    "def linear(x, m, c):\n",
    "    return ((m * np.array(x)) + c)"
   ]
  },
  {
   "cell_type": "code",
   "execution_count": 16,
   "metadata": {
    "colab": {},
    "colab_type": "code",
    "id": "EgEnQbxBujiH"
   },
   "outputs": [],
   "source": [
    "\"\"\"\n",
    "    Used to gain separation of components values and the uncertainties. \n",
    "\"\"\"\n",
    "def separation_singleprofile(components_array):\n",
    "    sep_array=[]\n",
    "    uncert=[]\n",
    "\n",
    "    #Go through all the different frequencies\n",
    "    for i in range(0,len(components_array)):\n",
    "        if components_array[i][1][0] != 0 and components_array[i][2][0] != 0:\n",
    "            freq=components_array[i][0]\n",
    "            #Subtract second component from first\n",
    "            sep=(components_array[i][2][0]) - (components_array[i][1][0])\n",
    "            single_sep=component_separation(frequency=freq, separation=sep)\n",
    "            sep_array.append(single_sep)\n",
    "            #Calculate uncertainty\n",
    "            uncert.append(np.sqrt((components_array[i][3][0])**2 + (components_array[i][3][1])**2))\n",
    "    return sep_array, uncert"
   ]
  },
  {
   "cell_type": "markdown",
   "metadata": {
    "colab_type": "text",
    "id": "HsEW4YA0D-QH"
   },
   "source": [
    "# Importing Data"
   ]
  },
  {
   "cell_type": "markdown",
   "metadata": {
    "colab_type": "text",
    "id": "5aCGkE3ZYbBM"
   },
   "source": [
    "Data must be in text file format from software pdv.\n",
    "Also must contain time scrunched data so that the first column of numbers is always 0 (only one pulse). "
   ]
  },
  {
   "cell_type": "markdown",
   "metadata": {},
   "source": [
    "#### Parkes Data Set"
   ]
  },
  {
   "cell_type": "code",
   "execution_count": 17,
   "metadata": {
    "colab": {},
    "colab_type": "code",
    "id": "4ieR-2IlfGA_"
   },
   "outputs": [],
   "source": [
    "fulldatatype=([('pulse','i8'),('frequency','i8'),('phase','i8'),('intensity','f8')])"
   ]
  },
  {
   "cell_type": "code",
   "execution_count": 18,
   "metadata": {
    "colab": {},
    "colab_type": "code",
    "id": "o9kgY0kqfIrQ"
   },
   "outputs": [],
   "source": [
    "averageprofiles = np.loadtxt(fname='/home/lisasmith/20U3_B1944+17/Parkes_archive_files/B1944-2600s-T-f32-pazi.pdv', dtype=fulldatatype)\n",
    "maxf=4000\n",
    "minf=700\n",
    "no_freq_bands = max(averageprofiles['frequency']) + 1\n",
    "size_freq = (maxf-minf) / no_freq_bands\n",
    "halfsize_freq = size_freq / 2"
   ]
  },
  {
   "cell_type": "markdown",
   "metadata": {},
   "source": [
    "#### EPN Profiles"
   ]
  },
  {
   "cell_type": "code",
   "execution_count": 19,
   "metadata": {},
   "outputs": [],
   "source": [
    "bkk = np.loadtxt(fname='/home/lisasmith/20U3_B1944+17/EPN_files/B1944-129.4-LOFAR-bkk.txt', dtype=fulldatatype)\n",
    "bkk2 = np.loadtxt(fname='/home/lisasmith/20U3_B1944+17/EPN_files/B1944-168.4-LOFAR-bkk.txt', dtype=fulldatatype)\n",
    "bkk2['frequency']=1\n",
    "bkk=np.append(bkk,bkk2)\n",
    "bkk_phase = max(bkk['phase']) + 1\n",
    "bkk_freq = [129.4,168.4]"
   ]
  },
  {
   "cell_type": "code",
   "execution_count": 20,
   "metadata": {},
   "outputs": [],
   "source": [
    "ant = np.loadtxt(fname='/home/lisasmith/20U3_B1944+17/EPN_files/B1944-400-gb-ant94.txt', dtype=fulldatatype)\n",
    "ant2 = np.loadtxt(fname='/home/lisasmith/20U3_B1944+17/EPN_files/B1944-800-gb-ant94.txt', dtype=fulldatatype)\n",
    "ant3 = np.loadtxt(fname='/home/lisasmith/20U3_B1944+17/EPN_files/B1944-1330-gb-ant94.txt', dtype=fulldatatype)\n",
    "ant4 = np.loadtxt(fname='/home/lisasmith/20U3_B1944+17/EPN_files/B1944-1640-gb-ant94.txt', dtype=fulldatatype)\n",
    "ant2['frequency']=1\n",
    "ant3['frequency']=2\n",
    "ant4['frequency']=3\n",
    "ant=np.append(ant,ant2)\n",
    "ant=np.append(ant,ant3)\n",
    "ant=np.append(ant,ant4)\n",
    "ant_phase = max(ant['phase']) + 1\n",
    "ant_freq = [400,800,1330,1640]"
   ]
  },
  {
   "cell_type": "code",
   "execution_count": 21,
   "metadata": {},
   "outputs": [],
   "source": [
    "gl = np.loadtxt(fname='/home/lisasmith/20U3_B1944+17/EPN_files/B1944-410-Lovell-gl98.txt', dtype=fulldatatype)\n",
    "gl2 = np.loadtxt(fname='/home/lisasmith/20U3_B1944+17/EPN_files/B1944-610-Lovell-gl98.txt', dtype=fulldatatype)\n",
    "gl3 = np.loadtxt(fname='/home/lisasmith/20U3_B1944+17/EPN_files/B1944-925-Lovell-gl98.txt', dtype=fulldatatype)\n",
    "gl4 = np.loadtxt(fname='/home/lisasmith/20U3_B1944+17/EPN_files/B1944-1408-Lovell-gl98.txt', dtype=fulldatatype)\n",
    "gl2['frequency']=1\n",
    "gl3['frequency']=2\n",
    "gl4['frequency']=3\n",
    "gl=np.append(gl,gl2)\n",
    "gl=np.append(gl,gl3)\n",
    "gl=np.append(gl,gl4)\n",
    "gl_phase = max(gl['phase']) + 1\n",
    "gl_freq = [410,610,925,1408]"
   ]
  },
  {
   "cell_type": "code",
   "execution_count": 22,
   "metadata": {},
   "outputs": [],
   "source": [
    "j = np.loadtxt(fname='/home/lisasmith/20U3_B1944+17/EPN_files/B1944-673.9-Parkes-j98.txt', dtype=fulldatatype)\n",
    "j_phase = max(j['phase']) + 1\n",
    "j_freq = [673.9]"
   ]
  },
  {
   "cell_type": "code",
   "execution_count": 23,
   "metadata": {},
   "outputs": [],
   "source": [
    "wc =np.loadtxt(fname='/home/lisasmith/20U3_B1944+17/EPN_files/B1944-1418-Arecibo-wc.txt', dtype=fulldatatype)\n",
    "wc_phase = max(wc['phase']) + 1\n",
    "wc_freq = [1418]"
   ]
  },
  {
   "cell_type": "code",
   "execution_count": 24,
   "metadata": {},
   "outputs": [],
   "source": [
    "sgg = np.loadtxt(fname='/home/lisasmith/20U3_B1944+17/EPN_files/B1944-1420-Effelsberg-sgg.txt', dtype=fulldatatype)\n",
    "sgg2 = np.loadtxt(fname='/home/lisasmith/20U3_B1944+17/EPN_files/B1944-4750-Effelsberg-sgg.txt', dtype=fulldatatype)\n",
    "sgg2['frequency']=1\n",
    "sgg=np.append(sgg,sgg2)\n",
    "sgg_phase = max(sgg['phase']) + 1\n",
    "sgg_freq = [1420,4750]"
   ]
  },
  {
   "cell_type": "code",
   "execution_count": 25,
   "metadata": {},
   "outputs": [],
   "source": [
    "hkk = np.loadtxt(fname='/home/lisasmith/20U3_B1944+17/EPN_files/B1944-4850-Effelsberg-hkk.txt', dtype=fulldatatype)\n",
    "hkk_phase = max(hkk['phase']) + 1\n",
    "hkk_freq = [4850]"
   ]
  },
  {
   "cell_type": "markdown",
   "metadata": {
    "colab_type": "text",
    "id": "eKWvXxMcEIfE"
   },
   "source": [
    "# INDIVIDUAL FREQUENCY BAND"
   ]
  },
  {
   "cell_type": "markdown",
   "metadata": {
    "colab_type": "text",
    "id": "MVQ_pgyRnofm"
   },
   "source": [
    "Following Section is for error checking. It displays how each frequency band is fitted and it's peaks. "
   ]
  },
  {
   "cell_type": "markdown",
   "metadata": {},
   "source": [
    "#### Parkes Data Set"
   ]
  },
  {
   "cell_type": "code",
   "execution_count": 26,
   "metadata": {
    "colab": {},
    "colab_type": "code",
    "id": "mcIptVeffJXA"
   },
   "outputs": [
    {
     "name": "stderr",
     "output_type": "stream",
     "text": [
      "<ipython-input-8-872f30e54463>:32: RuntimeWarning: invalid value encountered in double_scalars\n",
      "  x_err.append(sigma_y / abs(d2dx2))\n"
     ]
    }
   ],
   "source": [
    "#Takes a single frequency band out of all the profiles for analysis.\n",
    "freqband = 28\n",
    "\n",
    "f = averageprofiles['frequency'] == freqband\n",
    "x=averageprofiles['phase'][f]\n",
    "y=averageprofiles['intensity'][f]\n",
    "\n",
    "#Expected is taken from Peaks and Gaussian fittings of frequency band 73\n",
    "expected1=(0.15,660,6,0.55,695,20,0.1,715,10,0.25,740,8)\n",
    "bounds1=([0,635,0,0,675,0,0,712,0,0,720,0],[np.inf,685,np.inf,np.inf,725,np.inf,np.inf,740,np.inf,np.inf,770,np.inf])\n",
    "#expected2=(0.1,660,6,0.75,690,20,0.2,710,10,0.25,740,15)\n",
    "\n",
    "noise = sigmaClip(y)\n",
    "error = np.nanstd(noise[1])\n",
    "\n",
    "#Fits three gaussians to the data\n",
    "params, cov, sigma = fitting_parameters(x,y,expected1,bounds1)\n",
    "fit = multi_gauss(x,*params)\n",
    "#Then finds the maxima of the fit. It only takes the largest two (given they are the outer maxima).\n",
    "#Error for the maxima position is calculated by finding the positions of the fit at an intensity-noise level\n",
    "profile_comp = gauss_peaks(fit, no_freq_bands, freqband, cov, params,minf,maxf,error)\n",
    "\n",
    "#py.axis([200,400,-0.05,0.07])"
   ]
  },
  {
   "cell_type": "code",
   "execution_count": 27,
   "metadata": {},
   "outputs": [
    {
     "data": {
      "text/plain": [
       "(600.0, 825.0, -0.1, 2.8)"
      ]
     },
     "execution_count": 27,
     "metadata": {},
     "output_type": "execute_result"
    },
    {
     "data": {
      "image/png": "[encoded data removed]",
      "text/plain": [
       "<Figure size 504x360 with 2 Axes>"
      ]
     },
     "metadata": {
      "needs_background": "light"
     },
     "output_type": "display_data"
    }
   ],
   "source": [
    "#Plot fill parameters\n",
    "params1 = params[0:3]\n",
    "params2 = params[3:6]\n",
    "params3 = params[6:9]\n",
    "params4 = params[9:12]\n",
    "gfit1 = gauss(x, *params1)\n",
    "gfit2 = gauss(x, *params2)\n",
    "gfit3 = gauss(x, *params3)\n",
    "gfit4 = gauss(x, *params4)\n",
    "#Boundary parameters\n",
    "yt=[0,1]\n",
    "x1=[635,635]\n",
    "x2=[685,685]\n",
    "x3=[676,676]\n",
    "x4=[725,725]\n",
    "x5=[711,711]\n",
    "x6=[740,740]\n",
    "x7=[720,720]\n",
    "x8=[770,770]\n",
    "\n",
    "    \n",
    "plot = py.figure(figsize=(7, 5))\n",
    "grid = py.GridSpec(5, 1, hspace=0, wspace=0)\n",
    "boundary = plot.add_subplot(grid[4, 0])\n",
    "main_ax = plot.add_subplot(grid[0:4, 0], sharex=boundary)\n",
    "\n",
    "\n",
    "main_ax.plot(x, y, lw=1, label='data')\n",
    "main_ax.plot(x,fit,color='red',lw=3,label='gaussian fit')\n",
    "main_ax.plot(x, gfit1, \"g\")\n",
    "main_ax.fill_between(x, gfit1.min(), gfit1, facecolor=\"green\", alpha=0.5)\n",
    "main_ax.plot(x, gfit2, \"y\")\n",
    "main_ax.fill_between(x, gfit2.min(), gfit2, facecolor=\"yellow\", alpha=0.5)\n",
    "main_ax.plot(x, gfit3, \"r\")\n",
    "main_ax.fill_between(x, gfit3.min(), gfit3, facecolor=\"red\", alpha=0.5)\n",
    "main_ax.plot(x, gfit4, \"b\")\n",
    "main_ax.fill_between(x, gfit4.min(), gfit4, facecolor=\"blue\", alpha=0.5)\n",
    "boundary.plot(x1,yt, \"g\", '--')\n",
    "boundary.plot(x2,yt, \"g\", '--')\n",
    "boundary.plot(x3,yt, \"y\", '--')\n",
    "boundary.plot(x4,yt, \"y\", '--')\n",
    "boundary.plot(x5,yt, \"r\", '--')\n",
    "boundary.plot(x6,yt, \"r\", '--')\n",
    "boundary.plot(x7,yt, \"b\", '--')\n",
    "boundary.plot(x8,yt, \"b\", '--')\n",
    "\n",
    "py.title(\"Frequency Band 28\")\n",
    "\n",
    "py.ylabel('Intensity')\n",
    "py.xlabel('Frequency (Bins)')\n",
    "main_ax.legend(loc='lower right')\n",
    "boundary.label_outer()\n",
    "main_ax.label_outer()\n",
    "py.axis([600,825,-0.1,2.8])"
   ]
  },
  {
   "cell_type": "code",
   "execution_count": 28,
   "metadata": {
    "colab": {
     "base_uri": "https://localhost:8080/",
     "height": 279
    },
    "colab_type": "code",
    "id": "mmZe3OBoZ8rn",
    "outputId": "f4fbbdb4-6a61-4b32-a144-7e3e202771b4"
   },
   "outputs": [
    {
     "data": {
      "text/plain": [
       "(210.9375, 298.828125, -0.1, 2.8)"
      ]
     },
     "execution_count": 28,
     "metadata": {},
     "output_type": "execute_result"
    },
    {
     "data": {
      "image/png": "[encoded data removed]",
      "text/plain": [
       "<Figure size 432x288 with 1 Axes>"
      ]
     },
     "metadata": {
      "needs_background": "light"
     },
     "output_type": "display_data"
    }
   ],
   "source": [
    "plot_peaks(x*(360/1024),y,profile_comp)\n",
    "py.axis([210.9375,298.828125,-0.1,2.8])"
   ]
  },
  {
   "cell_type": "markdown",
   "metadata": {},
   "source": [
    "#### EPN Profiles"
   ]
  },
  {
   "cell_type": "code",
   "execution_count": 29,
   "metadata": {},
   "outputs": [
    {
     "name": "stdout",
     "output_type": "stream",
     "text": [
      "[56.02017022 60.86188052]\n",
      "[0.9860197  0.51831046]\n"
     ]
    }
   ],
   "source": [
    "#Takes a single frequency band out of all the profiles for analysis.\n",
    "freqband = 0\n",
    "\n",
    "f = j['frequency'] == freqband\n",
    "x=j['phase'][f]\n",
    "y=j['intensity'][f]\n",
    "\n",
    "#Expected is taken from Peaks and Gaussian fittings of frequency band 73\n",
    "expected1=(1,55,3,0.5,60,3)\n",
    "bounds1=([0,0,0,0,0,0],[np.inf,j_phase,np.inf,np.inf,j_phase,np.inf])\n",
    "\n",
    "noise = sigmaClip(y)\n",
    "error = np.nanstd(noise[1])\n",
    "\n",
    "#Fits three gaussians to the data\n",
    "params, cov, sigma = fitting_parameters(x,y,expected1,bounds1)\n",
    "fit = multi_gauss(x,*params)\n",
    "#Then finds the maxima of the fit. It only takes the largest two (given they are the outer maxima).\n",
    "#Error for the maxima position is calculated by finding the positions of the fit at an intensity-noise level\n",
    "j_comp = fit_peaks(fit, freqband, cov, params,error,j_freq)\n",
    "j_components = [j_comp]"
   ]
  },
  {
   "cell_type": "code",
   "execution_count": 30,
   "metadata": {},
   "outputs": [],
   "source": [
    "#Takes a single frequency band out of all the profiles for analysis.\n",
    "freqband = 0\n",
    "\n",
    "f = wc['frequency'] == freqband\n",
    "x=wc['phase'][f]\n",
    "y=wc['intensity'][f]\n",
    "\n",
    "#Expected is taken from Peaks and Gaussian fittings of frequency band 73\n",
    "expected1=(0.1,470,10,0.6,505,3,0.4,550,3)\n",
    "bounds1=([0,0,0,0,0,0,0,0,0],[np.inf,wc_phase,np.inf,np.inf,wc_phase,np.inf,np.inf,wc_phase,np.inf])\n",
    "\n",
    "noise = sigmaClip(y)\n",
    "error = np.nanstd(noise[1])\n",
    "\n",
    "#Fits three gaussians to the data\n",
    "params, cov, sigma = fitting_parameters(x,y,expected1,bounds1)\n",
    "fit = multi_gauss(x,*params)\n",
    "#Then finds the maxima of the fit. It only takes the largest two (given they are the outer maxima).\n",
    "#Error for the maxima position is calculated by finding the positions of the fit at an intensity-noise level\n",
    "wc_comp = gauss_peaks(fit, no_freq_bands, freqband, cov, params,minf,maxf,error,'epn',wc_freq)\n",
    "wc_components = [wc_comp]"
   ]
  },
  {
   "cell_type": "code",
   "execution_count": 31,
   "metadata": {},
   "outputs": [
    {
     "name": "stderr",
     "output_type": "stream",
     "text": [
      "<ipython-input-8-872f30e54463>:32: RuntimeWarning: invalid value encountered in double_scalars\n",
      "  x_err.append(sigma_y / abs(d2dx2))\n",
      "<ipython-input-10-9957581a523b>:55: RuntimeWarning: divide by zero encountered in double_scalars\n",
      "  if(max(peakint)/noise)>3:\n"
     ]
    }
   ],
   "source": [
    "#Takes a single frequency band out of all the profiles for analysis.\n",
    "freqband = 0\n",
    "\n",
    "f = sgg['frequency'] == freqband\n",
    "x=sgg['phase'][f]\n",
    "y=sgg['intensity'][f]\n",
    "\n",
    "#Expected is taken from Peaks and Gaussian fittings of frequency band 73\n",
    "expected1=(40,225,10,100,400,5,60,550,3)\n",
    "bounds1=([0,0,0,0,0,0,0,0,0],[np.inf,sgg_phase,np.inf,np.inf,sgg_phase,np.inf,np.inf,sgg_phase,np.inf])\n",
    "\n",
    "noise = sigmaClip(y)\n",
    "error = np.nanstd(noise[1])\n",
    "\n",
    "#Fits three gaussians to the data\n",
    "params, cov, sigma = fitting_parameters(x,y,expected1,bounds1)\n",
    "fit = multi_gauss(x,*params)\n",
    "#Then finds the maxima of the fit. It only takes the largest two (given they are the outer maxima).\n",
    "#Error for the maxima position is calculated by finding the positions of the fit at an intensity-noise level\n",
    "sgg1_comp = gauss_peaks(fit, no_freq_bands, freqband, cov, params,minf,maxf,error,'epn',sgg_freq)"
   ]
  },
  {
   "cell_type": "code",
   "execution_count": 32,
   "metadata": {},
   "outputs": [],
   "source": [
    "#Takes a single frequency band out of all the profiles for analysis.\n",
    "freqband = 1\n",
    "\n",
    "f = sgg['frequency'] == freqband\n",
    "x=sgg['phase'][f]\n",
    "y=sgg['intensity'][f]\n",
    "\n",
    "#Expected is taken from Peaks and Gaussian fittings of frequency band 73\n",
    "expected1=(100,170,5,100,270,3)\n",
    "bounds1=([0,0,0,0,0,0],[np.inf,sgg_phase,np.inf,np.inf,sgg_phase,np.inf])\n",
    "\n",
    "noise = sigmaClip(y)\n",
    "error = np.nanstd(noise[1])\n",
    "\n",
    "#Fits three gaussians to the data\n",
    "params, cov, sigma = fitting_parameters(x,y,expected1,bounds1)\n",
    "fit = multi_gauss(x,*params)\n",
    "#Then finds the maxima of the fit. It only takes the largest two (given they are the outer maxima).\n",
    "#Error for the maxima position is calculated by finding the positions of the fit at an intensity-noise level\n",
    "sgg2_comp = gauss_peaks(fit, no_freq_bands, freqband, cov, params,minf,maxf,error,'epn',sgg_freq)\n",
    "sgg_components = [sgg1_comp,sgg2_comp]"
   ]
  },
  {
   "cell_type": "code",
   "execution_count": 33,
   "metadata": {},
   "outputs": [],
   "source": [
    "#Takes a single frequency band out of all the profiles for analysis.\n",
    "freqband = 0\n",
    "\n",
    "f = hkk['frequency'] == freqband\n",
    "x=hkk['phase'][f]\n",
    "y=hkk['intensity'][f]\n",
    "\n",
    "#Expected is taken from Peaks and Gaussian fittings of frequency band 73\n",
    "expected1=(0.8,87,5,0.8,100,3)\n",
    "bounds1=([0,0,0,0,0,0],[np.inf,hkk_phase,np.inf,np.inf,hkk_phase,np.inf])\n",
    "\n",
    "noise = sigmaClip(y)\n",
    "error = np.nanstd(noise[1])\n",
    "\n",
    "#Fits three gaussians to the data\n",
    "params, cov, sigma = fitting_parameters(x,y,expected1,bounds1)\n",
    "fit = multi_gauss(x,*params)\n",
    "#Then finds the maxima of the fit. It only takes the largest two (given they are the outer maxima).\n",
    "#Error for the maxima position is calculated by finding the positions of the fit at an intensity-noise level\n",
    "hkk_comp = gauss_peaks(fit, no_freq_bands, freqband, cov, params,minf,maxf,error,'epn',hkk_freq)\n",
    "hkk_components = [hkk_comp]"
   ]
  },
  {
   "cell_type": "code",
   "execution_count": 34,
   "metadata": {},
   "outputs": [
    {
     "name": "stdout",
     "output_type": "stream",
     "text": [
      "[ 0.81358543 89.0201764   4.21280163  0.73601453 98.95715694  2.57399603]\n"
     ]
    },
    {
     "data": {
      "image/png": "[encoded data removed]",
      "text/plain": [
       "<Figure size 432x288 with 1 Axes>"
      ]
     },
     "metadata": {
      "needs_background": "light"
     },
     "output_type": "display_data"
    }
   ],
   "source": [
    "plot_fill(x,y,params)\n",
    "py.axis([200,300,0,1400])\n",
    "#py.axis([400,600,0,0.600])\n",
    "#py.axis([60,120,0,0.9])\n",
    "print(params)"
   ]
  },
  {
   "cell_type": "code",
   "execution_count": 35,
   "metadata": {},
   "outputs": [
    {
     "name": "stdout",
     "output_type": "stream",
     "text": [
      "pulse_component(frequency=1604.326923076923, comp1=component(phase=245.4036828132612, intensity=2.543361707098394), comp2=component(phase=258.6851299591972, intensity=1.829631967237959), errors=array([0.19628075, 0.31738509]))\n"
     ]
    },
    {
     "data": {
      "image/png": "[encoded data removed]",
      "text/plain": [
       "<Figure size 432x288 with 1 Axes>"
      ]
     },
     "metadata": {
      "needs_background": "light"
     },
     "output_type": "display_data"
    }
   ],
   "source": [
    "plot_peaks(x*(360/len(x)),y,profile_comp)\n",
    "py.axis([150,210,0,1600])\n",
    "print(profile_comp)"
   ]
  },
  {
   "cell_type": "markdown",
   "metadata": {},
   "source": [
    "# ALL FREQUENCY BANDS"
   ]
  },
  {
   "cell_type": "markdown",
   "metadata": {
    "colab_type": "text",
    "id": "er13GCy-EUTz"
   },
   "source": [
    "# Gaussian Plotting and Finding Peaks of Overall Fit\n"
   ]
  },
  {
   "cell_type": "markdown",
   "metadata": {
    "colab_type": "text",
    "id": "dUDXQCiVhOyH"
   },
   "source": [
    "The following is a looped version of the previous section to find the correct peaks for each pulse profile"
   ]
  },
  {
   "cell_type": "markdown",
   "metadata": {},
   "source": [
    "#### Parkes Data"
   ]
  },
  {
   "cell_type": "code",
   "execution_count": 36,
   "metadata": {
    "colab": {},
    "colab_type": "code",
    "id": "MspZDahR4R4P"
   },
   "outputs": [
    {
     "name": "stderr",
     "output_type": "stream",
     "text": [
      "/home/lisasmith/.venv/lib/python3.8/site-packages/numpy/lib/nanfunctions.py:1666: RuntimeWarning: Degrees of freedom <= 0 for slice.\n",
      "  var = nanvar(a, axis=axis, dtype=dtype, out=out, ddof=ddof,\n",
      "/home/lisasmith/.venv/lib/python3.8/site-packages/numpy/lib/nanfunctions.py:1113: RuntimeWarning: Mean of empty slice\n",
      "  return np.nanmean(a, axis, out=out, keepdims=keepdims)\n",
      "<ipython-input-8-872f30e54463>:32: RuntimeWarning: invalid value encountered in double_scalars\n",
      "  x_err.append(sigma_y / abs(d2dx2))\n"
     ]
    },
    {
     "name": "stdout",
     "output_type": "stream",
     "text": [
      "peaks 1 [695.8283995676154] band 10\n",
      "peaks 2 [695.072725654964, 716.9365814255478] band 11\n",
      "peaks 1 [697.1616452289884] band 12\n",
      "peaks 3 [662.639662154306, 698.8087471865158, 713.0789286450611] band 15\n",
      "peaks 3 [661.8229147501381, 703.8016096329081, 711.9224745318555] band 16\n",
      "peaks 3 [625.1974122552083, 697.3895080568758, 713.8808155389441] band 17\n",
      "peaks 1 [694.5816063572396] band 40\n",
      "peaks 1 [695.0645676111252] band 41\n",
      "peaks 1 [695.4490561727138] band 46\n",
      "peaks 1 [691.6390251153838] band 94\n",
      "peaks 2 [663.4319174679658, 693.0578633928668] band 98\n",
      "Too noisey 99\n",
      "peaks 3 [688.3495477249797, 715.437071253965, 744.2759940454607] band 99\n",
      "Too noisey 101\n",
      "peaks 4 [664.714969784457, 693.9312206830281, 711.6823192829064, 745.5259944619842] band 101\n",
      "Too noisey 102\n",
      "peaks 4 [663.9988275586455, 690.657777296811, 714.2035369264452, 743.7912278149332] band 102\n",
      "Too noisey 103\n",
      "peaks 3 [661.5881865582438, 694.7173464204102, 749.0287594153663] band 103\n"
     ]
    }
   ],
   "source": [
    "fit_components = []\n",
    "#Taken from Peaks and Gaussian fittings of frequency band 6, in the middle\n",
    "#expected=(0.1,660,6,0.75,695,20,0.2,720,10,0.25,750,15)\n",
    "expected1=(0.15,660,6,0.55,695,20,0.1,715,10,0.25,740,8)\n",
    "bounds1=([0,625,0,0,675,0,0,712,0,0,720,0],[np.inf,675,np.inf,np.inf,725,np.inf,np.inf,740,np.inf,np.inf,760,np.inf])\n",
    "\n",
    "\n",
    "#Loop thought all of the frequency bands\n",
    "for i in range(0,no_freq_bands):\n",
    "    freqband = i\n",
    "    f = averageprofiles['frequency'] == freqband\n",
    "    x=averageprofiles['phase'][f]\n",
    "    y=averageprofiles['intensity'][f]\n",
    "    \n",
    "    noise = sigmaClip(y)\n",
    "    error = np.nanstd(noise[1])\n",
    "\n",
    "    #Fit the gaussians and find peaks and errors, create array with all frequencies\n",
    "    #Resulting frequencies are in MHz and phase in degrees\n",
    "    if len(x)!=0 and len(y)!=0:\n",
    "        try:\n",
    "            params,cov,sigma = fitting_parameters(x,y,expected1,bounds1)\n",
    "            fit = multi_gauss(x,*params)\n",
    "            profile_comp = gauss_peaks(fit, no_freq_bands, freqband, cov, params, minf,maxf,error)\n",
    "        except:\n",
    "            component1 = component(phase=0, intensity=0)\n",
    "            component2 = component(phase=0, intensity=0)\n",
    "            error = 0             \n",
    "            freq=(((maxf-minf)/no_freq_bands)*(freqband))+minf+((maxf-minf)/(no_freq_bands*2))\n",
    "            profile_comp = pulse_component(frequency=freq, comp1=component1, comp2=component2, errors=error)\n",
    "        fit_components.append(profile_comp)"
   ]
  },
  {
   "cell_type": "markdown",
   "metadata": {},
   "source": [
    "#### EPN Data"
   ]
  },
  {
   "cell_type": "code",
   "execution_count": 37,
   "metadata": {},
   "outputs": [
    {
     "name": "stdout",
     "output_type": "stream",
     "text": [
      "[86.35760633 91.02295404]\n",
      "[0.92552287 0.40126563]\n",
      "[86.23853255 91.45039212]\n",
      "[0.98331631 0.54380821]\n",
      "[86.22038573 91.75556784]\n",
      "[1.00296912 0.633054  ]\n",
      "[85.95008795 91.7502448 ]\n",
      "[0.97003564 0.5848141 ]\n"
     ]
    }
   ],
   "source": [
    "ant_components = []\n",
    "expected1=(1,85,3,0.6,90,3)\n",
    "bounds1=([0,0,0,0,88,0],[np.inf,ant_phase,np.inf,np.inf,ant_phase,np.inf])\n",
    "\n",
    "#Loop thought all of the frequency bands\n",
    "for i in range(0,len(ant_freq)):\n",
    "    freqband = i\n",
    "    f = ant['frequency'] == freqband\n",
    "    x=ant['phase'][f]\n",
    "    y=ant['intensity'][f]\n",
    "    \n",
    "    noise = sigmaClip(y)\n",
    "    error = np.nanstd(noise[1])\n",
    "\n",
    "    #Fit the gaussians and find peaks and errors, create array with all frequencies\n",
    "    #Resulting frequencies are in MHz and phase in degrees\n",
    "    if len(x)!=0 and len(y)!=0:\n",
    "        try:\n",
    "            params,cov,sigma = fitting_parameters(x,y,expected1,bounds1)\n",
    "            fit = multi_gauss(x,*params)\n",
    "            profile_comp = fit_peaks(fit, freqband, cov, params,error,ant_freq)\n",
    "        except:\n",
    "            component1 = component(phase=0, intensity=0)\n",
    "            component2 = component(phase=0, intensity=0)\n",
    "            error = 0             \n",
    "            freq=(((maxf-minf)/no_freq_bands)*(freqband))+minf+((maxf-minf)/(no_freq_bands*2))\n",
    "            profile_comp = pulse_component(frequency=freq, comp1=component1, comp2=component2, errors=error)\n",
    "        ant_components.append(profile_comp)"
   ]
  },
  {
   "cell_type": "code",
   "execution_count": 38,
   "metadata": {},
   "outputs": [
    {
     "name": "stdout",
     "output_type": "stream",
     "text": [
      "[222.77161072 223.84233694 237.68815482]\n",
      "[1525.2518016  1553.24928419  625.30054279]\n",
      "0\n",
      "[214.77115133 230.97477944 248.14453084]\n",
      "[123.85137889 620.32396069 321.32508712]\n",
      "0\n"
     ]
    }
   ],
   "source": [
    "gl_components = []\n",
    "expected1=(200,210,3,1500,220,5,600,240,7)\n",
    "bounds1=([0,0,0,0,0,0,0,0,0],[np.inf,gl_phase,np.inf,np.inf,gl_phase,np.inf,np.inf,gl_phase,np.inf])\n",
    "\n",
    "#Loop thought all of the frequency bands\n",
    "for i in range(0,2):\n",
    "    freqband = i\n",
    "    f = gl['frequency'] == freqband\n",
    "    x=gl['phase'][f]\n",
    "    y=gl['intensity'][f]\n",
    "    \n",
    "    noise = sigmaClip(y)\n",
    "    error = np.nanstd(noise[1])\n",
    "\n",
    "    #Fit the gaussians and find peaks and errors, create array with all frequencies\n",
    "    #Resulting frequencies are in MHz and phase in degrees\n",
    "    if len(x)!=0 and len(y)!=0:\n",
    "        try:\n",
    "            params,cov,sigma = fitting_parameters(x,y,expected1,bounds1)\n",
    "            fit = multi_gauss(x,*params)\n",
    "            profile_comp = fit_peaks(fit, freqband, cov, params,error,gl_freq)\n",
    "        except:\n",
    "            component1 = component(phase=0, intensity=0)\n",
    "            component2 = component(phase=0, intensity=0)\n",
    "            error = 0             \n",
    "            freq=(((maxf-minf)/no_freq_bands)*(freqband))+minf+((maxf-minf)/(no_freq_bands*2))\n",
    "            profile_comp = pulse_component(frequency=freq, comp1=component1, comp2=component2, errors=error)\n",
    "        gl_components.append(profile_comp)"
   ]
  },
  {
   "cell_type": "code",
   "execution_count": 39,
   "metadata": {},
   "outputs": [
    {
     "name": "stdout",
     "output_type": "stream",
     "text": [
      "[222.50226148 239.03998507 257.861662  ]\n",
      "[ 249.90583203 1157.80826511  715.4809543 ]\n",
      "0\n",
      "[227.15616563 243.30267316 263.03545319]\n",
      "[134.39982169 357.00125166 238.20775962]\n",
      "0\n"
     ]
    }
   ],
   "source": [
    "expected1=(100,230,3,1000,240,5,500,260,7)\n",
    "bounds1=([0,0,0,0,0,0,0,0,0],[np.inf,gl_phase,np.inf,np.inf,gl_phase,np.inf,np.inf,gl_phase,np.inf])\n",
    "\n",
    "#Loop thought all of the frequency bands\n",
    "for i in range(2,4):\n",
    "    freqband = i\n",
    "    f = gl['frequency'] == freqband\n",
    "    x=gl['phase'][f]\n",
    "    y=gl['intensity'][f]\n",
    "    \n",
    "    noise = sigmaClip(y)\n",
    "    error = np.nanstd(noise[1])\n",
    "\n",
    "    #Fit the gaussians and find peaks and errors, create array with all frequencies\n",
    "    #Resulting frequencies are in MHz and phase in degrees\n",
    "    if len(x)!=0 and len(y)!=0:\n",
    "        try:\n",
    "            params,cov,sigma = fitting_parameters(x,y,expected1,bounds1)\n",
    "            fit = multi_gauss(x,*params)\n",
    "            profile_comp = fit_peaks(fit, freqband, cov, params,error,gl_freq)\n",
    "        except:\n",
    "            component1 = component(phase=0, intensity=0)\n",
    "            component2 = component(phase=0, intensity=0)\n",
    "            error = 0             \n",
    "            freq=(((maxf-minf)/no_freq_bands)*(freqband))+minf+((maxf-minf)/(no_freq_bands*2))\n",
    "            profile_comp = pulse_component(frequency=freq, comp1=component1, comp2=component2, errors=error)\n",
    "        gl_components.append(profile_comp)"
   ]
  },
  {
   "cell_type": "markdown",
   "metadata": {
    "colab_type": "text",
    "id": "6a03g77-gZa5"
   },
   "source": [
    "# Change of Peak Position over Frequency"
   ]
  },
  {
   "cell_type": "markdown",
   "metadata": {
    "colab_type": "text",
    "id": "KszZ-DmF3pTJ"
   },
   "source": [
    "Starting to graph out all the movement of component phase across frequency"
   ]
  },
  {
   "cell_type": "markdown",
   "metadata": {},
   "source": [
    "## GMRT"
   ]
  },
  {
   "cell_type": "markdown",
   "metadata": {},
   "source": [
    "### Component 1"
   ]
  },
  {
   "cell_type": "code",
   "execution_count": 40,
   "metadata": {
    "colab": {},
    "colab_type": "code",
    "id": "CUJj3cbezRgq"
   },
   "outputs": [
    {
     "data": {
      "text/plain": [
       "<ErrorbarContainer object of 3 artists>"
      ]
     },
     "execution_count": 40,
     "metadata": {},
     "output_type": "execute_result"
    },
    {
     "data": {
      "image/png": "[encoded data removed]",
      "text/plain": [
       "<Figure size 432x288 with 1 Axes>"
      ]
     },
     "metadata": {
      "needs_background": "light"
     },
     "output_type": "display_data"
    }
   ],
   "source": [
    "#Separate the array into x and y axis of phase and frequency which can be graphed\n",
    "phase_comp1, frequency_comp1, comp1_err=graphing_comp(fit_components,1)\n",
    "#Plot points\n",
    "py.errorbar(phase_comp1,frequency_comp1, xerr=comp1_err, fmt='.', lw=0.5, color='red', label='data')\n",
    "py.title('Component 1 - Red Outliers Removed')\n",
    "py.xlabel('Phase (deg))')\n",
    "py.ylabel('Frequency')\n",
    "#Remove outliers which are greater than 'threshold' number of std away from the mean\n",
    "frequency_comp1, phase_comp1, comp1_err = detect_outlier(frequency_comp1, phase_comp1, comp1_err,2)\n",
    "#Plot outlier removed points\"\n",
    "py.errorbar(phase_comp1,frequency_comp1, xerr=comp1_err, fmt='.', lw=0.5, color='blue',label='data')"
   ]
  },
  {
   "cell_type": "code",
   "execution_count": 41,
   "metadata": {},
   "outputs": [],
   "source": [
    "#Fit the thorsett model to the component position\n",
    "y_range=list(range(700,4040))\n",
    "\n",
    "#Fit a powerlaw to component position\n",
    "comp1_paramspl,comp1_covpl=curve_fit(powerlaw,frequency_comp1,phase_comp1, maxfev=10000, sigma=comp1_err)\n",
    "comp1_fit_errorpl=np.sqrt(np.diag(comp1_covpl))\n",
    "comp1_fitpl = powerlaw(y_range, *comp1_paramspl)\n",
    "comp1_fitpl2 = powerlaw(frequency_comp1, *comp1_paramspl)\n",
    "\n",
    "#Fit a linear \n",
    "comp1_paramslin,comp1_covlin=curve_fit(linear,frequency_comp1,phase_comp1, maxfev=10000, sigma=comp1_err)\n",
    "comp1_fit_errorlin=np.sqrt(np.diag(comp1_covlin))\n",
    "comp1_fitlin = linear(y_range, *comp1_paramslin)\n",
    "comp1_fitlin2 = linear(frequency_comp1, *comp1_paramslin)\n",
    "\n",
    "#Residuals\n",
    "comp1_resid_lin = phase_comp1 - comp1_fitlin2"
   ]
  },
  {
   "cell_type": "code",
   "execution_count": 42,
   "metadata": {},
   "outputs": [
    {
     "data": {
      "text/plain": [
       "<matplotlib.legend.Legend at 0x7fa94dce5400>"
      ]
     },
     "execution_count": 42,
     "metadata": {},
     "output_type": "execute_result"
    },
    {
     "data": {
      "image/png": "[encoded data removed]",
      "text/plain": [
       "<Figure size 432x288 with 1 Axes>"
      ]
     },
     "metadata": {
      "needs_background": "light"
     },
     "output_type": "display_data"
    }
   ],
   "source": [
    "#Graph points with the fit ontop\n",
    "py.errorbar(phase_comp1,frequency_comp1, xerr=comp1_err, fmt='.', lw=0.5, label='GMRT data', zorder=0)\n",
    "py.plot(comp1_fitpl, y_range,color='red',lw=2, label='power law', zorder=1)\n",
    "py.title('Component 1 - Position')\n",
    "py.xlabel('Phase (deg))')\n",
    "py.ylabel('Frequency')\n",
    "py.legend(loc='lower left')"
   ]
  },
  {
   "cell_type": "code",
   "execution_count": 43,
   "metadata": {},
   "outputs": [
    {
     "name": "stdout",
     "output_type": "stream",
     "text": [
      "The power law equation of fit for this pulse is: \t Phase = 253.536 ν^-0.005\n",
      "The errors are 0.9882054591958581, 0.0005233727685618021\n",
      "The power law equation of fit for this pulse is: \t Phase = -0.000714 ν +246.260\n",
      "The errors are 6.460643363643336e-05, 0.13811036244268945\n"
     ]
    }
   ],
   "source": [
    "print(f'The power law equation of fit for this pulse is: \\t Phase = {comp1_paramspl[0]:.3f} \\u03BD^{comp1_paramspl[1]:.3f}')\n",
    "print(f'The errors are {comp1_fit_errorpl[0]}, {comp1_fit_errorpl[1]}')\n",
    "\n",
    "print(f'The power law equation of fit for this pulse is: \\t Phase = {comp1_paramslin[0]:.6f} \\u03BD +{comp1_paramslin[1]:.3f}')\n",
    "print(f'The errors are {comp1_fit_errorlin[0]}, {comp1_fit_errorlin[1]}')"
   ]
  },
  {
   "cell_type": "code",
   "execution_count": 44,
   "metadata": {},
   "outputs": [
    {
     "name": "stdout",
     "output_type": "stream",
     "text": [
      "The chi squared reduced value is 8.478142376252011\n"
     ]
    }
   ],
   "source": [
    "print('The chi squared reduced value is', chsq_err(phase_comp1, comp1_fitpl2, comp1_err)/(len(phase_comp1)-2))"
   ]
  },
  {
   "cell_type": "markdown",
   "metadata": {},
   "source": [
    "### Component 2"
   ]
  },
  {
   "cell_type": "code",
   "execution_count": 45,
   "metadata": {
    "colab": {},
    "colab_type": "code",
    "id": "ylBJ8twuzL8g"
   },
   "outputs": [
    {
     "data": {
      "text/plain": [
       "<ErrorbarContainer object of 3 artists>"
      ]
     },
     "execution_count": 45,
     "metadata": {},
     "output_type": "execute_result"
    },
    {
     "data": {
      "image/png": "[encoded data removed]",
      "text/plain": [
       "<Figure size 432x288 with 1 Axes>"
      ]
     },
     "metadata": {
      "needs_background": "light"
     },
     "output_type": "display_data"
    }
   ],
   "source": [
    "#Separate the array into x and y axis of phase and frequency which can be graphed\n",
    "phase_comp2, frequency_comp2, comp2_err=graphing_comp(fit_components,2)\n",
    "#Plot points\n",
    "py.errorbar(phase_comp2,frequency_comp2, xerr=comp2_err, fmt='.', lw=0.5, color='red', label='data')\n",
    "py.title('Component 2 - Red Outliers Removed')\n",
    "py.xlabel('Phase (deg)')\n",
    "py.ylabel('Frequency (MHz)')\n",
    "\n",
    "#Remove outliers which are greater than 'threshold' number of std away from the mean\n",
    "frequency_comp2, phase_comp2, comp2_err = detect_outlier(frequency_comp2, phase_comp2, comp2_err,2)\n",
    "#Plot outlier removed points\n",
    "py.errorbar(phase_comp2,frequency_comp2, xerr=comp2_err, fmt='.', lw=0.5, color='blue',label='data')"
   ]
  },
  {
   "cell_type": "code",
   "execution_count": 46,
   "metadata": {},
   "outputs": [],
   "source": [
    "#Temporary for viewing\n",
    "#print(comp2_err)\n",
    "#ind=comp2_err.index(0)\n",
    "#del comp2_err[ind]\n",
    "#del phase_comp2[ind]\n",
    "#del frequency_comp2[ind]"
   ]
  },
  {
   "cell_type": "code",
   "execution_count": 47,
   "metadata": {},
   "outputs": [],
   "source": [
    "#Fit a powerlaw to the component position\n",
    "comp2_paramspl,comp2_covpl=curve_fit(powerlaw,frequency_comp2,phase_comp2, maxfev=10000, sigma=comp2_err)\n",
    "comp2_fit_errorpl=np.sqrt(np.diag(comp2_covpl))\n",
    "comp2_fitpl = powerlaw(y_range, *comp2_paramspl)\n",
    "comp2_fitpl2 = powerlaw(frequency_comp2, *comp2_paramspl)\n",
    "\n",
    "#Fit a linear \n",
    "comp2_paramslin,comp2_covlin=curve_fit(linear,frequency_comp2,phase_comp2, maxfev=10000, sigma=comp2_err)\n",
    "comp2_fit_errorlin=np.sqrt(np.diag(comp2_covlin))\n",
    "comp2_fitlin = linear(y_range, *comp2_paramslin)\n",
    "comp2_fitlin2 = linear(frequency_comp2, *comp2_paramslin)\n",
    "\n",
    "#Residuals\n",
    "comp2_resid_lin = phase_comp2 - comp2_fitlin2"
   ]
  },
  {
   "cell_type": "code",
   "execution_count": 48,
   "metadata": {},
   "outputs": [
    {
     "data": {
      "text/plain": [
       "<matplotlib.legend.Legend at 0x7fa94dd59d30>"
      ]
     },
     "execution_count": 48,
     "metadata": {},
     "output_type": "execute_result"
    },
    {
     "data": {
      "image/png": "[encoded data removed]",
      "text/plain": [
       "<Figure size 432x288 with 1 Axes>"
      ]
     },
     "metadata": {
      "needs_background": "light"
     },
     "output_type": "display_data"
    }
   ],
   "source": [
    "#Graph points with the fit ontop\n",
    "py.errorbar( phase_comp2,frequency_comp2, xerr=comp2_err, fmt='.', lw=0.5, label='GMRT data', zorder=0)\n",
    "py.plot(comp2_fitpl,y_range, color='red',lw=2, label='power law', zorder=1)\n",
    "py.title('Component 2 - Position')\n",
    "py.xlabel('Phase (deg)')\n",
    "py.ylabel('Frequency (MHz)')\n",
    "py.legend(loc='lower right')"
   ]
  },
  {
   "cell_type": "code",
   "execution_count": 49,
   "metadata": {},
   "outputs": [
    {
     "name": "stdout",
     "output_type": "stream",
     "text": [
      "The power law equation of fit for this pulse is: \t Phase = 241.486 ν^0.010\n",
      "The errors are 0.9642897959444807, 0.0005309836442548293\n",
      "The power law equation of fit for this pulse is: \t Phase = 0.00134 ν +256.682\n",
      "The errors are 6.624979896195624e-05, 0.1518111719301262\n"
     ]
    }
   ],
   "source": [
    "print(f'The power law equation of fit for this pulse is: \\t Phase = {comp2_paramspl[0]:.3f} \\u03BD^{comp2_paramspl[1]:.3f}')\n",
    "print(f'The errors are {comp2_fit_errorpl[0]}, {comp2_fit_errorpl[1]}')\n",
    "\n",
    "print(f'The power law equation of fit for this pulse is: \\t Phase = {comp2_paramslin[0]:.5f} \\u03BD +{comp2_paramslin[1]:.3f}')\n",
    "print(f'The errors are {comp2_fit_errorlin[0]}, {comp2_fit_errorlin[1]}')"
   ]
  },
  {
   "cell_type": "code",
   "execution_count": 50,
   "metadata": {},
   "outputs": [
    {
     "name": "stdout",
     "output_type": "stream",
     "text": [
      "The chi squared reduced value is 2.1113787680300224\n"
     ]
    }
   ],
   "source": [
    "print('The chi squared reduced value is',chsq_err(phase_comp2, comp2_fitpl2, comp2_err)/(len(phase_comp2)-2))"
   ]
  },
  {
   "cell_type": "markdown",
   "metadata": {},
   "source": [
    "# Both Component Movements"
   ]
  },
  {
   "cell_type": "code",
   "execution_count": 51,
   "metadata": {},
   "outputs": [
    {
     "data": {
      "text/plain": [
       "<matplotlib.legend.Legend at 0x7fa94b8cc640>"
      ]
     },
     "execution_count": 51,
     "metadata": {},
     "output_type": "execute_result"
    },
    {
     "data": {
      "image/png": "[encoded data removed]",
      "text/plain": [
       "<Figure size 720x360 with 1 Axes>"
      ]
     },
     "metadata": {
      "needs_background": "light"
     },
     "output_type": "display_data"
    }
   ],
   "source": [
    "py.figure(figsize=(10,5))\n",
    "py.errorbar(phase_comp2,frequency_comp2, xerr=comp2_err, color='blue', fmt='.', lw=0.5, label='Parkes data', zorder=0)\n",
    "py.errorbar(phase_comp1,frequency_comp1, xerr=comp1_err, color='blue', fmt='.', lw=0.5, zorder=0)\n",
    "py.plot(comp1_fitpl,y_range, color='red',lw=2, label='Power Law Fit', zorder=1)\n",
    "py.plot(comp2_fitpl,y_range, color='red', zorder=1)\n",
    "py.title('Component Positions')\n",
    "py.xlabel('Phase (deg)')\n",
    "py.ylabel('Frequency (MHz)')\n",
    "py.legend()"
   ]
  },
  {
   "cell_type": "code",
   "execution_count": 52,
   "metadata": {},
   "outputs": [
    {
     "data": {
      "image/png": "[encoded data removed]",
      "text/plain": [
       "<Figure size 864x360 with 3 Axes>"
      ]
     },
     "metadata": {
      "needs_background": "light"
     },
     "output_type": "display_data"
    }
   ],
   "source": [
    "fig = py.figure(figsize=(12, 5))\n",
    "grid = py.GridSpec(1, 6, hspace=0, wspace=0)\n",
    "resid_1 = fig.add_subplot(grid[0, 0])\n",
    "py.ylabel('Frequency (MHz)')\n",
    "main_ax = fig.add_subplot(grid[0, 1:5], sharey=resid_1)\n",
    "py.xlabel('Phase (deg)')\n",
    "resid_2 = fig.add_subplot(grid[0, 5], sharey=resid_1)\n",
    "\n",
    "resid_1.plot(comp1_resid_lin, frequency_comp1, '.', color='g')\n",
    "main_ax.errorbar(phase_comp1,frequency_comp1, xerr=comp1_err, color='green', fmt='.', lw=0.5, label='Component 1', zorder=0)\n",
    "main_ax.errorbar(phase_comp2,frequency_comp2, xerr=comp2_err, color='blue', fmt='.', lw=0.5, label='Component 2', zorder=0)\n",
    "main_ax.plot(comp1_fitlin,y_range, color='red',lw=2, zorder=1)\n",
    "main_ax.plot(comp2_fitlin,y_range, color='red',lw=2, zorder=1)\n",
    "resid_2.plot(comp2_resid_lin, frequency_comp2, '.', color='b')\n",
    "\n",
    "resid_1.set_title('C1 Residuals')\n",
    "resid_2.set_title('C2 Residuals')\n",
    "main_ax.set_title('Component Phase Positions')\n",
    "\n",
    "main_ax.legend(loc='upper center')\n",
    "resid_1.label_outer()\n",
    "main_ax.label_outer()\n",
    "resid_2.label_outer()\n"
   ]
  },
  {
   "cell_type": "markdown",
   "metadata": {
    "colab_type": "text",
    "id": "onWmCTwBgzh2"
   },
   "source": [
    "# Fitting Power Laws to Separation "
   ]
  },
  {
   "cell_type": "markdown",
   "metadata": {
    "colab_type": "text",
    "id": "pRvVTEsj_64Q"
   },
   "source": [
    "## Just Parkes"
   ]
  },
  {
   "cell_type": "code",
   "execution_count": 53,
   "metadata": {
    "colab": {},
    "colab_type": "code",
    "id": "pacJRC6tIbBS"
   },
   "outputs": [],
   "source": [
    "#Gain component separation values\n",
    "component_sep, sep_error = separation_singleprofile(fit_components)\n",
    "\n",
    "comp_sep=[]\n",
    "frequency_forsep=[]\n",
    "\n",
    "#Put them into arrays for graphing\n",
    "for i in range(0,len(component_sep)):\n",
    "    comp_sep.append(component_sep[i][1])\n",
    "    frequency_forsep.append(component_sep[i][0])"
   ]
  },
  {
   "cell_type": "code",
   "execution_count": 54,
   "metadata": {
    "colab": {
     "base_uri": "https://localhost:8080/"
    },
    "colab_type": "code",
    "id": "oE8r2963KMSz",
    "outputId": "25557bf4-1b1c-415d-c785-7fa822a71292"
   },
   "outputs": [
    {
     "data": {
      "text/plain": [
       "Text(0.5, 1.0, 'Component Separation - Red Outliers Removed')"
      ]
     },
     "execution_count": 54,
     "metadata": {},
     "output_type": "execute_result"
    },
    {
     "data": {
      "image/png": "[encoded data removed]",
      "text/plain": [
       "<Figure size 432x288 with 1 Axes>"
      ]
     },
     "metadata": {
      "needs_background": "light"
     },
     "output_type": "display_data"
    }
   ],
   "source": [
    "#Plot points\n",
    "py.errorbar(frequency_forsep, comp_sep, yerr=sep_error, color='red', fmt='.', lw=0.5, label='data')\n",
    "py.xlabel('Frequency (MHz)')\n",
    "py.ylabel('\\u0394\\u03B8 (deg)')\n",
    "\n",
    "#Remove outliers\n",
    "frequency_forsep, comp_sep, sep_error = detect_outlier(frequency_forsep, comp_sep, sep_error, 2.5)\n",
    "\n",
    "#Plot points with outliers removed\n",
    "py.errorbar(frequency_forsep, comp_sep, yerr=sep_error, color='blue', fmt='.', lw=0.5, label='data')\n",
    "py.title('Component Separation - Red Outliers Removed')"
   ]
  },
  {
   "cell_type": "code",
   "execution_count": 55,
   "metadata": {
    "colab": {},
    "colab_type": "code",
    "id": "Eb9tysocAfn3"
   },
   "outputs": [],
   "source": [
    "#Create a thorsett fit\n",
    "expect=(703,0.4,16)\n",
    "sep_params,sep_cov=curve_fit(thorsett,frequency_forsep,comp_sep, expect, maxfev=10000, sigma=sep_error, bounds=([0,-1,-np.inf],[np.inf,0.5,np.inf]))\n",
    "sep_fit_error=np.sqrt(np.diag(sep_cov))\n",
    "separation_fit=thorsett(frequency_forsep,*sep_params)"
   ]
  },
  {
   "cell_type": "code",
   "execution_count": 56,
   "metadata": {
    "colab": {
     "base_uri": "https://localhost:8080/",
     "height": 300
    },
    "colab_type": "code",
    "id": "oY7ok57vApBN",
    "outputId": "c54100cc-1569-4c6b-fb74-c413acbdf635"
   },
   "outputs": [
    {
     "data": {
      "text/plain": [
       "<matplotlib.legend.Legend at 0x7fa94b721fd0>"
      ]
     },
     "execution_count": 56,
     "metadata": {},
     "output_type": "execute_result"
    },
    {
     "data": {
      "image/png": "[encoded data removed]",
      "text/plain": [
       "<Figure size 720x432 with 1 Axes>"
      ]
     },
     "metadata": {
      "needs_background": "light"
     },
     "output_type": "display_data"
    }
   ],
   "source": [
    "#Plot the thorsett fit\n",
    "py.figure(figsize=(10, 6))\n",
    "py.errorbar(frequency_forsep, comp_sep, yerr=sep_error, fmt='.', lw=0.5, label='data',zorder=1)\n",
    "py.plot(frequency_forsep,separation_fit, color='red',lw=2,label='empirical fit',zorder=2)\n",
    "py.title('Component Separation - B1944+17')\n",
    "py.xlabel('Frequency (MHz)')\n",
    "py.ylabel('\\u0394\\u03B8 (deg)')\n",
    "py.legend(loc='lower right')\n"
   ]
  },
  {
   "cell_type": "code",
   "execution_count": 57,
   "metadata": {},
   "outputs": [
    {
     "name": "stdout",
     "output_type": "stream",
     "text": [
      "The equation of fit for this pulsar is: \t Δθ = 0.170 ν^0.500 + 7.005 \n",
      "\n",
      "The errors are 0.385, 0.238, 3.344 \n",
      "Units for Δθ is degrees and ν is MHz\n",
      "The chi squared reduced value is 2.3214805793857405\n"
     ]
    }
   ],
   "source": [
    "#chi, p = sp.stats.chisquare(comp_sep, separation_fit)\n",
    "print(f'The equation of fit for this pulsar is: \\t \\u0394\\u03B8 = {sep_params[0]:.3f} \\u03BD^{sep_params[1]:.3f} + {sep_params[2]:.3f} \\n')\n",
    "print(f'The errors are {sep_fit_error[0]:.3f}, {sep_fit_error[1]:.3f}, {sep_fit_error[2]:.3f} ')\n",
    "#print('The chi squared value for the fit is: ', chi)\n",
    "print('Units for \\u0394\\u03B8 is degrees and \\u03BD is MHz')\n",
    "print('The chi squared reduced value is',chsq_err(comp_sep, separation_fit, sep_error)/(len(comp_sep)-2))"
   ]
  },
  {
   "cell_type": "markdown",
   "metadata": {},
   "source": [
    "## Parkes and EPN"
   ]
  },
  {
   "cell_type": "code",
   "execution_count": 58,
   "metadata": {},
   "outputs": [],
   "source": [
    "#Gain component separation values\n",
    "ant_sep, ant_error = separation_singleprofile(ant_components)\n",
    "gl_sep, gl_error = separation_singleprofile(gl_components)\n",
    "j_sep, j_error = separation_singleprofile(j_components)\n",
    "wc_sep, wc_error = separation_singleprofile(wc_components)\n",
    "sgg_sep, sgg_error = separation_singleprofile(sgg_components)\n",
    "\n",
    "epn_sep = [ant_sep, gl_sep, j_sep, wc_sep, sgg_sep]\n",
    "epn_error = [ant_error, gl_error, j_error, wc_error, sgg_error]\n",
    "\n",
    "epn_seps=[]\n",
    "frequency_epn=[]\n",
    "epn_errors=[]\n",
    "\n",
    "#Put them into arrays for graphing\n",
    "for k,epn in enumerate(epn_sep):\n",
    "    for i in range(0,len(epn)):\n",
    "        comp_sep.append(epn[i][1])\n",
    "        frequency_forsep.append(epn[i][0])\n",
    "        sep_error.append(epn_error[k][i])\n",
    "\n",
    "        epn_seps.append(epn[i][1])\n",
    "        frequency_epn.append(epn[i][0])\n",
    "        epn_errors.append(epn_error[k][i])"
   ]
  },
  {
   "cell_type": "code",
   "execution_count": 59,
   "metadata": {},
   "outputs": [
    {
     "data": {
      "text/plain": [
       "[[component_separation(frequency=400, separation=13.121290455683464),\n",
       "  component_separation(frequency=800, separation=14.65835504125883),\n",
       "  component_separation(frequency=1330, separation=15.567699695482787),\n",
       "  component_separation(frequency=1640, separation=16.31294112478261)],\n",
       " [component_separation(frequency=410, separation=11.10132391690243),\n",
       "  component_separation(frequency=610, separation=12.823880712970833),\n",
       "  component_separation(frequency=925, separation=13.771958731232957),\n",
       "  component_separation(frequency=1408, separation=14.73817595847595)],\n",
       " [component_separation(frequency=673.9, separation=13.617310219134481)],\n",
       " [component_separation(frequency=1418, separation=11.431643163462525)],\n",
       " [component_separation(frequency=1420, separation=12.120002525867932),\n",
       "  component_separation(frequency=4750, separation=20.304352220871735)]]"
      ]
     },
     "execution_count": 59,
     "metadata": {},
     "output_type": "execute_result"
    }
   ],
   "source": [
    "epn_sep"
   ]
  },
  {
   "cell_type": "code",
   "execution_count": 60,
   "metadata": {},
   "outputs": [],
   "source": [
    "#Create a thorsett fit\n",
    "expect=(703,0.4,16)\n",
    "sep_params,sep_cov=curve_fit(thorsett,frequency_forsep,comp_sep, expect, maxfev=10000, sigma=sep_error, bounds=([0,-1,-np.inf],[np.inf,0.5,np.inf]))\n",
    "sep_fit_error=np.sqrt(np.diag(sep_cov))\n",
    "\n",
    "freq_fit = np.linspace(300, 4900, 460)\n",
    "separation_fit=thorsett(freq_fit,*sep_params)"
   ]
  },
  {
   "cell_type": "code",
   "execution_count": 61,
   "metadata": {},
   "outputs": [
    {
     "data": {
      "text/plain": [
       "<matplotlib.legend.Legend at 0x7fa94b69d160>"
      ]
     },
     "execution_count": 61,
     "metadata": {},
     "output_type": "execute_result"
    },
    {
     "data": {
      "image/png": "[encoded data removed]",
      "text/plain": [
       "<Figure size 720x432 with 1 Axes>"
      ]
     },
     "metadata": {
      "needs_background": "light"
     },
     "output_type": "display_data"
    }
   ],
   "source": [
    "#Plot the thorsett fit\n",
    "py.figure(figsize=(10, 6))\n",
    "py.errorbar(frequency_forsep, comp_sep, yerr=sep_error, fmt='.', lw=0.5, label='data',zorder=1)\n",
    "py.errorbar(frequency_epn, epn_seps, yerr=epn_errors, fmt='.', lw=0.5, label='data',zorder=2)\n",
    "py.plot(freq_fit,separation_fit, color='red',lw=2,label='empirical fit',zorder=3)\n",
    "py.title('Component Separation - B1944+17')\n",
    "py.xlabel('Frequency (MHz)')\n",
    "py.ylabel('\\u0394\\u03B8 (deg)')\n",
    "py.legend(loc='lower right')"
   ]
  },
  {
   "cell_type": "markdown",
   "metadata": {
    "colab_type": "text",
    "id": "e6XHCJRCjogM"
   },
   "source": [
    "# Change in Intensity over Frequency for GMRT"
   ]
  },
  {
   "cell_type": "markdown",
   "metadata": {
    "colab_type": "text",
    "id": "S8Wdb29Jkmx7"
   },
   "source": [
    "## Fit Peaks (fit_components)"
   ]
  },
  {
   "cell_type": "code",
   "execution_count": 62,
   "metadata": {
    "colab": {},
    "colab_type": "code",
    "id": "qLKpI3HvjyrZ"
   },
   "outputs": [
    {
     "data": {
      "text/plain": [
       "Text(0, 0.5, 'Intensity')"
      ]
     },
     "execution_count": 62,
     "metadata": {},
     "output_type": "execute_result"
    },
    {
     "data": {
      "image/png": "[encoded data removed]",
      "text/plain": [
       "<Figure size 432x288 with 1 Axes>"
      ]
     },
     "metadata": {
      "needs_background": "light"
     },
     "output_type": "display_data"
    }
   ],
   "source": [
    "#Find intensity of components at each frequency and graph\n",
    "intensity_comp1=[]\n",
    "frequency_comp1=[]\n",
    "\n",
    "for i in range(0,len(fit_components)):\n",
    "  if fit_components[i][1][0] != 0:\n",
    "    intensity_comp1.append(fit_components[i][1][1])\n",
    "    frequency_comp1.append(fit_components[i][0])\n",
    "    \n",
    "py.plot(frequency_comp1,intensity_comp1, '.')\n",
    "py.title('Component 1')\n",
    "py.xlabel('Frequency')\n",
    "py.ylabel('Intensity')"
   ]
  },
  {
   "cell_type": "code",
   "execution_count": 63,
   "metadata": {
    "colab": {},
    "colab_type": "code",
    "id": "IDYE2r0PksL3"
   },
   "outputs": [
    {
     "data": {
      "text/plain": [
       "Text(0, 0.5, 'Intensity')"
      ]
     },
     "execution_count": 63,
     "metadata": {},
     "output_type": "execute_result"
    },
    {
     "data": {
      "image/png": "[encoded data removed]",
      "text/plain": [
       "<Figure size 432x288 with 1 Axes>"
      ]
     },
     "metadata": {
      "needs_background": "light"
     },
     "output_type": "display_data"
    }
   ],
   "source": [
    "#Find intensity of components at each frequency and graph\n",
    "intensity_comp2=[]\n",
    "frequency_comp2=[]\n",
    "\n",
    "for i in range(0,len(fit_components)):\n",
    "  if fit_components[i][1][0] != 0:\n",
    "    intensity_comp2.append(fit_components[i][2][1])\n",
    "    frequency_comp2.append(fit_components[i][0])\n",
    "\n",
    "py.plot(frequency_comp2,intensity_comp2, '.')\n",
    "py.title('Component 2')\n",
    "py.xlabel('Frequency')\n",
    "py.ylabel('Intensity')"
   ]
  },
  {
   "cell_type": "code",
   "execution_count": null,
   "metadata": {},
   "outputs": [],
   "source": [
    "\n"
   ]
  }
 ],
 "metadata": {
  "colab": {
   "collapsed_sections": [
    "4z_feS2dDwlJ",
    "FamzMgIcD2xs",
    "HsEW4YA0D-QH",
    "eKWvXxMcEIfE",
    "er13GCy-EUTz",
    "6a03g77-gZa5",
    "IGeyAoMhEduw",
    "Y1RZQ9SHcgOZ",
    "pccDpOhFgn-A",
    "KZFBrw4AEiXX",
    "jBHxooGJctvn",
    "S8Wdb29Jkmx7",
    "G6J_t2-wlTKi",
    "8WslQQJrq_Aj",
    "-PbPFKZBj1oi",
    "BAAAMssWpRQc"
   ],
   "name": "Component Separation - RFI Removed.ipynb",
   "provenance": []
  },
  "kernelspec": {
   "display_name": "Python 3",
   "language": "python",
   "name": "python3"
  },
  "language_info": {
   "codemirror_mode": {
    "name": "ipython",
    "version": 3
   },
   "file_extension": ".py",
   "mimetype": "text/x-python",
   "name": "python",
   "nbconvert_exporter": "python",
   "pygments_lexer": "ipython3",
   "version": "3.7.4"
  }
 },
 "nbformat": 4,
 "nbformat_minor": 1
}
